<!DOCTYPE html>
<!-- saved from url=(0106)https://colab.research.google.com/drive/1iKpMre97Pp19HTaXAOfBN-d4zBRF-XaM?authuser=1#scrollTo=oqAyoGkf7IuI -->
<html lang="en" theme="adaptive" editor="Default Light"><head><meta http-equiv="Content-Type" content="text/html; charset=UTF-8"><meta http-equiv="origin-trial" content="A/kargTFyk8MR5ueravczef/wIlTkbVk1qXQesp39nV+xNECPdLBVeYffxrM8TmZT6RArWGQVCJ0LRivD7glcAUAAACQeyJvcmlnaW4iOiJodHRwczovL2dvb2dsZS5jb206NDQzIiwiZmVhdHVyZSI6IkRpc2FibGVUaGlyZFBhcnR5U3RvcmFnZVBhcnRpdGlvbmluZzIiLCJleHBpcnkiOjE3NDIzNDIzOTksImlzU3ViZG9tYWluIjp0cnVlLCJpc1RoaXJkUGFydHkiOnRydWV9"><meta http-equiv="origin-trial" content="A/kargTFyk8MR5ueravczef/wIlTkbVk1qXQesp39nV+xNECPdLBVeYffxrM8TmZT6RArWGQVCJ0LRivD7glcAUAAACQeyJvcmlnaW4iOiJodHRwczovL2dvb2dsZS5jb206NDQzIiwiZmVhdHVyZSI6IkRpc2FibGVUaGlyZFBhcnR5U3RvcmFnZVBhcnRpdGlvbmluZzIiLCJleHBpcnkiOjE3NDIzNDIzOTksImlzU3ViZG9tYWluIjp0cnVlLCJpc1RoaXJkUGFydHkiOnRydWV9"><script type="text/javascript" async="" charset="utf-8" src="./Plant_Disease_Detection_files/recaptcha__en.js.download" crossorigin="anonymous" integrity="sha384-1TUNDcvWQ6Ms5xMd7JPWn58lx7KCTI21j1WEYm2E+AxZi1T3AogJVuz8TFKxqipQ" nonce=""></script><script type="text/javascript" async="" charset="utf-8" src="./Plant_Disease_Detection_files/recaptcha__en.js.download" crossorigin="anonymous" integrity="sha384-1TUNDcvWQ6Ms5xMd7JPWn58lx7KCTI21j1WEYm2E+AxZi1T3AogJVuz8TFKxqipQ" nonce=""></script><script type="text/javascript" async="" src="./Plant_Disease_Detection_files/js" nonce=""></script><script src="./Plant_Disease_Detection_files/cb=gapi.loaded_1" nonce="" async=""></script><script src="./Plant_Disease_Detection_files/cb=gapi.loaded_0" nonce="" async=""></script><script async="" src="./Plant_Disease_Detection_files/analytics.js.download"></script><script nonce="">
      document.addEventListener('keydown', (e) => {
        // Stop propagation on ESC because otherwise it will halt outbound XHRs
        // See b/131755324 for more info.
        if (e.key === 'Escape') {
          e.stopPropagation();
          e.preventDefault();
        }
      });
    </script><meta name="referrer" content="origin"><meta name="viewport" content="width=device-width, initial-scale=1"><title>Plant_Disease_Detection.ipynb - Colab</title><link href="./Plant_Disease_Detection_files/css2" rel="stylesheet"><link href="./Plant_Disease_Detection_files/css" rel="stylesheet"><link rel="search" type="application/opensearchdescription+xml" href="https://colab.research.google.com/opensearch.xml" title="Google Colab"><style>.gb_0d:not(.gb_ne){font:13px/27px Roboto,Arial,sans-serif;z-index:986}@-webkit-keyframes gb__a{0%{opacity:0}50%{opacity:1}}@keyframes gb__a{0%{opacity:0}50%{opacity:1}}a.gb_Oa{border:none;color:#4285f4;cursor:default;font-weight:bold;outline:none;position:relative;text-align:center;text-decoration:none;text-transform:uppercase;white-space:nowrap;-webkit-user-select:none}a.gb_Oa:hover:after,a.gb_Oa:focus:after{background-color:rgba(0,0,0,.12);content:"";height:100%;left:0;position:absolute;top:0;width:100%}a.gb_Oa:hover,a.gb_Oa:focus{text-decoration:none}a.gb_Oa:active{background-color:rgba(153,153,153,.4);text-decoration:none}a.gb_Pa{background-color:#4285f4;color:#fff}a.gb_Pa:active{background-color:#0043b2}.gb_Qa{box-shadow:0 1px 1px rgba(0,0,0,.16)}.gb_Oa,.gb_Pa,.gb_Ra,.gb_Sa{display:inline-block;line-height:28px;padding:0 12px;border-radius:2px}.gb_Ra{background:#f8f8f8;border:1px solid #c6c6c6}.gb_Sa{background:#f8f8f8}.gb_Ra,#gb a.gb_Ra.gb_Ra,.gb_Sa{color:#666;cursor:default;text-decoration:none}#gb a.gb_Sa{cursor:default;text-decoration:none}.gb_Sa{border:1px solid #4285f4;font-weight:bold;outline:none;background:#4285f4;background:-webkit-gradient(linear,left top,left bottom,from(top),color-stop(#4387fd),to(#4683ea));background:-webkit-linear-gradient(top,#4387fd,#4683ea);background:linear-gradient(top,#4387fd,#4683ea);filter:progid:DXImageTransform.Microsoft.gradient(startColorstr=#4387fd,endColorstr=#4683ea,GradientType=0)}#gb a.gb_Sa{color:#fff}.gb_Sa:hover{box-shadow:0 1px 0 rgba(0,0,0,.15)}.gb_Sa:active{box-shadow:inset 0 2px 0 rgba(0,0,0,.15);background:#3c78dc;background:-webkit-gradient(linear,left top,left bottom,from(top),color-stop(#3c7ae4),to(#3f76d3));background:-webkit-linear-gradient(top,#3c7ae4,#3f76d3);background:linear-gradient(top,#3c7ae4,#3f76d3);filter:progid:DXImageTransform.Microsoft.gradient(startColorstr=#3c7ae4,endColorstr=#3f76d3,GradientType=0)}#gb .gb_Ta{background:#fff;border:1px solid #dadce0;color:#1a73e8;display:inline-block;text-decoration:none}#gb .gb_Ta:hover{background:#f8fbff;border-color:#dadce0;color:#174ea6}#gb .gb_Ta:focus{background:#f4f8ff;color:#174ea6;outline:1px solid #174ea6}#gb .gb_Ta:active,#gb .gb_Ta:focus:active{background:#ecf3fe;color:#174ea6}#gb .gb_Ta.gb_F{background:transparent;border:1px solid #5f6368;color:#8ab4f8;text-decoration:none}#gb .gb_Ta.gb_F:hover{background:rgba(255,255,255,.04);color:#e8eaed}#gb .gb_Ta.gb_F:focus{background:rgba(232,234,237,.12);color:#e8eaed;outline:1px solid #e8eaed}#gb .gb_Ta.gb_F:active,#gb .gb_Ta.gb_F:focus:active{background:rgba(232,234,237,.1);color:#e8eaed}.gb_9c{display:inline-block;vertical-align:middle}.gb_Me .gb_N{bottom:-3px;right:-5px}.gb_C{position:relative}.gb_A{display:inline-block;outline:none;vertical-align:middle;border-radius:2px;box-sizing:border-box;height:40px;width:40px;cursor:pointer;text-decoration:none}#gb#gb a.gb_A{cursor:pointer;text-decoration:none}.gb_A,a.gb_A{color:#000}.gb_ad{border-color:transparent;border-bottom-color:#fff;border-style:dashed dashed solid;border-width:0 8.5px 8.5px;display:none;position:absolute;left:11.5px;top:33px;z-index:1;height:0;width:0;-webkit-animation:gb__a .2s;animation:gb__a .2s}.gb_bd{border-color:transparent;border-style:dashed dashed solid;border-width:0 8.5px 8.5px;display:none;position:absolute;left:11.5px;z-index:1;height:0;width:0;-webkit-animation:gb__a .2s;animation:gb__a .2s;border-bottom-color:rgba(0,0,0,.2);top:32px}x:-o-prefocus,div.gb_bd{border-bottom-color:#ccc}.gb_ja{background:#fff;border:1px solid #ccc;border-color:rgba(0,0,0,.2);color:#000;-webkit-box-shadow:0 2px 10px rgba(0,0,0,.2);box-shadow:0 2px 10px rgba(0,0,0,.2);display:none;outline:none;overflow:hidden;position:absolute;right:8px;top:62px;-webkit-animation:gb__a .2s;animation:gb__a .2s;border-radius:2px;-webkit-user-select:text}.gb_9c.gb_Rc .gb_ad,.gb_9c.gb_Rc .gb_bd,.gb_9c.gb_Rc .gb_ja,.gb_Rc.gb_ja{display:block}.gb_9c.gb_Rc.gb_cd .gb_ad,.gb_9c.gb_Rc.gb_cd .gb_bd{display:none}.gb_Ne{position:absolute;right:8px;top:62px;z-index:-1}.gb_dd .gb_ad,.gb_dd .gb_bd,.gb_dd .gb_ja{margin-top:-10px}.gb_9c:first-child,#gbsfw:first-child+.gb_9c{padding-left:4px}.gb_Da.gb_Oe .gb_9c:first-child{padding-left:0}.gb_Pe{position:relative}.gb_0c .gb_Pe,.gb_Fd .gb_Pe{float:right}.gb_A{padding:8px;cursor:pointer}.gb_A:after{content:"";position:absolute;top:-4px;bottom:-4px;left:-4px;right:-4px}.gb_Da .gb_ed:not(.gb_Oa):focus img{background-color:rgba(0,0,0,.2);outline:none;-webkit-border-radius:50%;border-radius:50%}.gb_fd button svg,.gb_A{-webkit-border-radius:50%;border-radius:50%}.gb_fd button:focus:not(:focus-visible) svg,.gb_fd button:hover svg,.gb_fd button:active svg,.gb_A:focus:not(:focus-visible),.gb_A:hover,.gb_A:active,.gb_A[aria-expanded=true]{outline:none}.gb_Jc .gb_fd.gb_gd button:focus-visible svg,.gb_fd button:focus-visible svg,.gb_A:focus-visible{outline:1px solid #202124}.gb_Jc .gb_fd button:focus-visible svg,.gb_Jc .gb_A:focus-visible{outline:1px solid #f1f3f4}@media (forced-colors:active){.gb_Jc .gb_fd.gb_gd button:focus-visible svg,.gb_fd button:focus-visible svg,.gb_Jc .gb_fd button:focus-visible svg{outline:1px solid currentcolor}}.gb_Jc .gb_fd.gb_gd button:focus svg,.gb_Jc .gb_fd.gb_gd button:focus:hover svg,.gb_fd button:focus svg,.gb_fd button:focus:hover svg,.gb_A:focus,.gb_A:focus:hover{background-color:rgba(60,64,67,.1)}.gb_Jc .gb_fd.gb_gd button:active svg,.gb_fd button:active svg,.gb_A:active{background-color:rgba(60,64,67,.12)}.gb_Jc .gb_fd.gb_gd button:hover svg,.gb_fd button:hover svg,.gb_A:hover{background-color:rgba(60,64,67,.08)}.gb_Ua .gb_A.gb_Wa:hover{background-color:transparent}.gb_A[aria-expanded=true],.gb_A:hover[aria-expanded=true]{background-color:rgba(95,99,104,.24)}.gb_A[aria-expanded=true] .gb_E{fill:#5f6368;opacity:1}.gb_Jc .gb_fd button:hover svg,.gb_Jc .gb_A:hover{background-color:rgba(232,234,237,.08)}.gb_Jc .gb_fd button:focus svg,.gb_Jc .gb_fd button:focus:hover svg,.gb_Jc .gb_A:focus,.gb_Jc .gb_A:focus:hover{background-color:rgba(232,234,237,.1)}.gb_Jc .gb_fd button:active svg,.gb_Jc .gb_A:active{background-color:rgba(232,234,237,.12)}.gb_Jc .gb_A[aria-expanded=true],.gb_Jc .gb_A:hover[aria-expanded=true]{background-color:rgba(255,255,255,.12)}.gb_Jc .gb_A[aria-expanded=true] .gb_E{fill:#fff;opacity:1}.gb_9c{padding:4px}.gb_Da.gb_Oe .gb_9c{padding:4px 2px}.gb_Da.gb_Oe .gb_y.gb_9c{padding-left:6px}.gb_ja{z-index:991;line-height:normal}.gb_ja.gb_hd{left:0;right:auto}@media (max-width:350px){.gb_ja.gb_hd{left:0}}.gb_Qe .gb_ja{top:56px}.gb_O{display:none!important}.gb_kd{visibility:hidden}.gb_I .gb_A,.gb_ia .gb_I .gb_A{background-position:-64px -29px}.gb_Z .gb_I .gb_A{background-position:-29px -29px;opacity:1}.gb_I .gb_A,.gb_I .gb_A:hover,.gb_I .gb_A:focus{opacity:1}.gb_K{display:none}@media screen and (max-width:319px){.gb_id:not(.gb_jd) .gb_I{display:none;visibility:hidden}}.gb_N{display:none}.gb_7c{font-family:Google Sans,Roboto,Helvetica,Arial,sans-serif;font-size:20px;font-weight:400;letter-spacing:0.25px;line-height:48px;margin-bottom:2px;opacity:1;overflow:hidden;padding-left:16px;position:relative;text-overflow:ellipsis;vertical-align:middle;top:2px;white-space:nowrap;-webkit-flex:1 1 auto;-webkit-box-flex:1;flex:1 1 auto}.gb_7c.gb_8c{color:#3c4043}.gb_Da.gb_ac .gb_7c{margin-bottom:0}.gb_pd.gb_rd .gb_7c{padding-left:4px}.gb_Da.gb_ac .gb_sd{position:relative;top:-2px}.gb_Da{color:black;min-width:160px;position:relative;-webkit-transition:box-shadow 250ms;transition:box-shadow 250ms}.gb_Da.gb_Qc{min-width:120px}.gb_Da.gb_td .gb_ud{display:none}.gb_Da.gb_td .gb_id{height:56px}header.gb_Da{display:block}.gb_Da svg{fill:currentColor}.gb_Ad{position:fixed;top:0;width:100%}.gb_vd{-webkit-box-shadow:0 4px 5px 0 rgba(0,0,0,.14),0 1px 10px 0 rgba(0,0,0,.12),0 2px 4px -1px rgba(0,0,0,.2);box-shadow:0 4px 5px 0 rgba(0,0,0,.14),0 1px 10px 0 rgba(0,0,0,.12),0 2px 4px -1px rgba(0,0,0,.2)}.gb_Bd{height:64px}.gb_id{-webkit-box-sizing:border-box;box-sizing:border-box;position:relative;width:100%;display:-webkit-box;display:-webkit-flex;display:flex;-webkit-box-pack:space-between;-webkit-justify-content:space-between;justify-content:space-between;min-width:-webkit-min-content;min-width:min-content}.gb_Da:not(.gb_ac) .gb_id{padding:8px}.gb_Da.gb_Cd .gb_id{-webkit-flex:1 0 auto;-webkit-box-flex:1;flex:1 0 auto}.gb_Da .gb_id.gb_jd.gb_Dd{min-width:0}.gb_Da.gb_ac .gb_id{padding:4px;padding-left:8px;min-width:0}.gb_ud{height:48px;vertical-align:middle;white-space:nowrap;-webkit-box-align:center;-webkit-align-items:center;align-items:center;display:-webkit-box;display:-webkit-flex;display:flex;-webkit-user-select:none}.gb_xd>.gb_ud{display:table-cell;width:100%}.gb_pd{padding-right:30px;box-sizing:border-box;-webkit-flex:1 0 auto;-webkit-box-flex:1;flex:1 0 auto}.gb_Da.gb_ac .gb_pd{padding-right:14px}.gb_yd{-webkit-flex:1 1 100%;-webkit-box-flex:1;flex:1 1 100%}.gb_yd>:only-child{display:inline-block}.gb_zd.gb_1c{padding-left:4px}.gb_zd.gb_Ed,.gb_Da.gb_Cd .gb_zd,.gb_Da.gb_ac:not(.gb_Fd) .gb_zd{padding-left:0}.gb_Da.gb_ac .gb_zd.gb_Ed{padding-right:0}.gb_Da.gb_ac .gb_zd.gb_Ed .gb_Ua{margin-left:10px}.gb_1c{display:inline}.gb_Da.gb_Uc .gb_zd.gb_Hd,.gb_Da.gb_Fd .gb_zd.gb_Hd{padding-left:2px}.gb_7c{display:inline-block}.gb_zd{-webkit-box-sizing:border-box;box-sizing:border-box;height:48px;line-height:normal;padding:0 4px;padding-left:30px;-webkit-flex:0 0 auto;-webkit-box-flex:0;flex:0 0 auto;-webkit-box-pack:flex-end;-webkit-justify-content:flex-end;justify-content:flex-end}.gb_Fd{height:48px}.gb_Da.gb_Fd{min-width:auto}.gb_Fd .gb_zd{float:right;padding-left:32px}.gb_Fd .gb_zd.gb_Id{padding-left:0}.gb_Jd{font-size:14px;max-width:200px;overflow:hidden;padding:0 12px;text-overflow:ellipsis;white-space:nowrap;-webkit-user-select:text}.gb_md{-webkit-transition:background-color .4s;-webkit-transition:background-color .4s;transition:background-color .4s}.gb_Kd{color:black}.gb_Jc{color:white}.gb_Da a,.gb_Nc a{color:inherit}.gb_9{color:rgba(0,0,0,.87)}.gb_Da svg,.gb_Nc svg,.gb_pd .gb_qd,.gb_0c .gb_qd{color:#5f6368;opacity:1}.gb_Jc svg,.gb_Nc.gb_Sc svg,.gb_Jc .gb_pd .gb_qd,.gb_Jc .gb_pd .gb_Ic,.gb_Jc .gb_pd .gb_sd,.gb_Nc.gb_Sc .gb_qd{color:rgba(255,255,255,.87)}.gb_Jc .gb_pd .gb_Ld:not(.gb_Md){opacity:.87}.gb_8c{color:inherit;opacity:1;text-rendering:optimizeLegibility;-webkit-font-smoothing:antialiased}.gb_Jc .gb_8c,.gb_Kd .gb_8c{opacity:1}.gb_Nd{position:relative}.gb_L{font-family:arial,sans-serif;line-height:normal;padding-right:15px}a.gb_V,span.gb_V{color:rgba(0,0,0,.87);text-decoration:none}.gb_Jc a.gb_V,.gb_Jc span.gb_V{color:white}a.gb_V:focus{outline-offset:2px}a.gb_V:hover{text-decoration:underline}.gb_W{display:inline-block;padding-left:15px}.gb_W .gb_V{display:inline-block;line-height:24px;vertical-align:middle}.gb_nd{font-family:Google Sans,Roboto,Helvetica,Arial,sans-serif;font-weight:500;font-size:14px;letter-spacing:.25px;line-height:16px;margin-left:10px;margin-right:8px;min-width:96px;padding:9px 23px;text-align:center;vertical-align:middle;border-radius:4px;box-sizing:border-box}.gb_Da.gb_Fd .gb_nd{margin-left:8px}#gb a.gb_Sa.gb_nd{cursor:pointer}.gb_Sa.gb_nd:hover{background:#1b66c9;-webkit-box-shadow:0 1px 3px 1px rgba(66,64,67,.15),0 1px 2px 0 rgba(60,64,67,.3);box-shadow:0 1px 3px 1px rgba(66,64,67,.15),0 1px 2px 0 rgba(60,64,67,.3)}.gb_Sa.gb_nd:focus,.gb_Sa.gb_nd:hover:focus{background:#1c5fba;-webkit-box-shadow:0 1px 3px 1px rgba(66,64,67,.15),0 1px 2px 0 rgba(60,64,67,.3);box-shadow:0 1px 3px 1px rgba(66,64,67,.15),0 1px 2px 0 rgba(60,64,67,.3)}.gb_Sa.gb_nd:active{background:#1b63c1;-webkit-box-shadow:0 1px 3px 1px rgba(66,64,67,.15),0 1px 2px 0 rgba(60,64,67,.3);box-shadow:0 1px 3px 1px rgba(66,64,67,.15),0 1px 2px 0 rgba(60,64,67,.3)}.gb_nd{background:#1a73e8;border:1px solid transparent}.gb_Da.gb_ac .gb_nd{padding:9px 15px;min-width:80px}.gb_Od{text-align:left}#gb .gb_Jc a.gb_nd:not(.gb_F),#gb.gb_Jc a.gb_nd{background:#fff;border-color:#dadce0;-webkit-box-shadow:none;box-shadow:none;color:#1a73e8}#gb a.gb_Sa.gb_F.gb_nd{background:#8ab4f8;border:1px solid transparent;-webkit-box-shadow:none;box-shadow:none;color:#202124}#gb .gb_Jc a.gb_nd:hover:not(.gb_F),#gb.gb_Jc a.gb_nd:hover{background:#f8fbff;border-color:#cce0fc}#gb a.gb_Sa.gb_F.gb_nd:hover{background:#93baf9;border-color:transparent;-webkit-box-shadow:0 1px 3px 1px rgba(0,0,0,.15),0 1px 2px rgba(0,0,0,.3);box-shadow:0 1px 3px 1px rgba(0,0,0,.15),0 1px 2px rgba(0,0,0,.3)}#gb .gb_Jc a.gb_nd:focus:not(.gb_F),#gb .gb_Jc a.gb_nd:focus:hover:not(.gb_F),#gb.gb_Jc a.gb_nd:focus:not(.gb_F),#gb.gb_Jc a.gb_nd:focus:hover:not(.gb_F){background:#f4f8ff;outline:1px solid #c9ddfc}#gb a.gb_Sa.gb_F.gb_nd:focus,#gb a.gb_Sa.gb_F.gb_nd:focus:hover{background:#a6c6fa;border-color:transparent;-webkit-box-shadow:none;box-shadow:none}#gb .gb_Jc a.gb_nd:active:not(.gb_F),#gb.gb_Jc a.gb_nd:active{background:#ecf3fe}#gb a.gb_Sa.gb_F.gb_nd:active{background:#a1c3f9;-webkit-box-shadow:0 1px 2px rgba(60,64,67,.3),0 2px 6px 2px rgba(60,64,67,.15);box-shadow:0 1px 2px rgba(60,64,67,.3),0 2px 6px 2px rgba(60,64,67,.15)}.gb_J{display:none}@media screen and (max-width:319px){.gb_id:not(.gb_jd) .gb_I{display:none;visibility:hidden}}.gb_Ua{background-color:rgba(255,255,255,.88);border:1px solid #dadce0;-webkit-box-sizing:border-box;box-sizing:border-box;cursor:pointer;display:inline-block;max-height:48px;overflow:hidden;outline:none;padding:0;vertical-align:middle;width:134px;-webkit-border-radius:8px;border-radius:8px}.gb_Ua.gb_F{background-color:transparent;border:1px solid #5f6368}.gb_1a{display:inherit}.gb_Ua.gb_F .gb_1a{background:#fff;-webkit-border-radius:4px;border-radius:4px;display:inline-block;left:8px;margin-right:5px;position:relative;padding:3px;top:-1px}.gb_Ua:hover{border:1px solid #d2e3fc;background-color:rgba(248,250,255,.88)}.gb_Ua.gb_F:hover{background-color:rgba(241,243,244,.04);border:1px solid #5f6368}.gb_Ua:focus-visible,.gb_Ua:focus{background-color:#fff;outline:1px solid #202124;-webkit-box-shadow:0 1px 2px 0 rgba(60,64,67,.3),0 1px 3px 1px rgba(60,64,67,.15);box-shadow:0 1px 2px 0 rgba(60,64,67,.3),0 1px 3px 1px rgba(60,64,67,.15)}.gb_Ua.gb_F:focus-visible,.gb_Ua.gb_F:focus{background-color:rgba(241,243,244,.12);outline:1px solid #f1f3f4;-webkit-box-shadow:0 1px 3px 1px rgba(0,0,0,.15),0 1px 2px 0 rgba(0,0,0,.3);box-shadow:0 1px 3px 1px rgba(0,0,0,.15),0 1px 2px 0 rgba(0,0,0,.3)}.gb_Ua.gb_F:active,.gb_Ua.gb_Rc.gb_F:focus{background-color:rgba(241,243,244,.1);border:1px solid #5f6368}.gb_2a{display:inline-block;padding-bottom:2px;padding-left:7px;padding-top:2px;text-align:center;vertical-align:middle;line-height:32px;width:78px}.gb_Ua.gb_F .gb_2a{line-height:26px;margin-left:0;padding-bottom:0;padding-left:0;padding-top:0;width:72px}.gb_2a.gb_3a{background-color:#f1f3f4;-webkit-border-radius:4px;border-radius:4px;margin-left:8px;padding-left:0;line-height:30px}.gb_2a.gb_3a .gb_Fc{vertical-align:middle}.gb_Da:not(.gb_ac) .gb_Ua{margin-left:10px;margin-right:4px}.gb_Pd{max-height:32px;width:78px}.gb_Ua.gb_F .gb_Pd{max-height:26px;width:72px}.gb_M{-webkit-background-size:32px 32px;background-size:32px 32px;border:0;-webkit-border-radius:50%;border-radius:50%;display:block;margin:0px;position:relative;height:32px;width:32px;z-index:0}.gb_cb{background-color:#e8f0fe;border:1px solid rgba(32,33,36,.08);position:relative}.gb_cb.gb_M{height:30px;width:30px}.gb_cb.gb_M:hover,.gb_cb.gb_M:active{-webkit-box-shadow:none;box-shadow:none}.gb_db{background:#fff;border:none;-webkit-border-radius:50%;border-radius:50%;bottom:2px;-webkit-box-shadow:0px 1px 2px 0px rgba(60,64,67,.30),0px 1px 3px 1px rgba(60,64,67,.15);box-shadow:0px 1px 2px 0px rgba(60,64,67,.30),0px 1px 3px 1px rgba(60,64,67,.15);height:14px;margin:2px;position:absolute;right:0;width:14px}.gb_uc{color:#1f71e7;font:400 22px/32px Google Sans,Roboto,Helvetica,Arial,sans-serif;text-align:center;text-transform:uppercase}@media (-webkit-min-device-pixel-ratio:1.25),(min-resolution:1.25dppx),(min-device-pixel-ratio:1.25){.gb_M::before,.gb_eb::before{display:inline-block;-webkit-transform:scale(0.5);-webkit-transform:scale(0.5);transform:scale(0.5);-webkit-transform-origin:left 0;-webkit-transform-origin:left 0;transform-origin:left 0}.gb_1 .gb_eb::before{-webkit-transform:scale(scale(0.416666667));-webkit-transform:scale(scale(0.416666667));transform:scale(scale(0.416666667))}}.gb_M:hover,.gb_M:focus{-webkit-box-shadow:0 1px 0 rgba(0,0,0,.15);box-shadow:0 1px 0 rgba(0,0,0,.15)}.gb_M:active{-webkit-box-shadow:inset 0 2px 0 rgba(0,0,0,.15);box-shadow:inset 0 2px 0 rgba(0,0,0,.15)}.gb_M:active::after{background:rgba(0,0,0,.1);-webkit-border-radius:50%;border-radius:50%;content:"";display:block;height:100%}.gb_fb{cursor:pointer;line-height:40px;min-width:30px;opacity:.75;overflow:hidden;vertical-align:middle;text-overflow:ellipsis}.gb_A.gb_fb{width:auto}.gb_fb:hover,.gb_fb:focus{opacity:.85}.gb_dd .gb_fb,.gb_dd .gb_Sd{line-height:26px}#gb#gb.gb_dd a.gb_fb,.gb_dd .gb_Sd{font-size:11px;height:auto}.gb_gb{border-top:4px solid #000;border-left:4px dashed transparent;border-right:4px dashed transparent;display:inline-block;margin-left:6px;opacity:.75;vertical-align:middle}.gb_Wa:hover .gb_gb{opacity:.85}.gb_Ua>.gb_y{padding:3px 3px 3px 4px}.gb_Td.gb_kd{color:#fff}.gb_Z .gb_fb,.gb_Z .gb_gb{opacity:1}#gb#gb.gb_Z.gb_Z a.gb_fb,#gb#gb .gb_Z.gb_Z a.gb_fb{color:#fff}.gb_Z.gb_Z .gb_gb{border-top-color:#fff;opacity:1}.gb_ia .gb_M:hover,.gb_Z .gb_M:hover,.gb_ia .gb_M:focus,.gb_Z .gb_M:focus{-webkit-box-shadow:0 1px 0 rgba(0,0,0,.15),0 1px 2px rgba(0,0,0,.2);box-shadow:0 1px 0 rgba(0,0,0,.15),0 1px 2px rgba(0,0,0,.2)}.gb_Ud .gb_y,.gb_Vd .gb_y{position:absolute;right:1px}.gb_y.gb_X,.gb_hb.gb_X,.gb_Wa.gb_X{-webkit-flex:0 1 auto;-webkit-box-flex:0;flex:0 1 auto}.gb_Wd.gb_Xd .gb_fb{width:30px!important}.gb_Zd{height:40px;position:absolute;right:-5px;top:-5px;width:40px}.gb_0d .gb_Zd,.gb_1d .gb_Zd{right:0;top:0}.gb_y .gb_A{padding:4px}.gb_P{display:none}sentinel{}</style><script nonce="">;this.gbar_={CONFIG:[[[0,"www.gstatic.com","og.qtm.en_US.t7HFqwm59-4.2019.O","co.in","en","425",0,[4,2,"","","","667406660","0"],null,"VurRZrCrOP2ap84P6qvmoQQ",null,0,"og.qtm.oS1xTAEm0Kw.L.W.O","AA2YrTv09DM0eg4IoESYVaSRhn20aI9TbQ","AA2YrTut2uOtBM_spQkQSjXDMoIyrj9aPA","",2,1,200,"IND",null,null,"425","425",1,null,null,114591953,1],null,[1,0.1000000014901161,2,1],null,[1,0,0,null,"1","pawansinghvns22@gmail.com","","AONCo6qYeyAiUhtdLWTnhX63fUULNNtpmlX4-wm8BQETExGdBI9Bk-dy1pooGRwmBBijDXCiIEOfOV0jlNNFHoVHrq_zfh3JkQ",0,0,0,""],[0,0,"",1,0,0,0,0,0,0,null,0,0,null,0,0,null,null,0,0,0,"","","","","","",null,0,0,0,0,0,null,null,null,"rgba(32,33,36,1)","rgba(255,255,255,1)",0,0,0,null,null,null,0,null,null,0],["%1$s (default)","Brand account",1,"%1$s (delegated)",1,null,83,"https://colab.research.google.com/drive/1iKpMre97Pp19HTaXAOfBN-d4zBRF-XaM?authuser=$authuser",null,null,null,1,"https://accounts.google.com/ListAccounts?listPages=0\u0026authuser=1\u0026pid=425\u0026gpsia=1\u0026source=ogb\u0026atic=1\u0026mo=1\u0026mn=1\u0026hl=en\u0026ts=250",0,"dashboard",null,null,null,null,"Profile","",1,null,"Signed out","https://accounts.google.com/AccountChooser?source=ogb\u0026continue=$continue\u0026Email=$email\u0026ec=GAhAqQM","https://accounts.google.com/RemoveLocalAccount?source=ogb","Remove","Sign in",0,1,1,0,1,1,0,null,null,null,"Session expired",null,null,null,"Visitor",null,"Default","Delegated","Sign out of all accounts",1,null,null,0,null,null,"myaccount.google.com","https",0,1,0],null,["1","gci_91f30755d6a6b787dcc2a4062e6e9824.js","googleapis.client:gapi.iframes","1","en"],null,null,null,null,["m;/_/scs/abc-static/_/js/k=gapi.gapi.en.h-1D-JOvizc.O/am=AABA/d=1/rs=AHpOoo_3dbjO7NaEjkPT0PwzLRJUFrcOJQ/m=__features__","https://apis.google.com","","","1","",null,1,"es_plusone_gc_20240805.0_p1","en",null,0],[0.009999999776482582,"co.in","425",[null,"","0",null,1,5184000,null,null,"",null,null,null,null,null,0,null,0,null,1,0,0,0,null,null,0,0,null,0,0,0,0,0],null,null,null,1],[1,null,null,40400,425,"IND","en","667406660.0",8,null,1,0,null,null,null,null,"3700949,3701322",null,null,null,"VurRZrCrOP2ap84P6qvmoQQ",0,0,0,null,2,5,"nn",63,0,0,0,0,1,114591953,0,0],[[null,null,null,"https://www.gstatic.com/og/_/js/k=og.qtm.en_US.t7HFqwm59-4.2019.O/rt=j/m=qabr,qgl,q_dnp,qcwid,qbd,qapid,qads,qrcd,q_dg/exm=qaaw,qadd,qaid,qein,qhaw,qhba,qhbr,qhch,qhga,qhid,qhin/d=1/ed=1/rs=AA2YrTv09DM0eg4IoESYVaSRhn20aI9TbQ"],[null,null,null,"https://www.gstatic.com/og/_/ss/k=og.qtm.oS1xTAEm0Kw.L.W.O/m=qcwid/excm=qaaw,qadd,qaid,qein,qhaw,qhba,qhbr,qhch,qhga,qhid,qhin/d=1/ed=1/ct=zgms/rs=AA2YrTut2uOtBM_spQkQSjXDMoIyrj9aPA"]],null,null,null,[[[null,null,[null,null,null,"https://ogs.google.com/u/1/widget/account?yac=1\u0026amb=1"],0,414,436,57,4,1,0,0,65,66,8000,"https://accounts.google.com/SignOutOptions?hl=en\u0026continue=https://colab.research.google.com/drive/1iKpMre97Pp19HTaXAOfBN-d4zBRF-XaM%3Fauthuser%3D1\u0026ec=GBRAqQM",68,2,null,null,1,113,"Something went wrong.%1$s Refresh to try again or %2$schoose another account%3$s.",3,null,null,75,0,null,null,null,null,null,null,null,"/widget/account",["https","myaccount.google.com",0,32,83,1],0,0,1,["Critical security alert","Important account alert","Storage usage alert"],0,1,null,1,1,1,1,null,null,0,0,0,0,0,0],[null,null,[null,null,null,"https://ogs.google.com/u/1/widget/callout/sid?dc=1"],null,280,420,70,25,0,null,0,null,null,8000,null,71,4,null,null,null,null,null,null,null,null,76,null,null,null,107,108,109,"",null,null,null,null,null,null,null,null,null,null,null,null,null,null,null,null,null,null,null,null,0]],null,null,"425","425",1,0,null,"en",0,["https://colab.research.google.com/drive/1iKpMre97Pp19HTaXAOfBN-d4zBRF-XaM?authuser=$authuser","https://accounts.google.com/AddSession?hl=en\u0026continue=https://colab.research.google.com/drive/1iKpMre97Pp19HTaXAOfBN-d4zBRF-XaM%3Fauthuser%3D1\u0026ec=GAlAqQM","https://accounts.google.com/Logout?hl=en\u0026continue=https://colab.research.google.com/drive/1iKpMre97Pp19HTaXAOfBN-d4zBRF-XaM%3Fauthuser%3D1\u0026timeStmp=1725033046\u0026secTok=.AG5fkS87YPlHYgtVUMlejozQjLGlXuOd5A\u0026ec=GAdAqQM","https://accounts.google.com/ListAccounts?listPages=0\u0026authuser=1\u0026pid=425\u0026gpsia=1\u0026source=ogb\u0026atic=1\u0026mo=1\u0026mn=1\u0026hl=en\u0026ts=250",0,0,"",0,0,null,0,0,"https://accounts.google.com/ServiceLogin?passive=true\u0026authuser=1\u0026continue=https%3A%2F%2Fcolab.research.google.com%2Fdrive%2F1iKpMre97Pp19HTaXAOfBN-d4zBRF-XaM%3Fauthuser%3D1\u0026ec=GAZAqQM",1,1,0,0],0,0,0,[null,"https://colab.research.google.com/drive/1iKpMre97Pp19HTaXAOfBN-d4zBRF-XaM?authuser=1",null,null,null,1,null,0,0,"","","58","https://ogads-pa.clients6.google.com",0,0,1,"","",0,0,null,86400,null,0,1,0],0,null,null,null,0],null,[["mousedown","touchstart","touchmove","wheel","keydown"],300000],[[null,null,null,"https://accounts.google.com/RotateCookiesPage"],3,null,null,null,0,1]]],};this.gbar_=this.gbar_||{};(function(_){var window=this;
try{
_._F_toggles_initialize=function(a){(typeof globalThis!=="undefined"?globalThis:typeof self!=="undefined"?self:this)._F_toggles=a||[]};(0,_._F_toggles_initialize)([]);
/*

 Copyright The Closure Library Authors.
 SPDX-License-Identifier: Apache-2.0
*/
var fa,ha,ma,oa,pa,ya,za,Ba,Ca,Da,Ga,La,Ya,Xa,ab,cb,bb,db,eb,hb,ib,mb,pb,jb,ob,nb,lb,kb,qb,rb,zb,Bb,Cb,Db,Eb;_.aa=function(a,b){if(Error.captureStackTrace)Error.captureStackTrace(this,_.aa);else{const c=Error().stack;c&&(this.stack=c)}a&&(this.message=String(a));b!==void 0&&(this.cause=b)};_.ba=function(a){_.t.setTimeout(()=>{throw a;},0)};_.ca=function(){var a=_.t.navigator;return a&&(a=a.userAgent)?a:""};fa=function(a){return da?ea?ea.brands.some(({brand:b})=>b&&b.indexOf(a)!=-1):!1:!1};
_.u=function(a){return _.ca().indexOf(a)!=-1};ha=function(){return da?!!ea&&ea.brands.length>0:!1};_.ia=function(){return ha()?!1:_.u("Opera")};_.ka=function(){return ha()?!1:_.u("Trident")||_.u("MSIE")};_.la=function(){return _.u("Firefox")||_.u("FxiOS")};_.na=function(){return _.u("Safari")&&!(ma()||(ha()?0:_.u("Coast"))||_.ia()||(ha()?0:_.u("Edge"))||(ha()?fa("Microsoft Edge"):_.u("Edg/"))||(ha()?fa("Opera"):_.u("OPR"))||_.la()||_.u("Silk")||_.u("Android"))};
ma=function(){return ha()?fa("Chromium"):(_.u("Chrome")||_.u("CriOS"))&&!(ha()?0:_.u("Edge"))||_.u("Silk")};oa=function(){return da?!!ea&&!!ea.platform:!1};pa=function(){return _.u("iPhone")&&!_.u("iPod")&&!_.u("iPad")};_.qa=function(){return pa()||_.u("iPad")||_.u("iPod")};_.ra=function(){return oa()?ea.platform==="macOS":_.u("Macintosh")};_.ta=function(a,b){return _.sa(a,b)>=0};
_.ua=function(a){let b="",c=0;const d=a.length-10240;for(;c<d;)b+=String.fromCharCode.apply(null,a.subarray(c,c+=10240));b+=String.fromCharCode.apply(null,c?a.subarray(c):a);return btoa(b)};_.va=function(a){return a!=null&&a instanceof Uint8Array};_.wa=function(a){return Array.prototype.slice.call(a)};_.xa=function(a){return!!((a[_.v]|0)&2)};ya=function(a,b){b[_.v]=(a|0)&-14591};za=function(a,b){b[_.v]=(a|34)&-14557};Ba=function(a){return!(!a||typeof a!=="object"||a.i!==Aa)};
Ca=function(a){return a!==null&&typeof a==="object"&&!Array.isArray(a)&&a.constructor===Object};Da=function(a){return!Array.isArray(a)||a.length?!1:(a[_.v]|0)&1?!0:!1};_.Ea=function(a){if(a&2)throw Error();};Ga=function(a,b){(b=_.Fa?b[_.Fa]:void 0)&&(a[_.Fa]=_.wa(b))};_.Ia=function(){const a=Error();Ha(a,"incident");_.ba(a)};_.Ja=function(a){a=Error(a);Ha(a,"warning");return a};_.Ka=function(a){a.kj=!0;return a};
La=function(a,b){if(a.length>b.length)return!1;if(a.length<b.length||a===b)return!0;for(let c=0;c<a.length;c++){const d=a[c],e=b[c];if(d>e)return!1;if(d<e)return!0}};_.Na=function(a){if(typeof a!=="boolean")throw Error("s`"+_.Ma(a)+"`"+a);return a};_.Oa=function(a){if(!Number.isFinite(a))throw _.Ja("enum");return a|0};_.Pa=function(a){if(typeof a!=="number")throw _.Ja("int32");if(!Number.isFinite(a))throw _.Ja("int32");return a|0};_.Qa=function(a){if(a!=null&&typeof a!=="string")throw Error();return a};
_.Ra=function(a){return a==null||typeof a==="string"?a:void 0};_.Ta=function(a,b,c){if(a!=null&&typeof a==="object"&&a.Dd===_.Sa)return a;if(Array.isArray(a)){var d=a[_.v]|0,e=d;e===0&&(e|=c&32);e|=c&2;e!==d&&(a[_.v]=e);return new b(a)}};_.Va=function(a,b){Ua=b;a=new a(b);Ua=void 0;return a};
_.Wa=function(a,b,c){a==null&&(a=Ua);Ua=void 0;if(a==null){var d=96;c?(a=[c],d|=512):a=[];b&&(d=d&-16760833|(b&1023)<<14)}else{if(!Array.isArray(a))throw Error("t");d=a[_.v]|0;if(d&2048)throw Error("u");if(d&64)return a;d|=64;if(c&&(d|=512,c!==a[0]))throw Error("v");a:{c=a;const e=c.length;if(e){const f=e-1;if(Ca(c[f])){d|=256;b=f-(+!!(d&512)-1);if(b>=1024)throw Error("w");d=d&-16760833|(b&1023)<<14;break a}}if(b){b=Math.max(b,e-(+!!(d&512)-1));if(b>1024)throw Error("x");d=d&-16760833|(b&1023)<<14}}}a[_.v]=
d;return a};Ya=function(a,b){return Xa(b)};Xa=function(a){switch(typeof a){case "number":return isFinite(a)?a:String(a);case "bigint":return(0,_.Za)(a)?Number(a):String(a);case "boolean":return a?1:0;case "object":if(a)if(Array.isArray(a)){if(Da(a))return}else{if(_.va(a))return _.ua(a);if("function"==typeof _.$a&&a instanceof _.$a)return a.j()}}return a};
ab=function(a,b,c){const d=_.wa(a);var e=d.length;const f=b&256?d[e-1]:void 0;e+=f?-1:0;for(b=b&512?1:0;b<e;b++)d[b]=c(d[b]);if(f){b=d[b]={};for(const g in f)b[g]=c(f[g])}Ga(d,a);return d};cb=function(a,b,c,d,e){if(a!=null){if(Array.isArray(a))a=Da(a)?void 0:e&&(a[_.v]|0)&2?a:bb(a,b,c,d!==void 0,e);else if(Ca(a)){const f={};for(let g in a)f[g]=cb(a[g],b,c,d,e);a=f}else a=b(a,d);return a}};
bb=function(a,b,c,d,e){const f=d||c?a[_.v]|0:0;d=d?!!(f&32):void 0;const g=_.wa(a);for(let h=0;h<g.length;h++)g[h]=cb(g[h],b,c,d,e);c&&(Ga(g,a),c(f,g));return g};db=function(a){return a.Dd===_.Sa?a.toJSON():Xa(a)};
eb=function(a,b,c=za){if(a!=null){if(a instanceof Uint8Array)return b?a:new Uint8Array(a);if(Array.isArray(a)){var d=a[_.v]|0;if(d&2)return a;b&&(b=d===0||!!(d&32)&&!(d&64||!(d&16)));return b?(a[_.v]=(d|34)&-12293,a):bb(a,eb,d&4?za:c,!0,!0)}a.Dd===_.Sa&&(c=a.ha,d=c[_.v],a=d&2?a:_.Va(a.constructor,_.fb(c,d,!0)));return a}};_.fb=function(a,b,c){const d=c||b&2?za:ya,e=!!(b&32);a=ab(a,b,f=>eb(f,e,d));a[_.v]=a[_.v]|32|(c?2:0);return a};
_.gb=function(a){const b=a.ha,c=b[_.v];return c&2?_.Va(a.constructor,_.fb(b,c,!1)):a};hb=function(a){return a};ib=function(a){return a};mb=function(a,b,c,d){return jb(a,b,c,d,kb,lb)};pb=function(a,b,c,d){return jb(a,b,c,d,nb,ob)};
jb=function(a,b,c,d,e,f){if(!c.length&&!d)return 0;var g=0;let h=0,k=0;var l=0;let m=0;for(var p=c.length-1;p>=0;p--){var r=c[p];d&&p===c.length-1&&r===d||(l++,r!=null&&k++)}if(d)for(var q in d)p=+q,isNaN(p)||(m+=qb(p),h++,p>g&&(g=p));l=e(l,k)+f(h,g,m);q=k;p=h;r=g;let x=m;for(let D=c.length-1;D>=0;D--){var A=c[D];if(A==null||d&&D===c.length-1&&A===d)continue;A=D-b;const K=e(A,q)+f(p,r,x);K<l&&(a=1+A,l=K);p++;q--;x+=qb(A);r=Math.max(r,A)}b=e(0,0)+f(p,r,x);b<l&&(a=0,l=b);if(d){p=h;r=g;x=m;q=k;for(const D in d)d=
+D,isNaN(d)||d>=1024||(p--,q++,x-=D.length,g=e(d,q)+f(p,r,x),g<l&&(a=1+d,l=g))}return a};ob=function(a,b,c){return c+a*3+(a>1?a-1:0)};nb=function(a,b){return(a>1?a-1:0)+(a-b)*4};lb=function(a,b){return a==0?0:9*Math.max(1<<32-Math.clz32(a+a/2-1),4)<=b?a==0?0:a<4?100+(a-1)*16:a<6?148+(a-4)*16:a<12?244+(a-6)*16:a<22?436+(a-12)*19:a<44?820+(a-22)*17:52+32*a:40+4*b};kb=function(a){return 40+4*a};qb=function(a){return a>=100?a>=1E4?Math.ceil(Math.log10(1+a)):a<1E3?3:4:a<10?1:2};
rb=function(a,b,c,d){b=d+(+!!(b&512)-1);if(!(b<0||b>=a.length||b>=c))return a[b]};_.tb=function(a,b,c,d,e){const f=b>>14&1023||536870912;if(c>=f||e&&!sb){let g=b;if(b&256)e=a[a.length-1];else{if(d==null)return g;e=a[f+(+!!(b&512)-1)]={};g|=256}e[c]=d;c<f&&(a[c+(+!!(b&512)-1)]=void 0);g!==b&&(a[_.v]=g);return g}a[c+(+!!(b&512)-1)]=d;b&256&&(a=a[a.length-1],c in a&&delete a[c]);return b};_.vb=function(a,b,c,d){a=a.ha;let e=a[_.v];const f=_.ub(a,e,c,d);b=_.Ta(f,b,e);b!==f&&b!=null&&_.tb(a,e,c,b,d);return b};
_.wb=function(a,b){return a!=null?a:b};
zb=function(a){var b=xb?a.ha:bb(a.ha,db,void 0,void 0,!1);var c=!xb,d=(c?a.ha:b)[_.v];if(a=b.length){var e=b[a-1],f=Ca(e);f?a--:e=void 0;var g=+!!(d&512)-1,h=a-g;d=!!yb&&sb&&!(d&512);var k,l=(k=yb)!=null?k:ib;k=d?l(h,g,b,e):h;d=(h=d&&h!==k)?Array.prototype.slice.call(b,0,a):b;if(f||h){b:{var m=d;var p=e;f={};l=!1;if(h)for(var r=Math.max(0,k+g);r<m.length;r++){var q=m[r],x=r-g;q==null||Da(q)||Ba(q)&&q.size===0||(m[r]=void 0,f[x]=q,l=!0)}if(p)for(var A in p)if(r=+A,isNaN(r))f[A]=p[A];else if(q=p[A],
Array.isArray(q)&&(Da(q)||Ba(q)&&q.size===0)&&(q=null),q==null&&(l=!0),h&&r<k){l=!0;q=r+g;for(x=m.length;x<=q;x++)m.push(void 0);m[q]=p[r]}else q!=null&&(f[A]=q);if(l){for(let K in f){p=f;break b}p=null}}m=p==null?e!=null:p!==e}h&&(a=d.length);for(var D;a>0;a--){A=d[a-1];if(!(A==null||Da(A)||Ba(A)&&A.size===0))break;D=!0}if(d!==b||m||D){if(!h&&!c)d=Array.prototype.slice.call(d,0,a);else if(D||m||p)d.length=a;p&&d.push(p)}b=d}return b};_.w=function(a,b){return a!=null?!!a:!!b};
_.y=function(a,b){b==void 0&&(b="");return a!=null?a:b};_.Ab=function(a){for(const b in a)return!1;return!0};Bb=typeof Object.defineProperties=="function"?Object.defineProperty:function(a,b,c){if(a==Array.prototype||a==Object.prototype)return a;a[b]=c.value;return a};
Cb=function(a){a=["object"==typeof globalThis&&globalThis,a,"object"==typeof window&&window,"object"==typeof self&&self,"object"==typeof global&&global];for(var b=0;b<a.length;++b){var c=a[b];if(c&&c.Math==Math)return c}throw Error("a");};Db=Cb(this);Eb=function(a,b){if(b)a:{var c=Db;a=a.split(".");for(var d=0;d<a.length-1;d++){var e=a[d];if(!(e in c))break a;c=c[e]}a=a[a.length-1];d=c[a];b=b(d);b!=d&&b!=null&&Bb(c,a,{configurable:!0,writable:!0,value:b})}};
Eb("Symbol.dispose",function(a){return a?a:Symbol("b")});Eb("globalThis",function(a){return a||Db});Eb("Promise.prototype.finally",function(a){return a?a:function(b){return this.then(function(c){return Promise.resolve(b()).then(function(){return c})},function(c){return Promise.resolve(b()).then(function(){throw c;})})}});var Hb,Ib,Lb;_.Fb=_.Fb||{};_.t=this||self;Hb=function(a,b){var c=_.Gb("WIZ_global_data.oxN3nb");a=c&&c[a];return a!=null?a:b};Ib=_.t._F_toggles||[];_.Gb=function(a,b){a=a.split(".");b=b||_.t;for(var c=0;c<a.length;c++)if(b=b[a[c]],b==null)return null;return b};_.Ma=function(a){var b=typeof a;return b!="object"?b:a?Array.isArray(a)?"array":b:"null"};_.Jb=function(a){var b=typeof a;return b=="object"&&a!=null||b=="function"};_.Kb="closure_uid_"+(Math.random()*1E9>>>0);
Lb=function(a,b,c){return a.call.apply(a.bind,arguments)};_.z=function(a,b,c){_.z=Lb;return _.z.apply(null,arguments)};_.B=function(a,b){a=a.split(".");var c=_.t;a[0]in c||typeof c.execScript=="undefined"||c.execScript("var "+a[0]);for(var d;a.length&&(d=a.shift());)a.length||b===void 0?c[d]&&c[d]!==Object.prototype[d]?c=c[d]:c=c[d]={}:c[d]=b};
_.C=function(a,b){function c(){}c.prototype=b.prototype;a.X=b.prototype;a.prototype=new c;a.prototype.constructor=a;a.cj=function(d,e,f){for(var g=Array(arguments.length-2),h=2;h<arguments.length;h++)g[h-2]=arguments[h];return b.prototype[e].apply(d,g)}};_.C(_.aa,Error);_.aa.prototype.name="CustomError";var Mb=!!(Ib[0]&8192),Nb=!!(Ib[0]&256),Ob=!!(Ib[0]>>14&1),Pb=!!(Ib[0]&16),Qb=!!(Ib[0]&32);var Rb,da,sb;Rb=Hb(1,!0);da=Mb?Ob:Hb(610401301,!1);sb=Mb?Nb||!Pb:Hb(645172343,Rb);_.Sb=Mb?Qb:Hb(660014094,!1);_.Tb=typeof TextDecoder!=="undefined";_.Ub=typeof TextEncoder!=="undefined";_.Wb=function(){return _.ca().toLowerCase().indexOf("webkit")!=-1};var ea,Xb=_.t.navigator;ea=Xb?Xb.userAgentData||null:null;_.sa=function(a,b){return Array.prototype.indexOf.call(a,b,void 0)};_.Yb=function(a,b,c){Array.prototype.forEach.call(a,b,c)};_.Zb=function(a){_.Zb[" "](a);return a};_.Zb[" "]=function(){};var lc;_.$b=_.ia();_.ac=_.ka();_.bc=_.u("Edge");_.cc=_.u("Gecko")&&!(_.Wb()&&!_.u("Edge"))&&!(_.u("Trident")||_.u("MSIE"))&&!_.u("Edge");_.dc=_.Wb()&&!_.u("Edge");_.ec=_.ra();_.fc=oa()?ea.platform==="Windows":_.u("Windows");_.gc=oa()?ea.platform==="Android":_.u("Android");_.hc=pa();_.ic=_.u("iPad");_.jc=_.u("iPod");_.kc=_.qa();
a:{var mc="",nc=function(){var a=_.ca();if(_.cc)return/rv:([^\);]+)(\)|;)/.exec(a);if(_.bc)return/Edge\/([\d\.]+)/.exec(a);if(_.ac)return/\b(?:MSIE|rv)[: ]([^\);]+)(\)|;)/.exec(a);if(_.dc)return/WebKit\/(\S+)/.exec(a);if(_.$b)return/(?:Version)[ \/]?(\S+)/.exec(a)}();nc&&(mc=nc?nc[1]:"");if(_.ac){var oc,pc=_.t.document;oc=pc?pc.documentMode:void 0;if(oc!=null&&oc>parseFloat(mc)){lc=String(oc);break a}}lc=mc}_.qc=lc;_.rc=_.la();_.sc=pa()||_.u("iPod");_.tc=_.u("iPad");_.uc=_.u("Android")&&!(ma()||_.la()||_.ia()||_.u("Silk"));_.vc=ma();_.wc=_.na()&&!_.qa();var xc;_.v=Symbol();xc=Symbol();_.yc=Symbol();_.zc=Symbol();var Aa,Bc;_.Sa={};Aa={};Bc=[];Bc[_.v]=55;_.Ac=Object.freeze(Bc);_.Cc=Object.freeze({});Object.freeze({});_.Dc=Object.freeze({});var Ha=function(a,b){a.__closure__error__context__984382||(a.__closure__error__context__984382={});a.__closure__error__context__984382.severity=b};var Ec;_.Fc=_.Ka(a=>typeof a==="number");_.Gc=_.Ka(a=>typeof a==="string");_.Hc=_.Ka(a=>typeof a==="boolean");_.Ic=typeof _.t.BigInt==="function"&&typeof _.t.BigInt(0)==="bigint";var Lc,Jc,Mc,Kc;_.Za=_.Ka(a=>_.Ic?a>=Jc&&a<=Kc:a[0]==="-"?La(a,Lc):La(a,Mc));Lc=Number.MIN_SAFE_INTEGER.toString();Jc=_.Ic?BigInt(Number.MIN_SAFE_INTEGER):void 0;Mc=Number.MAX_SAFE_INTEGER.toString();Kc=_.Ic?BigInt(Number.MAX_SAFE_INTEGER):void 0;var Ua;_.Nc=function(a,b){a=a.ha;return _.ub(a,a[_.v],b)};_.ub=function(a,b,c,d){if(c===-1)return null;const e=b>>14&1023||536870912;if(c>=e){if(b&256)return a[a.length-1][c]}else{var f=a.length;if(d&&b&256&&(d=a[f-1][c],d!=null)){if(rb(a,b,e,c)&&xc!=null){var g;a=(g=Ec)!=null?g:Ec={};g=a[xc]||0;g>=4||(a[xc]=g+1,_.Ia())}return d}return rb(a,b,e,c)}};_.Oc=function(a,b,c){const d=a.ha;let e=d[_.v];_.Ea(e);_.tb(d,e,b,c);return a};
_.E=function(a,b,c,d=!1){b=_.vb(a,b,c,d);if(b==null)return b;a=a.ha;let e=a[_.v];if(!(e&2)){const f=_.gb(b);f!==b&&(b=f,_.tb(a,e,c,b,d))}return b};_.F=function(a,b,c){c==null&&(c=void 0);return _.Oc(a,b,c)};_.G=function(a,b){a=_.Nc(a,b);return a==null||typeof a==="boolean"?a:typeof a==="number"?!!a:void 0};_.H=function(a,b){return _.Ra(_.Nc(a,b))};_.J=function(a,b,c=!1){return _.wb(_.G(a,b),c)};_.L=function(a,b){return _.wb(_.H(a,b),"")};_.M=function(a,b,c){return _.Oc(a,b,c==null?c:_.Na(c))};
_.N=function(a,b,c){return _.Oc(a,b,c==null?c:_.Pa(c))};_.O=function(a,b,c){return _.Oc(a,b,_.Qa(c))};_.P=function(a,b,c){return _.Oc(a,b,c==null?c:_.Oa(c))};var yb,xb;_.Q=class{constructor(a,b,c){this.ha=_.Wa(a,b,c)}toJSON(){return zb(this)}Ca(a){try{return xb=!0,a&&(yb=a===ib||a!==hb&&a!==mb&&a!==pb?ib:a),JSON.stringify(zb(this),Ya)}finally{a&&(yb=void 0),xb=!1}}tc(){return _.xa(this.ha)}};_.Q.prototype.Dd=_.Sa;_.Q.prototype.toString=function(){try{return xb=!0,zb(this).toString()}finally{xb=!1}};_.Pc=Symbol();_.Qc=Symbol();_.Rc=Symbol();_.Sc=Symbol();_.Tc=Symbol();var Uc=class extends _.Q{constructor(){super()}};_.Vc=class extends _.Q{constructor(){super()}D(a){return _.N(this,3,a)}};var Wc=class extends _.Q{constructor(a){super(a)}Lc(a){return _.O(this,24,a)}};_.Xc=class extends _.Q{constructor(a){super(a)}};_.R=function(){this.ta=this.ta;this.Y=this.Y};_.R.prototype.ta=!1;_.R.prototype.isDisposed=function(){return this.ta};_.R.prototype.dispose=function(){this.ta||(this.ta=!0,this.P())};_.R.prototype[Symbol.dispose]=function(){this.dispose()};_.R.prototype.P=function(){if(this.Y)for(;this.Y.length;)this.Y.shift()()};var Yc=class extends _.R{constructor(){var a=window;super();this.o=a;this.i=[];this.j={}}resolve(a){var b=this.o;a=a.split(".");for(var c=a.length,d=0;d<c;++d)if(b[a[d]])b=b[a[d]];else return null;return b instanceof Function?b:null}qb(){for(var a=this.i.length,b=this.i,c=[],d=0;d<a;++d){var e=b[d].i(),f=this.resolve(e);if(f&&f!=this.j[e])try{b[d].qb(f)}catch(g){}else c.push(b[d])}this.i=c.concat(b.slice(a))}};var $c=class extends _.R{constructor(){var a=_.Zc;super();this.o=a;this.A=this.i=null;this.v=0;this.B={};this.j=!1;a=window.navigator.userAgent;a.indexOf("MSIE")>=0&&a.indexOf("Trident")>=0&&(a=/\b(?:MSIE|rv)[: ]([^\);]+)(\)|;)/.exec(a))&&a[1]&&parseFloat(a[1])<9&&(this.j=!0)}C(a,b){this.i=b;this.A=a;b.preventDefault?b.preventDefault():b.returnValue=!1}};_.ad=class extends _.Q{constructor(a){super(a)}};var bd=class extends _.Q{constructor(a){super(a)}};var ed;_.cd=function(a,b,c=98,d=new _.Vc){if(a.i){const e=new Uc;_.O(e,1,b.message);_.O(e,2,b.stack);_.N(e,3,b.lineNumber);_.P(e,5,1);_.F(d,40,e);a.i.log(c,d)}};ed=class{constructor(){var a=dd;this.i=null;_.J(a,4,!0)}log(a,b,c=new _.Vc){_.cd(this,a,98,c)}};var fd,gd;fd=function(a){if(a.o.length>0){var b=a.i!==void 0,c=a.j!==void 0;if(b||c){b=b?a.v:a.A;c=a.o;a.o=[];try{_.Yb(c,b,a)}catch(d){console.error(d)}}}};_.hd=class{constructor(a){this.i=a;this.j=void 0;this.o=[]}then(a,b,c){this.o.push(new gd(a,b,c));fd(this)}resolve(a){if(this.i!==void 0||this.j!==void 0)throw Error("B");this.i=a;fd(this)}reject(a){if(this.i!==void 0||this.j!==void 0)throw Error("B");this.j=a;fd(this)}v(a){a.j&&a.j.call(a.i,this.i)}A(a){a.o&&a.o.call(a.i,this.j)}};
gd=class{constructor(a,b,c){this.j=a;this.o=b;this.i=c}};_.id=a=>{var b="qc";if(a.qc&&a.hasOwnProperty(b))return a.qc;b=new a;return a.qc=b};_.jd=class{constructor(){this.v=new _.hd;this.i=new _.hd;this.D=new _.hd;this.B=new _.hd;this.C=new _.hd;this.A=new _.hd;this.o=new _.hd;this.j=new _.hd;this.F=new _.hd}Y(){return this.v}M(){return this.i}N(){return this.D}L(){return this.B}ta(){return this.C}K(){return this.A}J(){return this.o}G(){return this.j}static i(){return _.id(_.jd)}};var od;_.ld=function(){return _.E(_.kd,Wc,1)};_.md=function(){return _.E(_.kd,_.Xc,5)};od=class extends _.Q{constructor(){super(nd)}};var nd;window.gbar_&&window.gbar_.CONFIG?nd=window.gbar_.CONFIG[0]||{}:nd=[];_.kd=new od;var dd=_.E(_.kd,bd,3)||new bd;_.ld()||new Wc;_.Zc=new ed;_.B("gbar_._DumpException",function(a){_.Zc?_.Zc.log(a):console.error(a)});_.pd=new $c;var rd;_.sd=function(a,b){var c=_.qd.i();if(a in c.i){if(c.i[a]!=b)throw new rd;}else{c.i[a]=b;const h=c.j[a];if(h)for(let k=0,l=h.length;k<l;k++){b=h[k];var d=c.i;delete b.i[a];if(_.Ab(b.i)){for(var e=b.j.length,f=Array(e),g=0;g<e;g++)f[g]=d[b.j[g]];b.o.apply(b.v,f)}}delete c.j[a]}};_.qd=class{constructor(){this.i={};this.j={}}static i(){return _.id(_.qd)}};_.td=class extends _.aa{constructor(){super()}};rd=class extends _.td{};_.B("gbar.A",_.hd);_.hd.prototype.aa=_.hd.prototype.then;_.B("gbar.B",_.jd);_.jd.prototype.ba=_.jd.prototype.M;_.jd.prototype.bb=_.jd.prototype.N;_.jd.prototype.bd=_.jd.prototype.ta;_.jd.prototype.bf=_.jd.prototype.Y;_.jd.prototype.bg=_.jd.prototype.L;_.jd.prototype.bh=_.jd.prototype.K;_.jd.prototype.bj=_.jd.prototype.J;_.jd.prototype.bk=_.jd.prototype.G;_.B("gbar.a",_.jd.i());window.gbar&&window.gbar.ap&&window.gbar.ap(window.gbar.a);var ud=new Yc;_.sd("api",ud);
var vd=_.md()||new _.Xc,wd=window,xd=_.y(_.H(vd,8));wd.__PVT=xd;_.sd("eq",_.pd);
}catch(e){_._DumpException(e)}
try{
_.yd=class extends _.Q{constructor(a){super(a)}};
}catch(e){_._DumpException(e)}
try{
var zd=class extends _.Q{constructor(){super()}};var Ad=class extends _.R{constructor(){super();this.j=[];this.i=[]}o(a,b){this.j.push({features:a,options:b})}init(a,b,c){window.gapi={};var d=window.___jsl={};d.h=_.y(_.H(a,1));_.G(a,12)!=null&&(d.dpo=_.w(_.J(a,12)));d.ms=_.y(_.H(a,2));d.m=_.y(_.H(a,3));d.l=[];_.L(b,1)&&(a=_.H(b,3))&&this.i.push(a);_.L(c,1)&&(c=_.H(c,2))&&this.i.push(c);_.B("gapi.load",(0,_.z)(this.o,this));return this}};var Bd=_.E(_.kd,_.ad,14);if(Bd){var Cd=_.E(_.kd,_.yd,9)||new _.yd,Dd=new zd,Ed=new Ad;Ed.init(Bd,Cd,Dd);_.sd("gs",Ed)};
}catch(e){_._DumpException(e)}
})(this.gbar_);
// Google Inc.
</script><script nonce="">try {const preferences = JSON.parse(window.localStorage.getItem("datalab_prefs_pawansinghvns22@gmail.com")); document.querySelector('html') .setAttribute('theme', preferences['siteTheme'] || 'default');} catch (e) {}</script><script nonce="">window.performance.mark('head_start');</script><link rel="stylesheet" href="./Plant_Disease_Detection_files/bundle.css"><script nonce="">var colabVersionTag = 'colab_20240827-060121_RC00_667815537'; var colabScsVersion = 'adf7e1c93ea85a9278115179d6725e59'; var hl = 'en'; var colabExperiments = JSON.parse('\x7b\x22add_prompt_cell\x22: false, \x22ai_unsubscribed_warning\x22: false, \x22aida_complete_code_model_id\x22: \x22\x22, \x22aida_do_conversation_model_id\x22: \x22\x22, \x22aida_generate_code_model_id\x22: \x22\x22, \x22allowed_public_url_domains\x22: \x5b\x22huggingface.co\x22, \x22dagshub.com\x22, \x22storage.googleapis.com\x22\x5d, \x22backend_version\x22: \x22next\x22, \x22backtracking_strategy\x22: \x22non-literals\x22, \x22cell_output_actions_tooltip\x22: false, \x22cell_tags\x22: false, \x22cell_toolbar_tooltips\x22: false, \x22chat_model_id_override\x22: \x22codey_gemit_mpp_exp_streaming\x22, \x22classified_generate\x22: false, \x22classroom_iframe_parent_origin\x22: \x22\x22, \x22client_text_compose\x22: true, \x22client_trim_completion_text\x22: 400, \x22cloud_origin\x22: \x22\x22, \x22commands_in_toolbar\x22: false, \x22comment_poll_long\x22: 900000, \x22comment_poll_short\x22: 60000, \x22compose_skip_suffix_check\x22: false, \x22converse_server_side_history\x22: false, \x22converse_temp\x22: \x22\x22, \x22crawler\x22: false, \x22critique_comments\x22: false, \x22dbu\x22: \x22\x22, \x22debug_external\x22: \x22external\x22, \x22debug_prod\x22: \x22prod\x22, \x22dep_cells_commands\x22: false, \x22dep_graph\x22: false, \x22development\x22: false, \x22document_change_poll_interval\x22: 30000, \x22drive_anon_api_key\x22: \x22AIzaSyB10s2vWUTwP0pj20wZoxmpZIt3rRodYeg\x22, \x22drive_api_key\x22: \x22AIzaSyCN_sSPJMpYrAzC5AtTrltNC8oRmLtoqBk\x22, \x22drive_background_save_project_number\x22: \x22948411933973\x22, \x22drive_realtime_project_number\x22: \x22\x22, \x22drop_chat_links\x22: true, \x22embedded_connection_poll\x22: false, \x22embedding_app\x22: \x22\x22, \x22enable_adhoc_backends\x22: false, \x22enable_dasher_subscription_ui\x22: true, \x22enable_more_reprs\x22: true, \x22enable_mpp_orc_model_overrides\x22: true, \x22execution_announcements\x22: true, \x22execution_status_propagation\x22: true, \x22explain_cell\x22: false, \x22explain_error\x22: true, \x22explain_error_model_id_override\x22: \x22codey_gemit_mpp_exp_streaming\x22, \x22explain_error_trim_traceback\x22: true, \x22explicit_ai_backend\x22: \x22\x22, \x22external_trusted_github_org_repos_quick_add\x22: \x22GoogleChrome\/CrUX,google\/generative-ai-docs\x22, \x22file_browser_poll_interval_millis\x22: 60000, \x22file_upload_rate_limit\x22: 5, \x22filter_repetitive_suggestions\x22: false, \x22first_party_auth\x22: true, \x22fix_imports\x22: false, \x22gemini_rebrand\x22: true, \x22generate_code\x22: true, \x22generate_df\x22: true, \x22generate_prompt_reduce_blank_responses\x22: false, \x22generate_prompt_reduce_duplicate_code\x22: true, \x22generate_prompt_reduce_name_errors\x22: false, \x22generate_temp\x22: \x22\x22, \x22get_started\x22: false, \x22gis_auth\x22: true, \x22github_client_id\x22: \x225036cf6d81e65aaa6340\x22, \x22gpu_utilization_check_interval_ms\x22: 600000, \x22granular_browser_permissions\x22: true, \x22hats_surveys\x22: true, \x22hrc\x22: false, \x22import_data\x22: false, \x22interactive_sheet_next_steps\x22: true, \x22internal_chat\x22: false, \x22internal_schedule\x22: false, \x22is_prober\x22: false, \x22jsraw\x22: \x22compiled\x22, \x22key_promoter\x22: false, \x22kr\x22: false, \x22link_id_assignments\x22: true, \x22link_imports_to_installs\x22: true, \x22local_cloud_apis\x22: false, \x22local_service_worker\x22: false, \x22log_preferences_on_change\x22: true, \x22lsp_diagnostics_reporting\x22: false, \x22lsp_inlay_hint\x22: false, \x22lsrp\x22: 1000, \x22ml_enabled\x22: true, \x22mlpp\x22: false, \x22mlpp_multiline\x22: false, \x22mlpp_on_by_default\x22: true, \x22mobile\x22: false, \x22mpp_orc_temperature_override\x22: \x221.0\x22, \x22next_steps\x22: true, \x22nl2code_missing_imports\x22: false, \x22no_fun\x22: false, \x22notebook_context_length\x22: 40000, \x22outage_notification\x22: \x22\x22, \x22outage_notification_link\x22: \x22\x22, \x22outputframe_version\x22: \x22\x22, \x22override_suf_params_for_test\x22: false, \x22pds_minting\x22: false, \x22prereq_cells_next_steps\x22: false, \x22recaptcha_polling_frequency_ms\x22: 300000, \x22recaptcha_v2_site_key\x22: \x226LfQttQUAAAAADuPanA_VZMaZgBAOnHZNuuqUewp\x22, \x22recaptcha_v3_site_key\x22: \x226LfQPtEUAAAAAHBpAdFng54jyuB1V5w5dofknpip\x22, \x22reconnect_max_delay_seconds\x22: 300, \x22reduce_chat_not_answering\x22: true, \x22require_ai_consent\x22: true, \x22resource_poll_interval_ms\x22: 10000, \x22rp_dap\x22: true, \x22rp_kws\x22: false, \x22rp_kxhr\x22: true, \x22rp_lsp\x22: true, \x22rp_serve_kernel_port\x22: false, \x22rp_term\x22: true, \x22rp_token_refresh_headroom_millis\x22: 300000, \x22rt\x22: false, \x22run_button_tooltip\x22: true, \x22run_mode\x22: false, \x22runtime_env_overrides\x22: \x22\\n          \x5b\\n            \x5b\\\x22ENABLE_DIRECTORYPREFETCHER\\\x22, \\\x221\\\x22\x5d\\n          \x5d\\n        \x22, \x22runtime_type_for_test\x22: \x22\x22, \x22server_execution_queue\x22: true, \x22server_side_generate_prompt_formatting\x22: false, \x22session_resume_coalesce\x22: true, \x22show_create_gemini_api_key_link\x22: true, \x22show_payments_interstitial\x22: false, \x22show_rel_notes_on_open\x22: true, \x22show_signup_survey\x22: true, \x22show_subscription_renewal_time\x22: false, \x22show_switch_to_prod_link\x22: false, \x22smartpaste\x22: false, \x22smartpaste_serving_config\x22: \x22pl_700m_smart_paste_3.0.25\x22, \x22sql_cell\x22: false, \x22sql_cell_buttons\x22: false, \x22storage_partition_trial\x22: true, \x22storage_partition_trial_token\x22: \x22AmUpB2+Hlwk73pYiEMbnkef\/dprJi1I9rClec33apyFsbVOaCIRN29Rk9M4ht5Otgbp+thCc3MMD73GyCNfEWAkAAAB3eyJvcmlnaW4iOiJodHRwczovL2NvbGFiLnJlc2VhcmNoLmdvb2dsZS5jb206NDQzIiwiZmVhdHVyZSI6IkRpc2FibGVUaGlyZFBhcnR5U3RvcmFnZVBhcnRpdGlvbmluZyIsImV4cGlyeSI6MTcyNTQwNzk5OX0\x3d\x22, \x22suspicious_code_matches\x22: \x22\x22, \x22suspicious_code_regexs\x22: \x22\x22, \x22term4all\x22: false, \x22text_compose_report_changes_millis\x22: 10000, \x22text_span_comments\x22: false, \x22tpu_node_deprecation_warning\x22: true, \x22tpu_node_redirect\x22: true, \x22tpu_node_selector_grayed_out\x22: true, \x22tpu_node_selector_visible\x22: false, \x22tpu_vm\x22: true, \x22unmanaged_vm_min_label_block\x22: \x22\x22, \x22unmanaged_vm_min_label_warn\x22: \x22\x22, \x22unmanaged_vm_min_release_tag_block\x22: \x22\x22, \x22unmanaged_vm_min_release_tag_warn\x22: \x22\x22, \x22unsupported_magics_check\x22: true, \x22use_corplogin\x22: true, \x22use_dm_sql_lsp\x22: false, \x22user_visible_gpu_types\x22: \x5b\x22T4\x22, \x22A100\x22, \x22L4\x22\x5d, \x22v_100_redirect\x22: true, \x22verbose_warnings\x22: false, \x22vertex_ai_api_environment_override\x22: \x22\x22, \x22waffle\x22: false, \x22workstations\x22: false, \x22ids\x22: \x5b20730185, 20730312, 20730262, 20730150, 20730177, 20730182, 20730230, 20730265, 20730300, 20730306, 20730277, 20730309, 20730297\x5d, \x22flag_ids\x22: \x7b\x22add_prompt_cell\x22: 45644995, \x22ai_unsubscribed_warning\x22: 45504730, \x22aida_complete_code_model_id\x22: 45427660, \x22aida_do_conversation_model_id\x22: 45427664, \x22aida_generate_code_model_id\x22: 45427663, \x22allowed_public_url_domains\x22: 45425558, \x22backend_version\x22: 45425541, \x22backtracking_strategy\x22: 45644832, \x22cell_output_actions_tooltip\x22: 45650940, \x22cell_tags\x22: 45425779, \x22cell_toolbar_tooltips\x22: 45649981, \x22chat_model_id_override\x22: 45631876, \x22classified_generate\x22: 45425499, \x22classroom_iframe_parent_origin\x22: 45425537, \x22client_text_compose\x22: 45425512, \x22client_trim_completion_text\x22: 45425628, \x22cloud_origin\x22: 45425538, \x22commands_in_toolbar\x22: 45425502, \x22comment_poll_long\x22: 45425588, \x22comment_poll_short\x22: 45425587, \x22compose_skip_suffix_check\x22: 45615470, \x22converse_server_side_history\x22: 45634472, \x22converse_temp\x22: 45425509, \x22crawler\x22: 45425491, \x22critique_comments\x22: 45612076, \x22dbu\x22: 45425545, \x22debug_external\x22: 45425470, \x22debug_prod\x22: 45425471, \x22dep_cells_commands\x22: 45622249, \x22dep_graph\x22: 45629071, \x22development\x22: 45425544, \x22document_change_poll_interval\x22: 45425589, \x22drive_anon_api_key\x22: 45425478, \x22drive_api_key\x22: 45425473, \x22drive_background_save_project_number\x22: 45425479, \x22drive_realtime_project_number\x22: 45425629, \x22drop_chat_links\x22: 45646864, \x22embedded_connection_poll\x22: 45491618, \x22enable_adhoc_backends\x22: 45425506, \x22enable_dasher_subscription_ui\x22: 45639531, \x22enable_more_reprs\x22: 45613354, \x22enable_mpp_orc_model_overrides\x22: 45649913, \x22execution_announcements\x22: 45651325, \x22execution_status_propagation\x22: 45644828, \x22explain_cell\x22: 45425505, \x22explain_error\x22: 45425487, \x22explain_error_model_id_override\x22: 45631875, \x22explain_error_trim_traceback\x22: 45618831, \x22explicit_ai_backend\x22: 45638548, \x22external_trusted_github_org_repos_quick_add\x22: 45425555, \x22file_browser_poll_interval_millis\x22: 45643722, \x22file_upload_rate_limit\x22: 45637799, \x22filter_repetitive_suggestions\x22: 45615781, \x22first_party_auth\x22: 45425560, \x22fix_imports\x22: 45624140, \x22gemini_rebrand\x22: 45631310, \x22generate_code\x22: 45425492, \x22generate_df\x22: 45425503, \x22generate_prompt_reduce_blank_responses\x22: 45643396, \x22generate_prompt_reduce_duplicate_code\x22: 45646291, \x22generate_prompt_reduce_name_errors\x22: 45634392, \x22generate_temp\x22: 45425508, \x22get_started\x22: 45430267, \x22gis_auth\x22: 45425625, \x22github_client_id\x22: 45425556, \x22gpu_utilization_check_interval_ms\x22: 45425561, \x22granular_browser_permissions\x22: 45630936, \x22hats_surveys\x22: 45425559, \x22import_data\x22: 45430411, \x22interactive_sheet_next_steps\x22: 45634324, \x22internal_chat\x22: 45622872, \x22internal_schedule\x22: 45425578, \x22is_prober\x22: 45429104, \x22jsraw\x22: 45425557, \x22key_promoter\x22: 45425570, \x22link_id_assignments\x22: 45644831, \x22link_imports_to_installs\x22: 45644830, \x22local_cloud_apis\x22: 45425630, \x22local_service_worker\x22: 45425550, \x22log_preferences_on_change\x22: 45643817, \x22lsp_diagnostics_reporting\x22: 45425604, \x22lsp_inlay_hint\x22: 45614695, \x22lsrp\x22: 45425612, \x22ml_enabled\x22: 45425493, \x22mlpp\x22: 45425608, \x22mlpp_multiline\x22: 45425623, \x22mlpp_on_by_default\x22: 45425609, \x22mobile\x22: 45425562, \x22mpp_orc_temperature_override\x22: 45649914, \x22next_steps\x22: 45428239, \x22nl2code_missing_imports\x22: 45615676, \x22no_fun\x22: 45425540, \x22notebook_context_length\x22: 45633457, \x22outage_notification\x22: 45425584, \x22outage_notification_link\x22: 45425585, \x22outputframe_version\x22: 45425591, \x22override_suf_params_for_test\x22: 45425592, \x22pds_minting\x22: 45648255, \x22prereq_cells_next_steps\x22: 45640400, \x22recaptcha_polling_frequency_ms\x22: 45425582, \x22recaptcha_v2_site_key\x22: 45425581, \x22recaptcha_v3_site_key\x22: 45425580, \x22reconnect_max_delay_seconds\x22: 45425539, \x22reduce_chat_not_answering\x22: 45640977, \x22require_ai_consent\x22: 45425489, \x22resource_poll_interval_ms\x22: 45425590, \x22rp_dap\x22: 45649113, \x22rp_kws\x22: 45650184, \x22rp_kxhr\x22: 45491686, \x22rp_lsp\x22: 45462965, \x22rp_serve_kernel_port\x22: 45572083, \x22rp_term\x22: 45426219, \x22rp_token_refresh_headroom_millis\x22: 45517773, \x22rt\x22: 45425624, \x22run_button_tooltip\x22: 45646515, \x22run_mode\x22: 45642857, \x22runtime_env_overrides\x22: 45425583, \x22runtime_type_for_test\x22: 45425586, \x22server_execution_queue\x22: 45425600, \x22server_side_generate_prompt_formatting\x22: 45647313, \x22session_resume_coalesce\x22: 45425603, \x22show_create_gemini_api_key_link\x22: 45644190, \x22show_payments_interstitial\x22: 45425543, \x22show_rel_notes_on_open\x22: 45644210, \x22show_signup_survey\x22: 45425620, \x22show_subscription_renewal_time\x22: 45425569, \x22show_switch_to_prod_link\x22: 45425483, \x22smartpaste\x22: 45627425, \x22smartpaste_serving_config\x22: 45630585, \x22sql_cell\x22: 45425497, \x22sql_cell_buttons\x22: 45425498, \x22suspicious_code_matches\x22: 45425615, \x22suspicious_code_regexs\x22: 45425616, \x22term4all\x22: 45425542, \x22text_compose_report_changes_millis\x22: 45425568, \x22text_span_comments\x22: 45545873, \x22tpu_node_deprecation_warning\x22: 45630619, \x22tpu_node_redirect\x22: 45634372, \x22tpu_node_selector_grayed_out\x22: 45630664, \x22tpu_node_selector_visible\x22: 45630663, \x22tpu_vm\x22: 45614812, \x22unmanaged_vm_min_label_block\x22: 45425546, \x22unmanaged_vm_min_label_warn\x22: 45425547, \x22unmanaged_vm_min_release_tag_block\x22: 45425548, \x22unmanaged_vm_min_release_tag_warn\x22: 45425549, \x22unsupported_magics_check\x22: 45644829, \x22use_corplogin\x22: 45425606, \x22use_dm_sql_lsp\x22: 45425610, \x22user_visible_gpu_types\x22: 45620529, \x22v_100_redirect\x22: 45644963, \x22verbose_warnings\x22: 45425551, \x22vertex_ai_api_environment_override\x22: 45612077, \x22waffle\x22: 45446491, \x22workstations\x22: 45425626\x7d\x7d'); var colabUserEmail = 'pawansinghvns22@gmail.com'; var colabRenderDataToken = 'AFWLbD00gIcgvg-tZFEZ2pENSsHQvBoarAAi901WDLJDNmpVUqZ1pSz1O5cFzYc5sSPSlfjxSGg4jb40joet9HFZC3z7_BJwplzw'; var colabConfig = '\x5b\x5b\x22pawansinghvns22@gmail.com\x22,\x5b1,\x22AHXL0D1NUREBywFKJRqKHgbblFkzJaVHoJoSXclKdi7n3agwfjkI+Ba2\/hWa0WcsRsM7s0tikF7Yx0yK1eU2hX57QlfbKGqQ5tFQdzIcWfXTyK\/\/6DkGYxON2UxKr6a\/FKOQ0szBrLl6HWygVTTmPyzxXK2Zp45zuNiCuj74R3DLEWJg96z2tUJe6Vx5ib5z6MP6wc\/nQ02eWaqgDtqtqweLsQPEOBzms+PwJ4gfz0UYRdK04b2NbPBq4u7+DJM7Dpj6nqmlELrXX4Yncy4VyfgRWyoXysonSWyWmQrs7lGheC5OATn8o1AqZfOSK\/K47afGhE2QIZMnq9W+cZ1Tb\/7cyk47QJEQZUSX0ylVOIOt5+S\/DlwEGTWVyWlj0Fc6e6WmD+IFZem6gvz2w+2GhogxFLodi2W1CkiajJGc4bQRk2pxYLtcIbnuZInQY9gd1oTL2D1vS7ZvLepV3ARu0neg3pOd3u+Pr7eGFN19sQlCperYwYd8gQDA\/jK8FUAuUa8ziEW8yGboIAYfYoxWoWyGYk5DYP0LPZLz+akiVIRmCgzntabYlLuqXYl2xXwpdCvC64m3P6VrTiz3ik2z4YsMEeP9+jCisGayXqF8Hc0Kmm00kt7ZqspGrjJspmnPdaqFMI+OHPiHLTk0ET1mtO9otwMXgCw0wBPSR5xgAnSWBgkL4Lk2oFHOIXk4zRXkaobedSyeD30w5EZEwhcx6aAV9QuFiMUh1Iw6SVPPadgzE\/3x8\/zQRqXGnLnjeO9lJ1Pbclm8lvBefqbAHvW1vCvKEBKgI4ryW\/mSVk3itcb7UxiiS1nNsp1PUtnfMtbF\/Sx1iQP\/to+++5xWANboKxUweoWo5fE0R3K5rKrjwx7YEycJiMbczpiwQ1Bj7t\/0rIbdjrMs+U9dkjsr39OzsKMdKflkgCP64D\/R5o25k4JOuBCsbiC2MFDS7MDL96RUjQeyJfn1N9jqApgS5buN6WcBDsa9Mtla6A3MRbcvuVett4xE6n2N3Ec1h3f23sZcPxQcIs39\/3Lkhe60Zt5hBf9eCOgEemn3P8KVygnzvilxt7DMTOhNE+8x4fnYRMKXGV\/yiQYZMespa9Z7SPUEZScJ5Vkes41DZIlWGePr7aYnfWRsc4rHbJ4FnFiYTFqyGqQ2yYMPKVmVInKQs5+o\/33dham0qKKG6FUbKnMZTVRhLXs31xOYcT+Wkq0gVNMeUisluuSkl9TqGQgGT3YcJyAdh37HeLlcSW7uekm\/imKz4tSdT56\/pdiW6szw7+5MAZ9GLIG7ytB6SwRpYuZrCXJjvvsKiuDA\/Q7hhQpDBNSWnz96x9JilcHujPWjqYvyDToIjWr8sVds8a29OXpFWizCneN\/SRHceXFBhE7xbsGeI5zOoq43V+88gZYHTvT36OCv\/wsS4BUtGcdO7oD7RMB1T0YXKjY9eRuSpXS9OZ\/+\/2YLHH5ATtsxx+bG5DghxGQW8nXa1\/Pzd\/ixsUcVfhZvf\/TBskZvYOCMkT1M5gEbxnS+ZWI+Mkjmo2Wh2vyIV+jW5scE+\/1pfBHe+9vjS2IJlQqmYROIfxdImmCWETuEpIFRCKEuJgUVNg9uSww1VzoarU7XiOP9BdXSJ1PBdTmXlkQGLivz0MjrM28kiM0xtaoxL7g0sW74v7LOQVXjc86iZNBvk3JuPKYgkP\/4+aqQHypu8E\/wLkiGti6GrpyNQOv6ADVSlv02UiyZX3jSFIvROc0HjyFwPc1UIDir951+iDokMj5+8rw4vdE50sSdCR73QE1eS\/eCllN5a9CbOYkF2poYypOgOSpXp77xib9pQeW9be2hxZPln21LBCX+e3ug4dHW+Rn91HcP1nsSPf9hEUxDHziq1eiJmYJBunn93OCYNxikwDSmhhLupMFtw7Nr4SWYWHA\x3d\x22,\x22AJ9oCCwvtLXjjdwoi4lqaTwXtYcmEIpOQrQ\/XF5L2Y6MT3Wv9vj1zZeUCcYHYT8uL+q897ebjzc+LYPSZG8MBws5aH4CILAbf378cCC9dmKesGY5PTmuaxNFEmDwODWSqUk3kz+Gw84U\x22,\x22https:\/\/payments.google.com\/payments\x22,0,0,null,null,null,\x22$11.79\x22,\x22$58.99\x22,\x22$11.79\x22,\x22$58.99\x22\x5d,\x5b1,5\x5d,\x22IN\x22,0\x5d\x5d';</script><link id="favicon-link" rel="shortcut icon" href="https://ssl.gstatic.com/colaboratory-static/common/adf7e1c93ea85a9278115179d6725e59/img%2Ffavicon.ico"><meta name="google-site-verification" content="wRgpUU3mIRZPD1GORBPNonaotM72092B_DsqQFWNa4s"><meta name="google-site-verification" content="f5qdvL6RAXlBgHezvCLpPtvx2wU5ZgIzzPULroprlnA"><meta name="google-site-verification" content="-wL8iYJTC7X0zF9qBNDQUAd-P1ZkQUK-OhSgv4Wkf1M"><meta name="google-site-verification" content="o-EECwEDQeUpZv0jTmoGfCDX7dUI8Kul4ESepXmDnO0"><meta name="google-site-verification" content="sNOroO9gXrazN-oMODOm0Bs0_vw1R5QwZ-BfrSHn8Io"><meta name="google-site-verification" content="K1UdZBHJXQYnJGXIK1KuutmVy6dn3vG2sEyV9D1C6dM"><meta name="google-site-verification" content="wdGthzzfu0IjM3qpFqTuQL9poAQZAvAaFKyuzetLpIM"><meta name="google-site-verification" content="qZJ77guHGO0TObHUBRYVdXQlIhXBBuz8dahJVmIlzCo"><meta name="google-site-verification" content="7ahoeOOKT2ZR781GZ5xK4L9t7yO1ZOHc-gaoUALEYgw"><meta name="google-site-verification" content="PHgaSKwdxZELS21aixtLhfpvaHtKen9pnVJ25EI35Zs"><meta name="google-site-verification" content="qylwTsZSLomIg1JrChne7cPcXmtC2Xh_5ZxlJWLlAH0"><meta name="google-site-verification" content="BQfukMqFy1nu2Q2gjGbNTDA8MJ_Y4L2brCYA1h6ewkY"><meta name="google-site-verification" content="Ozey1ptWUQW13_lCEhpPMOcmRBLqdyB3WEL-TJUjskU"><meta name="google-site-verification" content="rF5iXzWe9KZXJes1dQNhOUkS4_z_e97IrsVoCx2trek"><meta name="google-site-verification" content="z-WR3zzv8XZ5FFfBLLDbyTiN35UXm01nWUS2Uej5pwg"><meta name="google-site-verification" content="cpB5oulaGwqSxsg4E-9q2MVbK87iE9NAUUVxdveucPw"><meta name="google-site-verification" content="8P-D5fVWgUIhw8X2BxnKJbf5itK0zxX0QhoBjbJFTe8"><meta name="google-site-verification" content="88fgsZDoVRBuRnDPMIEjcHCxsEXzODOqEsJoqtvQsDc"><meta name="google-site-verification" content="sMarhZgb4va_L_7UTdMR43gDZ2gVqc_5GHN4REpQPGY"><meta name="google-site-verification" content="26aKGBCw3XblB5Ou01UhxY5WDtMqHjoTm6P-lvF6AqE"><meta name="google-site-verification" content="DGionF7db9g0dOgeBXwOAN2tmCzWBdo5yOdc_-5UcuE"><meta name="google-site-verification" content="Q9LlidR0toR7UtSyVO23xNeaqJmRp8I6r4ghBQTtntU"><meta name="google-site-verification" content="rQawcZaTEK_UrDG30cz_7nVKOVvBass61QEes0Tm04g"><meta name="google-site-verification" content="8L3ghjzKIj241AYAmEygniTe604tsXFkIrb1v-DBtGo"><meta name="google-site-verification" content="KiunYPvrY5x8umvAWcjhwPrB677xCar2LeT_8yaVrDg"><meta name="google-site-verification" content="b6bOMRzMVX2bJABYDGBPtpGcB_AUZ-o2SOTggQXErkg"><meta name="google-site-verification" content="v2MQvJk6wTiBarKTbe1mdivqYCVtw-5m6w0HDzV5X_4"><meta name="google-site-verification" content="-N1hdkiHJQ6kwJALkHVh2ZzV2fFNER0schZl2AU6zvc"><meta property="og:type" content="article"><meta property="og:image" content="https://colab.research.google.com/img/colab_favicon_256px.png"><meta property="og:title" content="Google Colab"><meta http-equiv="origin-trial" content="AmUpB2+Hlwk73pYiEMbnkef/dprJi1I9rClec33apyFsbVOaCIRN29Rk9M4ht5Otgbp+thCc3MMD73GyCNfEWAkAAAB3eyJvcmlnaW4iOiJodHRwczovL2NvbGFiLnJlc2VhcmNoLmdvb2dsZS5jb206NDQzIiwiZmVhdHVyZSI6IkRpc2FibGVUaGlyZFBhcnR5U3RvcmFnZVBhcnRpdGlvbmluZyIsImV4cGlyeSI6MTcyNTQwNzk5OX0="><script nonce="">window.performance.mark('head_end'); window.performance.measure('head', 'head_start', 'head_end');</script><script async="" src="./Plant_Disease_Detection_files/lazy.min.js.download" nonce=""></script><style id="inert-style">
[inert] {
  pointer-events: none;
  cursor: default;
}

[inert], [inert] * {
  user-select: none;
  -webkit-user-select: none;
  -moz-user-select: none;
  -ms-user-select: none;
}
</style><script async="async" type="text/javascript" src="./Plant_Disease_Detection_files/editor.main.js.download"></script><script async="" type="text/javascript" charset="UTF-8" src="./Plant_Disease_Detection_files/rs=AA2YrTv09DM0eg4IoESYVaSRhn20aI9TbQ" nonce=""></script><link type="text/css" href="./Plant_Disease_Detection_files/rs=AA2YrTut2uOtBM_spQkQSjXDMoIyrj9aPA" rel="stylesheet"><link rel="stylesheet" type="text/css" data-name="vs/editor/editor.main" href="./Plant_Disease_Detection_files/editor.main.css"><script async="async" type="text/javascript" src="./Plant_Disease_Detection_files/editor.main.nls.js.download"></script><style type="text/css">.MathJax_Preview {color: #888}
#MathJax_Message {position: fixed; left: 1em; bottom: 1.5em; background-color: #E6E6E6; border: 1px solid #959595; margin: 0px; padding: 2px 8px; z-index: 102; color: black; font-size: 80%; width: auto; white-space: nowrap}
#MathJax_MSIE_Frame {position: absolute; top: 0; left: 0; width: 0px; z-index: 101; border: 0px; margin: 0px; padding: 0px}
.MathJax_Error {color: #CC0000; font-style: italic}
</style><script async="async" type="text/javascript" src="./Plant_Disease_Detection_files/markdown.js.download"></script><script src="./Plant_Disease_Detection_files/api.js.download" nonce=""></script><script src="./Plant_Disease_Detection_files/api(1).js.download" nonce=""></script><style type="text/css" media="screen" class="monaco-colors">.codicon-add:before { content: '\ea60'; }
.codicon-plus:before { content: '\ea60'; }
.codicon-gist-new:before { content: '\ea60'; }
.codicon-repo-create:before { content: '\ea60'; }
.codicon-lightbulb:before { content: '\ea61'; }
.codicon-light-bulb:before { content: '\ea61'; }
.codicon-repo:before { content: '\ea62'; }
.codicon-repo-delete:before { content: '\ea62'; }
.codicon-gist-fork:before { content: '\ea63'; }
.codicon-repo-forked:before { content: '\ea63'; }
.codicon-git-pull-request:before { content: '\ea64'; }
.codicon-git-pull-request-abandoned:before { content: '\ea64'; }
.codicon-record-keys:before { content: '\ea65'; }
.codicon-keyboard:before { content: '\ea65'; }
.codicon-tag:before { content: '\ea66'; }
.codicon-tag-add:before { content: '\ea66'; }
.codicon-tag-remove:before { content: '\ea66'; }
.codicon-person:before { content: '\ea67'; }
.codicon-person-follow:before { content: '\ea67'; }
.codicon-person-outline:before { content: '\ea67'; }
.codicon-person-filled:before { content: '\ea67'; }
.codicon-git-branch:before { content: '\ea68'; }
.codicon-git-branch-create:before { content: '\ea68'; }
.codicon-git-branch-delete:before { content: '\ea68'; }
.codicon-source-control:before { content: '\ea68'; }
.codicon-mirror:before { content: '\ea69'; }
.codicon-mirror-public:before { content: '\ea69'; }
.codicon-star:before { content: '\ea6a'; }
.codicon-star-add:before { content: '\ea6a'; }
.codicon-star-delete:before { content: '\ea6a'; }
.codicon-star-empty:before { content: '\ea6a'; }
.codicon-comment:before { content: '\ea6b'; }
.codicon-comment-add:before { content: '\ea6b'; }
.codicon-alert:before { content: '\ea6c'; }
.codicon-warning:before { content: '\ea6c'; }
.codicon-search:before { content: '\ea6d'; }
.codicon-search-save:before { content: '\ea6d'; }
.codicon-log-out:before { content: '\ea6e'; }
.codicon-sign-out:before { content: '\ea6e'; }
.codicon-log-in:before { content: '\ea6f'; }
.codicon-sign-in:before { content: '\ea6f'; }
.codicon-eye:before { content: '\ea70'; }
.codicon-eye-unwatch:before { content: '\ea70'; }
.codicon-eye-watch:before { content: '\ea70'; }
.codicon-circle-filled:before { content: '\ea71'; }
.codicon-primitive-dot:before { content: '\ea71'; }
.codicon-close-dirty:before { content: '\ea71'; }
.codicon-debug-breakpoint:before { content: '\ea71'; }
.codicon-debug-breakpoint-disabled:before { content: '\ea71'; }
.codicon-debug-hint:before { content: '\ea71'; }
.codicon-primitive-square:before { content: '\ea72'; }
.codicon-edit:before { content: '\ea73'; }
.codicon-pencil:before { content: '\ea73'; }
.codicon-info:before { content: '\ea74'; }
.codicon-issue-opened:before { content: '\ea74'; }
.codicon-gist-private:before { content: '\ea75'; }
.codicon-git-fork-private:before { content: '\ea75'; }
.codicon-lock:before { content: '\ea75'; }
.codicon-mirror-private:before { content: '\ea75'; }
.codicon-close:before { content: '\ea76'; }
.codicon-remove-close:before { content: '\ea76'; }
.codicon-x:before { content: '\ea76'; }
.codicon-repo-sync:before { content: '\ea77'; }
.codicon-sync:before { content: '\ea77'; }
.codicon-clone:before { content: '\ea78'; }
.codicon-desktop-download:before { content: '\ea78'; }
.codicon-beaker:before { content: '\ea79'; }
.codicon-microscope:before { content: '\ea79'; }
.codicon-vm:before { content: '\ea7a'; }
.codicon-device-desktop:before { content: '\ea7a'; }
.codicon-file:before { content: '\ea7b'; }
.codicon-file-text:before { content: '\ea7b'; }
.codicon-more:before { content: '\ea7c'; }
.codicon-ellipsis:before { content: '\ea7c'; }
.codicon-kebab-horizontal:before { content: '\ea7c'; }
.codicon-mail-reply:before { content: '\ea7d'; }
.codicon-reply:before { content: '\ea7d'; }
.codicon-organization:before { content: '\ea7e'; }
.codicon-organization-filled:before { content: '\ea7e'; }
.codicon-organization-outline:before { content: '\ea7e'; }
.codicon-new-file:before { content: '\ea7f'; }
.codicon-file-add:before { content: '\ea7f'; }
.codicon-new-folder:before { content: '\ea80'; }
.codicon-file-directory-create:before { content: '\ea80'; }
.codicon-trash:before { content: '\ea81'; }
.codicon-trashcan:before { content: '\ea81'; }
.codicon-history:before { content: '\ea82'; }
.codicon-clock:before { content: '\ea82'; }
.codicon-folder:before { content: '\ea83'; }
.codicon-file-directory:before { content: '\ea83'; }
.codicon-symbol-folder:before { content: '\ea83'; }
.codicon-logo-github:before { content: '\ea84'; }
.codicon-mark-github:before { content: '\ea84'; }
.codicon-github:before { content: '\ea84'; }
.codicon-terminal:before { content: '\ea85'; }
.codicon-console:before { content: '\ea85'; }
.codicon-repl:before { content: '\ea85'; }
.codicon-zap:before { content: '\ea86'; }
.codicon-symbol-event:before { content: '\ea86'; }
.codicon-error:before { content: '\ea87'; }
.codicon-stop:before { content: '\ea87'; }
.codicon-variable:before { content: '\ea88'; }
.codicon-symbol-variable:before { content: '\ea88'; }
.codicon-array:before { content: '\ea8a'; }
.codicon-symbol-array:before { content: '\ea8a'; }
.codicon-symbol-module:before { content: '\ea8b'; }
.codicon-symbol-package:before { content: '\ea8b'; }
.codicon-symbol-namespace:before { content: '\ea8b'; }
.codicon-symbol-object:before { content: '\ea8b'; }
.codicon-symbol-method:before { content: '\ea8c'; }
.codicon-symbol-function:before { content: '\ea8c'; }
.codicon-symbol-constructor:before { content: '\ea8c'; }
.codicon-symbol-boolean:before { content: '\ea8f'; }
.codicon-symbol-null:before { content: '\ea8f'; }
.codicon-symbol-numeric:before { content: '\ea90'; }
.codicon-symbol-number:before { content: '\ea90'; }
.codicon-symbol-structure:before { content: '\ea91'; }
.codicon-symbol-struct:before { content: '\ea91'; }
.codicon-symbol-parameter:before { content: '\ea92'; }
.codicon-symbol-type-parameter:before { content: '\ea92'; }
.codicon-symbol-key:before { content: '\ea93'; }
.codicon-symbol-text:before { content: '\ea93'; }
.codicon-symbol-reference:before { content: '\ea94'; }
.codicon-go-to-file:before { content: '\ea94'; }
.codicon-symbol-enum:before { content: '\ea95'; }
.codicon-symbol-value:before { content: '\ea95'; }
.codicon-symbol-ruler:before { content: '\ea96'; }
.codicon-symbol-unit:before { content: '\ea96'; }
.codicon-activate-breakpoints:before { content: '\ea97'; }
.codicon-archive:before { content: '\ea98'; }
.codicon-arrow-both:before { content: '\ea99'; }
.codicon-arrow-down:before { content: '\ea9a'; }
.codicon-arrow-left:before { content: '\ea9b'; }
.codicon-arrow-right:before { content: '\ea9c'; }
.codicon-arrow-small-down:before { content: '\ea9d'; }
.codicon-arrow-small-left:before { content: '\ea9e'; }
.codicon-arrow-small-right:before { content: '\ea9f'; }
.codicon-arrow-small-up:before { content: '\eaa0'; }
.codicon-arrow-up:before { content: '\eaa1'; }
.codicon-bell:before { content: '\eaa2'; }
.codicon-bold:before { content: '\eaa3'; }
.codicon-book:before { content: '\eaa4'; }
.codicon-bookmark:before { content: '\eaa5'; }
.codicon-debug-breakpoint-conditional-unverified:before { content: '\eaa6'; }
.codicon-debug-breakpoint-conditional:before { content: '\eaa7'; }
.codicon-debug-breakpoint-conditional-disabled:before { content: '\eaa7'; }
.codicon-debug-breakpoint-data-unverified:before { content: '\eaa8'; }
.codicon-debug-breakpoint-data:before { content: '\eaa9'; }
.codicon-debug-breakpoint-data-disabled:before { content: '\eaa9'; }
.codicon-debug-breakpoint-log-unverified:before { content: '\eaaa'; }
.codicon-debug-breakpoint-log:before { content: '\eaab'; }
.codicon-debug-breakpoint-log-disabled:before { content: '\eaab'; }
.codicon-briefcase:before { content: '\eaac'; }
.codicon-broadcast:before { content: '\eaad'; }
.codicon-browser:before { content: '\eaae'; }
.codicon-bug:before { content: '\eaaf'; }
.codicon-calendar:before { content: '\eab0'; }
.codicon-case-sensitive:before { content: '\eab1'; }
.codicon-check:before { content: '\eab2'; }
.codicon-checklist:before { content: '\eab3'; }
.codicon-chevron-down:before { content: '\eab4'; }
.codicon-drop-down-button:before { content: '\eab4'; }
.codicon-chevron-left:before { content: '\eab5'; }
.codicon-chevron-right:before { content: '\eab6'; }
.codicon-chevron-up:before { content: '\eab7'; }
.codicon-chrome-close:before { content: '\eab8'; }
.codicon-chrome-maximize:before { content: '\eab9'; }
.codicon-chrome-minimize:before { content: '\eaba'; }
.codicon-chrome-restore:before { content: '\eabb'; }
.codicon-circle:before { content: '\eabc'; }
.codicon-circle-outline:before { content: '\eabc'; }
.codicon-debug-breakpoint-unverified:before { content: '\eabc'; }
.codicon-circle-slash:before { content: '\eabd'; }
.codicon-circuit-board:before { content: '\eabe'; }
.codicon-clear-all:before { content: '\eabf'; }
.codicon-clippy:before { content: '\eac0'; }
.codicon-close-all:before { content: '\eac1'; }
.codicon-cloud-download:before { content: '\eac2'; }
.codicon-cloud-upload:before { content: '\eac3'; }
.codicon-code:before { content: '\eac4'; }
.codicon-collapse-all:before { content: '\eac5'; }
.codicon-color-mode:before { content: '\eac6'; }
.codicon-comment-discussion:before { content: '\eac7'; }
.codicon-compare-changes:before { content: '\eafd'; }
.codicon-credit-card:before { content: '\eac9'; }
.codicon-dash:before { content: '\eacc'; }
.codicon-dashboard:before { content: '\eacd'; }
.codicon-database:before { content: '\eace'; }
.codicon-debug-continue:before { content: '\eacf'; }
.codicon-debug-disconnect:before { content: '\ead0'; }
.codicon-debug-pause:before { content: '\ead1'; }
.codicon-debug-restart:before { content: '\ead2'; }
.codicon-debug-start:before { content: '\ead3'; }
.codicon-debug-step-into:before { content: '\ead4'; }
.codicon-debug-step-out:before { content: '\ead5'; }
.codicon-debug-step-over:before { content: '\ead6'; }
.codicon-debug-stop:before { content: '\ead7'; }
.codicon-debug:before { content: '\ead8'; }
.codicon-device-camera-video:before { content: '\ead9'; }
.codicon-device-camera:before { content: '\eada'; }
.codicon-device-mobile:before { content: '\eadb'; }
.codicon-diff-added:before { content: '\eadc'; }
.codicon-diff-ignored:before { content: '\eadd'; }
.codicon-diff-modified:before { content: '\eade'; }
.codicon-diff-removed:before { content: '\eadf'; }
.codicon-diff-renamed:before { content: '\eae0'; }
.codicon-diff:before { content: '\eae1'; }
.codicon-discard:before { content: '\eae2'; }
.codicon-editor-layout:before { content: '\eae3'; }
.codicon-empty-window:before { content: '\eae4'; }
.codicon-exclude:before { content: '\eae5'; }
.codicon-extensions:before { content: '\eae6'; }
.codicon-eye-closed:before { content: '\eae7'; }
.codicon-file-binary:before { content: '\eae8'; }
.codicon-file-code:before { content: '\eae9'; }
.codicon-file-media:before { content: '\eaea'; }
.codicon-file-pdf:before { content: '\eaeb'; }
.codicon-file-submodule:before { content: '\eaec'; }
.codicon-file-symlink-directory:before { content: '\eaed'; }
.codicon-file-symlink-file:before { content: '\eaee'; }
.codicon-file-zip:before { content: '\eaef'; }
.codicon-files:before { content: '\eaf0'; }
.codicon-filter:before { content: '\eaf1'; }
.codicon-flame:before { content: '\eaf2'; }
.codicon-fold-down:before { content: '\eaf3'; }
.codicon-fold-up:before { content: '\eaf4'; }
.codicon-fold:before { content: '\eaf5'; }
.codicon-folder-active:before { content: '\eaf6'; }
.codicon-folder-opened:before { content: '\eaf7'; }
.codicon-gear:before { content: '\eaf8'; }
.codicon-gift:before { content: '\eaf9'; }
.codicon-gist-secret:before { content: '\eafa'; }
.codicon-gist:before { content: '\eafb'; }
.codicon-git-commit:before { content: '\eafc'; }
.codicon-git-compare:before { content: '\eafd'; }
.codicon-git-merge:before { content: '\eafe'; }
.codicon-github-action:before { content: '\eaff'; }
.codicon-github-alt:before { content: '\eb00'; }
.codicon-globe:before { content: '\eb01'; }
.codicon-grabber:before { content: '\eb02'; }
.codicon-graph:before { content: '\eb03'; }
.codicon-gripper:before { content: '\eb04'; }
.codicon-heart:before { content: '\eb05'; }
.codicon-home:before { content: '\eb06'; }
.codicon-horizontal-rule:before { content: '\eb07'; }
.codicon-hubot:before { content: '\eb08'; }
.codicon-inbox:before { content: '\eb09'; }
.codicon-issue-closed:before { content: '\eba4'; }
.codicon-issue-reopened:before { content: '\eb0b'; }
.codicon-issues:before { content: '\eb0c'; }
.codicon-italic:before { content: '\eb0d'; }
.codicon-jersey:before { content: '\eb0e'; }
.codicon-json:before { content: '\eb0f'; }
.codicon-bracket:before { content: '\eb0f'; }
.codicon-kebab-vertical:before { content: '\eb10'; }
.codicon-key:before { content: '\eb11'; }
.codicon-law:before { content: '\eb12'; }
.codicon-lightbulb-autofix:before { content: '\eb13'; }
.codicon-link-external:before { content: '\eb14'; }
.codicon-link:before { content: '\eb15'; }
.codicon-list-ordered:before { content: '\eb16'; }
.codicon-list-unordered:before { content: '\eb17'; }
.codicon-live-share:before { content: '\eb18'; }
.codicon-loading:before { content: '\eb19'; }
.codicon-location:before { content: '\eb1a'; }
.codicon-mail-read:before { content: '\eb1b'; }
.codicon-mail:before { content: '\eb1c'; }
.codicon-markdown:before { content: '\eb1d'; }
.codicon-megaphone:before { content: '\eb1e'; }
.codicon-mention:before { content: '\eb1f'; }
.codicon-milestone:before { content: '\eb20'; }
.codicon-mortar-board:before { content: '\eb21'; }
.codicon-move:before { content: '\eb22'; }
.codicon-multiple-windows:before { content: '\eb23'; }
.codicon-mute:before { content: '\eb24'; }
.codicon-no-newline:before { content: '\eb25'; }
.codicon-note:before { content: '\eb26'; }
.codicon-octoface:before { content: '\eb27'; }
.codicon-open-preview:before { content: '\eb28'; }
.codicon-package:before { content: '\eb29'; }
.codicon-paintcan:before { content: '\eb2a'; }
.codicon-pin:before { content: '\eb2b'; }
.codicon-play:before { content: '\eb2c'; }
.codicon-run:before { content: '\eb2c'; }
.codicon-plug:before { content: '\eb2d'; }
.codicon-preserve-case:before { content: '\eb2e'; }
.codicon-preview:before { content: '\eb2f'; }
.codicon-project:before { content: '\eb30'; }
.codicon-pulse:before { content: '\eb31'; }
.codicon-question:before { content: '\eb32'; }
.codicon-quote:before { content: '\eb33'; }
.codicon-radio-tower:before { content: '\eb34'; }
.codicon-reactions:before { content: '\eb35'; }
.codicon-references:before { content: '\eb36'; }
.codicon-refresh:before { content: '\eb37'; }
.codicon-regex:before { content: '\eb38'; }
.codicon-remote-explorer:before { content: '\eb39'; }
.codicon-remote:before { content: '\eb3a'; }
.codicon-remove:before { content: '\eb3b'; }
.codicon-replace-all:before { content: '\eb3c'; }
.codicon-replace:before { content: '\eb3d'; }
.codicon-repo-clone:before { content: '\eb3e'; }
.codicon-repo-force-push:before { content: '\eb3f'; }
.codicon-repo-pull:before { content: '\eb40'; }
.codicon-repo-push:before { content: '\eb41'; }
.codicon-report:before { content: '\eb42'; }
.codicon-request-changes:before { content: '\eb43'; }
.codicon-rocket:before { content: '\eb44'; }
.codicon-root-folder-opened:before { content: '\eb45'; }
.codicon-root-folder:before { content: '\eb46'; }
.codicon-rss:before { content: '\eb47'; }
.codicon-ruby:before { content: '\eb48'; }
.codicon-save-all:before { content: '\eb49'; }
.codicon-save-as:before { content: '\eb4a'; }
.codicon-save:before { content: '\eb4b'; }
.codicon-screen-full:before { content: '\eb4c'; }
.codicon-screen-normal:before { content: '\eb4d'; }
.codicon-search-stop:before { content: '\eb4e'; }
.codicon-server:before { content: '\eb50'; }
.codicon-settings-gear:before { content: '\eb51'; }
.codicon-settings:before { content: '\eb52'; }
.codicon-shield:before { content: '\eb53'; }
.codicon-smiley:before { content: '\eb54'; }
.codicon-sort-precedence:before { content: '\eb55'; }
.codicon-split-horizontal:before { content: '\eb56'; }
.codicon-split-vertical:before { content: '\eb57'; }
.codicon-squirrel:before { content: '\eb58'; }
.codicon-star-full:before { content: '\eb59'; }
.codicon-star-half:before { content: '\eb5a'; }
.codicon-symbol-class:before { content: '\eb5b'; }
.codicon-symbol-color:before { content: '\eb5c'; }
.codicon-symbol-customcolor:before { content: '\eb5c'; }
.codicon-symbol-constant:before { content: '\eb5d'; }
.codicon-symbol-enum-member:before { content: '\eb5e'; }
.codicon-symbol-field:before { content: '\eb5f'; }
.codicon-symbol-file:before { content: '\eb60'; }
.codicon-symbol-interface:before { content: '\eb61'; }
.codicon-symbol-keyword:before { content: '\eb62'; }
.codicon-symbol-misc:before { content: '\eb63'; }
.codicon-symbol-operator:before { content: '\eb64'; }
.codicon-symbol-property:before { content: '\eb65'; }
.codicon-wrench:before { content: '\eb65'; }
.codicon-wrench-subaction:before { content: '\eb65'; }
.codicon-symbol-snippet:before { content: '\eb66'; }
.codicon-tasklist:before { content: '\eb67'; }
.codicon-telescope:before { content: '\eb68'; }
.codicon-text-size:before { content: '\eb69'; }
.codicon-three-bars:before { content: '\eb6a'; }
.codicon-thumbsdown:before { content: '\eb6b'; }
.codicon-thumbsup:before { content: '\eb6c'; }
.codicon-tools:before { content: '\eb6d'; }
.codicon-triangle-down:before { content: '\eb6e'; }
.codicon-triangle-left:before { content: '\eb6f'; }
.codicon-triangle-right:before { content: '\eb70'; }
.codicon-triangle-up:before { content: '\eb71'; }
.codicon-twitter:before { content: '\eb72'; }
.codicon-unfold:before { content: '\eb73'; }
.codicon-unlock:before { content: '\eb74'; }
.codicon-unmute:before { content: '\eb75'; }
.codicon-unverified:before { content: '\eb76'; }
.codicon-verified:before { content: '\eb77'; }
.codicon-versions:before { content: '\eb78'; }
.codicon-vm-active:before { content: '\eb79'; }
.codicon-vm-outline:before { content: '\eb7a'; }
.codicon-vm-running:before { content: '\eb7b'; }
.codicon-watch:before { content: '\eb7c'; }
.codicon-whitespace:before { content: '\eb7d'; }
.codicon-whole-word:before { content: '\eb7e'; }
.codicon-window:before { content: '\eb7f'; }
.codicon-word-wrap:before { content: '\eb80'; }
.codicon-zoom-in:before { content: '\eb81'; }
.codicon-zoom-out:before { content: '\eb82'; }
.codicon-list-filter:before { content: '\eb83'; }
.codicon-list-flat:before { content: '\eb84'; }
.codicon-list-selection:before { content: '\eb85'; }
.codicon-selection:before { content: '\eb85'; }
.codicon-list-tree:before { content: '\eb86'; }
.codicon-debug-breakpoint-function-unverified:before { content: '\eb87'; }
.codicon-debug-breakpoint-function:before { content: '\eb88'; }
.codicon-debug-breakpoint-function-disabled:before { content: '\eb88'; }
.codicon-debug-stackframe-active:before { content: '\eb89'; }
.codicon-circle-small-filled:before { content: '\eb8a'; }
.codicon-debug-stackframe-dot:before { content: '\eb8a'; }
.codicon-debug-stackframe:before { content: '\eb8b'; }
.codicon-debug-stackframe-focused:before { content: '\eb8b'; }
.codicon-debug-breakpoint-unsupported:before { content: '\eb8c'; }
.codicon-symbol-string:before { content: '\eb8d'; }
.codicon-debug-reverse-continue:before { content: '\eb8e'; }
.codicon-debug-step-back:before { content: '\eb8f'; }
.codicon-debug-restart-frame:before { content: '\eb90'; }
.codicon-call-incoming:before { content: '\eb92'; }
.codicon-call-outgoing:before { content: '\eb93'; }
.codicon-menu:before { content: '\eb94'; }
.codicon-expand-all:before { content: '\eb95'; }
.codicon-feedback:before { content: '\eb96'; }
.codicon-group-by-ref-type:before { content: '\eb97'; }
.codicon-ungroup-by-ref-type:before { content: '\eb98'; }
.codicon-account:before { content: '\eb99'; }
.codicon-bell-dot:before { content: '\eb9a'; }
.codicon-debug-console:before { content: '\eb9b'; }
.codicon-library:before { content: '\eb9c'; }
.codicon-output:before { content: '\eb9d'; }
.codicon-run-all:before { content: '\eb9e'; }
.codicon-sync-ignored:before { content: '\eb9f'; }
.codicon-pinned:before { content: '\eba0'; }
.codicon-github-inverted:before { content: '\eba1'; }
.codicon-debug-alt:before { content: '\eb91'; }
.codicon-server-process:before { content: '\eba2'; }
.codicon-server-environment:before { content: '\eba3'; }
.codicon-pass:before { content: '\eba4'; }
.codicon-stop-circle:before { content: '\eba5'; }
.codicon-play-circle:before { content: '\eba6'; }
.codicon-record:before { content: '\eba7'; }
.codicon-debug-alt-small:before { content: '\eba8'; }
.codicon-vm-connect:before { content: '\eba9'; }
.codicon-cloud:before { content: '\ebaa'; }
.codicon-merge:before { content: '\ebab'; }
.codicon-export:before { content: '\ebac'; }
.codicon-graph-left:before { content: '\ebad'; }
.codicon-magnet:before { content: '\ebae'; }
.codicon-notebook:before { content: '\ebaf'; }
.codicon-redo:before { content: '\ebb0'; }
.codicon-check-all:before { content: '\ebb1'; }
.codicon-pinned-dirty:before { content: '\ebb2'; }
.codicon-pass-filled:before { content: '\ebb3'; }
.codicon-circle-large-filled:before { content: '\ebb4'; }
.codicon-circle-large:before { content: '\ebb5'; }
.codicon-circle-large-outline:before { content: '\ebb5'; }
.codicon-combine:before { content: '\ebb6'; }
.codicon-gather:before { content: '\ebb6'; }
.codicon-table:before { content: '\ebb7'; }
.codicon-variable-group:before { content: '\ebb8'; }
.codicon-type-hierarchy:before { content: '\ebb9'; }
.codicon-type-hierarchy-sub:before { content: '\ebba'; }
.codicon-type-hierarchy-super:before { content: '\ebbb'; }
.codicon-git-pull-request-create:before { content: '\ebbc'; }
.codicon-run-above:before { content: '\ebbd'; }
.codicon-run-below:before { content: '\ebbe'; }
.codicon-notebook-template:before { content: '\ebbf'; }
.codicon-debug-rerun:before { content: '\ebc0'; }
.codicon-workspace-trusted:before { content: '\ebc1'; }
.codicon-workspace-untrusted:before { content: '\ebc2'; }
.codicon-workspace-unspecified:before { content: '\ebc3'; }
.codicon-terminal-cmd:before { content: '\ebc4'; }
.codicon-terminal-debian:before { content: '\ebc5'; }
.codicon-terminal-linux:before { content: '\ebc6'; }
.codicon-terminal-powershell:before { content: '\ebc7'; }
.codicon-terminal-tmux:before { content: '\ebc8'; }
.codicon-terminal-ubuntu:before { content: '\ebc9'; }
.codicon-terminal-bash:before { content: '\ebca'; }
.codicon-arrow-swap:before { content: '\ebcb'; }
.codicon-copy:before { content: '\ebcc'; }
.codicon-person-add:before { content: '\ebcd'; }
.codicon-filter-filled:before { content: '\ebce'; }
.codicon-wand:before { content: '\ebcf'; }
.codicon-debug-line-by-line:before { content: '\ebd0'; }
.codicon-inspect:before { content: '\ebd1'; }
.codicon-layers:before { content: '\ebd2'; }
.codicon-layers-dot:before { content: '\ebd3'; }
.codicon-layers-active:before { content: '\ebd4'; }
.codicon-compass:before { content: '\ebd5'; }
.codicon-compass-dot:before { content: '\ebd6'; }
.codicon-compass-active:before { content: '\ebd7'; }
.codicon-azure:before { content: '\ebd8'; }
.codicon-issue-draft:before { content: '\ebd9'; }
.codicon-git-pull-request-closed:before { content: '\ebda'; }
.codicon-git-pull-request-draft:before { content: '\ebdb'; }
.codicon-debug-all:before { content: '\ebdc'; }
.codicon-debug-coverage:before { content: '\ebdd'; }
.codicon-run-errors:before { content: '\ebde'; }
.codicon-folder-library:before { content: '\ebdf'; }
.codicon-debug-continue-small:before { content: '\ebe0'; }
.codicon-beaker-stop:before { content: '\ebe1'; }
.codicon-graph-line:before { content: '\ebe2'; }
.codicon-graph-scatter:before { content: '\ebe3'; }
.codicon-pie-chart:before { content: '\ebe4'; }
.codicon-bracket-dot:before { content: '\ebe5'; }
.codicon-bracket-error:before { content: '\ebe6'; }
.codicon-lock-small:before { content: '\ebe7'; }
.codicon-azure-devops:before { content: '\ebe8'; }
.codicon-verified-filled:before { content: '\ebe9'; }
.codicon-newline:before { content: '\ebea'; }
.codicon-layout:before { content: '\ebeb'; }
.codicon-layout-activitybar-left:before { content: '\ebec'; }
.codicon-layout-activitybar-right:before { content: '\ebed'; }
.codicon-layout-panel-left:before { content: '\ebee'; }
.codicon-layout-panel-center:before { content: '\ebef'; }
.codicon-layout-panel-justify:before { content: '\ebf0'; }
.codicon-layout-panel-right:before { content: '\ebf1'; }
.codicon-layout-panel:before { content: '\ebf2'; }
.codicon-layout-sidebar-left:before { content: '\ebf3'; }
.codicon-layout-sidebar-right:before { content: '\ebf4'; }
.codicon-layout-statusbar:before { content: '\ebf5'; }
.codicon-layout-menubar:before { content: '\ebf6'; }
.codicon-layout-centered:before { content: '\ebf7'; }
.codicon-layout-sidebar-right-off:before { content: '\ec00'; }
.codicon-layout-panel-off:before { content: '\ec01'; }
.codicon-layout-sidebar-left-off:before { content: '\ec02'; }
.codicon-target:before { content: '\ebf8'; }
.codicon-indent:before { content: '\ebf9'; }
.codicon-record-small:before { content: '\ebfa'; }
.codicon-error-small:before { content: '\ebfb'; }
.codicon-arrow-circle-down:before { content: '\ebfc'; }
.codicon-arrow-circle-left:before { content: '\ebfd'; }
.codicon-arrow-circle-right:before { content: '\ebfe'; }
.codicon-arrow-circle-up:before { content: '\ebff'; }
.codicon-heart-filled:before { content: '\ec04'; }
.codicon-map:before { content: '\ec05'; }
.codicon-map-filled:before { content: '\ec06'; }
.codicon-circle-small:before { content: '\ec07'; }
.codicon-bell-slash:before { content: '\ec08'; }
.codicon-bell-slash-dot:before { content: '\ec09'; }
.codicon-comment-unresolved:before { content: '\ec0a'; }
.codicon-git-pull-request-go-to-changes:before { content: '\ec0b'; }
.codicon-git-pull-request-new-changes:before { content: '\ec0c'; }
.codicon-search-fuzzy:before { content: '\ec0d'; }
.codicon-comment-draft:before { content: '\ec0e'; }
.codicon-send:before { content: '\ec0f'; }
.codicon-sparkle:before { content: '\ec10'; }
.codicon-insert:before { content: '\ec11'; }
.codicon-dialog-error:before { content: '\ea87'; }
.codicon-dialog-warning:before { content: '\ea6c'; }
.codicon-dialog-info:before { content: '\ea74'; }
.codicon-dialog-close:before { content: '\ea76'; }
.codicon-tree-item-expanded:before { content: '\eab4'; }
.codicon-tree-filter-on-type-on:before { content: '\eb83'; }
.codicon-tree-filter-on-type-off:before { content: '\eb85'; }
.codicon-tree-filter-clear:before { content: '\ea76'; }
.codicon-tree-item-loading:before { content: '\eb19'; }
.codicon-menu-selection:before { content: '\eab2'; }
.codicon-menu-submenu:before { content: '\eab6'; }
.codicon-menubar-more:before { content: '\ea7c'; }
.codicon-scrollbar-button-left:before { content: '\eb6f'; }
.codicon-scrollbar-button-right:before { content: '\eb70'; }
.codicon-scrollbar-button-up:before { content: '\eb71'; }
.codicon-scrollbar-button-down:before { content: '\eb6e'; }
.codicon-toolbar-more:before { content: '\ea7c'; }
.codicon-quick-input-back:before { content: '\ea9b'; }
.codicon-widget-close:before { content: '\ea76'; }
.codicon-goto-previous-location:before { content: '\eaa1'; }
.codicon-goto-next-location:before { content: '\ea9a'; }
.codicon-diff-review-insert:before { content: '\ea60'; }
.codicon-diff-review-remove:before { content: '\eb3b'; }
.codicon-diff-review-close:before { content: '\ea76'; }
.codicon-parameter-hints-next:before { content: '\eab4'; }
.codicon-parameter-hints-previous:before { content: '\eab7'; }
.codicon-suggest-more-info:before { content: '\eab6'; }
.codicon-inline-suggestion-hints-next:before { content: '\eab6'; }
.codicon-inline-suggestion-hints-previous:before { content: '\eab5'; }
.codicon-diff-insert:before { content: '\ea60'; }
.codicon-diff-remove:before { content: '\eb3b'; }
.codicon-find-selection:before { content: '\eb85'; }
.codicon-find-collapsed:before { content: '\eab6'; }
.codicon-find-expanded:before { content: '\eab4'; }
.codicon-find-replace:before { content: '\eb3d'; }
.codicon-find-replace-all:before { content: '\eb3c'; }
.codicon-find-previous-match:before { content: '\eaa1'; }
.codicon-find-next-match:before { content: '\ea9a'; }
.codicon-folding-expanded:before { content: '\eab4'; }
.codicon-folding-collapsed:before { content: '\eab6'; }
.codicon-folding-manual-collapsed:before { content: '\eab6'; }
.codicon-folding-manual-expanded:before { content: '\eab4'; }
.codicon-marker-navigation-next:before { content: '\ea9a'; }
.codicon-marker-navigation-previous:before { content: '\eaa1'; }
.codicon-extensions-warning-message:before { content: '\ea6c'; }
.monaco-editor .inputarea.ime-input { background-color: #f7f7f7; }
.monaco-editor .view-overlays .current-line { border: 2px solid #eeeeee; }
.monaco-editor .margin-view-overlays .current-line-margin { border: 2px solid #eeeeee; }
.monaco-editor .bracket-indent-guide.lvl-0 { --guide-color: rgba(4, 49, 250, 0.3); --guide-color-active: #0431fa; }
.monaco-editor .bracket-indent-guide.lvl-1 { --guide-color: rgba(49, 147, 49, 0.3); --guide-color-active: #319331; }
.monaco-editor .bracket-indent-guide.lvl-2 { --guide-color: rgba(123, 56, 20, 0.3); --guide-color-active: #7b3814; }
.monaco-editor .bracket-indent-guide.lvl-3 { --guide-color: rgba(4, 49, 250, 0.3); --guide-color-active: #0431fa; }
.monaco-editor .bracket-indent-guide.lvl-4 { --guide-color: rgba(49, 147, 49, 0.3); --guide-color-active: #319331; }
.monaco-editor .bracket-indent-guide.lvl-5 { --guide-color: rgba(123, 56, 20, 0.3); --guide-color-active: #7b3814; }
.monaco-editor .bracket-indent-guide.lvl-6 { --guide-color: rgba(4, 49, 250, 0.3); --guide-color-active: #0431fa; }
.monaco-editor .bracket-indent-guide.lvl-7 { --guide-color: rgba(49, 147, 49, 0.3); --guide-color-active: #319331; }
.monaco-editor .bracket-indent-guide.lvl-8 { --guide-color: rgba(123, 56, 20, 0.3); --guide-color-active: #7b3814; }
.monaco-editor .bracket-indent-guide.lvl-9 { --guide-color: rgba(4, 49, 250, 0.3); --guide-color-active: #0431fa; }
.monaco-editor .bracket-indent-guide.lvl-10 { --guide-color: rgba(49, 147, 49, 0.3); --guide-color-active: #319331; }
.monaco-editor .bracket-indent-guide.lvl-11 { --guide-color: rgba(123, 56, 20, 0.3); --guide-color-active: #7b3814; }
.monaco-editor .bracket-indent-guide.lvl-12 { --guide-color: rgba(4, 49, 250, 0.3); --guide-color-active: #0431fa; }
.monaco-editor .bracket-indent-guide.lvl-13 { --guide-color: rgba(49, 147, 49, 0.3); --guide-color-active: #319331; }
.monaco-editor .bracket-indent-guide.lvl-14 { --guide-color: rgba(123, 56, 20, 0.3); --guide-color-active: #7b3814; }
.monaco-editor .bracket-indent-guide.lvl-15 { --guide-color: rgba(4, 49, 250, 0.3); --guide-color-active: #0431fa; }
.monaco-editor .bracket-indent-guide.lvl-16 { --guide-color: rgba(49, 147, 49, 0.3); --guide-color-active: #319331; }
.monaco-editor .bracket-indent-guide.lvl-17 { --guide-color: rgba(123, 56, 20, 0.3); --guide-color-active: #7b3814; }
.monaco-editor .bracket-indent-guide.lvl-18 { --guide-color: rgba(4, 49, 250, 0.3); --guide-color-active: #0431fa; }
.monaco-editor .bracket-indent-guide.lvl-19 { --guide-color: rgba(49, 147, 49, 0.3); --guide-color-active: #319331; }
.monaco-editor .bracket-indent-guide.lvl-20 { --guide-color: rgba(123, 56, 20, 0.3); --guide-color-active: #7b3814; }
.monaco-editor .bracket-indent-guide.lvl-21 { --guide-color: rgba(4, 49, 250, 0.3); --guide-color-active: #0431fa; }
.monaco-editor .bracket-indent-guide.lvl-22 { --guide-color: rgba(49, 147, 49, 0.3); --guide-color-active: #319331; }
.monaco-editor .bracket-indent-guide.lvl-23 { --guide-color: rgba(123, 56, 20, 0.3); --guide-color-active: #7b3814; }
.monaco-editor .bracket-indent-guide.lvl-24 { --guide-color: rgba(4, 49, 250, 0.3); --guide-color-active: #0431fa; }
.monaco-editor .bracket-indent-guide.lvl-25 { --guide-color: rgba(49, 147, 49, 0.3); --guide-color-active: #319331; }
.monaco-editor .bracket-indent-guide.lvl-26 { --guide-color: rgba(123, 56, 20, 0.3); --guide-color-active: #7b3814; }
.monaco-editor .bracket-indent-guide.lvl-27 { --guide-color: rgba(4, 49, 250, 0.3); --guide-color-active: #0431fa; }
.monaco-editor .bracket-indent-guide.lvl-28 { --guide-color: rgba(49, 147, 49, 0.3); --guide-color-active: #319331; }
.monaco-editor .bracket-indent-guide.lvl-29 { --guide-color: rgba(123, 56, 20, 0.3); --guide-color-active: #7b3814; }
.monaco-editor .vertical { box-shadow: 1px 0 0 0 var(--guide-color) inset; }
.monaco-editor .horizontal-top { border-top: 1px solid var(--guide-color); }
.monaco-editor .horizontal-bottom { border-bottom: 1px solid var(--guide-color); }
.monaco-editor .vertical.indent-active { box-shadow: 1px 0 0 0 var(--guide-color-active) inset; }
.monaco-editor .horizontal-top.indent-active { border-top: 1px solid var(--guide-color-active); }
.monaco-editor .horizontal-bottom.indent-active { border-bottom: 1px solid var(--guide-color-active); }
.monaco-editor .line-numbers.dimmed-line-number { color: rgba(153, 153, 153, 0.4); }
.monaco-editor .cursors-layer .cursor { background-color: #000000; border-color: #000000; color: #ffffff; }
.monaco-editor .unexpected-closing-bracket { color: rgba(255, 18, 18, 0.8); }
.monaco-editor .bracket-highlighting-0 { color: #0431fa; }
.monaco-editor .bracket-highlighting-1 { color: #319331; }
.monaco-editor .bracket-highlighting-2 { color: #7b3814; }
.monaco-editor .bracket-highlighting-3 { color: #0431fa; }
.monaco-editor .bracket-highlighting-4 { color: #319331; }
.monaco-editor .bracket-highlighting-5 { color: #7b3814; }
.monaco-editor .bracket-highlighting-6 { color: #0431fa; }
.monaco-editor .bracket-highlighting-7 { color: #319331; }
.monaco-editor .bracket-highlighting-8 { color: #7b3814; }
.monaco-editor .bracket-highlighting-9 { color: #0431fa; }
.monaco-editor .bracket-highlighting-10 { color: #319331; }
.monaco-editor .bracket-highlighting-11 { color: #7b3814; }
.monaco-editor .bracket-highlighting-12 { color: #0431fa; }
.monaco-editor .bracket-highlighting-13 { color: #319331; }
.monaco-editor .bracket-highlighting-14 { color: #7b3814; }
.monaco-editor .bracket-highlighting-15 { color: #0431fa; }
.monaco-editor .bracket-highlighting-16 { color: #319331; }
.monaco-editor .bracket-highlighting-17 { color: #7b3814; }
.monaco-editor .bracket-highlighting-18 { color: #0431fa; }
.monaco-editor .bracket-highlighting-19 { color: #319331; }
.monaco-editor .bracket-highlighting-20 { color: #7b3814; }
.monaco-editor .bracket-highlighting-21 { color: #0431fa; }
.monaco-editor .bracket-highlighting-22 { color: #319331; }
.monaco-editor .bracket-highlighting-23 { color: #7b3814; }
.monaco-editor .bracket-highlighting-24 { color: #0431fa; }
.monaco-editor .bracket-highlighting-25 { color: #319331; }
.monaco-editor .bracket-highlighting-26 { color: #7b3814; }
.monaco-editor .bracket-highlighting-27 { color: #0431fa; }
.monaco-editor .bracket-highlighting-28 { color: #319331; }
.monaco-editor .bracket-highlighting-29 { color: #7b3814; }
.monaco-editor .squiggly-error { background: url("data:image/svg+xml,%3Csvg%20xmlns%3D'http%3A%2F%2Fwww.w3.org%2F2000%2Fsvg'%20viewBox%3D'0%200%206%203'%20enable-background%3D'new%200%200%206%203'%20height%3D'3'%20width%3D'6'%3E%3Cg%20fill%3D'%23e51400'%3E%3Cpolygon%20points%3D'5.5%2C0%202.5%2C3%201.1%2C3%204.1%2C0'%2F%3E%3Cpolygon%20points%3D'4%2C0%206%2C2%206%2C0.6%205.4%2C0'%2F%3E%3Cpolygon%20points%3D'0%2C2%201%2C3%202.4%2C3%200%2C0.6'%2F%3E%3C%2Fg%3E%3C%2Fsvg%3E") repeat-x bottom left; }
.monaco-editor .squiggly-warning { background: url("data:image/svg+xml,%3Csvg%20xmlns%3D'http%3A%2F%2Fwww.w3.org%2F2000%2Fsvg'%20viewBox%3D'0%200%206%203'%20enable-background%3D'new%200%200%206%203'%20height%3D'3'%20width%3D'6'%3E%3Cg%20fill%3D'%23bf8803'%3E%3Cpolygon%20points%3D'5.5%2C0%202.5%2C3%201.1%2C3%204.1%2C0'%2F%3E%3Cpolygon%20points%3D'4%2C0%206%2C2%206%2C0.6%205.4%2C0'%2F%3E%3Cpolygon%20points%3D'0%2C2%201%2C3%202.4%2C3%200%2C0.6'%2F%3E%3C%2Fg%3E%3C%2Fsvg%3E") repeat-x bottom left; }
.monaco-editor .squiggly-info { background: url("data:image/svg+xml,%3Csvg%20xmlns%3D'http%3A%2F%2Fwww.w3.org%2F2000%2Fsvg'%20viewBox%3D'0%200%206%203'%20enable-background%3D'new%200%200%206%203'%20height%3D'3'%20width%3D'6'%3E%3Cg%20fill%3D'%231a85ff'%3E%3Cpolygon%20points%3D'5.5%2C0%202.5%2C3%201.1%2C3%204.1%2C0'%2F%3E%3Cpolygon%20points%3D'4%2C0%206%2C2%206%2C0.6%205.4%2C0'%2F%3E%3Cpolygon%20points%3D'0%2C2%201%2C3%202.4%2C3%200%2C0.6'%2F%3E%3C%2Fg%3E%3C%2Fsvg%3E") repeat-x bottom left; }
.monaco-editor .squiggly-hint { background: url("data:image/svg+xml,%3Csvg%20xmlns%3D%22http%3A%2F%2Fwww.w3.org%2F2000%2Fsvg%22%20height%3D%223%22%20width%3D%2212%22%3E%3Cg%20fill%3D%22%236c6c6c%22%3E%3Ccircle%20cx%3D%221%22%20cy%3D%221%22%20r%3D%221%22%2F%3E%3Ccircle%20cx%3D%225%22%20cy%3D%221%22%20r%3D%221%22%2F%3E%3Ccircle%20cx%3D%229%22%20cy%3D%221%22%20r%3D%221%22%2F%3E%3C%2Fg%3E%3C%2Fsvg%3E") no-repeat bottom left; }
.monaco-editor.showUnused .squiggly-inline-unnecessary { opacity: 0.467; }
.monaco-editor .selectionHighlight { background-color: rgba(173, 214, 255, 0.15); }

	.monaco-editor .diagonal-fill {
		background-image: linear-gradient(
			-45deg,
			rgba(34, 34, 34, 0.2) 12.5%,
			#0000 12.5%, #0000 50%,
			rgba(34, 34, 34, 0.2) 50%, rgba(34, 34, 34, 0.2) 62.5%,
			#0000 62.5%, #0000 100%
		);
		background-size: 8px 8px;
	}
	
.monaco-editor .findMatch { background-color: rgba(234, 92, 0, 0.33); }
.monaco-editor .currentFindMatch { background-color: #a8ac94; }
.monaco-editor .findScope { background-color: rgba(180, 180, 180, 0.3); }
.monaco-editor .find-widget { background-color: #f3f3f3; }
.monaco-editor .find-widget { box-shadow: 0 0 8px 2px rgba(0, 0, 0, 0.16); }
.monaco-editor .find-widget { color: #616161; }
.monaco-editor .find-widget.no-results .matchesCount { color: #a1260d; }
.monaco-editor .find-widget .monaco-sash { background-color: #c8c8c8; }

		.monaco-editor .find-widget .button:not(.disabled):hover,
		.monaco-editor .find-widget .codicon-find-selection:hover {
			background-color: rgba(184, 184, 184, 0.31) !important;
		}
	
.monaco-editor .find-widget .monaco-inputbox.synthetic-focus { outline-color: #0090f1; }
.monaco-editor .monaco-hover .hover-row:not(:first-child):not(:empty) { border-top: 1px solid rgba(200, 200, 200, 0.5); }
.monaco-editor .monaco-hover hr { border-top: 1px solid rgba(200, 200, 200, 0.5); }
.monaco-editor .monaco-hover hr { border-bottom: 0px solid rgba(200, 200, 200, 0.5); }
.monaco-editor { --vscode-foreground: #616161;
--vscode-disabledForeground: rgba(97, 97, 97, 0.5);
--vscode-errorForeground: #a1260d;
--vscode-descriptionForeground: #717171;
--vscode-icon-foreground: #424242;
--vscode-focusBorder: #0090f1;
--vscode-textSeparator-foreground: rgba(0, 0, 0, 0.18);
--vscode-textLink-foreground: #006ab1;
--vscode-textLink-activeForeground: #006ab1;
--vscode-textPreformat-foreground: #a31515;
--vscode-textBlockQuote-background: rgba(127, 127, 127, 0.1);
--vscode-textBlockQuote-border: rgba(0, 122, 204, 0.5);
--vscode-textCodeBlock-background: rgba(220, 220, 220, 0.4);
--vscode-widget-shadow: rgba(0, 0, 0, 0.16);
--vscode-input-background: #ffffff;
--vscode-input-foreground: #616161;
--vscode-inputOption-activeBorder: #007acc;
--vscode-inputOption-hoverBackground: rgba(184, 184, 184, 0.31);
--vscode-inputOption-activeBackground: rgba(0, 144, 241, 0.2);
--vscode-inputOption-activeForeground: #000000;
--vscode-input-placeholderForeground: rgba(97, 97, 97, 0.5);
--vscode-inputValidation-infoBackground: #d6ecf2;
--vscode-inputValidation-infoBorder: #007acc;
--vscode-inputValidation-warningBackground: #f6f5d2;
--vscode-inputValidation-warningBorder: #b89500;
--vscode-inputValidation-errorBackground: #f2dede;
--vscode-inputValidation-errorBorder: #be1100;
--vscode-dropdown-background: #ffffff;
--vscode-dropdown-foreground: #616161;
--vscode-dropdown-border: #cecece;
--vscode-button-foreground: #ffffff;
--vscode-button-separator: rgba(255, 255, 255, 0.4);
--vscode-button-background: #007acc;
--vscode-button-hoverBackground: #0062a3;
--vscode-button-secondaryForeground: #ffffff;
--vscode-button-secondaryBackground: #5f6a79;
--vscode-button-secondaryHoverBackground: #4c5561;
--vscode-badge-background: #c4c4c4;
--vscode-badge-foreground: #333333;
--vscode-scrollbar-shadow: #dddddd;
--vscode-scrollbarSlider-background: rgba(100, 100, 100, 0.4);
--vscode-scrollbarSlider-hoverBackground: rgba(100, 100, 100, 0.7);
--vscode-scrollbarSlider-activeBackground: rgba(0, 0, 0, 0.6);
--vscode-progressBar-background: #0e70c0;
--vscode-editorError-foreground: #e51400;
--vscode-editorWarning-foreground: #bf8803;
--vscode-editorInfo-foreground: #1a85ff;
--vscode-editorHint-foreground: #6c6c6c;
--vscode-sash-hoverBorder: #0090f1;
--vscode-editor-background: #f7f7f7;
--vscode-editor-foreground: #000000;
--vscode-editorStickyScroll-background: #f7f7f7;
--vscode-editorStickyScrollHover-background: #f0f0f0;
--vscode-editorWidget-background: #f3f3f3;
--vscode-editorWidget-foreground: #616161;
--vscode-editorWidget-border: #c8c8c8;
--vscode-quickInput-background: #f3f3f3;
--vscode-quickInput-foreground: #616161;
--vscode-quickInputTitle-background: rgba(0, 0, 0, 0.06);
--vscode-pickerGroup-foreground: #0066bf;
--vscode-pickerGroup-border: #cccedb;
--vscode-keybindingLabel-background: rgba(221, 221, 221, 0.4);
--vscode-keybindingLabel-foreground: #555555;
--vscode-keybindingLabel-border: rgba(204, 204, 204, 0.4);
--vscode-keybindingLabel-bottomBorder: rgba(187, 187, 187, 0.4);
--vscode-editor-selectionBackground: #add6ff;
--vscode-editor-inactiveSelectionBackground: #e5ebf1;
--vscode-editor-selectionHighlightBackground: rgba(173, 214, 255, 0.3);
--vscode-editor-findMatchBackground: #a8ac94;
--vscode-editor-findMatchHighlightBackground: rgba(234, 92, 0, 0.33);
--vscode-editor-findRangeHighlightBackground: rgba(180, 180, 180, 0.3);
--vscode-searchEditor-findMatchBackground: rgba(234, 92, 0, 0.22);
--vscode-search-resultsInfoForeground: #616161;
--vscode-editor-hoverHighlightBackground: rgba(173, 214, 255, 0.15);
--vscode-editorHoverWidget-background: #f3f3f3;
--vscode-editorHoverWidget-foreground: #616161;
--vscode-editorHoverWidget-border: #c8c8c8;
--vscode-editorHoverWidget-statusBarBackground: #e7e7e7;
--vscode-editorLink-activeForeground: #0000ff;
--vscode-editorInlayHint-foreground: #616161;
--vscode-editorInlayHint-background: rgba(196, 196, 196, 0.3);
--vscode-editorInlayHint-typeForeground: #616161;
--vscode-editorInlayHint-typeBackground: rgba(196, 196, 196, 0.3);
--vscode-editorInlayHint-parameterForeground: #616161;
--vscode-editorInlayHint-parameterBackground: rgba(196, 196, 196, 0.3);
--vscode-editorLightBulb-foreground: #ddb100;
--vscode-editorLightBulbAutoFix-foreground: #007acc;
--vscode-diffEditor-insertedTextBackground: rgba(155, 185, 85, 0.09);
--vscode-diffEditor-removedTextBackground: rgba(255, 0, 0, 0.03);
--vscode-diffEditor-insertedLineBackground: rgba(155, 185, 85, 0.09);
--vscode-diffEditor-removedLineBackground: rgba(255, 0, 0, 0.03);
--vscode-diffEditor-diagonalFill: rgba(34, 34, 34, 0.2);
--vscode-diffEditor-unchangedRegionBackground: #e4e4e4;
--vscode-diffEditor-unchangedRegionForeground: #4d4c4c;
--vscode-diffEditor-unchangedCodeBackground: rgba(184, 184, 184, 0.16);
--vscode-list-focusOutline: #0090f1;
--vscode-list-activeSelectionBackground: #d6ebff;
--vscode-list-activeSelectionForeground: #000000;
--vscode-list-inactiveSelectionBackground: #e4e6f1;
--vscode-list-hoverBackground: #f0f0f0;
--vscode-list-dropBackground: #d6ebff;
--vscode-list-highlightForeground: #0066bf;
--vscode-list-focusHighlightForeground: #0066bf;
--vscode-list-invalidItemForeground: #b89500;
--vscode-list-errorForeground: #b01011;
--vscode-list-warningForeground: #855f00;
--vscode-listFilterWidget-background: #f3f3f3;
--vscode-listFilterWidget-outline: rgba(0, 0, 0, 0);
--vscode-listFilterWidget-noMatchesOutline: #be1100;
--vscode-listFilterWidget-shadow: rgba(0, 0, 0, 0.16);
--vscode-list-filterMatchBackground: rgba(234, 92, 0, 0.33);
--vscode-tree-indentGuidesStroke: #a9a9a9;
--vscode-tree-inactiveIndentGuidesStroke: rgba(169, 169, 169, 0.4);
--vscode-tree-tableColumnsBorder: rgba(97, 97, 97, 0.13);
--vscode-tree-tableOddRowsBackground: rgba(97, 97, 97, 0.04);
--vscode-list-deemphasizedForeground: #8e8e90;
--vscode-checkbox-background: #ffffff;
--vscode-checkbox-selectBackground: #f3f3f3;
--vscode-checkbox-foreground: #616161;
--vscode-checkbox-border: #cecece;
--vscode-checkbox-selectBorder: #424242;
--vscode-quickInputList-focusForeground: #000000;
--vscode-quickInputList-focusBackground: #d6ebff;
--vscode-menu-foreground: #616161;
--vscode-menu-background: #ffffff;
--vscode-menu-selectionForeground: #000000;
--vscode-menu-selectionBackground: #d6ebff;
--vscode-menu-separatorBackground: #d4d4d4;
--vscode-toolbar-hoverBackground: rgba(184, 184, 184, 0.31);
--vscode-toolbar-activeBackground: rgba(166, 166, 166, 0.31);
--vscode-editor-snippetTabstopHighlightBackground: rgba(10, 50, 100, 0.2);
--vscode-editor-snippetFinalTabstopHighlightBorder: rgba(10, 50, 100, 0.5);
--vscode-breadcrumb-foreground: rgba(97, 97, 97, 0.8);
--vscode-breadcrumb-background: #f7f7f7;
--vscode-breadcrumb-focusForeground: #4e4e4e;
--vscode-breadcrumb-activeSelectionForeground: #4e4e4e;
--vscode-breadcrumbPicker-background: #f3f3f3;
--vscode-merge-currentHeaderBackground: rgba(64, 200, 174, 0.5);
--vscode-merge-currentContentBackground: rgba(64, 200, 174, 0.2);
--vscode-merge-incomingHeaderBackground: rgba(64, 166, 255, 0.5);
--vscode-merge-incomingContentBackground: rgba(64, 166, 255, 0.2);
--vscode-merge-commonHeaderBackground: rgba(96, 96, 96, 0.4);
--vscode-merge-commonContentBackground: rgba(96, 96, 96, 0.16);
--vscode-editorOverviewRuler-currentContentForeground: rgba(64, 200, 174, 0.5);
--vscode-editorOverviewRuler-incomingContentForeground: rgba(64, 166, 255, 0.5);
--vscode-editorOverviewRuler-commonContentForeground: rgba(96, 96, 96, 0.4);
--vscode-editorOverviewRuler-findMatchForeground: rgba(209, 134, 22, 0.49);
--vscode-editorOverviewRuler-selectionHighlightForeground: rgba(0, 0, 0, 0);
--vscode-minimap-findMatchHighlight: #d18616;
--vscode-minimap-selectionOccurrenceHighlight: #c9c9c9;
--vscode-minimap-selectionHighlight: #add6ff;
--vscode-minimap-errorHighlight: rgba(255, 18, 18, 0.7);
--vscode-minimap-warningHighlight: #bf8803;
--vscode-minimap-foregroundOpacity: #000000;
--vscode-minimapSlider-background: rgba(100, 100, 100, 0.2);
--vscode-minimapSlider-hoverBackground: rgba(100, 100, 100, 0.35);
--vscode-minimapSlider-activeBackground: rgba(0, 0, 0, 0.3);
--vscode-problemsErrorIcon-foreground: #e51400;
--vscode-problemsWarningIcon-foreground: #bf8803;
--vscode-problemsInfoIcon-foreground: #1a85ff;
--vscode-charts-foreground: #616161;
--vscode-charts-lines: rgba(97, 97, 97, 0.5);
--vscode-charts-red: #e51400;
--vscode-charts-blue: #1a85ff;
--vscode-charts-yellow: #bf8803;
--vscode-charts-orange: #d18616;
--vscode-charts-green: #388a34;
--vscode-charts-purple: #652d90;
--vscode-symbolIcon-arrayForeground: #616161;
--vscode-symbolIcon-booleanForeground: #616161;
--vscode-symbolIcon-classForeground: #d67e00;
--vscode-symbolIcon-colorForeground: #616161;
--vscode-symbolIcon-constantForeground: #616161;
--vscode-symbolIcon-constructorForeground: #652d90;
--vscode-symbolIcon-enumeratorForeground: #d67e00;
--vscode-symbolIcon-enumeratorMemberForeground: #007acc;
--vscode-symbolIcon-eventForeground: #d67e00;
--vscode-symbolIcon-fieldForeground: #007acc;
--vscode-symbolIcon-fileForeground: #616161;
--vscode-symbolIcon-folderForeground: #616161;
--vscode-symbolIcon-functionForeground: #652d90;
--vscode-symbolIcon-interfaceForeground: #007acc;
--vscode-symbolIcon-keyForeground: #616161;
--vscode-symbolIcon-keywordForeground: #616161;
--vscode-symbolIcon-methodForeground: #652d90;
--vscode-symbolIcon-moduleForeground: #616161;
--vscode-symbolIcon-namespaceForeground: #616161;
--vscode-symbolIcon-nullForeground: #616161;
--vscode-symbolIcon-numberForeground: #616161;
--vscode-symbolIcon-objectForeground: #616161;
--vscode-symbolIcon-operatorForeground: #616161;
--vscode-symbolIcon-packageForeground: #616161;
--vscode-symbolIcon-propertyForeground: #616161;
--vscode-symbolIcon-referenceForeground: #616161;
--vscode-symbolIcon-snippetForeground: #616161;
--vscode-symbolIcon-stringForeground: #616161;
--vscode-symbolIcon-structForeground: #616161;
--vscode-symbolIcon-textForeground: #616161;
--vscode-symbolIcon-typeParameterForeground: #616161;
--vscode-symbolIcon-unitForeground: #616161;
--vscode-symbolIcon-variableForeground: #007acc;
--vscode-editor-lineHighlightBorder: #eeeeee;
--vscode-editor-rangeHighlightBackground: rgba(253, 255, 0, 0.2);
--vscode-editor-symbolHighlightBackground: rgba(234, 92, 0, 0.33);
--vscode-editorCursor-foreground: #000000;
--vscode-editorWhitespace-foreground: rgba(51, 51, 51, 0.2);
--vscode-editorIndentGuide-background: #d3d3d3;
--vscode-editorIndentGuide-activeBackground: #939393;
--vscode-editorLineNumber-foreground: #999999;
--vscode-editorActiveLineNumber-foreground: #0b216f;
--vscode-editorLineNumber-activeForeground: #0b216f;
--vscode-editorRuler-foreground: #d3d3d3;
--vscode-editorCodeLens-foreground: #919191;
--vscode-editorBracketMatch-background: rgba(0, 100, 0, 0.1);
--vscode-editorBracketMatch-border: #b9b9b9;
--vscode-editorOverviewRuler-border: rgba(127, 127, 127, 0.3);
--vscode-editorGutter-background: #f7f7f7;
--vscode-editorUnnecessaryCode-opacity: rgba(0, 0, 0, 0.47);
--vscode-editorGhostText-foreground: rgba(0, 0, 0, 0.47);
--vscode-editorOverviewRuler-rangeHighlightForeground: rgba(0, 122, 204, 0.6);
--vscode-editorOverviewRuler-errorForeground: rgba(255, 18, 18, 0.7);
--vscode-editorOverviewRuler-warningForeground: #bf8803;
--vscode-editorOverviewRuler-infoForeground: #1a85ff;
--vscode-editorBracketHighlight-foreground1: #0431fa;
--vscode-editorBracketHighlight-foreground2: #319331;
--vscode-editorBracketHighlight-foreground3: #7b3814;
--vscode-editorBracketHighlight-foreground4: rgba(0, 0, 0, 0);
--vscode-editorBracketHighlight-foreground5: rgba(0, 0, 0, 0);
--vscode-editorBracketHighlight-foreground6: rgba(0, 0, 0, 0);
--vscode-editorBracketHighlight-unexpectedBracket-foreground: rgba(255, 18, 18, 0.8);
--vscode-editorBracketPairGuide-background1: rgba(0, 0, 0, 0);
--vscode-editorBracketPairGuide-background2: rgba(0, 0, 0, 0);
--vscode-editorBracketPairGuide-background3: rgba(0, 0, 0, 0);
--vscode-editorBracketPairGuide-background4: rgba(0, 0, 0, 0);
--vscode-editorBracketPairGuide-background5: rgba(0, 0, 0, 0);
--vscode-editorBracketPairGuide-background6: rgba(0, 0, 0, 0);
--vscode-editorBracketPairGuide-activeBackground1: rgba(0, 0, 0, 0);
--vscode-editorBracketPairGuide-activeBackground2: rgba(0, 0, 0, 0);
--vscode-editorBracketPairGuide-activeBackground3: rgba(0, 0, 0, 0);
--vscode-editorBracketPairGuide-activeBackground4: rgba(0, 0, 0, 0);
--vscode-editorBracketPairGuide-activeBackground5: rgba(0, 0, 0, 0);
--vscode-editorBracketPairGuide-activeBackground6: rgba(0, 0, 0, 0);
--vscode-editorUnicodeHighlight-border: #cea33d;
--vscode-editorUnicodeHighlight-background: rgba(206, 163, 61, 0.08);
--vscode-editorOverviewRuler-bracketMatchForeground: #a0a0a0;
--vscode-editor-linkedEditingBackground: rgba(255, 0, 0, 0.3);
--vscode-editor-wordHighlightBackground: rgba(87, 87, 87, 0.25);
--vscode-editor-wordHighlightStrongBackground: #d6ebff;
--vscode-editor-wordHighlightTextBackground: rgba(173, 214, 255, 0.45);
--vscode-editorOverviewRuler-wordHighlightForeground: rgba(160, 160, 160, 0.8);
--vscode-editorOverviewRuler-wordHighlightStrongForeground: rgba(192, 160, 192, 0.8);
--vscode-editorOverviewRuler-wordHighlightTextForeground: rgba(0, 0, 0, 0);
--vscode-peekViewTitle-background: #f3f3f3;
--vscode-peekViewTitleLabel-foreground: #000000;
--vscode-peekViewTitleDescription-foreground: #616161;
--vscode-peekView-border: #1a85ff;
--vscode-peekViewResult-background: #f3f3f3;
--vscode-peekViewResult-lineForeground: #646465;
--vscode-peekViewResult-fileForeground: #1e1e1e;
--vscode-peekViewResult-selectionBackground: rgba(51, 153, 255, 0.2);
--vscode-peekViewResult-selectionForeground: #6c6c6c;
--vscode-peekViewEditor-background: #f2f8fc;
--vscode-peekViewEditorGutter-background: #f2f8fc;
--vscode-peekViewEditorStickyScroll-background: #f2f8fc;
--vscode-peekViewResult-matchHighlightBackground: rgba(234, 92, 0, 0.3);
--vscode-peekViewEditor-matchHighlightBackground: rgba(245, 216, 2, 0.87);
--vscode-editorMarkerNavigationError-background: #e51400;
--vscode-editorMarkerNavigationError-headerBackground: rgba(229, 20, 0, 0.1);
--vscode-editorMarkerNavigationWarning-background: #bf8803;
--vscode-editorMarkerNavigationWarning-headerBackground: rgba(191, 136, 3, 0.1);
--vscode-editorMarkerNavigationInfo-background: #1a85ff;
--vscode-editorMarkerNavigationInfo-headerBackground: rgba(26, 133, 255, 0.1);
--vscode-editorMarkerNavigation-background: #f7f7f7;
--vscode-editorHoverWidget-highlightForeground: #0066bf;
--vscode-editorSuggestWidget-background: #f3f3f3;
--vscode-editorSuggestWidget-border: #c8c8c8;
--vscode-editorSuggestWidget-foreground: #000000;
--vscode-editorSuggestWidget-selectedForeground: #000000;
--vscode-editorSuggestWidget-selectedBackground: #d6ebff;
--vscode-editorSuggestWidget-highlightForeground: #0066bf;
--vscode-editorSuggestWidget-focusHighlightForeground: #0066bf;
--vscode-editorSuggestWidgetStatus-foreground: rgba(0, 0, 0, 0.5);
--vscode-editor-foldBackground: rgba(173, 214, 255, 0.3);
--vscode-editorGutter-foldingControlForeground: #424242; }

.mtk1 { color: #000000; }
.mtk2 { color: #f7f7f7; }
.mtk3 { color: #808080; }
.mtk4 { color: #ff0000; }
.mtk5 { color: #0451a5; }
.mtk6 { color: #0000ff; }
.mtk7 { color: #098658; }
.mtk8 { color: #008000; }
.mtk9 { color: #dd0000; }
.mtk10 { color: #811f3f; }
.mtk11 { color: #e00000; }
.mtk12 { color: #116644; }
.mtk13 { color: #383838; }
.mtk14 { color: #257693; }
.mtk15 { color: #795e26; }
.mtk16 { color: #001080; }
.mtk17 { color: #cd3131; }
.mtk18 { color: #863b00; }
.mtk19 { color: #af00db; }
.mtk20 { color: #c43b3b; }
.mtk21 { color: #800000; }
.mtk22 { color: #3030c0; }
.mtk23 { color: #666666; }
.mtk24 { color: #778899; }
.mtk25 { color: #c700c7; }
.mtk26 { color: #a31515; }
.mtk27 { color: #4f76ac; }
.mtk28 { color: #008080; }
.mtk29 { color: #001188; }
.mtk30 { color: #4864aa; }
.mtki { font-style: italic; }
.mtkb { font-weight: bold; }
.mtku { text-decoration: underline; text-underline-position: under; }
.mtks { text-decoration: line-through; }
.mtks.mtku { text-decoration: underline line-through; text-underline-position: under; }</style><style type="text/css">#MathJax_About {position: fixed; left: 50%; width: auto; text-align: center; border: 3px outset; padding: 1em 2em; background-color: #DDDDDD; color: black; cursor: default; font-family: message-box; font-size: 120%; font-style: normal; text-indent: 0; text-transform: none; line-height: normal; letter-spacing: normal; word-spacing: normal; word-wrap: normal; white-space: nowrap; float: none; z-index: 201; border-radius: 15px; -webkit-border-radius: 15px; -moz-border-radius: 15px; -khtml-border-radius: 15px; box-shadow: 0px 10px 20px #808080; -webkit-box-shadow: 0px 10px 20px #808080; -moz-box-shadow: 0px 10px 20px #808080; -khtml-box-shadow: 0px 10px 20px #808080; filter: progid:DXImageTransform.Microsoft.dropshadow(OffX=2, OffY=2, Color='gray', Positive='true')}
#MathJax_About.MathJax_MousePost {outline: none}
.MathJax_Menu {position: absolute; background-color: white; color: black; width: auto; padding: 2px; border: 1px solid #CCCCCC; margin: 0; cursor: default; font: menu; text-align: left; text-indent: 0; text-transform: none; line-height: normal; letter-spacing: normal; word-spacing: normal; word-wrap: normal; white-space: nowrap; float: none; z-index: 201; box-shadow: 0px 10px 20px #808080; -webkit-box-shadow: 0px 10px 20px #808080; -moz-box-shadow: 0px 10px 20px #808080; -khtml-box-shadow: 0px 10px 20px #808080; filter: progid:DXImageTransform.Microsoft.dropshadow(OffX=2, OffY=2, Color='gray', Positive='true')}
.MathJax_MenuItem {padding: 2px 2em; background: transparent}
.MathJax_MenuArrow {position: absolute; right: .5em; padding-top: .25em; color: #666666; font-size: .75em}
.MathJax_MenuActive .MathJax_MenuArrow {color: white}
.MathJax_MenuArrow.RTL {left: .5em; right: auto}
.MathJax_MenuCheck {position: absolute; left: .7em}
.MathJax_MenuCheck.RTL {right: .7em; left: auto}
.MathJax_MenuRadioCheck {position: absolute; left: 1em}
.MathJax_MenuRadioCheck.RTL {right: 1em; left: auto}
.MathJax_MenuLabel {padding: 2px 2em 4px 1.33em; font-style: italic}
.MathJax_MenuRule {border-top: 1px solid #CCCCCC; margin: 4px 1px 0px}
.MathJax_MenuDisabled {color: GrayText}
.MathJax_MenuActive {background-color: Highlight; color: HighlightText}
.MathJax_MenuDisabled:focus, .MathJax_MenuLabel:focus {background-color: #E8E8E8}
.MathJax_ContextMenu:focus {outline: none}
.MathJax_ContextMenu .MathJax_MenuItem:focus {outline: none}
#MathJax_AboutClose {top: .2em; right: .2em}
.MathJax_Menu .MathJax_MenuClose {top: -10px; left: -10px}
.MathJax_MenuClose {position: absolute; cursor: pointer; display: inline-block; border: 2px solid #AAA; border-radius: 18px; -webkit-border-radius: 18px; -moz-border-radius: 18px; -khtml-border-radius: 18px; font-family: 'Courier New',Courier; font-size: 24px; color: #F0F0F0}
.MathJax_MenuClose span {display: block; background-color: #AAA; border: 1.5px solid; border-radius: 18px; -webkit-border-radius: 18px; -moz-border-radius: 18px; -khtml-border-radius: 18px; line-height: 0; padding: 8px 0 6px}
.MathJax_MenuClose:hover {color: white!important; border: 2px solid #CCC!important}
.MathJax_MenuClose:hover span {background-color: #CCC!important}
.MathJax_MenuClose:hover:focus {outline: none}
</style><style type="text/css">#MathJax_Zoom {position: absolute; background-color: #F0F0F0; overflow: auto; display: block; z-index: 301; padding: .5em; border: 1px solid black; margin: 0; font-weight: normal; font-style: normal; text-align: left; text-indent: 0; text-transform: none; line-height: normal; letter-spacing: normal; word-spacing: normal; word-wrap: normal; white-space: nowrap; float: none; -webkit-box-sizing: content-box; -moz-box-sizing: content-box; box-sizing: content-box; box-shadow: 5px 5px 15px #AAAAAA; -webkit-box-shadow: 5px 5px 15px #AAAAAA; -moz-box-shadow: 5px 5px 15px #AAAAAA; -khtml-box-shadow: 5px 5px 15px #AAAAAA; filter: progid:DXImageTransform.Microsoft.dropshadow(OffX=2, OffY=2, Color='gray', Positive='true')}
#MathJax_ZoomOverlay {position: absolute; left: 0; top: 0; z-index: 300; display: inline-block; width: 100%; height: 100%; border: 0; padding: 0; margin: 0; background-color: white; opacity: 0; filter: alpha(opacity=0)}
#MathJax_ZoomFrame {position: relative; display: inline-block; height: 0; width: 0}
#MathJax_ZoomEventTrap {position: absolute; left: 0; top: 0; z-index: 302; display: inline-block; border: 0; padding: 0; margin: 0; background-color: white; opacity: 0; filter: alpha(opacity=0)}
</style><script async="async" type="text/javascript" src="./Plant_Disease_Detection_files/python.js.download"></script></head><body class="" style="overscroll-behavior: contain;"><div id="MathJax_Message" style="display: none;"></div><div class="scripts"><script nonce="">window.performance.mark('external_scripts_start');</script><script src="./Plant_Disease_Detection_files/gapi_loader.js.download" nonce=""></script><script src="./Plant_Disease_Detection_files/socketio_binary.js.download" nonce=""></script><script src="./Plant_Disease_Detection_files/analytics_binary.js.download" nonce=""></script><script src="./Plant_Disease_Detection_files/MathJax.js.download" nonce=""></script><script src="./Plant_Disease_Detection_files/js_monaco_editor_vs_loader.js.download" nonce=""></script><script nonce="">window.performance.mark('external_scripts_end'); window.performance.measure('external_scripts', 'external_scripts_start', 'external_scripts_end'); window.performance.mark('colab_load_start');</script><script src="./Plant_Disease_Detection_files/external_binary.js.download" nonce=""></script><script nonce="">
          window.performance.mark('colab_load_end');
          window.performance.measure('colab_load', 'colab_load_start', 'colab_load_end');
        </script></div><colab-snackbar leading="" labeltext="" id="message-area" class="message-area"><template shadowrootmode="open"><!----><style>
        :host .mdc-snackbar__surface {
          background-color: var(--colab-snackbar-surface-color);
        }
      </style>
      <!--?lit$590858727$-->
      <div class="mdc-snackbar mdc-snackbar--leading">
        <div class="mdc-snackbar__surface">
          <!--?lit$590858727$-->
          <div class="mdc-snackbar__actions">
            <slot name="action"></slot>
            <slot name="dismiss"></slot>
          </div>
        </div>
      </div><!--?--></template>
      <md-icon-button class="close" slot="dismiss" title="Close" data-aria-label="Close" value="" style=""><template shadowrootmode="open" shadowrootdelegatesfocus><!----><button id="button" class="icon-button  standard " aria-label="Close">
        <!--?lit$590858727$--><md-focus-ring part="focus-ring" for="button" aria-hidden="true"><template shadowrootmode="open"><!----></template></md-focus-ring>
        <!--?lit$590858727$--><md-ripple aria-hidden="true"><template shadowrootmode="open"><!----><div class="surface   "></div></template></md-ripple>
        <!--?lit$590858727$--><span class="icon"><slot></slot></span>
        <!--?lit$590858727$-->
        <!--?lit$590858727$--><span class="touch"></span>
        <!--?lit$590858727$-->
  </button></template>
        <md-icon aria-hidden="true"><template shadowrootmode="open"><!----><slot></slot></template>close</md-icon>
      </md-icon-button>
    </colab-snackbar><colab-snackbar leading="" labeltext="" id="message-area-secondary" class="message-area"><template shadowrootmode="open"><!----><style>
        :host .mdc-snackbar__surface {
          background-color: var(--colab-snackbar-surface-color);
        }
      </style>
      <!--?lit$590858727$-->
      <div class="mdc-snackbar mdc-snackbar--leading">
        <div class="mdc-snackbar__surface">
          <!--?lit$590858727$-->
          <div class="mdc-snackbar__actions">
            <slot name="action"></slot>
            <slot name="dismiss"></slot>
          </div>
        </div>
      </div><!--?--></template>
      <md-icon-button class="close" slot="dismiss" title="Close" data-aria-label="Close" value=""><template shadowrootmode="open" shadowrootdelegatesfocus><!----><button id="button" class="icon-button  standard " aria-label="Close">
        <!--?lit$590858727$--><md-focus-ring part="focus-ring" for="button" aria-hidden="true"><template shadowrootmode="open"><!----></template></md-focus-ring>
        <!--?lit$590858727$--><md-ripple aria-hidden="true"><template shadowrootmode="open"><!----><div class="surface   "></div></template></md-ripple>
        <!--?lit$590858727$--><span class="icon"><slot></slot></span>
        <!--?lit$590858727$-->
        <!--?lit$590858727$--><span class="touch"></span>
        <!--?lit$590858727$-->
  </button></template>
        <md-icon aria-hidden="true"><template shadowrootmode="open"><!----><slot></slot></template>close</md-icon>
      </md-icon-button>
    </colab-snackbar><div ng-non-bindable=""></div><div class="gb_P" ng-non-bindable=""><div class="gb_zc"><div>Google Account</div><div class="gb_g">Pawan Singh</div><div>pawansinghvns22@gmail.com</div></div></div><script nonce="">this.gbar_=this.gbar_||{};(function(_){var window=this;
try{
var Id;Id=class extends _.td{};_.Jd=function(a,b){if(b in a.i)return a.i[b];throw new Id;};_.Kd=function(a){return _.Jd(_.qd.i(),a)};
}catch(e){_._DumpException(e)}
try{
/*

 Copyright Google LLC
 SPDX-License-Identifier: Apache-2.0
*/
var Qd,ae;_.Ld=function(a){if(a==null)return a;if(typeof a==="string"){if(!a)return;a=+a}if(typeof a==="number")return Number.isFinite(a)?a|0:void 0};_.Md=function(a){const b=a.length;if(b>0){const c=Array(b);for(let d=0;d<b;d++)c[d]=a[d];return c}return[]};_.Od=function(a){if(a instanceof _.Nd)return a.i;throw Error("D");};Qd=function(a){return new _.Pd(b=>b.substr(0,a.length+1).toLowerCase()===a+":")};_.Sd=function(a){if(Rd.test(a))return a};_.Td=function(a){return a instanceof _.Nd?_.Od(a):_.Sd(a)};
_.Vd=function(a){if(a instanceof _.Ud)return a.i;throw Error("D");};_.Wd=function(a,b){let c,d;return(b=(d=(c=b.document).querySelector)==null?void 0:d.call(c,`${a}[nonce]`))?b.nonce||b.getAttribute("nonce")||"":""};_.Xd=function(a,b){var c=Array.prototype.slice.call(arguments,1);return function(){var d=c.slice();d.push.apply(d,arguments);return a.apply(this,d)}};_.Yd=function(a,b,c){return _.vb(a,b,c,!1)!==void 0};_.Zd=function(a,b){return _.Ld(_.Nc(a,b))};
_.S=function(a,b){a=_.Nc(a,b);return a==null?a:Number.isFinite(a)?a|0:void 0};_.T=function(a,b,c=0){return _.wb(_.Zd(a,b),c)};_.$d=function(a,b,c=0){return _.wb(_.S(a,b),c)};ae=function(a){return a};_.be=function(a){var b=null,c=_.t.trustedTypes;if(!c||!c.createPolicy)return b;try{b=c.createPolicy(a,{createHTML:ae,createScript:ae,createScriptURL:ae})}catch(d){_.t.console&&_.t.console.error(d.message)}return b};_.ce=function(a,b){return a.lastIndexOf(b,0)==0};
_.de=function(a,b){return Array.prototype.some.call(a,b,void 0)};var ee;_.fe=function(){ee===void 0&&(ee=_.be("ogb-qtm#html"));return ee};var ge;ge={};_.he=class{constructor(a){this.i=a}toString(){return this.i+""}};_.ie=function(a){return a instanceof _.he&&a.constructor===_.he?a.i:"type_error:TrustedResourceUrl"};_.je=function(a){const b=_.fe();a=b?b.createScriptURL(a):a;return new _.he(a,ge)};_.Nd=class{constructor(a){this.i=a}toString(){return this.i}};_.ke=new _.Nd("about:invalid#zClosurez");var Rd;_.Pd=class{constructor(a){this.Sg=a}};_.le=[Qd("data"),Qd("http"),Qd("https"),Qd("mailto"),Qd("ftp"),new _.Pd(a=>/^[^:]*([/?#]|$)/.test(a))];Rd=/^\s*(?!javascript:)(?:[\w+.-]+:|[^:/?#]*(?:[/?#]|$))/i;var me;me=_.t.trustedTypes;_.Ud=class{constructor(a){this.i=a}toString(){return this.i+""}};_.ne=new _.Ud(me?me.emptyHTML:"");_.oe=class{constructor(a){this.i=a}toString(){return this.i}};_.pe=new _.oe("");_.qe=RegExp("^[-+,.\"'%_!#/ a-zA-Z0-9\\[\\]]+$");_.re=RegExp("\\b(url\\([ \t\n]*)('[ -&(-\\[\\]-~]*'|\"[ !#-\\[\\]-~]*\"|[!#-&*-\\[\\]-~]*)([ \t\n]*\\))","g");_.se=RegExp("\\b(calc|cubic-bezier|fit-content|hsl|hsla|linear-gradient|matrix|minmax|radial-gradient|repeat|rgb|rgba|(rotate|scale|translate)(X|Y|Z|3d)?|steps|var)\\([-+*/0-9a-zA-Z.%#\\[\\], ]+\\)","g");_.te=function(a){let b=!1,c;return function(){b||(c=a(),b=!0);return c}}(function(){var a=document.createElement("div"),b=document.createElement("div");b.appendChild(document.createElement("div"));a.appendChild(b);b=a.firstChild.firstChild;a.innerHTML=_.Vd(_.ne);return!b.parentElement});_.ue=function(a,b){this.width=a;this.height=b};_.n=_.ue.prototype;_.n.aspectRatio=function(){return this.width/this.height};_.n.tb=function(){return!(this.width*this.height)};_.n.ceil=function(){this.width=Math.ceil(this.width);this.height=Math.ceil(this.height);return this};_.n.floor=function(){this.width=Math.floor(this.width);this.height=Math.floor(this.height);return this};_.n.round=function(){this.width=Math.round(this.width);this.height=Math.round(this.height);return this};_.U=function(a,b){var c=b||document;if(c.getElementsByClassName)a=c.getElementsByClassName(a)[0];else{c=document;var d=b||c;a=d.querySelectorAll&&d.querySelector&&a?d.querySelector(a?"."+a:""):_.ve(c,a,b)[0]||null}return a||null};
_.ve=function(a,b,c){var d;a=c||a;if(a.querySelectorAll&&a.querySelector&&b)return a.querySelectorAll(b?"."+b:"");if(b&&a.getElementsByClassName){var e=a.getElementsByClassName(b);return e}e=a.getElementsByTagName("*");if(b){var f={};for(c=d=0;a=e[c];c++){var g=a.className;typeof g.split=="function"&&_.ta(g.split(/\s+/),b)&&(f[d++]=a)}f.length=d;return f}return e};_.xe=function(a){return _.we(document,a)};
_.we=function(a,b){b=String(b);a.contentType==="application/xhtml+xml"&&(b=b.toLowerCase());return a.createElement(b)};_.ye=function(a){for(var b;b=a.firstChild;)a.removeChild(b)};_.ze=function(a){return a.nodeType==9?a:a.ownerDocument||a.document};
}catch(e){_._DumpException(e)}
try{
_.Zi=function(a){const b=_.Wd("script",a.ownerDocument&&a.ownerDocument.defaultView||window);b&&a.setAttribute("nonce",b)};_.$i=function(a){if(!a)return null;a=_.H(a,4);var b;a===null||a===void 0?b=null:b=_.je(a);return b};_.aj=class extends _.Q{constructor(a){super(a)}};_.bj=function(a,b){return(b||document).getElementsByTagName(String(a))};
}catch(e){_._DumpException(e)}
try{
var dj=function(a,b,c){a<b?cj(a+1,b):_.Zc.log(Error("ca`"+a+"`"+b),{url:c})},cj=function(a,b){if(ej){const c=_.xe("SCRIPT");c.async=!0;c.type="text/javascript";c.charset="UTF-8";c.src=_.ie(ej);_.Zi(c);c.onerror=_.Xd(dj,a,b,c.src);_.bj("HEAD")[0].appendChild(c)}},fj=class extends _.Q{constructor(a){super(a)}};var gj=_.E(_.kd,fj,17)||new fj,hj,ej=(hj=_.E(gj,_.aj,1))?_.$i(hj):null,ij,jj=(ij=_.E(gj,_.aj,2))?_.$i(ij):null,kj=function(){cj(1,2);if(jj){const a=_.xe("LINK");a.setAttribute("type","text/css");a.href=_.ie(jj).toString();a.rel="stylesheet";let b=_.Wd("style",window);b&&a.setAttribute("nonce",b);_.bj("HEAD")[0].appendChild(a)}};(function(){const a=_.ld();if(_.G(a,18))kj();else{const b=_.Zd(a,19)||0;window.addEventListener("load",()=>{window.setTimeout(kj,b)})}})();
}catch(e){_._DumpException(e)}
})(this.gbar_);
// Google Inc.
</script><iframe id="hfcr" src="./Plant_Disease_Detection_files/RotateCookiesPage.html" style="display: none;"></iframe><div class="notebook-vertical colab-left-pane-open" style="position: relative;">
      <div class="top-floater"><div role="banner">
    <colab-header-skip-button><template shadowrootmode="open"><!----><a id="skiplink" class="skip-link" href="https://colab.research.google.com/drive/1iKpMre97Pp19HTaXAOfBN-d4zBRF-XaM?authuser=1#top-toolbar"><!--?lit$590858727$-->Skip to main content</a></template></colab-header-skip-button>
    <!--?lit$590858727$-->
    <!--?lit$590858727$-->
    <!--?lit$590858727$-->
          <div id="private-outputs-warning" class="header-warning private-outputs-warning hidden">
            <!--?lit$590858727$-->This notebook is open with private outputs. Outputs will not be saved. You can disable this in <a href="https://colab.research.google.com/drive/1iKpMre97Pp19HTaXAOfBN-d4zBRF-XaM?authuser=1#" id="private-outputs-notebook-info-link" command="notebook-settings" aria-describedby="private-outputs-notebook-info-link-tooltip">Notebook settings</a><colab-tooltip-trigger aria-hidden="true" for="private-outputs-notebook-info-link" id="private-outputs-notebook-info-link-tooltip"><template shadowrootmode="open"><!----><!--?lit$590858727$--><!----><div><!--?lit$590858727$-->Open notebook settings</div><!----><!--?--></template>
        </colab-tooltip-trigger>.
          <mwc-icon-button class="close" icon="close" title="Close"><template shadowrootmode="open"><!----><button class="mdc-icon-button mdc-icon-button--display-flex" aria-label="Close"><!--?lit$590858727$-->
    <!--?lit$590858727$--><i class="material-icons"><!--?lit$590858727$-->close</i>
    <span><slot></slot></span>
  </button></template></mwc-icon-button></div>
        

    <div id="header" class="horizontal layout">
      <div id="header-background"><div></div></div>
      <div id="header-content">
        <!--?lit$590858727$-->
        <!--?lit$590858727$--><div id="header-logo">
              <!--?lit$590858727$--> <!--?lit$590858727$--><a href="https://drive.google.com/drive/search?q=owner%3Ame%20(type%3Aapplication%2Fvnd.google.colaboratory%20%7C%7C%20type%3Aapplication%2Fvnd.google.colab)&amp;authuser=1" aria-label="View in Google Drive">
        <!--?lit$590858727$--><md-icon class="colab-large-icon" aria-hidden="true"><template shadowrootmode="open"><!----><slot></slot></template><!--?lit$590858727$--><svg viewBox="0 0 24 24"><!--?lit$590858727$-->
      <g id="colab-logo">
        <path d="M4.54,9.46,2.19,7.1a6.93,6.93,0,0,0,0,9.79l2.36-2.36A3.59,3.59,0,0,1,4.54,9.46Z" style="fill:var(--colab-logo-dark)"></path>
        <path d="M2.19,7.1,4.54,9.46a3.59,3.59,0,0,1,5.08,0l1.71-2.93h0l-.1-.08h0A6.93,6.93,0,0,0,2.19,7.1Z" style="fill:var(--colab-logo-light)"></path>
        <path d="M11.34,17.46h0L9.62,14.54a3.59,3.59,0,0,1-5.08,0L2.19,16.9a6.93,6.93,0,0,0,9,.65l.11-.09" style="fill:var(--colab-logo-light)"></path>
        <path d="M12,7.1a6.93,6.93,0,0,0,0,9.79l2.36-2.36a3.59,3.59,0,1,1,5.08-5.08L21.81,7.1A6.93,6.93,0,0,0,12,7.1Z" style="fill:var(--colab-logo-light)"></path>
        <path d="M21.81,7.1,19.46,9.46a3.59,3.59,0,0,1-5.08,5.08L12,16.9A6.93,6.93,0,0,0,21.81,7.1Z" style="fill:var(--colab-logo-dark)"></path>
      </g></svg></md-icon>
      </a><!--?-->
            </div>
        <div id="header-doc-toolbar" class="flex">
          <div id="document-info">
            <!--?lit$590858727$--> <!--?lit$590858727$--><md-icon class="file-location-icon" id="file-type" aria-hidden="true" title="Notebook stored in Google Drive"><template shadowrootmode="open"><!----><slot></slot></template><!--?lit$590858727$-->
      <svg viewBox="0 0 192 192">
        <path d="M128.33,122l7.59,26.17l19.89,21.42c0,0,0,0,0,0v0c2.69-1.55,4.98-3.8,6.59-6.59l18.48-32 c1.61-2.78,2.41-5.89,2.41-9l-28.38-5.5L128.33,122z" fill="#EA4335"></path>
        <path d="M123.48,18.41c-2.69-1.55-5.78-2.41-9-2.41H77.53c-3.2,0-6.32,0.88-9,2.41l0,0l7.96,26.81l19.44,20.64 L96,66l0,0l19.58-20.89L123.48,18.41C123.48,18.41,123.48,18.41,123.48,18.41C123.48,18.41,123.48,18.41,123.48,18.41z" fill="#188038"></path>
        <path d="M63.67,122l-28.33-6.5L8.72,122c0,3.1,0.8,6.2,2.4,8.99L29.6,163c1.61,2.78,3.9,5.03,6.59,6.59 l19.59-20.18L63.67,122L63.67,122z" fill="#1967D2"></path>
        <path d="M155.47,69l-25.4-44c-1.61-2.79-3.9-5.04-6.59-6.59L96,66l32.33,56h54.95c0-3.11-0.8-6.21-2.41-9 L155.47,69z" fill="#FBBC04"></path><path d="M128.33,122H63.67l-27.48,47.59c2.69,1.55,5.78,2.41,9,2.41h101.61c3.22,0,6.31-0.86,9-2.41L128.33,122z" fill="#4285F4"></path>
        <path d="M96,66L68.53,18.41c-2.69,1.55-4.97,3.79-6.58,6.57l-50.83,88.05c-1.6,2.78-2.4,5.88-2.4,8.97h54.95L96,66 z" fill="#34A853"></path>
      </svg></md-icon>
    <input id="doc-name" class="doc-name" maxlength="259" autocomplete="off" aria-label="Notebook name" command="rename" aria-describedby="doc-name-tooltip" style="width: 257.888px;"><colab-tooltip-trigger aria-hidden="true" for="doc-name" id="doc-name-tooltip"><template shadowrootmode="open"><!----><!--?lit$590858727$--><!----><div><!--?lit$590858727$-->Rename notebook</div><!----><!--?--></template>
        </colab-tooltip-trigger><colab-input-sizer aria-hidden="true" style="left: -1000%; position: absolute; font-family: &quot;Google Sans&quot;, Roboto, Noto, sans-serif; font-size: 18px; font-weight: 400; letter-spacing: normal; padding-left: 3px; padding-right: 4px; white-space: pre;">Plant_Disease_Detection.ipynb_</colab-input-sizer>
            <!--?lit$590858727$-->
                  <div class="screenreader-only" id="star-status" aria-live="polite">Notebook unstarred</div>
                  <md-icon-button id="star-icon" command="toggle-star" aria-describedby="star-icon-tooltip" data-aria-label="Star" value=""><template shadowrootmode="open" shadowrootdelegatesfocus><!----><button id="button" class="icon-button  standard " aria-label="Star">
        <!--?lit$590858727$--><md-focus-ring part="focus-ring" for="button" aria-hidden="true"><template shadowrootmode="open"><!----></template></md-focus-ring>
        <!--?lit$590858727$--><md-ripple aria-hidden="true"><template shadowrootmode="open"><!----><div class="surface"></div></template></md-ripple>
        <!--?lit$590858727$--><span class="icon"><slot></slot></span>
        <!--?lit$590858727$-->
        <!--?lit$590858727$--><span class="touch"></span>
        <!--?lit$590858727$-->
  </button></template>
                    <md-icon aria-hidden="true"><template shadowrootmode="open"><!----><slot></slot></template>star</md-icon>
                  </md-icon-button><colab-tooltip-trigger aria-hidden="true" for="star-icon" id="star-icon-tooltip"><template shadowrootmode="open"><!----><!--?lit$590858727$--><!----><div><!--?lit$590858727$-->Star notebook in Google Drive</div><!----><!--?--></template>
        </colab-tooltip-trigger>
                
          </div>
        <div class="menubar-wrapper"><div><!----><div id="top-menubar" class="goog-menubar format-lightborder" role="menubar" style="user-select: none;" tabindex="0"><!--?lit$590858727$--><div class="goog-menu-button goog-inline-block" id="file-menu-button" role="button" aria-expanded="false" aria-haspopup="true" style="user-select: none;"><div class="goog-inline-block goog-menu-button-outer-box" style="user-select: none;"><div class="goog-inline-block goog-menu-button-inner-box" style="user-select: none;"><div class="goog-inline-block goog-menu-button-caption" style="user-select: none;"><!--?lit$590858727$-->File</div><div class="goog-inline-block goog-menu-button-dropdown" style="user-select: none;">&nbsp;</div></div></div></div><div class="goog-menu-button goog-inline-block" id="edit-menu-button" role="button" aria-expanded="false" aria-haspopup="true" style="user-select: none;"><div class="goog-inline-block goog-menu-button-outer-box" style="user-select: none;"><div class="goog-inline-block goog-menu-button-inner-box" style="user-select: none;"><div class="goog-inline-block goog-menu-button-caption" style="user-select: none;"><!--?lit$590858727$-->Edit</div><div class="goog-inline-block goog-menu-button-dropdown" style="user-select: none;">&nbsp;</div></div></div></div><div class="goog-menu-button goog-inline-block" id="view-menu-button" role="button" aria-expanded="false" aria-haspopup="true" style="user-select: none;"><div class="goog-inline-block goog-menu-button-outer-box" style="user-select: none;"><div class="goog-inline-block goog-menu-button-inner-box" style="user-select: none;"><div class="goog-inline-block goog-menu-button-caption" style="user-select: none;"><!--?lit$590858727$-->View</div><div class="goog-inline-block goog-menu-button-dropdown" style="user-select: none;">&nbsp;</div></div></div></div><div class="goog-menu-button goog-inline-block" id="insert-menu-button" role="button" aria-expanded="false" aria-haspopup="true" style="user-select: none;"><div class="goog-inline-block goog-menu-button-outer-box" style="user-select: none;"><div class="goog-inline-block goog-menu-button-inner-box" style="user-select: none;"><div class="goog-inline-block goog-menu-button-caption" style="user-select: none;"><!--?lit$590858727$-->Insert</div><div class="goog-inline-block goog-menu-button-dropdown" style="user-select: none;">&nbsp;</div></div></div></div><div class="goog-menu-button goog-inline-block" id="runtime-menu-button" role="button" aria-expanded="false" aria-haspopup="true" style="user-select: none;"><div class="goog-inline-block goog-menu-button-outer-box" style="user-select: none;"><div class="goog-inline-block goog-menu-button-inner-box" style="user-select: none;"><div class="goog-inline-block goog-menu-button-caption" style="user-select: none;"><!--?lit$590858727$-->Runtime</div><div class="goog-inline-block goog-menu-button-dropdown" style="user-select: none;">&nbsp;</div></div></div></div><div class="goog-menu-button goog-inline-block" id="tools-menu-button" role="button" aria-expanded="false" aria-haspopup="true" style="user-select: none;"><div class="goog-inline-block goog-menu-button-outer-box" style="user-select: none;"><div class="goog-inline-block goog-menu-button-inner-box" style="user-select: none;"><div class="goog-inline-block goog-menu-button-caption" style="user-select: none;"><!--?lit$590858727$-->Tools</div><div class="goog-inline-block goog-menu-button-dropdown" style="user-select: none;">&nbsp;</div></div></div></div><div class="goog-menu-button goog-inline-block" id="help-menu-button" role="button" aria-expanded="false" aria-haspopup="true" style="user-select: none;"><div class="goog-inline-block goog-menu-button-outer-box" style="user-select: none;"><div class="goog-inline-block goog-menu-button-inner-box" style="user-select: none;"><div class="goog-inline-block goog-menu-button-caption" style="user-select: none;"><!--?lit$590858727$-->Help</div><div class="goog-inline-block goog-menu-button-dropdown" style="user-select: none;">&nbsp;</div></div></div></div></div>
    <div id="colab-menu-cover" style="left: 231.137px; top: 60px; width: 63px; display: none;"> </div></div><!----><colab-last-saved-indicator aria-live="polite" aria-atomic="true" title=""><template shadowrootmode="open"><!----><button class=" save-message "><!--?lit$590858727$-->All changes saved</button></template></colab-last-saved-indicator></div></div>
        <div id="header-right">
          <!--?lit$590858727$-->
    <colab-collaborator-bar id="collaborator-bar"><template shadowrootmode="open"><!----> <div class="collaborator-bar">
      <!--?lit$590858727$-->
      <!--?lit$590858727$-->
    </div></template></colab-collaborator-bar>
  
          <!--?lit$590858727$--> <md-text-button id="comments" command="open-comments-thread" aria-describedby="comments-tooltip" value="" has-icon=""><template shadowrootmode="open" shadowrootdelegatesfocus><!---->
      <!--?lit$590858727$-->
      <div class="background"></div>
      <md-focus-ring part="focus-ring" for="button" aria-hidden="true"><template shadowrootmode="open"><!----></template></md-focus-ring>
      <md-ripple part="ripple" for="button" aria-hidden="true"><template shadowrootmode="open"><!----><div class="surface"></div></template></md-ripple>
      <!--?lit$590858727$--><button id="button" class="button">
      <!--?lit$590858727$-->
      <span class="touch"></span>
      <!--?lit$590858727$--><slot name="icon"></slot>
      <span class="label"><slot></slot></span>
      <!--?lit$590858727$-->
    
    </button>
    </template>
                <md-icon slot="icon" aria-hidden="true"><template shadowrootmode="open"><!----><slot></slot></template>comment</md-icon>
                <!--?lit$590858727$-->Comment
              </md-text-button><colab-tooltip-trigger aria-hidden="true" for="comments" id="comments-tooltip"><template shadowrootmode="open"><!----><!--?lit$590858727$--><!----><div><!--?lit$590858727$-->Open comments pane</div><!----><!--?--></template>
        </colab-tooltip-trigger>
          <!--?lit$590858727$--> <md-text-button id="share-toolbar-button" command="share" aria-describedby="share-toolbar-button-tooltip" value="" has-icon=""><template shadowrootmode="open" shadowrootdelegatesfocus><!---->
      <!--?lit$590858727$-->
      <div class="background"></div>
      <md-focus-ring part="focus-ring" for="button" aria-hidden="true"><template shadowrootmode="open"><!----></template></md-focus-ring>
      <md-ripple part="ripple" for="button" aria-hidden="true"><template shadowrootmode="open"><!----><div class="surface"></div></template></md-ripple>
      <!--?lit$590858727$--><button id="button" class="button">
      <!--?lit$590858727$-->
      <span class="touch"></span>
      <!--?lit$590858727$--><slot name="icon"></slot>
      <span class="label"><slot></slot></span>
      <!--?lit$590858727$-->
    
    </button>
    </template>
                <md-icon slot="icon" aria-hidden="true"><template shadowrootmode="open"><!----><slot></slot></template><!--?lit$590858727$-->people</md-icon>
                <!--?lit$590858727$-->Share
              </md-text-button><colab-tooltip-trigger aria-hidden="true" for="share-toolbar-button" id="share-toolbar-button-tooltip"><template shadowrootmode="open"><!----><!--?lit$590858727$--><!----><div><!--?lit$590858727$-->Share notebook</div><!----><!--?--></template>
        </colab-tooltip-trigger>
          <!--?lit$590858727$--> <md-icon-button id="settings-cog" command="preferences" data-aria-label="Open settings" aria-describedby="settings-cog-tooltip" value=""><template shadowrootmode="open" shadowrootdelegatesfocus><!----><button id="button" class="icon-button  standard " aria-label="Open settings">
        <!--?lit$590858727$--><md-focus-ring part="focus-ring" for="button" aria-hidden="true"><template shadowrootmode="open"><!----></template></md-focus-ring>
        <!--?lit$590858727$--><md-ripple aria-hidden="true"><template shadowrootmode="open"><!----><div class="surface"></div></template></md-ripple>
        <!--?lit$590858727$--><span class="icon"><slot></slot></span>
        <!--?lit$590858727$-->
        <!--?lit$590858727$--><span class="touch"></span>
        <!--?lit$590858727$-->
  </button></template>
                <md-icon aria-hidden="true"><template shadowrootmode="open"><!----><slot></slot></template>settings</md-icon>
              </md-icon-button><colab-tooltip-trigger aria-hidden="true" for="settings-cog" id="settings-cog-tooltip"><template shadowrootmode="open"><!----><!--?lit$590858727$--><!----><div><!--?lit$590858727$-->Open settings</div><!----><!--?--></template>
        </colab-tooltip-trigger>
          <div class="header-onegoogle-container"><div class="onegoogle"><div class="gb_Da gb_Fd gb_0d gb_Uc" id="gb"><div class="gb_zd gb_Wd gb_ud" ng-non-bindable="" data-ogsr-up="" style="padding:0;height:auto;display:block"><div class="gb_Pe" style="display:block"><div class="gb_1c"></div><div class="gb_y gb_9c gb_Lf gb_X"><div class="gb_C gb_hb gb_Lf gb_X"><a class="gb_A gb_Wa gb_X" aria-label="Google Account: Pawan Singh  
(pawansinghvns22@gmail.com)" href="https://accounts.google.com/SignOutOptions?hl=en&amp;continue=https://colab.research.google.com/drive/1iKpMre97Pp19HTaXAOfBN-d4zBRF-XaM%3Fauthuser%3D1&amp;ec=GBRAqQM" tabindex="0" role="button" aria-expanded="false"><img class="gb_M gbii" src="./Plant_Disease_Detection_files/unnamed.png" srcset="https://lh3.google.com/u/1/ogw/AF2bZyifFdQIzuPkahrSkqcDu6dbupQPdgHVeYq8bmNp8md3lQ=s32-c-mo 1x, https://lh3.google.com/u/1/ogw/AF2bZyifFdQIzuPkahrSkqcDu6dbupQPdgHVeYq8bmNp8md3lQ=s64-c-mo 2x " alt="" aria-hidden="true" data-noaft=""></a></div></div></div><div aria-hidden="true" style="overflow: hidden; position: absolute; top: 0px; visibility: hidden; width: 436px; z-index: 991; height: 0px; margin-top: 57px; right: 0px; margin-right: 4px;"><iframe role="presentation" frameborder="0" scrolling="no" name="account" src="./Plant_Disease_Detection_files/saved_resource.html" style="height: 100%; width: 100%; color-scheme: light; visibility: hidden;"></iframe></div><div style="overflow: hidden; position: absolute; top: 0px; visibility: hidden; width: 420px; z-index: 991; height: 280px; margin-top: 70px; right: 0px; margin-right: 25px;"></div></div></div><script nonce="">this.gbar_=this.gbar_||{};(function(_){var window=this;
try{
_.Fd=function(a,b,c){if(!a.j)if(c instanceof Array)for(var d of c)_.Fd(a,b,d);else{d=(0,_.z)(a.C,a,b);const e=a.v+c;a.v++;b.dataset.eqid=e;a.B[e]=d;b&&b.addEventListener?b.addEventListener(c,d,!1):b&&b.attachEvent?b.attachEvent("on"+c,d):a.o.log(Error("z`"+b))}};
}catch(e){_._DumpException(e)}
try{
var Gd=document.querySelector(".gb_I .gb_A"),Hd=document.querySelector("#gb.gb_Qc");Gd&&!Hd&&_.Fd(_.pd,Gd,"click");
}catch(e){_._DumpException(e)}
try{
_.Ah=function(a){const b=[];let c=0;for(const d in a)b[c++]=a[d];return b};_.Bh=function(a){if(a.v)return a.v;for(const b in a.i)if(a.i[b].ma()&&a.i[b].B())return a.i[b];return null};_.Ch=function(a,b){a.i[b.K()]=b};var Dh=new class extends _.R{constructor(){var a=_.Zc;super();this.B=a;this.v=null;this.o={};this.C={};this.i={};this.j=null}A(a){this.i[a]&&(_.Bh(this)&&_.Bh(this).K()==a||this.i[a].R(!0))}Ua(a){this.j=a;for(const b in this.i)this.i[b].ma()&&this.i[b].Ua(a)}lc(a){return a in this.i?this.i[a]:null}};_.sd("dd",Dh);
}catch(e){_._DumpException(e)}
try{
_.Ti=function(a,b){return _.M(a,36,b)};
}catch(e){_._DumpException(e)}
try{
var Ui=document.querySelector(".gb_y .gb_A"),Vi=document.querySelector("#gb.gb_Qc");Ui&&!Vi&&_.Fd(_.pd,Ui,"click");
}catch(e){_._DumpException(e)}
})(this.gbar_);
// Google Inc.
</script></div></div>
        </div>
      </div>
    </div>
  </div></div><div class="notebook-horizontal">
        <!--?lit$590858727$--><colab-left-pane role="complementary" aria-label="left pane" class="colab-left-pane-open"><!----><div class="colab-left-pane-nib layout vertical" role="toolbar" aria-orientation="vertical">
        <div class="left-pane-top"><!----><div class="left-pane-button">
        <!--?lit$590858727$--><md-icon-button toggle="" command="show-toc-pane" data-aria-label="Table of contents" title="Table of contents" value="" tabindex="-1"><template shadowrootmode="open" shadowrootdelegatesfocus><!----><button id="button" class="icon-button  standard " aria-label="Table of contents" aria-pressed="false">
        <!--?lit$590858727$--><md-focus-ring part="focus-ring" for="button" aria-hidden="true"><template shadowrootmode="open"><!----></template></md-focus-ring>
        <!--?lit$590858727$--><md-ripple aria-hidden="true"><template shadowrootmode="open"><!----><div class="surface   "></div></template></md-ripple>
        <!--?lit$590858727$--><span class="icon"><slot></slot></span>
        <!--?lit$590858727$-->
        <!--?lit$590858727$--><span class="touch"></span>
        <!--?lit$590858727$-->
  </button></template>
      <md-icon aria-hidden="true"><template shadowrootmode="open"><!----><slot></slot></template><!--?lit$590858727$-->format_list_bulleted</md-icon>
    </md-icon-button> <!--?lit$590858727$-->
      </div><!----><div class="left-pane-button">
        <!--?lit$590858727$--><md-icon-button toggle="" command="find" data-aria-label="Find and replace" title="Find and replace" value="" tabindex="-1"><template shadowrootmode="open" shadowrootdelegatesfocus><!----><button id="button" class="icon-button  standard " aria-label="Find and replace" aria-pressed="false">
        <!--?lit$590858727$--><md-focus-ring part="focus-ring" for="button" aria-hidden="true"><template shadowrootmode="open"><!----></template></md-focus-ring>
        <!--?lit$590858727$--><md-ripple aria-hidden="true"><template shadowrootmode="open"><!----><div class="surface   "></div></template></md-ripple>
        <!--?lit$590858727$--><span class="icon"><slot></slot></span>
        <!--?lit$590858727$-->
        <!--?lit$590858727$--><span class="touch"></span>
        <!--?lit$590858727$-->
  </button></template>
      <md-icon aria-hidden="true"><template shadowrootmode="open"><!----><slot></slot></template><!--?lit$590858727$-->search</md-icon>
    </md-icon-button> <!--?lit$590858727$-->
      </div><!----><div class="left-pane-button">
        <!--?lit$590858727$--><md-icon-button toggle="" command="show-variables" data-aria-label="Variables" title="Variables" value="" tabindex="-1"><template shadowrootmode="open" shadowrootdelegatesfocus><!----><button id="button" class="icon-button  standard " aria-label="Variables" aria-pressed="false">
        <!--?lit$590858727$--><md-focus-ring part="focus-ring" for="button" aria-hidden="true"><template shadowrootmode="open"><!----></template></md-focus-ring>
        <!--?lit$590858727$--><md-ripple aria-hidden="true"><template shadowrootmode="open"><!----><div class="surface"></div></template></md-ripple>
        <!--?lit$590858727$--><span class="icon"><slot></slot></span>
        <!--?lit$590858727$-->
        <!--?lit$590858727$--><span class="touch"></span>
        <!--?lit$590858727$-->
  </button></template>
      <md-icon aria-hidden="true"><template shadowrootmode="open"><!----><slot></slot></template><!--?lit$590858727$--><svg viewBox="0 0 24 24"><!--?lit$590858727$-->
      <path d="M4.51,9.44V6.08c0-1.34.37-1.85,1.6-2.17l.22-.06V3.13l-.27,0-.44,0a4.46,4.46,0,0,0-2.2.59,2.78,2.78,0,0,0-1,2.51V9.74c0,1.26-.26,1.61-1.49,2L0,12l.94.29c1.21.38,1.49.75,1.49,2v3.5a2.94,2.94,0,0,0,1,2.6,4.39,4.39,0,0,0,2.14.56l.46,0,.27,0v-.72l-.22-.06c-1.24-.32-1.6-.81-1.6-2.17V14.58c0-1.43-.3-2.13-1.25-2.57C4.2,11.57,4.51,10.87,4.51,9.44Z"></path>
      <path d="M23.06,11.71c-1.22-.36-1.49-.71-1.49-2l0-3.5a3,3,0,0,0-1-2.6,4.38,4.38,0,0,0-2.14-.56l-.46,0-.27,0v.72l.22.06c1.24.32,1.6.81,1.6,2.17V9.44c0,1.44.3,2.13,1.25,2.57-1,.44-1.25,1.14-1.25,2.57v3.36c0,1.34-.37,1.85-1.6,2.17l-.22.06v.72l.27,0,.44,0a4.47,4.47,0,0,0,2.2-.59,2.82,2.82,0,0,0,1-2.51V14.28c0-1.26.26-1.61,1.49-2L24,12Z"></path>
      <path d="M15.16,8.22a.88.88,0,0,1,.46.16,1.25,1.25,0,0,0,.69.2h0A1,1,0,0,0,17,8.23a1.06,1.06,0,0,0,.24-.8,1.1,1.1,0,0,0-1.15-1h0c-1,0-1.73.64-3,2.57l-.12-.51c-.28-1.36-.56-2-1.39-2h0A8,8,0,0,0,9,7.08l-.47.16.16.91L9.41,8a3.22,3.22,0,0,1,.73-.14c.34,0,.43,0,.71,1.2l.56,2.47L9.76,13.82a3.6,3.6,0,0,1-.8.88.9.9,0,0,1-.38-.13,1.83,1.83,0,0,0-.88-.28,1,1,0,0,0-1,1.06A1.15,1.15,0,0,0,8,16.53c.85,0,1.35-.35,2.24-1.55l1.49-2,.46,1.88c.23,1,.46,1.66,1.53,1.66s1.66-.75,2.81-2.53l.17-.26-.81-.48-.16.2-.25.34-.19.25c-.45.57-.62.73-.76.73s-.28-.4-.34-.63l-.67-2.83a4.2,4.2,0,0,1-.15-.79C13.84,9.78,14.74,8.22,15.16,8.22Z"></path></svg></md-icon>
    </md-icon-button> <!--?lit$590858727$-->
      </div><!----><div class="left-pane-button">
        <!--?lit$590858727$--><md-icon-button toggle="" command="open-user-secrets" data-aria-label="Secrets" title="Secrets" value="" tabindex="-1"><template shadowrootmode="open" shadowrootdelegatesfocus><!----><button id="button" class="icon-button  standard " aria-label="Secrets" aria-pressed="false">
        <!--?lit$590858727$--><md-focus-ring part="focus-ring" for="button" aria-hidden="true"><template shadowrootmode="open"><!----></template></md-focus-ring>
        <!--?lit$590858727$--><md-ripple aria-hidden="true"><template shadowrootmode="open"><!----><div class="surface"></div></template></md-ripple>
        <!--?lit$590858727$--><span class="icon"><slot></slot></span>
        <!--?lit$590858727$-->
        <!--?lit$590858727$--><span class="touch"></span>
        <!--?lit$590858727$-->
  </button></template>
      <md-icon aria-hidden="true"><template shadowrootmode="open"><!----><slot></slot></template><!--?lit$590858727$-->vpn_key</md-icon>
    </md-icon-button> <!--?lit$590858727$-->
      </div><!----><div class="left-pane-button">
        <!--?lit$590858727$--><md-icon-button toggle="" command="show-files" data-aria-label="Files" title="Files" value="" selected=""><template shadowrootmode="open" shadowrootdelegatesfocus><!----><button id="button" class="icon-button standard selected" aria-label="Files" aria-pressed="true">
        <!--?lit$590858727$--><md-focus-ring part="focus-ring" for="button" aria-hidden="true"><template shadowrootmode="open"><!----></template></md-focus-ring>
        <!--?lit$590858727$--><md-ripple aria-hidden="true"><template shadowrootmode="open"><!----><div class="surface"></div></template></md-ripple>
        <!--?lit$590858727$-->
        <!--?lit$590858727$--><span class="icon icon--selected"><slot name="selected"><slot></slot></slot></span>
        <!--?lit$590858727$--><span class="touch"></span>
        <!--?lit$590858727$-->
  </button></template>
      <md-icon aria-hidden="true"><template shadowrootmode="open"><!----><slot></slot></template><!--?lit$590858727$-->folder</md-icon>
    </md-icon-button> <!--?lit$590858727$-->
      </div></div>
        <div class="left-pane-bottom"><!----><div class="left-pane-button">
        <!--?lit$590858727$--><md-icon-button command="snippets" data-aria-label="Code snippets" title="Code snippets" value="" tabindex="-1"><template shadowrootmode="open" shadowrootdelegatesfocus><!----><button id="button" class="icon-button  standard " aria-label="Code snippets">
        <!--?lit$590858727$--><md-focus-ring part="focus-ring" for="button" aria-hidden="true"><template shadowrootmode="open"><!----></template></md-focus-ring>
        <!--?lit$590858727$--><md-ripple aria-hidden="true"><template shadowrootmode="open"><!----><div class="surface   "></div></template></md-ripple>
        <!--?lit$590858727$--><span class="icon"><slot></slot></span>
        <!--?lit$590858727$-->
        <!--?lit$590858727$--><span class="touch"></span>
        <!--?lit$590858727$-->
  </button></template>
      <md-icon aria-hidden="true"><template shadowrootmode="open"><!----><slot></slot></template><!--?lit$590858727$-->code</md-icon>
    </md-icon-button> <!--?lit$590858727$-->
      </div><!----><div class="left-pane-button">
        <!--?lit$590858727$--><md-icon-button command="show-command-palette" data-aria-label="Command palette" title="Command palette" value="" tabindex="-1"><template shadowrootmode="open" shadowrootdelegatesfocus><!----><button id="button" class="icon-button  standard " aria-label="Command palette">
        <!--?lit$590858727$--><md-focus-ring part="focus-ring" for="button" aria-hidden="true"><template shadowrootmode="open"><!----></template></md-focus-ring>
        <!--?lit$590858727$--><md-ripple aria-hidden="true"><template shadowrootmode="open"><!----><div class="surface   "></div></template></md-ripple>
        <!--?lit$590858727$--><span class="icon"><slot></slot></span>
        <!--?lit$590858727$-->
        <!--?lit$590858727$--><span class="touch"></span>
        <!--?lit$590858727$-->
  </button></template>
      <md-icon aria-hidden="true"><template shadowrootmode="open"><!----><slot></slot></template><!--?lit$590858727$--><svg viewBox="0 0 24 24"><!--?lit$590858727$-->
      <path d="M21,3H3A2,2,0,0,0,1,5V17a2,2,0,0,0,2,2H21a2,2,0,0,0,2-2V5A2,2,0,0,0,21,3Zm0,2V17H3V5"></path>
      <rect x="5" y="12" width="11" height="2"></rect>
      <rect x="5" y="8" width="11" height="2"></rect>
      <rect x="17" y="8" width="2" height="2"></rect>
      <rect x="17" y="12" width="2" height="2"></rect></svg></md-icon>
    </md-icon-button> <!--?lit$590858727$-->
      </div><!----><div class="left-pane-button">
        <!--?lit$590858727$--><md-icon-button command="show-terminal" data-aria-label="Terminal" title="Terminal" value="" tabindex="-1"><template shadowrootmode="open" shadowrootdelegatesfocus><!----><button id="button" class="icon-button  standard " aria-label="Terminal">
        <!--?lit$590858727$--><md-focus-ring part="focus-ring" for="button" aria-hidden="true"><template shadowrootmode="open"><!----></template></md-focus-ring>
        <!--?lit$590858727$--><md-ripple aria-hidden="true"><template shadowrootmode="open"><!----><div class="surface   "></div></template></md-ripple>
        <!--?lit$590858727$--><span class="icon"><slot></slot></span>
        <!--?lit$590858727$-->
        <!--?lit$590858727$--><span class="touch"></span>
        <!--?lit$590858727$-->
  </button></template>
      <md-icon aria-hidden="true"><template shadowrootmode="open"><!----><slot></slot></template><!--?lit$590858727$-->terminal</md-icon>
    </md-icon-button> <!--?lit$590858727$-->
      </div></div>
      </div><colab-resizer class="ew-resize">
          <div class="resizer-contents">
            <div class="colab-left-pane-header layout horizontal noshrink">
              <h3 class="left-pane-content-title">Files</h3>
              <!--?lit$590858727$--><md-icon-button class="colab-left-pane-move" data-aria-label="Move left pane to a tab" value=""><template shadowrootmode="open" shadowrootdelegatesfocus><!----><button id="button" class="icon-button  standard " aria-label="Move left pane to a tab">
        <!--?lit$590858727$--><md-focus-ring part="focus-ring" for="button" aria-hidden="true"><template shadowrootmode="open"><!----></template></md-focus-ring>
        <!--?lit$590858727$--><md-ripple aria-hidden="true"><template shadowrootmode="open"><!----><div class="surface"></div></template></md-ripple>
        <!--?lit$590858727$--><span class="icon"><slot></slot></span>
        <!--?lit$590858727$-->
        <!--?lit$590858727$--><span class="touch"></span>
        <!--?lit$590858727$-->
  </button></template>
      <md-icon aria-hidden="true"><template shadowrootmode="open"><!----><slot></slot></template>tab</md-icon>
    </md-icon-button> <!--?lit$590858727$--><md-icon-button class="colab-left-pane-close" data-aria-label="Close left pane" value=""><template shadowrootmode="open" shadowrootdelegatesfocus><!----><button id="button" class="icon-button  standard " aria-label="Close left pane">
        <!--?lit$590858727$--><md-focus-ring part="focus-ring" for="button" aria-hidden="true"><template shadowrootmode="open"><!----></template></md-focus-ring>
        <!--?lit$590858727$--><md-ripple aria-hidden="true"><template shadowrootmode="open"><!----><div class="surface"></div></template></md-ripple>
        <!--?lit$590858727$--><span class="icon"><slot></slot></span>
        <!--?lit$590858727$-->
        <!--?lit$590858727$--><span class="touch"></span>
        <!--?lit$590858727$-->
  </button></template>
      <md-icon aria-hidden="true"><template shadowrootmode="open"><!----><slot></slot></template>close</md-icon>
    </md-icon-button>
            </div>
            <div class="left-pane-container"><colab-file-browser class="layout vertical"><colab-file-tree><!----> <div class="file-tree-buttons">
          <label for="file-tree-upload-input">
            <md-icon-button class="colab-icon file-tree-upload-button" title="Upload to session storage" data-aria-label="Upload to session storage" value=""><template shadowrootmode="open" shadowrootdelegatesfocus><!----><button id="button" class="icon-button  standard " aria-label="Upload to session storage">
        <!--?lit$590858727$--><md-focus-ring part="focus-ring" for="button" aria-hidden="true"><template shadowrootmode="open"><!----></template></md-focus-ring>
        <!--?lit$590858727$--><md-ripple aria-hidden="true"><template shadowrootmode="open"><!----><div class="surface   "></div></template></md-ripple>
        <!--?lit$590858727$--><span class="icon"><slot></slot></span>
        <!--?lit$590858727$-->
        <!--?lit$590858727$--><span class="touch"></span>
        <!--?lit$590858727$-->
  </button></template>
              <md-icon aria-hidden="true"><template shadowrootmode="open"><!----><slot></slot></template>upload_file</md-icon>
            </md-icon-button>
          </label>
          <input id="file-tree-upload-input" type="file" multiple="">
          <md-icon-button class="file-tree-refresh" title="Refresh" value=""><template shadowrootmode="open" shadowrootdelegatesfocus><!----><button id="button" class="icon-button  standard ">
        <!--?lit$590858727$--><md-focus-ring part="focus-ring" for="button" aria-hidden="true"><template shadowrootmode="open"><!----></template></md-focus-ring>
        <!--?lit$590858727$--><md-ripple aria-hidden="true"><template shadowrootmode="open"><!----><div class="surface   "></div></template></md-ripple>
        <!--?lit$590858727$--><span class="icon"><slot></slot></span>
        <!--?lit$590858727$-->
        <!--?lit$590858727$--><span class="touch"></span>
        <!--?lit$590858727$-->
  </button></template>
            <md-icon aria-hidden="true"><template shadowrootmode="open"><!----><slot></slot></template>refresh</md-icon>
          </md-icon-button>
          <md-icon-button toggle="" class="mount-drive-button" title="Mount Drive" data-aria-label="Mount Drive" aria-label-selected="Unmount Drive" style="display: flex;" value=""><template shadowrootmode="open" shadowrootdelegatesfocus><!----><button id="button" class="icon-button  standard " aria-label="Mount Drive" aria-pressed="false">
        <!--?lit$590858727$--><md-focus-ring part="focus-ring" for="button" aria-hidden="true"><template shadowrootmode="open"><!----></template></md-focus-ring>
        <!--?lit$590858727$--><md-ripple aria-hidden="true"><template shadowrootmode="open"><!----><div class="surface   "></div></template></md-ripple>
        <!--?lit$590858727$--><span class="icon"><slot></slot></span>
        <!--?lit$590858727$-->
        <!--?lit$590858727$--><span class="touch"></span>
        <!--?lit$590858727$-->
  </button></template>
            <md-icon aria-hidden="true"><template shadowrootmode="open"><!----><slot></slot></template><!--?lit$590858727$--><svg viewBox="0 0 24 24"><!--?lit$590858727$-->
    <path d="M20,6H12L10,4H4A2,2,0,0,0,2,6V18a2,2,0,0,0,2,2H20a2,2,0,0,0,2-2V8A2,2,0,0,0,20,6ZM13.57,9.32,13,8.4l.34-.6h3.11l3.69,6.5H16.38M12.11,17l-.67,1.2h-1L9,15.42,12.72,9l2,3.46h0M19.3,18.2H12.09l.67-1.2,1.15-2h6.64l.34.6Z"></path></svg></md-icon>
            <md-icon slot="selected" aria-hidden="true"><template shadowrootmode="open"><!----><slot></slot></template><!--?lit$590858727$--><svg viewBox="0 0 24 24"><!--?lit$590858727$-->
    <path d="M12.72,9l2,3.46h0l-.26.47,2,2h4.1l.34.6L19.45,18l1.69,1.69A2,2,0,0,0,22,18V8a2,2,0,0,0-2-2H12L10,4H5.5l6.4,6.4Zm.66-1.17h3.11l3.69,6.5H16.38l-2.81-5L13,8.4Z"></path>
    <path d="M22.19,22.19,1.81,1.81.4,3.22,2.25,5.07A2,2,0,0,0,2,6V18a2,2,0,0,0,2,2H17.17l3.61,3.61Zm-11.73-4L9,15.42l1.3-2.26,2.35,2.36.17.17L12.11,17l-.67,1.2Zm1.63,0,.67-1.2.51-.9,2.1,2.1Z"></path></svg></md-icon>
          </md-icon-button>
          <md-icon-button toggle="" id="hidden-files-toggle" data-aria-label="Show hidden files" aria-label-selected="Hide hidden files" title="Show hidden files" value=""><template shadowrootmode="open" shadowrootdelegatesfocus><!----><button id="button" class="icon-button  standard " aria-label="Show hidden files" aria-pressed="false">
        <!--?lit$590858727$--><md-focus-ring part="focus-ring" for="button" aria-hidden="true"><template shadowrootmode="open"><!----></template></md-focus-ring>
        <!--?lit$590858727$--><md-ripple aria-hidden="true"><template shadowrootmode="open"><!----><div class="surface   "></div></template></md-ripple>
        <!--?lit$590858727$--><span class="icon"><slot></slot></span>
        <!--?lit$590858727$-->
        <!--?lit$590858727$--><span class="touch"></span>
        <!--?lit$590858727$-->
  </button></template>
            <md-icon aria-hidden="true"><template shadowrootmode="open"><!----><slot></slot></template>visibility_off</md-icon>
            <md-icon slot="selected" aria-hidden="true"><template shadowrootmode="open"><!----><slot></slot></template>visibility</md-icon>
          </md-icon-button>
        </div>
        <div class="parent-link"><div class="file-title-row">
          <!--?lit$590858727$-->
                <div class="file-icon colab-icon" style="margin-left: 0px;"></div>
              
          <md-icon class="file-icon colab-icon" aria-hidden="true"><template shadowrootmode="open"><!----><slot></slot></template><!--?lit$590858727$-->folder_open</md-icon>
          <span class="file-tree-name" title="Up one level">
            <!--?lit$590858727$-->..
          </span>
          <input class="file-tree-name-input" value="..">
          <md-icon-button class="file-item-menu" data-aria-expanded="false" data-aria-haspopup="menu" data-aria-label="More actions for file: .." value=""><template shadowrootmode="open" shadowrootdelegatesfocus><!----><button id="button" class="icon-button  standard " aria-label="More actions for file: .." aria-haspopup="menu" aria-expanded="false">
        <!--?lit$590858727$--><md-focus-ring part="focus-ring" for="button" aria-hidden="true"><template shadowrootmode="open"><!----></template></md-focus-ring>
        <!--?lit$590858727$--><md-ripple aria-hidden="true"><template shadowrootmode="open"><!----><div class="surface   "></div></template></md-ripple>
        <!--?lit$590858727$--><span class="icon"><slot></slot></span>
        <!--?lit$590858727$-->
        <!--?lit$590858727$--><span class="touch"></span>
        <!--?lit$590858727$-->
  </button></template><md-icon aria-hidden="true"><template shadowrootmode="open"><!----><slot></slot></template>more_vert</md-icon></md-icon-button>
        </div></div>
        <div class="files-root"><colab-file-view filename="content" draggable="true"><!----><!--?lit$590858727$--><!--?--><!--?lit$590858727$-->
        <div class="child-files"><colab-file-view filename="plantvillage dataset" class="collapsed" draggable="true"><!----><!--?lit$590858727$-->
        <div class="file-title-row">
          <!--?lit$590858727$--> <md-icon class="file-icon colab-icon directory-icon" style="margin-left: 0px;" aria-hidden="true"><template shadowrootmode="open"><!----><slot></slot></template>arrow_drop_down</md-icon>
          <md-icon class="file-icon colab-icon" aria-hidden="true"><template shadowrootmode="open"><!----><slot></slot></template><!--?lit$590858727$-->folder</md-icon>
          <span class="file-tree-name" title="plantvillage dataset">
            <!--?lit$590858727$-->plantvillage dataset
          </span>
          <input class="file-tree-name-input" value="plantvillage dataset">
          <md-icon-button class="file-item-menu" data-aria-expanded="false" data-aria-haspopup="menu" data-aria-label="More actions for folder: plantvillage dataset" value=""><template shadowrootmode="open" shadowrootdelegatesfocus><!----><button id="button" class="icon-button  standard " aria-label="More actions for folder: plantvillage dataset" aria-haspopup="menu" aria-expanded="false">
        <!--?lit$590858727$--><md-focus-ring part="focus-ring" for="button" aria-hidden="true"><template shadowrootmode="open"><!----></template></md-focus-ring>
        <!--?lit$590858727$--><md-ripple aria-hidden="true"><template shadowrootmode="open"><!----><div class="surface   "></div></template></md-ripple>
        <!--?lit$590858727$--><span class="icon"><slot></slot></span>
        <!--?lit$590858727$-->
        <!--?lit$590858727$--><span class="touch"></span>
        <!--?lit$590858727$-->
  </button></template><md-icon aria-hidden="true"><template shadowrootmode="open"><!----><slot></slot></template>more_vert</md-icon></md-icon-button>
        </div>
      <!--?lit$590858727$-->
        <div class="child-files"></div>
        <div class="overflow-ellipsis" title="Directory is too large to display all files." style="margin-left: 0px;">
          …
        </div>
      <!--?--></colab-file-view><colab-file-view filename="sample_data" class="collapsed" draggable="true"><!----><!--?lit$590858727$-->
        <div class="file-title-row">
          <!--?lit$590858727$--> <md-icon class="file-icon colab-icon directory-icon" style="margin-left: 0px;" aria-hidden="true"><template shadowrootmode="open"><!----><slot></slot></template>arrow_drop_down</md-icon>
          <md-icon class="file-icon colab-icon" aria-hidden="true"><template shadowrootmode="open"><!----><slot></slot></template><!--?lit$590858727$-->folder</md-icon>
          <span class="file-tree-name" title="sample_data">
            <!--?lit$590858727$-->sample_data
          </span>
          <input class="file-tree-name-input" value="sample_data">
          <md-icon-button class="file-item-menu" data-aria-expanded="false" data-aria-haspopup="menu" data-aria-label="More actions for folder: sample_data" value=""><template shadowrootmode="open" shadowrootdelegatesfocus><!----><button id="button" class="icon-button  standard " aria-label="More actions for folder: sample_data" aria-haspopup="menu" aria-expanded="false">
        <!--?lit$590858727$--><md-focus-ring part="focus-ring" for="button" aria-hidden="true"><template shadowrootmode="open"><!----></template></md-focus-ring>
        <!--?lit$590858727$--><md-ripple aria-hidden="true"><template shadowrootmode="open"><!----><div class="surface   "></div></template></md-ripple>
        <!--?lit$590858727$--><span class="icon"><slot></slot></span>
        <!--?lit$590858727$-->
        <!--?lit$590858727$--><span class="touch"></span>
        <!--?lit$590858727$-->
  </button></template><md-icon aria-hidden="true"><template shadowrootmode="open"><!----><slot></slot></template>more_vert</md-icon></md-icon-button>
        </div>
      <!--?lit$590858727$-->
        <div class="child-files"></div>
        <div class="overflow-ellipsis" title="Directory is too large to display all files." style="margin-left: 0px;">
          …
        </div>
      <!--?--></colab-file-view><colab-file-view filename="00075aa8-d81a-4184-8541-b692b78d398a___FREC_Scab 3335.JPG" draggable="true"><!----><!--?lit$590858727$-->
        <div class="file-title-row">
          <!--?lit$590858727$-->
                <div class="file-icon colab-icon" style="margin-left: 0px;"></div>
              
          <md-icon class="file-icon colab-icon" aria-hidden="true"><template shadowrootmode="open"><!----><slot></slot></template><!--?lit$590858727$-->draft</md-icon>
          <span class="file-tree-name" title="00075aa8-d81a-4184-8541-b692b78d398a___FREC_Scab 3335.JPG (9.39K) 
Last modified Fri Aug 30 2024 22:11:57 GMT+0530 (India Standard Time)">
            <!--?lit$590858727$-->00075aa8-d81a-4184-8541-b692b78d398a___FREC_Scab 3335.JPG
          </span>
          <input class="file-tree-name-input" value="00075aa8-d81a-4184-8541-b692b78d398a___FREC_Scab 3335.JPG">
          <md-icon-button class="file-item-menu" data-aria-expanded="false" data-aria-haspopup="menu" data-aria-label="More actions for file: 00075aa8-d81a-4184-8541-b692b78d398a___FREC_Scab 3335.JPG" value=""><template shadowrootmode="open" shadowrootdelegatesfocus><!----><button id="button" class="icon-button  standard " aria-label="More actions for file: 00075aa8-d81a-4184-8541-b692b78d398a___FREC_Scab 3335.JPG" aria-haspopup="menu" aria-expanded="false">
        <!--?lit$590858727$--><md-focus-ring part="focus-ring" for="button" aria-hidden="true"><template shadowrootmode="open"><!----></template></md-focus-ring>
        <!--?lit$590858727$--><md-ripple aria-hidden="true"><template shadowrootmode="open"><!----><div class="surface   "></div></template></md-ripple>
        <!--?lit$590858727$--><span class="icon"><slot></slot></span>
        <!--?lit$590858727$-->
        <!--?lit$590858727$--><span class="touch"></span>
        <!--?lit$590858727$-->
  </button></template><md-icon aria-hidden="true"><template shadowrootmode="open"><!----><slot></slot></template>more_vert</md-icon></md-icon-button>
        </div>
      <!--?lit$590858727$--><!--?--><!--?--></colab-file-view><colab-file-view filename="0090d05d-d797-4c99-abd4-3b9cb323a5fd___JR_FrgE.S 8727.JPG" draggable="true"><!----><!--?lit$590858727$-->
        <div class="file-title-row">
          <!--?lit$590858727$-->
                <div class="file-icon colab-icon" style="margin-left: 0px;"></div>
              
          <md-icon class="file-icon colab-icon" aria-hidden="true"><template shadowrootmode="open"><!----><slot></slot></template><!--?lit$590858727$-->draft</md-icon>
          <span class="file-tree-name" title="0090d05d-d797-4c99-abd4-3b9cb323a5fd___JR_FrgE.S 8727.JPG (17.37K) 
Last modified Fri Aug 30 2024 22:13:33 GMT+0530 (India Standard Time)">
            <!--?lit$590858727$-->0090d05d-d797-4c99-abd4-3b9cb323a5fd___JR_FrgE.S 8727.JPG
          </span>
          <input class="file-tree-name-input" value="0090d05d-d797-4c99-abd4-3b9cb323a5fd___JR_FrgE.S 8727.JPG">
          <md-icon-button class="file-item-menu" data-aria-expanded="false" data-aria-haspopup="menu" data-aria-label="More actions for file: 0090d05d-d797-4c99-abd4-3b9cb323a5fd___JR_FrgE.S 8727.JPG" value=""><template shadowrootmode="open" shadowrootdelegatesfocus><!----><button id="button" class="icon-button  standard " aria-label="More actions for file: 0090d05d-d797-4c99-abd4-3b9cb323a5fd___JR_FrgE.S 8727.JPG" aria-haspopup="menu" aria-expanded="false">
        <!--?lit$590858727$--><md-focus-ring part="focus-ring" for="button" aria-hidden="true"><template shadowrootmode="open"><!----></template></md-focus-ring>
        <!--?lit$590858727$--><md-ripple aria-hidden="true"><template shadowrootmode="open"><!----><div class="surface   "></div></template></md-ripple>
        <!--?lit$590858727$--><span class="icon"><slot></slot></span>
        <!--?lit$590858727$-->
        <!--?lit$590858727$--><span class="touch"></span>
        <!--?lit$590858727$-->
  </button></template><md-icon aria-hidden="true"><template shadowrootmode="open"><!----><slot></slot></template>more_vert</md-icon></md-icon-button>
        </div>
      <!--?lit$590858727$--><!--?--><!--?--></colab-file-view><colab-file-view filename="Apple-black-rot-figure-1-shows-apple-black-rot-while-preprocessing-an-infected-leaf.png" draggable="true"><!----><!--?lit$590858727$-->
        <div class="file-title-row">
          <!--?lit$590858727$-->
                <div class="file-icon colab-icon" style="margin-left: 0px;"></div>
              
          <md-icon class="file-icon colab-icon" aria-hidden="true"><template shadowrootmode="open"><!----><slot></slot></template><!--?lit$590858727$-->draft</md-icon>
          <span class="file-tree-name" title="Apple-black-rot-figure-1-shows-apple-black-rot-while-preprocessing-an-infected-leaf.png (47.68K) 
Last modified Fri Aug 30 2024 22:26:44 GMT+0530 (India Standard Time)">
            <!--?lit$590858727$-->Apple-black-rot-figure-1-shows-apple-black-rot-while-preprocessing-an-infected-leaf.png
          </span>
          <input class="file-tree-name-input" value="Apple-black-rot-figure-1-shows-apple-black-rot-while-preprocessing-an-infected-leaf.png">
          <md-icon-button class="file-item-menu" data-aria-expanded="false" data-aria-haspopup="menu" data-aria-label="More actions for file: Apple-black-rot-figure-1-shows-apple-black-rot-while-preprocessing-an-infected-leaf.png" value=""><template shadowrootmode="open" shadowrootdelegatesfocus><!----><button id="button" class="icon-button  standard " aria-label="More actions for file: Apple-black-rot-figure-1-shows-apple-black-rot-while-preprocessing-an-infected-leaf.png" aria-haspopup="menu" aria-expanded="false">
        <!--?lit$590858727$--><md-focus-ring part="focus-ring" for="button" aria-hidden="true"><template shadowrootmode="open"><!----></template></md-focus-ring>
        <!--?lit$590858727$--><md-ripple aria-hidden="true"><template shadowrootmode="open"><!----><div class="surface   "></div></template></md-ripple>
        <!--?lit$590858727$--><span class="icon"><slot></slot></span>
        <!--?lit$590858727$-->
        <!--?lit$590858727$--><span class="touch"></span>
        <!--?lit$590858727$-->
  </button></template><md-icon aria-hidden="true"><template shadowrootmode="open"><!----><slot></slot></template>more_vert</md-icon></md-icon-button>
        </div>
      <!--?lit$590858727$--><!--?--><!--?--></colab-file-view><colab-file-view filename="OIP (1).jpeg" draggable="true"><!----><!--?lit$590858727$-->
        <div class="file-title-row">
          <!--?lit$590858727$-->
                <div class="file-icon colab-icon" style="margin-left: 0px;"></div>
              
          <md-icon class="file-icon colab-icon" aria-hidden="true"><template shadowrootmode="open"><!----><slot></slot></template><!--?lit$590858727$-->draft</md-icon>
          <span class="file-tree-name" title="OIP (1).jpeg (32.22K) 
Last modified Fri Aug 30 2024 22:06:31 GMT+0530 (India Standard Time)">
            <!--?lit$590858727$-->OIP (1).jpeg
          </span>
          <input class="file-tree-name-input" value="OIP (1).jpeg">
          <md-icon-button class="file-item-menu" data-aria-expanded="false" data-aria-haspopup="menu" data-aria-label="More actions for file: OIP (1).jpeg" value=""><template shadowrootmode="open" shadowrootdelegatesfocus><!----><button id="button" class="icon-button  standard " aria-label="More actions for file: OIP (1).jpeg" aria-haspopup="menu" aria-expanded="false">
        <!--?lit$590858727$--><md-focus-ring part="focus-ring" for="button" aria-hidden="true"><template shadowrootmode="open"><!----></template></md-focus-ring>
        <!--?lit$590858727$--><md-ripple aria-hidden="true"><template shadowrootmode="open"><!----><div class="surface   "></div></template></md-ripple>
        <!--?lit$590858727$--><span class="icon"><slot></slot></span>
        <!--?lit$590858727$-->
        <!--?lit$590858727$--><span class="touch"></span>
        <!--?lit$590858727$-->
  </button></template><md-icon aria-hidden="true"><template shadowrootmode="open"><!----><slot></slot></template>more_vert</md-icon></md-icon-button>
        </div>
      <!--?lit$590858727$--><!--?--><!--?--></colab-file-view><colab-file-view filename="P.E.B.jpeg" draggable="true"><!----><!--?lit$590858727$-->
        <div class="file-title-row">
          <!--?lit$590858727$-->
                <div class="file-icon colab-icon" style="margin-left: 0px;"></div>
              
          <md-icon class="file-icon colab-icon" aria-hidden="true"><template shadowrootmode="open"><!----><slot></slot></template><!--?lit$590858727$-->draft</md-icon>
          <span class="file-tree-name" title="P.E.B.jpeg (29.98K) 
Last modified Fri Aug 30 2024 21:44:40 GMT+0530 (India Standard Time)">
            <!--?lit$590858727$-->P.E.B.jpeg
          </span>
          <input class="file-tree-name-input" value="P.E.B.jpeg">
          <md-icon-button class="file-item-menu" data-aria-expanded="false" data-aria-haspopup="menu" data-aria-label="More actions for file: P.E.B.jpeg" value=""><template shadowrootmode="open" shadowrootdelegatesfocus><!----><button id="button" class="icon-button  standard " aria-label="More actions for file: P.E.B.jpeg" aria-haspopup="menu" aria-expanded="false">
        <!--?lit$590858727$--><md-focus-ring part="focus-ring" for="button" aria-hidden="true"><template shadowrootmode="open"><!----></template></md-focus-ring>
        <!--?lit$590858727$--><md-ripple aria-hidden="true"><template shadowrootmode="open"><!----><div class="surface   "></div></template></md-ripple>
        <!--?lit$590858727$--><span class="icon"><slot></slot></span>
        <!--?lit$590858727$-->
        <!--?lit$590858727$--><span class="touch"></span>
        <!--?lit$590858727$-->
  </button></template><md-icon aria-hidden="true"><template shadowrootmode="open"><!----><slot></slot></template>more_vert</md-icon></md-icon-button>
        </div>
      <!--?lit$590858727$--><!--?--><!--?--></colab-file-view><colab-file-view filename="ca2020_early_blight_potato_damage1.png" draggable="true"><!----><!--?lit$590858727$-->
        <div class="file-title-row">
          <!--?lit$590858727$-->
                <div class="file-icon colab-icon" style="margin-left: 0px;"></div>
              
          <md-icon class="file-icon colab-icon" aria-hidden="true"><template shadowrootmode="open"><!----><slot></slot></template><!--?lit$590858727$-->draft</md-icon>
          <span class="file-tree-name" title="ca2020_early_blight_potato_damage1.png (445.75K) 
Last modified Fri Aug 30 2024 22:24:26 GMT+0530 (India Standard Time)">
            <!--?lit$590858727$-->ca2020_early_blight_potato_damage1.png
          </span>
          <input class="file-tree-name-input" value="ca2020_early_blight_potato_damage1.png">
          <md-icon-button class="file-item-menu" data-aria-expanded="false" data-aria-haspopup="menu" data-aria-label="More actions for file: ca2020_early_blight_potato_damage1.png" value=""><template shadowrootmode="open" shadowrootdelegatesfocus><!----><button id="button" class="icon-button  standard " aria-label="More actions for file: ca2020_early_blight_potato_damage1.png" aria-haspopup="menu" aria-expanded="false">
        <!--?lit$590858727$--><md-focus-ring part="focus-ring" for="button" aria-hidden="true"><template shadowrootmode="open"><!----></template></md-focus-ring>
        <!--?lit$590858727$--><md-ripple aria-hidden="true"><template shadowrootmode="open"><!----><div class="surface   "></div></template></md-ripple>
        <!--?lit$590858727$--><span class="icon"><slot></slot></span>
        <!--?lit$590858727$-->
        <!--?lit$590858727$--><span class="touch"></span>
        <!--?lit$590858727$-->
  </button></template><md-icon aria-hidden="true"><template shadowrootmode="open"><!----><slot></slot></template>more_vert</md-icon></md-icon-button>
        </div>
      <!--?lit$590858727$--><!--?--><!--?--></colab-file-view><colab-file-view filename="kaggle.json" draggable="true"><!----><!--?lit$590858727$-->
        <div class="file-title-row">
          <!--?lit$590858727$-->
                <div class="file-icon colab-icon" style="margin-left: 0px;"></div>
              
          <md-icon class="file-icon colab-icon" aria-hidden="true"><template shadowrootmode="open"><!----><slot></slot></template><!--?lit$590858727$-->draft</md-icon>
          <span class="file-tree-name" title="kaggle.json (66) 
Last modified Fri Aug 30 2024 21:21:26 GMT+0530 (India Standard Time)">
            <!--?lit$590858727$-->kaggle.json
          </span>
          <input class="file-tree-name-input" value="kaggle.json">
          <md-icon-button class="file-item-menu" data-aria-expanded="false" data-aria-haspopup="menu" data-aria-label="More actions for file: kaggle.json" value=""><template shadowrootmode="open" shadowrootdelegatesfocus><!----><button id="button" class="icon-button  standard " aria-label="More actions for file: kaggle.json" aria-haspopup="menu" aria-expanded="false">
        <!--?lit$590858727$--><md-focus-ring part="focus-ring" for="button" aria-hidden="true"><template shadowrootmode="open"><!----></template></md-focus-ring>
        <!--?lit$590858727$--><md-ripple aria-hidden="true"><template shadowrootmode="open"><!----><div class="surface   "></div></template></md-ripple>
        <!--?lit$590858727$--><span class="icon"><slot></slot></span>
        <!--?lit$590858727$-->
        <!--?lit$590858727$--><span class="touch"></span>
        <!--?lit$590858727$-->
  </button></template><md-icon aria-hidden="true"><template shadowrootmode="open"><!----><slot></slot></template>more_vert</md-icon></md-icon-button>
        </div>
      <!--?lit$590858727$--><!--?--><!--?--></colab-file-view><colab-file-view filename="model.pkl" draggable="true"><!----><!--?lit$590858727$-->
        <div class="file-title-row">
          <!--?lit$590858727$-->
                <div class="file-icon colab-icon" style="margin-left: 0px;"></div>
              
          <md-icon class="file-icon colab-icon" aria-hidden="true"><template shadowrootmode="open"><!----><slot></slot></template><!--?lit$590858727$-->draft</md-icon>
          <span class="file-tree-name" title="model.pkl (272.66M) 
Last modified Fri Aug 30 2024 22:31:22 GMT+0530 (India Standard Time)">
            <!--?lit$590858727$-->model.pkl
          </span>
          <input class="file-tree-name-input" value="model.pkl">
          <md-icon-button class="file-item-menu" data-aria-expanded="false" data-aria-haspopup="menu" data-aria-label="More actions for file: model.pkl" value=""><template shadowrootmode="open" shadowrootdelegatesfocus><!----><button id="button" class="icon-button  standard " aria-label="More actions for file: model.pkl" aria-haspopup="menu" aria-expanded="false">
        <!--?lit$590858727$--><md-focus-ring part="focus-ring" for="button" aria-hidden="true"><template shadowrootmode="open"><!----></template></md-focus-ring>
        <!--?lit$590858727$--><md-ripple aria-hidden="true"><template shadowrootmode="open"><!----><div class="surface   "></div></template></md-ripple>
        <!--?lit$590858727$--><span class="icon"><slot></slot></span>
        <!--?lit$590858727$-->
        <!--?lit$590858727$--><span class="touch"></span>
        <!--?lit$590858727$-->
  </button></template><md-icon aria-hidden="true"><template shadowrootmode="open"><!----><slot></slot></template>more_vert</md-icon></md-icon-button>
        </div>
      <!--?lit$590858727$--><!--?--><!--?--></colab-file-view><colab-file-view filename="plantvillage-dataset.zip" draggable="true"><!----><!--?lit$590858727$-->
        <div class="file-title-row">
          <!--?lit$590858727$-->
                <div class="file-icon colab-icon" style="margin-left: 0px;"></div>
              
          <md-icon class="file-icon colab-icon" aria-hidden="true"><template shadowrootmode="open"><!----><slot></slot></template><!--?lit$590858727$-->draft</md-icon>
          <span class="file-tree-name" title="plantvillage-dataset.zip (2.04G) 
Last modified Mon Oct 28 2019 17:55:01 GMT+0530 (India Standard Time)">
            <!--?lit$590858727$-->plantvillage-dataset.zip
          </span>
          <input class="file-tree-name-input" value="plantvillage-dataset.zip">
          <md-icon-button class="file-item-menu" data-aria-expanded="false" data-aria-haspopup="menu" data-aria-label="More actions for file: plantvillage-dataset.zip" value=""><template shadowrootmode="open" shadowrootdelegatesfocus><!----><button id="button" class="icon-button  standard " aria-label="More actions for file: plantvillage-dataset.zip" aria-haspopup="menu" aria-expanded="false">
        <!--?lit$590858727$--><md-focus-ring part="focus-ring" for="button" aria-hidden="true"><template shadowrootmode="open"><!----></template></md-focus-ring>
        <!--?lit$590858727$--><md-ripple aria-hidden="true"><template shadowrootmode="open"><!----><div class="surface   "></div></template></md-ripple>
        <!--?lit$590858727$--><span class="icon"><slot></slot></span>
        <!--?lit$590858727$-->
        <!--?lit$590858727$--><span class="touch"></span>
        <!--?lit$590858727$-->
  </button></template><md-icon aria-hidden="true"><template shadowrootmode="open"><!----><slot></slot></template>more_vert</md-icon></md-icon-button>
        </div>
      <!--?lit$590858727$--><!--?--><!--?--></colab-file-view></div>
        <div class="overflow-ellipsis" title="Directory is too large to display all files." style="margin-left: -20px;">
          …
        </div>
      <!--?--></colab-file-view></div>
        <div class="files-drag-to-upload layout horizontal">
          <md-icon class="layout noshrink" aria-hidden="true"><template shadowrootmode="open"><!----><slot></slot></template>upload_file</md-icon>
          <div> <!--?lit$590858727$-->Drop files to upload them to session storage. </div>
        </div>
        <div class="files-uploading"></div>
        <div class="colab-usage-bar-container"><colab-usage-bar aria-describedby="file-browser-disk-display-kernel-tooltip" id="file-browser-disk-display-kernel" class="file-browser-disk-display usage-bar-with-suffix" tabindex="0" style="display: flex;"><template shadowrootmode="open"><!---->
        <div class="header">
          <div><!--?lit$590858727$-->Disk </div>
          <div class="suffix"><!--?lit$590858727$-->40.63 GB available</div>
        </div>
        <!--?lit$590858727$-->
      <div class="progress-container">
        <md-linear-progress class="  " value="0.48036336833325544"><template shadowrootmode="open"><!---->
      <div role="progressbar" aria-valuemin="0" class="progress   " aria-valuemax="1" aria-valuenow="0.48036336833325544"><!--?lit$590858727$-->
      <div class="dots" hidden=""></div>
      <div class="inactive-track" style="transform: scaleX(1);"></div>
      <div class="bar primary-bar" style="transform: scaleX(0.480363);">
        <div class="bar-inner"></div>
      </div>
      <div class="bar secondary-bar">
        <div class="bar-inner"></div>
      </div>
    </div>
    </template></md-linear-progress>
      </div>
    
      </template></colab-usage-bar><colab-tooltip-trigger aria-hidden="true" id="file-browser-disk-display-kernel-tooltip"><template shadowrootmode="open"><!----><!--?lit$590858727$--><!----><div><!--?lit$590858727$-->Disk: 37.56 GB/78.19 GB</div><!----><!--?--></template></colab-tooltip-trigger></div></colab-file-tree></colab-file-browser></div>
          </div>
        <div class="resizer-thumb"></div></colab-resizer></colab-left-pane>
        <div class="layout vertical grow">
          <colab-notebook-toolbar id="top-toolbar" class="horizontal layout center noshrink"><!----> <!--?lit$590858727$-->
          <colab-toolbar-button command="insert-cell-below" icon="add" id="toolbar-add-code"><template shadowrootmode="open"><!----><md-text-button id="button" data-aria-disabled="false" value="" has-icon=""><template shadowrootmode="open" shadowrootdelegatesfocus><!---->
      <!--?lit$590858727$-->
      <div class="background"></div>
      <md-focus-ring part="focus-ring" for="button" aria-hidden="true"><template shadowrootmode="open"><!----></template></md-focus-ring>
      <md-ripple part="ripple" for="button" aria-hidden="true"><template shadowrootmode="open"><!----><div class="surface"></div></template></md-ripple>
      <!--?lit$590858727$--><button id="button" class="button">
      <!--?lit$590858727$-->
      <span class="touch"></span>
      <!--?lit$590858727$--><slot name="icon"></slot>
      <span class="label"><slot></slot></span>
      <!--?lit$590858727$-->
    
    </button>
    </template>
        <!--?lit$590858727$--><md-icon slot="icon" aria-hidden="true"><template shadowrootmode="open"><!----><slot></slot></template><!--?lit$590858727$-->add</md-icon>
        <span class="button-content"><slot></slot></span>
        <!--?lit$590858727$--><span class="screenreader-only"><!--?lit$590858727$-->Insert code cell below <!--?lit$590858727$-->Ctrl+M B</span>
      </md-text-button>
      <!--?lit$590858727$--> <colab-tooltip-trigger for="button" aria-hidden="true" id="tooltip" message="Insert code cell below" shortcut="Ctrl+M B"><template shadowrootmode="open"><!----><!--?lit$590858727$--><!----><div><!--?lit$590858727$-->Insert code cell below (Ctrl+M B)</div><!----><!--?--></template>
          </colab-tooltip-trigger><!--?--></template>
            <!--?lit$590858727$-->Code
          </colab-toolbar-button>
          <!--?lit$590858727$-->
          <colab-toolbar-button command="add-text" icon="add" id="toolbar-add-text"><template shadowrootmode="open"><!----><md-text-button id="button" data-aria-disabled="false" value="" has-icon=""><template shadowrootmode="open" shadowrootdelegatesfocus><!---->
      <!--?lit$590858727$-->
      <div class="background"></div>
      <md-focus-ring part="focus-ring" for="button" aria-hidden="true"><template shadowrootmode="open"><!----></template></md-focus-ring>
      <md-ripple part="ripple" for="button" aria-hidden="true"><template shadowrootmode="open"><!----><div class="surface"></div></template></md-ripple>
      <!--?lit$590858727$--><button id="button" class="button">
      <!--?lit$590858727$-->
      <span class="touch"></span>
      <!--?lit$590858727$--><slot name="icon"></slot>
      <span class="label"><slot></slot></span>
      <!--?lit$590858727$-->
    
    </button>
    </template>
        <!--?lit$590858727$--><md-icon slot="icon" aria-hidden="true"><template shadowrootmode="open"><!----><slot></slot></template><!--?lit$590858727$-->add</md-icon>
        <span class="button-content"><slot></slot></span>
        <!--?lit$590858727$--><span class="screenreader-only"><!--?lit$590858727$-->Add text cell <!--?lit$590858727$--></span>
      </md-text-button>
      <!--?lit$590858727$--> <colab-tooltip-trigger for="button" aria-hidden="true" id="tooltip" message="Add text cell" shortcut=""><template shadowrootmode="open"><!----><!--?lit$590858727$--><!----><div><!--?lit$590858727$-->Add text cell</div><!----><!--?--></template>
          </colab-tooltip-trigger><!--?--></template>
            <!--?lit$590858727$-->Text
          </colab-toolbar-button>
          <!--?lit$590858727$-->
        
    <!--?lit$590858727$-->
    <!--?lit$590858727$-->
    <!--?lit$590858727$-->
    <!--?lit$590858727$-->
    <!--?lit$590858727$--> <span class="collapsed-options">
          <colab-last-saved-indicator aria-live="polite" aria-atomic="true" title=""><template shadowrootmode="open"><!----><button class=" save-message "><!--?lit$590858727$-->All changes saved</button></template></colab-last-saved-indicator>
        </span>

    <span class="flex"></span>
    <!--?lit$590858727$--><colab-connect-warning-button><template shadowrootmode="open"><!----><!--?lit$590858727$--><!--?--><!--?--></template></colab-connect-warning-button>
    <!--?lit$590858727$--><!--?lit$590858727$--><colab-connect-button><template shadowrootmode="open"><!----> <!--?lit$590858727$--><md-icon-button id="connect-icon" class="icon-okay" data-aria-label="Focus the last run cell" value=""><template shadowrootmode="open" shadowrootdelegatesfocus><!----><button id="button" class="icon-button  standard " aria-label="Focus the last run cell">
        <!--?lit$590858727$--><md-focus-ring part="focus-ring" for="button" aria-hidden="true"><template shadowrootmode="open"><!----></template></md-focus-ring>
        <!--?lit$590858727$--><md-ripple aria-hidden="true"><template shadowrootmode="open"><!----><div class="surface   "></div></template></md-ripple>
        <!--?lit$590858727$--><span class="icon"><slot></slot></span>
        <!--?lit$590858727$-->
        <!--?lit$590858727$--><span class="touch"></span>
        <!--?lit$590858727$-->
  </button></template>
            <md-icon aria-hidden="true"><template shadowrootmode="open"><!----><slot></slot></template><!--?lit$590858727$-->done</md-icon>
          </md-icon-button>
          <colab-tooltip-trigger for="connect-icon" id="connect-icon-tooltip" aria-hidden="true" message="Focus the last run cell"><template shadowrootmode="open"><!----><!--?lit$590858727$--><!----><div><!--?lit$590858727$-->Focus the last run cell</div><!----><!--?--></template>
          </colab-tooltip-trigger>
      <colab-toolbar-button id="connect" tooltipid="colab-connect-tooltip" tooltiptext="Connected to
Python 3 Google Compute Engine backend (GPU)
RAM: 10.56 GB/12.67 GB
Disk: 37.56 GB/78.19 GB"><template shadowrootmode="open"><!----><md-text-button id="button" value="" data-aria-disabled="false"><template shadowrootmode="open" shadowrootdelegatesfocus><!---->
      <!--?lit$590858727$-->
      <div class="background"></div>
      <md-focus-ring part="focus-ring" for="button" aria-hidden="true"><template shadowrootmode="open"><!----></template></md-focus-ring>
      <md-ripple part="ripple" for="button" aria-hidden="true"><template shadowrootmode="open"><!----><div class="surface"></div></template></md-ripple>
      <!--?lit$590858727$--><button id="button" class="button">
      <!--?lit$590858727$-->
      <span class="touch"></span>
      <!--?lit$590858727$--><slot name="icon"></slot>
      <span class="label"><slot></slot></span>
      <!--?lit$590858727$-->
    
    </button>
    </template>
        <!--?lit$590858727$-->
        <span class="button-content"><slot></slot></span>
        <!--?lit$590858727$--><span class="screenreader-only"><!--?lit$590858727$-->Connected to
Python 3 Google Compute Engine backend (GPU)
RAM: 10.56 GB/12.67 GB
Disk: 37.56 GB/78.19 GB <!--?lit$590858727$--></span>
      </md-text-button>
      <!--?lit$590858727$--> <colab-tooltip-trigger for="button" aria-hidden="true" id="colab-connect-tooltip" message="Connected to
Python 3 Google Compute Engine backend (GPU)
RAM: 10.56 GB/12.67 GB
Disk: 37.56 GB/78.19 GB" shortcut=""><template shadowrootmode="open"><!----><!--?lit$590858727$--><!----><div><!--?lit$590858727$-->Connected to</div><!----><!----><div><!--?lit$590858727$-->Python 3 Google Compute Engine backend (GPU)</div><!----><!----><div><!--?lit$590858727$-->RAM: 10.56 GB/12.67 GB</div><!----><!----><div><!--?lit$590858727$-->Disk: 37.56 GB/78.19 GB</div><!----><!--?--></template>
          </colab-tooltip-trigger><!--?--></template>
        <!--?lit$590858727$--> <div class="connect-button-content">
          <!--?lit$590858727$--> <div class="attributes"><!--?lit$590858727$--><!----><div class="attribute"><!--?lit$590858727$-->T4</div><!----></div> <!--?lit$590858727$--> <div id="connect-button-resource-display">
        <!--?lit$590858727$--><colab-usage-sparkline class="ram" label="RAM"><template shadowrootmode="open"><!---->
      <div class="label"><!--?lit$590858727$-->RAM</div>
      <!--?lit$590858727$-->
      <canvas height="14" width="20"></canvas>
    </template></colab-usage-sparkline>
        <!--?lit$590858727$--><colab-usage-sparkline class="disks" label="Disk"><template shadowrootmode="open"><!---->
      <div class="label"><!--?lit$590858727$-->Disk</div>
      <!--?lit$590858727$-->
      <canvas height="14" width="20"></canvas>
    </template></colab-usage-sparkline>
      </div>
        </div>
      </colab-toolbar-button>
      <!--?lit$590858727$--> <md-icon-button id="connect-dropdown" data-aria-expanded="false" data-aria-haspopup="menu" data-aria-label="Additional connection options" value=""><template shadowrootmode="open" shadowrootdelegatesfocus><!----><button id="button" class="icon-button  standard " aria-label="Additional connection options" aria-haspopup="menu" aria-expanded="false">
        <!--?lit$590858727$--><md-focus-ring part="focus-ring" for="button" aria-hidden="true"><template shadowrootmode="open"><!----></template></md-focus-ring>
        <!--?lit$590858727$--><md-ripple aria-hidden="true"><template shadowrootmode="open"><!----><div class="surface"></div></template></md-ripple>
        <!--?lit$590858727$--><span class="icon"><slot></slot></span>
        <!--?lit$590858727$-->
        <!--?lit$590858727$--><span class="touch"></span>
        <!--?lit$590858727$-->
  </button></template>
        <md-icon aria-hidden="true"><template shadowrootmode="open"><!----><slot></slot></template>arrow_drop_down</md-icon>
      </md-icon-button>
      <colab-tooltip-trigger for="connect-dropdown" id="connect-dropdown-tooltip" aria-hidden="true" message="Additional connection options"><template shadowrootmode="open"><!----><!--?lit$590858727$--><!----><div><!--?lit$590858727$-->Additional connection options</div><!----><!--?--></template>
      </colab-tooltip-trigger><!--?--></template></colab-connect-button><!--?-->
    <!--?lit$590858727$--> <span class="colab-separator"></span>
          <colab-toolbar-button command="show-chat" icon="spark"><template shadowrootmode="open"><!----><md-text-button id="button" data-aria-disabled="false" value="" has-icon=""><template shadowrootmode="open" shadowrootdelegatesfocus><!---->
      <!--?lit$590858727$-->
      <div class="background"></div>
      <md-focus-ring part="focus-ring" for="button" aria-hidden="true"><template shadowrootmode="open"><!----></template></md-focus-ring>
      <md-ripple part="ripple" for="button" aria-hidden="true"><template shadowrootmode="open"><!----><div class="surface"></div></template></md-ripple>
      <!--?lit$590858727$--><button id="button" class="button">
      <!--?lit$590858727$-->
      <span class="touch"></span>
      <!--?lit$590858727$--><slot name="icon"></slot>
      <span class="label"><slot></slot></span>
      <!--?lit$590858727$-->
    
    </button>
    </template>
        <!--?lit$590858727$--><md-icon slot="icon" aria-hidden="true"><template shadowrootmode="open"><!----><slot></slot></template><!--?lit$590858727$-->spark</md-icon>
        <span class="button-content"><slot></slot></span>
        <!--?lit$590858727$--><span class="screenreader-only"><!--?lit$590858727$--> <!--?lit$590858727$--></span>
      </md-text-button>
      <!--?lit$590858727$--><!--?--></template>
            <!--?lit$590858727$-->Gemini
          </colab-toolbar-button>
    <!--?lit$590858727$-->
    <span class="collapsed-options">
      <!--?lit$590858727$--><span class="colab-separator"></span>
      <!--?lit$590858727$--> <md-icon-button command="share" title="Share notebook" data-aria-label="Share notebook" value=""><template shadowrootmode="open" shadowrootdelegatesfocus><!----><button id="button" class="icon-button  standard " aria-label="Share notebook">
        <!--?lit$590858727$--><md-focus-ring part="focus-ring" for="button" aria-hidden="true"><template shadowrootmode="open"><!----></template></md-focus-ring>
        <!--?lit$590858727$--><md-ripple aria-hidden="true"><template shadowrootmode="open"><!----><div class="surface   "></div></template></md-ripple>
        <!--?lit$590858727$--><span class="icon"><slot></slot></span>
        <!--?lit$590858727$-->
        <!--?lit$590858727$--><span class="touch"></span>
        <!--?lit$590858727$-->
  </button></template>
            <md-icon filled="" aria-hidden="true"><template shadowrootmode="open"><!----><slot></slot></template><!--?lit$590858727$-->people</md-icon>
          </md-icon-button><md-icon-button command="preferences" data-aria-label="Open settings" title="Open settings" value=""><template shadowrootmode="open" shadowrootdelegatesfocus><!----><button id="button" class="icon-button  standard " aria-label="Open settings">
        <!--?lit$590858727$--><md-focus-ring part="focus-ring" for="button" aria-hidden="true"><template shadowrootmode="open"><!----></template></md-focus-ring>
        <!--?lit$590858727$--><md-ripple aria-hidden="true"><template shadowrootmode="open"><!----><div class="surface   "></div></template></md-ripple>
        <!--?lit$590858727$--><span class="icon"><slot></slot></span>
        <!--?lit$590858727$-->
        <!--?lit$590858727$--><span class="touch"></span>
        <!--?lit$590858727$-->
  </button></template>
        <md-icon filled="" aria-hidden="true"><template shadowrootmode="open"><!----><slot></slot></template>settings</md-icon>
      </md-icon-button>
    </span>
    <span class="colab-separator"></span>
    <!--?lit$590858727$--><md-icon-button toggle="" command="toggle-header" id="toggle-header-button" data-aria-label="Toggle header visibility" aria-describedby="toggle-header-button-tooltip" value=""><template shadowrootmode="open" shadowrootdelegatesfocus><!----><button id="button" class="icon-button  standard " aria-label="Toggle header visibility" aria-pressed="false">
        <!--?lit$590858727$--><md-focus-ring part="focus-ring" for="button" aria-hidden="true"><template shadowrootmode="open"><!----></template></md-focus-ring>
        <!--?lit$590858727$--><md-ripple aria-hidden="true"><template shadowrootmode="open"><!----><div class="surface"></div></template></md-ripple>
        <!--?lit$590858727$--><span class="icon"><slot></slot></span>
        <!--?lit$590858727$-->
        <!--?lit$590858727$--><span class="touch"></span>
        <!--?lit$590858727$-->
  </button></template>
    <md-icon aria-hidden="true"><template shadowrootmode="open"><!----><slot></slot></template>expand_less</md-icon>
    <md-icon slot="selected" aria-hidden="true"><template shadowrootmode="open"><!----><slot></slot></template>expand_more</md-icon>
  </md-icon-button><colab-tooltip-trigger aria-hidden="true" for="toggle-header-button" id="toggle-header-button-tooltip"><template shadowrootmode="open"><!----><!--?lit$590858727$--><!----><div><!--?lit$590858727$-->Toggle header visibility</div><!----><!--?--></template>
        </colab-tooltip-trigger><!--?--></colab-notebook-toolbar><colab-tab-layout-container class="layout horizontal grow flexible-tabs"><!----> <div class="layout horizontal tab-pane-parent">
      <!--?lit$590858727$--> <div class="layout vertical tab-pane-parent">
      <!--?lit$590858727$--><colab-tab-pane class="layout vertical grow no-header focused" align="horizontal"><!----> <div class="layout vertical grow">
    <div class="tab-pane-header layout horizontal noshrink">
      <md-tabs><template shadowrootmode="open"><!---->
      <div class="tabs">
        <slot></slot>
      </div>
      <md-divider part="divider"><template shadowrootmode="open"><!----></template></md-divider>
    </template><md-primary-tab noink="" title="" aria-labelledby="tab-title-rWX2SQhu-3X-" class="selected-tab" md-tab="" active="" tabindex="0"><template shadowrootmode="open"><!----><div class="button" role="presentation">
      <md-focus-ring part="focus-ring" inward="" aria-hidden="true"><template shadowrootmode="open"><!----></template></md-focus-ring>
      <md-elevation part="elevation" aria-hidden="true"><template shadowrootmode="open"><!----><span class="shadow"></span></template></md-elevation>
      <md-ripple aria-hidden="true"><template shadowrootmode="open"><!----><div class="surface   "></div></template></md-ripple>
      <div role="presentation" class="content  has-label stacked ">
        <slot name="icon"></slot>
        <slot></slot>
        <!--?lit$590858727$--><div class="indicator"></div>
      </div>
      <!--?lit$590858727$-->
    </div></template>
          <div class="colab-tab-header">
            <span class="colab-tab-title" id="tab-title-rWX2SQhu-3X-"><!--?lit$590858727$--><!--?lit$590858727$-->Notebook<!--?--></span>
            <!--?lit$590858727$-->
          </div>
        </md-primary-tab></md-tabs>
      <div class="layout grow"></div>
      <!--?lit$590858727$--> <md-icon-button data-aria-expanded="false" data-aria-haspopup="menu" title="More tab actions" data-aria-label="More tab actions" value=""><template shadowrootmode="open" shadowrootdelegatesfocus><!----><button id="button" class="icon-button  standard " aria-label="More tab actions" aria-haspopup="menu" aria-expanded="false">
        <!--?lit$590858727$--><md-focus-ring part="focus-ring" for="button" aria-hidden="true"><template shadowrootmode="open"><!----></template></md-focus-ring>
        <!--?lit$590858727$--><md-ripple aria-hidden="true"><template shadowrootmode="open"><!----><div class="surface   "></div></template></md-ripple>
        <!--?lit$590858727$--><span class="icon"><slot></slot></span>
        <!--?lit$590858727$-->
        <!--?lit$590858727$--><span class="touch"></span>
        <!--?lit$590858727$-->
  </button></template>
    <md-icon aria-hidden="true"><template shadowrootmode="open"><!----><slot></slot></template>more_horiz</md-icon>
  </md-icon-button>
    </div>
    <div class="layout vertical grow tab-pane-container"> <colab-tab class="layout vertical grow notebook-tab-content selected-tab"><!----> <div class="overflow-flexbox-workaround">
      <colab-shaded-scroller ignore-dom-changes="" role="main" class="notebook-container" aria-label="Notebook" tabindex="-1">
        <div class="notebook-scrolling-horizontal-container">
          <div class="notebook-scrolling-horizontal">
            <div class="notebook-content-background">
              <!--?lit$590858727$-->
              <div class="notebook-content ">
                <!--?lit$590858727$--><div class="add-cell">
      <div class="add-cell-buttons">
        <md-outlined-button class="add-code add-button" data-aria-label="Add code cell
Ctrl+M B" title="Add code cell
Ctrl+M B" value="" has-icon=""><template shadowrootmode="open" shadowrootdelegatesfocus><!---->
      <!--?lit$590858727$--><div class="outline"></div>
      <div class="background"></div>
      <md-focus-ring part="focus-ring" for="button" aria-hidden="true"><template shadowrootmode="open"><!----></template></md-focus-ring>
      <md-ripple part="ripple" for="button" aria-hidden="true"><template shadowrootmode="open"><!----><div class="surface   "></div></template></md-ripple>
      <!--?lit$590858727$--><button id="button" class="button" aria-label="Add code cell
Ctrl+M B">
      <!--?lit$590858727$-->
      <span class="touch"></span>
      <!--?lit$590858727$--><slot name="icon"></slot>
      <span class="label"><slot></slot></span>
      <!--?lit$590858727$-->
    
    </button>
    </template>
          <md-icon slot="icon" aria-hidden="true"><template shadowrootmode="open"><!----><slot></slot></template>add</md-icon>
          <!--?lit$590858727$-->Code
        </md-outlined-button>
        <md-outlined-button class="add-text add-button" data-aria-label="Add text cell" title="Add text cell" value="" has-icon=""><template shadowrootmode="open" shadowrootdelegatesfocus><!---->
      <!--?lit$590858727$--><div class="outline"></div>
      <div class="background"></div>
      <md-focus-ring part="focus-ring" for="button" aria-hidden="true"><template shadowrootmode="open"><!----></template></md-focus-ring>
      <md-ripple part="ripple" for="button" aria-hidden="true"><template shadowrootmode="open"><!----><div class="surface   "></div></template></md-ripple>
      <!--?lit$590858727$--><button id="button" class="button" aria-label="Add text cell">
      <!--?lit$590858727$-->
      <span class="touch"></span>
      <!--?lit$590858727$--><slot name="icon"></slot>
      <span class="label"><slot></slot></span>
      <!--?lit$590858727$-->
    
    </button>
    </template>
          <md-icon slot="icon" aria-hidden="true"><template shadowrootmode="open"><!----><slot></slot></template>add</md-icon>
          <!--?lit$590858727$-->Text
        </md-outlined-button>
        <!--?lit$590858727$-->
      </div><hr>
    </div>
                <div class="notebook-cell-list"><div class="cell text" id="cell-nXwT9SgAQXn6" role="region" aria-label="Cell 0: Text cell: " style="" tabindex="-1"><div class="cell-tag-editor sticky"></div><div class="cell-toolbar sticky"></div><div class="main-content" elevation="0"><div class="cell-contents"><div class="cell-mask"></div><span class="imported-info-area"></span><!----> <div class="toolbar-root"></div>
      <div class="editor-container horizontal">
        <div class="editor-root"></div>
        <div class="text-top-div">
          <div class="markdown"><span><p><strong>Import neccesary libraries</strong></p>
</span></div>
        </div>
      </div>

      <div class="section-header" style="display: none;">
        <colab-run-button><template shadowrootmode="open"><!----> <div class="cell-execution">
      <button id="run-button" aria-label="Run cell">
        <span class="execution-count"><!--?lit$590858727$-->[ ]</span>
        <span aria-hidden="true" class="cell-execution-indicator"><!--?lit$590858727$-->
<svg xmlns="http://www.w3.org/2000/svg" viewBox="0 0 24 24">
  <!--?lit$590858727$-->
  <mask id="playSymbolMask">
    <rect width="100%" height="100%" fill="white"></rect>
    <polygon points="10,8 17,12 10,16" fill="black"></polygon>
  </mask>
  <circle cx="12" cy="12" r="7.8" mask="url(#playSymbolMask)" id="filledCircle"></circle>
</svg></span>
      </button>
      <!--?lit$590858727$--> <!--?lit$590858727$--><!--?-->
    </div></template></colab-run-button>
        <div class="section-header-container" title="click to expand">↳ 0 cells hidden</div>
      </div></div></div><div class="add-cell">
      <div class="add-cell-buttons">
        <md-outlined-button class="add-code add-button" data-aria-label="Add code cell
Ctrl+M B" title="Add code cell
Ctrl+M B" value="" has-icon=""><template shadowrootmode="open" shadowrootdelegatesfocus><!---->
      <!--?lit$590858727$--><div class="outline"></div>
      <div class="background"></div>
      <md-focus-ring part="focus-ring" for="button" aria-hidden="true"><template shadowrootmode="open"><!----></template></md-focus-ring>
      <md-ripple part="ripple" for="button" aria-hidden="true"><template shadowrootmode="open"><!----><div class="surface   "></div></template></md-ripple>
      <!--?lit$590858727$--><button id="button" class="button" aria-label="Add code cell
Ctrl+M B">
      <!--?lit$590858727$-->
      <span class="touch"></span>
      <!--?lit$590858727$--><slot name="icon"></slot>
      <span class="label"><slot></slot></span>
      <!--?lit$590858727$-->
    
    </button>
    </template>
          <md-icon slot="icon" aria-hidden="true"><template shadowrootmode="open"><!----><slot></slot></template>add</md-icon>
          <!--?lit$590858727$-->Code
        </md-outlined-button>
        <md-outlined-button class="add-text add-button" data-aria-label="Add text cell" title="Add text cell" value="" has-icon=""><template shadowrootmode="open" shadowrootdelegatesfocus><!---->
      <!--?lit$590858727$--><div class="outline"></div>
      <div class="background"></div>
      <md-focus-ring part="focus-ring" for="button" aria-hidden="true"><template shadowrootmode="open"><!----></template></md-focus-ring>
      <md-ripple part="ripple" for="button" aria-hidden="true"><template shadowrootmode="open"><!----><div class="surface   "></div></template></md-ripple>
      <!--?lit$590858727$--><button id="button" class="button" aria-label="Add text cell">
      <!--?lit$590858727$-->
      <span class="touch"></span>
      <!--?lit$590858727$--><slot name="icon"></slot>
      <span class="label"><slot></slot></span>
      <!--?lit$590858727$-->
    
    </button>
    </template>
          <md-icon slot="icon" aria-hidden="true"><template shadowrootmode="open"><!----><slot></slot></template>add</md-icon>
          <!--?lit$590858727$-->Text
        </md-outlined-button>
        <!--?lit$590858727$-->
      </div><hr>
    </div></div><div class="cell code icon-scrolling code-has-output" id="cell-5oAaiEfvRhj8" role="region" aria-label="Cell 1: Code cell: " style="" tabindex="-1"><div class="cell-tag-editor sticky"></div><div class="cell-toolbar sticky"></div><div class="main-content" elevation="0"><div class="cell-contents"><div class="cell-mask"></div><span class="imported-info-area"></span><div class="codecell-input-output">
      <div class="inputarea horizontal layout code">
        <div class="cell-gutter">
          <!-- Bounding range for vertical scrolling of icons -->
          <div class="cell-execution-container">
            <colab-run-button><template shadowrootmode="open"><!----> <div class="cell-execution">
      <button id="run-button" aria-describedby="run-button-tooltip" aria-label="Run cell">
        <span class="execution-count"><!--?lit$590858727$-->[13]</span>
        <span aria-hidden="true" class="cell-execution-indicator"><!--?lit$590858727$-->
<svg xmlns="http://www.w3.org/2000/svg" viewBox="0 0 24 24">
  <!--?lit$590858727$-->
  <mask id="playSymbolMask">
    <rect width="100%" height="100%" fill="white"></rect>
    <polygon points="10,8 17,12 10,16" fill="black"></polygon>
  </mask>
  <circle cx="12" cy="12" r="7.8" mask="url(#playSymbolMask)" id="filledCircle"></circle>
</svg></span>
      </button>
      <!--?lit$590858727$--><colab-tooltip-trigger for="run-button" id="run-button-tooltip" aria-hidden="true" message="Run cell (Ctrl+Enter)
cell executed since last change

executed by Pawan Singh
9:42 PM (1 hour ago)
executed in 4.758s"><template shadowrootmode="open"><!----><!--?lit$590858727$--><!----><div><!--?lit$590858727$-->Run cell (Ctrl+Enter)</div><!----><!----><div><!--?lit$590858727$-->cell executed since last change</div><!----><!----><br><!----><!----><div><!--?lit$590858727$-->executed by Pawan Singh</div><!----><!----><div><!--?lit$590858727$-->9:42 PM (1 hour ago)</div><!----><!----><div><!--?lit$590858727$-->executed in 4.758s</div><!----><!--?--></template>
    </colab-tooltip-trigger> <!--?lit$590858727$--><div id="status">
      <md-icon aria-hidden="true"><template shadowrootmode="open"><!----><slot></slot></template><!--?lit$590858727$--><svg viewBox="0 0 24 24"><!--?lit$590858727$--><path d="M9 16.17L4.83 12l-1.42 1.41L9 19 21 7l-1.41-1.41z"></path></svg></md-icon>
      <div><!--?lit$590858727$-->4s</div>
    </div>
    </div></template></colab-run-button>
          </div>
        </div>
      <div class="editor flex lazy-editor" style=""><pre class="lazy-virtualized" style="font-size: 14px; line-height: 19px;"><pre class="lazy-gutter"></pre><pre class="monaco-colorized colab colab colab colab colab colab colab colab" data-lang="notebook-python"><span><span class="mtk8">#for&nbsp;fetching&nbsp;the&nbsp;fetching&nbsp;and&nbsp;storing&nbsp;data</span></span><br><span><span class="mtk19">import</span><span class="mtk1">&nbsp;os</span></span><br><span><span class="mtk19">from</span><span class="mtk1">&nbsp;zipfile&nbsp;</span><span class="mtk19">import</span><span class="mtk1">&nbsp;ZipFile</span></span><br><span><span class="mtk19">import</span><span class="mtk1">&nbsp;json</span></span><br><span><span></span></span><br><span><span class="mtk8">#for&nbsp;image&nbsp;processing</span></span><br><span><span class="mtk19">import</span><span class="mtk1">&nbsp;pandas&nbsp;</span><span class="mtk19">as</span><span class="mtk1">&nbsp;pd</span></span><br><span><span class="mtk19">import</span><span class="mtk1">&nbsp;numpy&nbsp;</span><span class="mtk19">as</span><span class="mtk1">&nbsp;np</span></span><br><span><span class="mtk19">import</span><span class="mtk1">&nbsp;matplotlib.pyplot&nbsp;</span><span class="mtk19">as</span><span class="mtk1">&nbsp;plt</span></span><br><span><span class="mtk19">import</span><span class="mtk1">&nbsp;cv2</span></span><br><span><span class="mtk19">import</span><span class="mtk1">&nbsp;tensorflow&nbsp;</span><span class="mtk19">as</span><span class="mtk1">&nbsp;tf</span></span><br><span><span class="mtk19">from</span><span class="mtk1">&nbsp;tensorflow&nbsp;</span><span class="mtk19">import</span><span class="mtk1">&nbsp;keras</span></span><br><span><span class="mtk19">from</span><span class="mtk1">&nbsp;tensorflow.keras.preprocessing.image&nbsp;</span><span class="mtk19">import</span><span class="mtk1">&nbsp;ImageDataGenerator</span></span><br><span><span class="mtk19">from</span><span class="mtk1">&nbsp;tensorflow.keras.preprocessing&nbsp;</span><span class="mtk19">import</span><span class="mtk1">&nbsp;image</span></span><br><span><span></span></span><br><span><span class="mtk8">#for&nbsp;model&nbsp;creation</span></span><br><span><span class="mtk6">!</span><span class="mtk1">pip&nbsp;install&nbsp;keras-tuner</span></span><br><span><span class="mtk19">import</span><span class="mtk1">&nbsp;keras_tuner&nbsp;</span><span class="mtk19">as</span><span class="mtk1">&nbsp;kt</span></span><br><span><span class="mtk19">from</span><span class="mtk1">&nbsp;tensorflow.keras&nbsp;</span><span class="mtk19">import</span><span class="mtk1">&nbsp;Sequential</span></span><br><span><span class="mtk19">from</span><span class="mtk1">&nbsp;tensorflow.keras.layers&nbsp;</span><span class="mtk19">import</span><span class="mtk1">&nbsp;Dense,Conv2D,MaxPooling2D,Flatten,BatchNormalizat</span><span class="mtk1">ion</span></span><br><span><span class="mtk19">from</span><span class="mtk1">&nbsp;tensorflow.keras.applications&nbsp;</span><span class="mtk19">import</span><span class="mtk1">&nbsp;VGG16,ResNet50,InceptionV3,DenseNet201</span></span><br><span><span></span></span><br><span><span></span></span><br></pre><colab-read-only-cell-placeholder style="display: none;"><template shadowrootmode="open"><!----><div><!--?lit$590858727$-->Start coding or <span role="button" class="link" tabindex="0">generate</span> with AI.</div></template></colab-read-only-cell-placeholder></pre></div><colab-form class="formview vertical layout flex"><div class="widget-area vertical layout"></div></colab-form></div>
    <div class="output" aria-label="Cell 1 output" role="region"><!----> <div class="output-header"> </div>
        <div class="output-content">
          <div class="output-info"><colab-output-info><template shadowrootmode="open"><!----><md-icon-button data-aria-expanded="false" data-aria-haspopup="menu" title="Code cell output actions" data-aria-label="Code cell output actions" id="button-output-actions" value=""><template shadowrootmode="open" shadowrootdelegatesfocus><!----><button id="button" class="icon-button  standard " aria-label="Code cell output actions" aria-haspopup="menu" aria-expanded="false">
        <!--?lit$590858727$--><md-focus-ring part="focus-ring" for="button" aria-hidden="true"><template shadowrootmode="open"><!----></template></md-focus-ring>
        <!--?lit$590858727$--><md-ripple aria-hidden="true"><template shadowrootmode="open"><!----><div class="surface   "></div></template></md-ripple>
        <!--?lit$590858727$--><span class="icon"><slot></slot></span>
        <!--?lit$590858727$-->
        <!--?lit$590858727$--><span class="touch"></span>
        <!--?lit$590858727$-->
  </button></template>
        <md-icon aria-hidden="true"><template shadowrootmode="open"><!----><slot></slot></template><!--?lit$590858727$--><svg viewBox="0 0 24 24"><!--?lit$590858727$--><path d="m15.9 3.07c-4.32 0.0742-8.64-0.0355-13 0.0568-1.37 0.307-1.74 2.1-1.41 3.26 0.469 0.606 1.86 0.384 1.66-0.525 0.0448-0.329-0.183-0.93 0.354-0.766h13.3v1.53h1.71c0.0709-1.13 0.141-2.62-0.968-3.3-0.511-0.264-1.11-0.252-1.67-0.259zm2.94 6.84v4.87c1.62-1.62 3.24-3.24 4.87-4.87h-4.87zm0 0h-1.71v3.43l1.57 1.57c0.32-1.65 0.0556-3.34 0.135-5zm-1.71 3.43v-3.43h-3.43c1.14 1.14 2.29 2.29 3.43 3.43zm1.4 4.27h-1.71v1.48h-13.6v-1.48h-1.71c-0.0473 1.15-0.16 2.72 1.09 3.29 1.47 0.506 3.02 0.0265 4.53 0.192 3.34-0.0051 6.68 0.0336 10-0.0245 1.49-0.366 1.56-2.22 1.42-3.45zm-10.1-1.12c-0.398-0.483-0.796-0.967-1.19-1.45 0.59-0.683 1.18-1.37 1.77-2.05h-8.67v-2h8.67c-0.59-0.683-1.18-1.37-1.77-2.05 0.398-0.483 0.796-0.967 1.19-1.45 1.28 1.5 2.56 3 3.84 4.5-1.28 1.5-2.56 3-3.84 4.5z"></path></svg></md-icon>
      </md-icon-button>
      <!--?lit$590858727$--><!--?--></template></colab-output-info></div>
          <div class="output-iframe-container">
            <div class="output-iframe-sizer" style="min-height: 0px;"> <div><div><colab-static-output-renderer role="group" tabindex="0"><div><div class="stream output-id-1 output_text"><pre>Requirement already satisfied: keras-tuner in /usr/local/lib/python3.10/dist-packages (1.4.7)
Requirement already satisfied: keras in /usr/local/lib/python3.10/dist-packages (from keras-tuner) (3.4.1)
Requirement already satisfied: packaging in /usr/local/lib/python3.10/dist-packages (from keras-tuner) (24.1)
Requirement already satisfied: requests in /usr/local/lib/python3.10/dist-packages (from keras-tuner) (2.32.3)
Requirement already satisfied: kt-legacy in /usr/local/lib/python3.10/dist-packages (from keras-tuner) (1.0.5)
Requirement already satisfied: absl-py in /usr/local/lib/python3.10/dist-packages (from keras-&gt;keras-tuner) (1.4.0)
Requirement already satisfied: numpy in /usr/local/lib/python3.10/dist-packages (from keras-&gt;keras-tuner) (1.26.4)
Requirement already satisfied: rich in /usr/local/lib/python3.10/dist-packages (from keras-&gt;keras-tuner) (13.8.0)
Requirement already satisfied: namex in /usr/local/lib/python3.10/dist-packages (from keras-&gt;keras-tuner) (0.0.8)
Requirement already satisfied: h5py in /usr/local/lib/python3.10/dist-packages (from keras-&gt;keras-tuner) (3.11.0)
Requirement already satisfied: optree in /usr/local/lib/python3.10/dist-packages (from keras-&gt;keras-tuner) (0.12.1)
Requirement already satisfied: ml-dtypes in /usr/local/lib/python3.10/dist-packages (from keras-&gt;keras-tuner) (0.4.0)
Requirement already satisfied: charset-normalizer&lt;4,&gt;=2 in /usr/local/lib/python3.10/dist-packages (from requests-&gt;keras-tuner) (3.3.2)
Requirement already satisfied: idna&lt;4,&gt;=2.5 in /usr/local/lib/python3.10/dist-packages (from requests-&gt;keras-tuner) (3.8)
Requirement already satisfied: urllib3&lt;3,&gt;=1.21.1 in /usr/local/lib/python3.10/dist-packages (from requests-&gt;keras-tuner) (2.0.7)
Requirement already satisfied: certifi&gt;=2017.4.17 in /usr/local/lib/python3.10/dist-packages (from requests-&gt;keras-tuner) (2024.7.4)
Requirement already satisfied: typing-extensions&gt;=4.5.0 in /usr/local/lib/python3.10/dist-packages (from optree-&gt;keras-&gt;keras-tuner) (4.12.2)
Requirement already satisfied: markdown-it-py&gt;=2.2.0 in /usr/local/lib/python3.10/dist-packages (from rich-&gt;keras-&gt;keras-tuner) (3.0.0)
Requirement already satisfied: pygments&lt;3.0.0,&gt;=2.13.0 in /usr/local/lib/python3.10/dist-packages (from rich-&gt;keras-&gt;keras-tuner) (2.16.1)
Requirement already satisfied: mdurl~=0.1 in /usr/local/lib/python3.10/dist-packages (from markdown-it-py&gt;=2.2.0-&gt;rich-&gt;keras-&gt;keras-tuner) (0.1.2)
</pre></div></div><div></div></colab-static-output-renderer></div></div><div><div></div></div></div>
          </div>
        </div></div></div><colab-cell-next-steps><template shadowrootmode="open"><!----></template></colab-cell-next-steps></div></div><div class="add-cell">
      <div class="add-cell-buttons">
        <md-outlined-button class="add-code add-button" data-aria-label="Add code cell
Ctrl+M B" title="Add code cell
Ctrl+M B" value="" has-icon=""><template shadowrootmode="open" shadowrootdelegatesfocus><!---->
      <!--?lit$590858727$--><div class="outline"></div>
      <div class="background"></div>
      <md-focus-ring part="focus-ring" for="button" aria-hidden="true"><template shadowrootmode="open"><!----></template></md-focus-ring>
      <md-ripple part="ripple" for="button" aria-hidden="true"><template shadowrootmode="open"><!----><div class="surface   "></div></template></md-ripple>
      <!--?lit$590858727$--><button id="button" class="button" aria-label="Add code cell
Ctrl+M B">
      <!--?lit$590858727$-->
      <span class="touch"></span>
      <!--?lit$590858727$--><slot name="icon"></slot>
      <span class="label"><slot></slot></span>
      <!--?lit$590858727$-->
    
    </button>
    </template>
          <md-icon slot="icon" aria-hidden="true"><template shadowrootmode="open"><!----><slot></slot></template>add</md-icon>
          <!--?lit$590858727$-->Code
        </md-outlined-button>
        <md-outlined-button class="add-text add-button" data-aria-label="Add text cell" title="Add text cell" value="" has-icon=""><template shadowrootmode="open" shadowrootdelegatesfocus><!---->
      <!--?lit$590858727$--><div class="outline"></div>
      <div class="background"></div>
      <md-focus-ring part="focus-ring" for="button" aria-hidden="true"><template shadowrootmode="open"><!----></template></md-focus-ring>
      <md-ripple part="ripple" for="button" aria-hidden="true"><template shadowrootmode="open"><!----><div class="surface   "></div></template></md-ripple>
      <!--?lit$590858727$--><button id="button" class="button" aria-label="Add text cell">
      <!--?lit$590858727$-->
      <span class="touch"></span>
      <!--?lit$590858727$--><slot name="icon"></slot>
      <span class="label"><slot></slot></span>
      <!--?lit$590858727$-->
    
    </button>
    </template>
          <md-icon slot="icon" aria-hidden="true"><template shadowrootmode="open"><!----><slot></slot></template>add</md-icon>
          <!--?lit$590858727$-->Text
        </md-outlined-button>
        <!--?lit$590858727$-->
      </div><hr>
    </div></div><div class="cell code icon-scrolling code-has-output" id="cell-dTz8N4wXRp5M" role="region" aria-label="Cell 2: Code cell: " style="" tabindex="-1"><div class="cell-tag-editor sticky"></div><div class="cell-toolbar sticky"></div><div class="main-content" elevation="0"><div class="cell-contents"><div class="cell-mask"></div><span class="imported-info-area"></span><div class="codecell-input-output">
      <div class="inputarea horizontal layout code">
        <div class="cell-gutter">
          <!-- Bounding range for vertical scrolling of icons -->
          <div class="cell-execution-container">
            <colab-run-button><template shadowrootmode="open"><!----> <div class="cell-execution">
      <button id="run-button" aria-describedby="run-button-tooltip" aria-label="Run cell">
        <span class="execution-count"><!--?lit$590858727$-->[2]</span>
        <span aria-hidden="true" class="cell-execution-indicator"><!--?lit$590858727$-->
<svg xmlns="http://www.w3.org/2000/svg" viewBox="0 0 24 24">
  <!--?lit$590858727$-->
  <mask id="playSymbolMask">
    <rect width="100%" height="100%" fill="white"></rect>
    <polygon points="10,8 17,12 10,16" fill="black"></polygon>
  </mask>
  <circle cx="12" cy="12" r="7.8" mask="url(#playSymbolMask)" id="filledCircle"></circle>
</svg></span>
      </button>
      <!--?lit$590858727$--><colab-tooltip-trigger for="run-button" id="run-button-tooltip" aria-hidden="true" message="Run cell (Ctrl+Enter)
cell executed since last change

executed by Pawan Singh
9:21 PM (1 hour ago)
executed in 2.376s"><template shadowrootmode="open"><!----><!--?lit$590858727$--><!----><div><!--?lit$590858727$-->Run cell (Ctrl+Enter)</div><!----><!----><div><!--?lit$590858727$-->cell executed since last change</div><!----><!----><br><!----><!----><div><!--?lit$590858727$-->executed by Pawan Singh</div><!----><!----><div><!--?lit$590858727$-->9:21 PM (1 hour ago)</div><!----><!----><div><!--?lit$590858727$-->executed in 2.376s</div><!----><!--?--></template>
    </colab-tooltip-trigger> <!--?lit$590858727$--><div id="status">
      <md-icon aria-hidden="true"><template shadowrootmode="open"><!----><slot></slot></template><!--?lit$590858727$--><svg viewBox="0 0 24 24"><!--?lit$590858727$--><path d="M9 16.17L4.83 12l-1.42 1.41L9 19 21 7l-1.41-1.41z"></path></svg></md-icon>
      <div><!--?lit$590858727$-->2s</div>
    </div>
    </div></template></colab-run-button>
          </div>
        </div>
      <div class="editor flex lazy-editor" style=""><pre class="lazy-virtualized" style="font-size: 14px; line-height: 19px;"><pre class="lazy-gutter"></pre><pre class="monaco-colorized colab colab colab colab colab colab colab colab colab colab colab colab colab colab colab colab colab colab" data-lang="notebook-python"><span><span class="mtk6">!</span><span class="mtk1">pip&nbsp;install&nbsp;kaggle</span></span><br></pre><colab-read-only-cell-placeholder style="display: none;"><template shadowrootmode="open"><!----><div><!--?lit$590858727$-->Start coding or <span role="button" class="link" tabindex="0">generate</span> with AI.</div></template></colab-read-only-cell-placeholder></pre></div><colab-form class="formview vertical layout flex"><div class="widget-area vertical layout"></div></colab-form></div>
    <div class="output" aria-label="Cell 2 output" role="region"><!----> <div class="output-header"> </div>
        <div class="output-content">
          <div class="output-info"><colab-output-info><template shadowrootmode="open"><!----><md-icon-button data-aria-expanded="false" data-aria-haspopup="menu" title="Code cell output actions" data-aria-label="Code cell output actions" id="button-output-actions" value=""><template shadowrootmode="open" shadowrootdelegatesfocus><!----><button id="button" class="icon-button  standard " aria-label="Code cell output actions" aria-haspopup="menu" aria-expanded="false">
        <!--?lit$590858727$--><md-focus-ring part="focus-ring" for="button" aria-hidden="true"><template shadowrootmode="open"><!----></template></md-focus-ring>
        <!--?lit$590858727$--><md-ripple aria-hidden="true"><template shadowrootmode="open"><!----><div class="surface   "></div></template></md-ripple>
        <!--?lit$590858727$--><span class="icon"><slot></slot></span>
        <!--?lit$590858727$-->
        <!--?lit$590858727$--><span class="touch"></span>
        <!--?lit$590858727$-->
  </button></template>
        <md-icon aria-hidden="true"><template shadowrootmode="open"><!----><slot></slot></template><!--?lit$590858727$--><svg viewBox="0 0 24 24"><!--?lit$590858727$--><path d="m15.9 3.07c-4.32 0.0742-8.64-0.0355-13 0.0568-1.37 0.307-1.74 2.1-1.41 3.26 0.469 0.606 1.86 0.384 1.66-0.525 0.0448-0.329-0.183-0.93 0.354-0.766h13.3v1.53h1.71c0.0709-1.13 0.141-2.62-0.968-3.3-0.511-0.264-1.11-0.252-1.67-0.259zm2.94 6.84v4.87c1.62-1.62 3.24-3.24 4.87-4.87h-4.87zm0 0h-1.71v3.43l1.57 1.57c0.32-1.65 0.0556-3.34 0.135-5zm-1.71 3.43v-3.43h-3.43c1.14 1.14 2.29 2.29 3.43 3.43zm1.4 4.27h-1.71v1.48h-13.6v-1.48h-1.71c-0.0473 1.15-0.16 2.72 1.09 3.29 1.47 0.506 3.02 0.0265 4.53 0.192 3.34-0.0051 6.68 0.0336 10-0.0245 1.49-0.366 1.56-2.22 1.42-3.45zm-10.1-1.12c-0.398-0.483-0.796-0.967-1.19-1.45 0.59-0.683 1.18-1.37 1.77-2.05h-8.67v-2h8.67c-0.59-0.683-1.18-1.37-1.77-2.05 0.398-0.483 0.796-0.967 1.19-1.45 1.28 1.5 2.56 3 3.84 4.5-1.28 1.5-2.56 3-3.84 4.5z"></path></svg></md-icon>
      </md-icon-button>
      <!--?lit$590858727$--><!--?--></template></colab-output-info></div>
          <div class="output-iframe-container">
            <div class="output-iframe-sizer" style="min-height: 0px;"> <div><div><colab-static-output-renderer role="group" tabindex="0"><div><div class="stream output-id-1 output_text"><pre>Requirement already satisfied: kaggle in /usr/local/lib/python3.10/dist-packages (1.6.17)
Requirement already satisfied: six&gt;=1.10 in /usr/local/lib/python3.10/dist-packages (from kaggle) (1.16.0)
Requirement already satisfied: certifi&gt;=2023.7.22 in /usr/local/lib/python3.10/dist-packages (from kaggle) (2024.7.4)
Requirement already satisfied: python-dateutil in /usr/local/lib/python3.10/dist-packages (from kaggle) (2.8.2)
Requirement already satisfied: requests in /usr/local/lib/python3.10/dist-packages (from kaggle) (2.32.3)
Requirement already satisfied: tqdm in /usr/local/lib/python3.10/dist-packages (from kaggle) (4.66.5)
Requirement already satisfied: python-slugify in /usr/local/lib/python3.10/dist-packages (from kaggle) (8.0.4)
Requirement already satisfied: urllib3 in /usr/local/lib/python3.10/dist-packages (from kaggle) (2.0.7)
Requirement already satisfied: bleach in /usr/local/lib/python3.10/dist-packages (from kaggle) (6.1.0)
Requirement already satisfied: webencodings in /usr/local/lib/python3.10/dist-packages (from bleach-&gt;kaggle) (0.5.1)
Requirement already satisfied: text-unidecode&gt;=1.3 in /usr/local/lib/python3.10/dist-packages (from python-slugify-&gt;kaggle) (1.3)
Requirement already satisfied: charset-normalizer&lt;4,&gt;=2 in /usr/local/lib/python3.10/dist-packages (from requests-&gt;kaggle) (3.3.2)
Requirement already satisfied: idna&lt;4,&gt;=2.5 in /usr/local/lib/python3.10/dist-packages (from requests-&gt;kaggle) (3.8)
</pre></div></div><div></div></colab-static-output-renderer></div></div><div><div></div></div></div>
          </div>
        </div></div></div><colab-cell-next-steps><template shadowrootmode="open"><!----></template></colab-cell-next-steps></div></div><div class="add-cell">
      <div class="add-cell-buttons">
        <md-outlined-button class="add-code add-button" data-aria-label="Add code cell
Ctrl+M B" title="Add code cell
Ctrl+M B" value="" has-icon=""><template shadowrootmode="open" shadowrootdelegatesfocus><!---->
      <!--?lit$590858727$--><div class="outline"></div>
      <div class="background"></div>
      <md-focus-ring part="focus-ring" for="button" aria-hidden="true"><template shadowrootmode="open"><!----></template></md-focus-ring>
      <md-ripple part="ripple" for="button" aria-hidden="true"><template shadowrootmode="open"><!----><div class="surface   "></div></template></md-ripple>
      <!--?lit$590858727$--><button id="button" class="button" aria-label="Add code cell
Ctrl+M B">
      <!--?lit$590858727$-->
      <span class="touch"></span>
      <!--?lit$590858727$--><slot name="icon"></slot>
      <span class="label"><slot></slot></span>
      <!--?lit$590858727$-->
    
    </button>
    </template>
          <md-icon slot="icon" aria-hidden="true"><template shadowrootmode="open"><!----><slot></slot></template>add</md-icon>
          <!--?lit$590858727$-->Code
        </md-outlined-button>
        <md-outlined-button class="add-text add-button" data-aria-label="Add text cell" title="Add text cell" value="" has-icon=""><template shadowrootmode="open" shadowrootdelegatesfocus><!---->
      <!--?lit$590858727$--><div class="outline"></div>
      <div class="background"></div>
      <md-focus-ring part="focus-ring" for="button" aria-hidden="true"><template shadowrootmode="open"><!----></template></md-focus-ring>
      <md-ripple part="ripple" for="button" aria-hidden="true"><template shadowrootmode="open"><!----><div class="surface   "></div></template></md-ripple>
      <!--?lit$590858727$--><button id="button" class="button" aria-label="Add text cell">
      <!--?lit$590858727$-->
      <span class="touch"></span>
      <!--?lit$590858727$--><slot name="icon"></slot>
      <span class="label"><slot></slot></span>
      <!--?lit$590858727$-->
    
    </button>
    </template>
          <md-icon slot="icon" aria-hidden="true"><template shadowrootmode="open"><!----><slot></slot></template>add</md-icon>
          <!--?lit$590858727$-->Text
        </md-outlined-button>
        <!--?lit$590858727$-->
      </div><hr>
    </div></div><div class="cell text" id="cell-vHjLysuxS20m" role="region" aria-label="Cell 3: Text cell: " style="" tabindex="-1"><div class="cell-tag-editor sticky"></div><div class="cell-toolbar sticky"></div><div class="main-content" elevation="0"><div class="cell-contents"><div class="cell-mask"></div><span class="imported-info-area"></span><!----> <div class="toolbar-root"></div>
      <div class="editor-container horizontal">
        <div class="editor-root"></div>
        <div class="text-top-div">
          <div class="markdown"><span><p><strong>Set the enviornment vaiables &amp; load dataset</strong></p>
</span></div>
        </div>
      </div>

      <div class="section-header" style="display: none;">
        <colab-run-button><template shadowrootmode="open"><!----> <div class="cell-execution">
      <button id="run-button" aria-label="Run cell">
        <span class="execution-count"><!--?lit$590858727$-->[ ]</span>
        <span aria-hidden="true" class="cell-execution-indicator"><!--?lit$590858727$-->
<svg xmlns="http://www.w3.org/2000/svg" viewBox="0 0 24 24">
  <!--?lit$590858727$-->
  <mask id="playSymbolMask">
    <rect width="100%" height="100%" fill="white"></rect>
    <polygon points="10,8 17,12 10,16" fill="black"></polygon>
  </mask>
  <circle cx="12" cy="12" r="7.8" mask="url(#playSymbolMask)" id="filledCircle"></circle>
</svg></span>
      </button>
      <!--?lit$590858727$--> <!--?lit$590858727$--><!--?-->
    </div></template></colab-run-button>
        <div class="section-header-container" title="click to expand">↳ 0 cells hidden</div>
      </div></div></div><div class="add-cell">
      <div class="add-cell-buttons">
        <md-outlined-button class="add-code add-button" data-aria-label="Add code cell
Ctrl+M B" title="Add code cell
Ctrl+M B" value="" has-icon=""><template shadowrootmode="open" shadowrootdelegatesfocus><!---->
      <!--?lit$590858727$--><div class="outline"></div>
      <div class="background"></div>
      <md-focus-ring part="focus-ring" for="button" aria-hidden="true"><template shadowrootmode="open"><!----></template></md-focus-ring>
      <md-ripple part="ripple" for="button" aria-hidden="true"><template shadowrootmode="open"><!----><div class="surface   "></div></template></md-ripple>
      <!--?lit$590858727$--><button id="button" class="button" aria-label="Add code cell
Ctrl+M B">
      <!--?lit$590858727$-->
      <span class="touch"></span>
      <!--?lit$590858727$--><slot name="icon"></slot>
      <span class="label"><slot></slot></span>
      <!--?lit$590858727$-->
    
    </button>
    </template>
          <md-icon slot="icon" aria-hidden="true"><template shadowrootmode="open"><!----><slot></slot></template>add</md-icon>
          <!--?lit$590858727$-->Code
        </md-outlined-button>
        <md-outlined-button class="add-text add-button" data-aria-label="Add text cell" title="Add text cell" value="" has-icon=""><template shadowrootmode="open" shadowrootdelegatesfocus><!---->
      <!--?lit$590858727$--><div class="outline"></div>
      <div class="background"></div>
      <md-focus-ring part="focus-ring" for="button" aria-hidden="true"><template shadowrootmode="open"><!----></template></md-focus-ring>
      <md-ripple part="ripple" for="button" aria-hidden="true"><template shadowrootmode="open"><!----><div class="surface   "></div></template></md-ripple>
      <!--?lit$590858727$--><button id="button" class="button" aria-label="Add text cell">
      <!--?lit$590858727$-->
      <span class="touch"></span>
      <!--?lit$590858727$--><slot name="icon"></slot>
      <span class="label"><slot></slot></span>
      <!--?lit$590858727$-->
    
    </button>
    </template>
          <md-icon slot="icon" aria-hidden="true"><template shadowrootmode="open"><!----><slot></slot></template>add</md-icon>
          <!--?lit$590858727$-->Text
        </md-outlined-button>
        <!--?lit$590858727$-->
      </div><hr>
    </div></div><div class="cell code icon-scrolling" id="cell-75mpiFvkRue0" role="region" aria-label="Cell 4: Code cell: " style="" tabindex="-1"><div class="cell-tag-editor sticky"></div><div class="cell-toolbar sticky"></div><div class="main-content" elevation="0"><div class="cell-contents"><div class="cell-mask"></div><span class="imported-info-area"></span><div class="codecell-input-output">
      <div class="inputarea horizontal layout code">
        <div class="cell-gutter">
          <!-- Bounding range for vertical scrolling of icons -->
          <div class="cell-execution-container">
            <colab-run-button><template shadowrootmode="open"><!----> <div class="cell-execution">
      <button id="run-button" aria-describedby="run-button-tooltip" aria-label="Run cell">
        <span class="execution-count"><!--?lit$590858727$-->[3]</span>
        <span aria-hidden="true" class="cell-execution-indicator"><!--?lit$590858727$-->
<svg xmlns="http://www.w3.org/2000/svg" viewBox="0 0 24 24">
  <!--?lit$590858727$-->
  <mask id="playSymbolMask">
    <rect width="100%" height="100%" fill="white"></rect>
    <polygon points="10,8 17,12 10,16" fill="black"></polygon>
  </mask>
  <circle cx="12" cy="12" r="7.8" mask="url(#playSymbolMask)" id="filledCircle"></circle>
</svg></span>
      </button>
      <!--?lit$590858727$--><colab-tooltip-trigger for="run-button" id="run-button-tooltip" aria-hidden="true" message="Run cell (Ctrl+Enter)
cell executed since last change

executed by Pawan Singh
9:21 PM (1 hour ago)
executed in 0.003s"><template shadowrootmode="open"><!----><!--?lit$590858727$--><!----><div><!--?lit$590858727$-->Run cell (Ctrl+Enter)</div><!----><!----><div><!--?lit$590858727$-->cell executed since last change</div><!----><!----><br><!----><!----><div><!--?lit$590858727$-->executed by Pawan Singh</div><!----><!----><div><!--?lit$590858727$-->9:21 PM (1 hour ago)</div><!----><!----><div><!--?lit$590858727$-->executed in 0.003s</div><!----><!--?--></template>
    </colab-tooltip-trigger> <!--?lit$590858727$--><div id="status">
      <md-icon aria-hidden="true"><template shadowrootmode="open"><!----><slot></slot></template><!--?lit$590858727$--><svg viewBox="0 0 24 24"><!--?lit$590858727$--><path d="M9 16.17L4.83 12l-1.42 1.41L9 19 21 7l-1.41-1.41z"></path></svg></md-icon>
      <div><!--?lit$590858727$-->0s</div>
    </div>
    </div></template></colab-run-button>
          </div>
        </div>
      <div class="editor flex lazy-editor" style=""><pre class="lazy-virtualized" style="font-size: 14px; line-height: 19px;"><pre class="lazy-gutter"></pre><pre class="monaco-colorized colab colab colab colab colab colab colab colab colab colab colab colab colab colab colab colab colab colab colab colab" data-lang="notebook-python"><span><span class="mtk8">##Generating&nbsp;credentials</span></span><br><span><span class="mtk1">kaggle_cred=json.load(</span><span class="mtk15">open</span><span class="mtk1">(</span><span class="mtk26">"kaggle.json"</span><span class="mtk1">))</span></span><br><span><span></span></span><br><span><span class="mtk8">##setting&nbsp;up&nbsp;the&nbsp;enviornment&nbsp;variables</span></span><br><span><span class="mtk1">os.environ[</span><span class="mtk26">"KAGGLE_USERNAME"</span><span class="mtk1">]=kaggle_cred[</span><span class="mtk26">"username"</span><span class="mtk1">]</span></span><br><span><span class="mtk1">os.environ[</span><span class="mtk26">"KAGGLE_KEY"</span><span class="mtk1">]=kaggle_cred[</span><span class="mtk26">"key"</span><span class="mtk1">]</span></span><br></pre><colab-read-only-cell-placeholder style="display: none;"><template shadowrootmode="open"><!----><div><!--?lit$590858727$-->Start coding or <span role="button" class="link" tabindex="0">generate</span> with AI.</div></template></colab-read-only-cell-placeholder></pre></div><colab-form class="formview vertical layout flex"><div class="widget-area vertical layout"></div></colab-form></div>
    <div class="output" aria-label="Cell 4 output" role="region"><!----> <div class="output-header"> </div>
        <div class="output-content" hidden="">
          <div class="output-info"><colab-output-info><template shadowrootmode="open"><!----><md-icon-button data-aria-expanded="false" data-aria-haspopup="menu" title="Code cell output actions" data-aria-label="Code cell output actions" id="button-output-actions" value=""><template shadowrootmode="open" shadowrootdelegatesfocus><!----><button id="button" class="icon-button  standard " aria-label="Code cell output actions" aria-haspopup="menu" aria-expanded="false">
        <!--?lit$590858727$--><md-focus-ring part="focus-ring" for="button" aria-hidden="true"><template shadowrootmode="open"><!----></template></md-focus-ring>
        <!--?lit$590858727$--><md-ripple aria-hidden="true"><template shadowrootmode="open"><!----><div class="surface   "></div></template></md-ripple>
        <!--?lit$590858727$--><span class="icon"><slot></slot></span>
        <!--?lit$590858727$-->
        <!--?lit$590858727$--><span class="touch"></span>
        <!--?lit$590858727$-->
  </button></template>
        <md-icon aria-hidden="true"><template shadowrootmode="open"><!----><slot></slot></template><!--?lit$590858727$--><svg viewBox="0 0 24 24"><!--?lit$590858727$--><path d="m15.9 3.07c-4.32 0.0742-8.64-0.0355-13 0.0568-1.37 0.307-1.74 2.1-1.41 3.26 0.469 0.606 1.86 0.384 1.66-0.525 0.0448-0.329-0.183-0.93 0.354-0.766h13.3v1.53h1.71c0.0709-1.13 0.141-2.62-0.968-3.3-0.511-0.264-1.11-0.252-1.67-0.259zm2.94 6.84v4.87c1.62-1.62 3.24-3.24 4.87-4.87h-4.87zm0 0h-1.71v3.43l1.57 1.57c0.32-1.65 0.0556-3.34 0.135-5zm-1.71 3.43v-3.43h-3.43c1.14 1.14 2.29 2.29 3.43 3.43zm1.4 4.27h-1.71v1.48h-13.6v-1.48h-1.71c-0.0473 1.15-0.16 2.72 1.09 3.29 1.47 0.506 3.02 0.0265 4.53 0.192 3.34-0.0051 6.68 0.0336 10-0.0245 1.49-0.366 1.56-2.22 1.42-3.45zm-10.1-1.12c-0.398-0.483-0.796-0.967-1.19-1.45 0.59-0.683 1.18-1.37 1.77-2.05h-8.67v-2h8.67c-0.59-0.683-1.18-1.37-1.77-2.05 0.398-0.483 0.796-0.967 1.19-1.45 1.28 1.5 2.56 3 3.84 4.5-1.28 1.5-2.56 3-3.84 4.5z"></path></svg></md-icon>
      </md-icon-button>
      <!--?lit$590858727$--><!--?--></template></colab-output-info></div>
          <div class="output-iframe-container" hidden="">
            <div class="output-iframe-sizer" style="min-height: 0px;"> <div><div><colab-static-output-renderer role="group" tabindex="0"><div></div><div></div></colab-static-output-renderer></div></div></div>
          </div>
        </div></div></div><colab-cell-next-steps><template shadowrootmode="open"><!----></template></colab-cell-next-steps></div></div><div class="add-cell">
      <div class="add-cell-buttons">
        <md-outlined-button class="add-code add-button" data-aria-label="Add code cell
Ctrl+M B" title="Add code cell
Ctrl+M B" value="" has-icon=""><template shadowrootmode="open" shadowrootdelegatesfocus><!---->
      <!--?lit$590858727$--><div class="outline"></div>
      <div class="background"></div>
      <md-focus-ring part="focus-ring" for="button" aria-hidden="true"><template shadowrootmode="open"><!----></template></md-focus-ring>
      <md-ripple part="ripple" for="button" aria-hidden="true"><template shadowrootmode="open"><!----><div class="surface   "></div></template></md-ripple>
      <!--?lit$590858727$--><button id="button" class="button" aria-label="Add code cell
Ctrl+M B">
      <!--?lit$590858727$-->
      <span class="touch"></span>
      <!--?lit$590858727$--><slot name="icon"></slot>
      <span class="label"><slot></slot></span>
      <!--?lit$590858727$-->
    
    </button>
    </template>
          <md-icon slot="icon" aria-hidden="true"><template shadowrootmode="open"><!----><slot></slot></template>add</md-icon>
          <!--?lit$590858727$-->Code
        </md-outlined-button>
        <md-outlined-button class="add-text add-button" data-aria-label="Add text cell" title="Add text cell" value="" has-icon=""><template shadowrootmode="open" shadowrootdelegatesfocus><!---->
      <!--?lit$590858727$--><div class="outline"></div>
      <div class="background"></div>
      <md-focus-ring part="focus-ring" for="button" aria-hidden="true"><template shadowrootmode="open"><!----></template></md-focus-ring>
      <md-ripple part="ripple" for="button" aria-hidden="true"><template shadowrootmode="open"><!----><div class="surface   "></div></template></md-ripple>
      <!--?lit$590858727$--><button id="button" class="button" aria-label="Add text cell">
      <!--?lit$590858727$-->
      <span class="touch"></span>
      <!--?lit$590858727$--><slot name="icon"></slot>
      <span class="label"><slot></slot></span>
      <!--?lit$590858727$-->
    
    </button>
    </template>
          <md-icon slot="icon" aria-hidden="true"><template shadowrootmode="open"><!----><slot></slot></template>add</md-icon>
          <!--?lit$590858727$-->Text
        </md-outlined-button>
        <!--?lit$590858727$-->
      </div><hr>
    </div></div><div class="cell code icon-scrolling code-has-output" id="cell-V8nYUvydSPMF" role="region" aria-label="Cell 5: Code cell: " style="" tabindex="-1"><div class="cell-tag-editor sticky"></div><div class="cell-toolbar sticky"></div><div class="main-content" elevation="0"><div class="cell-contents"><div class="cell-mask"></div><span class="imported-info-area"></span><div class="codecell-input-output">
      <div class="inputarea horizontal layout code">
        <div class="cell-gutter">
          <!-- Bounding range for vertical scrolling of icons -->
          <div class="cell-execution-container">
            <colab-run-button><template shadowrootmode="open"><!----> <div class="cell-execution">
      <button id="run-button" aria-describedby="run-button-tooltip" aria-label="Run cell">
        <span class="execution-count"><!--?lit$590858727$-->[4]</span>
        <span aria-hidden="true" class="cell-execution-indicator"><!--?lit$590858727$-->
<svg xmlns="http://www.w3.org/2000/svg" viewBox="0 0 24 24">
  <!--?lit$590858727$-->
  <mask id="playSymbolMask">
    <rect width="100%" height="100%" fill="white"></rect>
    <polygon points="10,8 17,12 10,16" fill="black"></polygon>
  </mask>
  <circle cx="12" cy="12" r="7.8" mask="url(#playSymbolMask)" id="filledCircle"></circle>
</svg></span>
      </button>
      <!--?lit$590858727$--><colab-tooltip-trigger for="run-button" id="run-button-tooltip" aria-hidden="true" message="Run cell (Ctrl+Enter)
cell executed since last change

executed by Pawan Singh
9:21 PM (1 hour ago)
executed in 11.936s"><template shadowrootmode="open"><!----><!--?lit$590858727$--><!----><div><!--?lit$590858727$-->Run cell (Ctrl+Enter)</div><!----><!----><div><!--?lit$590858727$-->cell executed since last change</div><!----><!----><br><!----><!----><div><!--?lit$590858727$-->executed by Pawan Singh</div><!----><!----><div><!--?lit$590858727$-->9:21 PM (1 hour ago)</div><!----><!----><div><!--?lit$590858727$-->executed in 11.936s</div><!----><!--?--></template>
    </colab-tooltip-trigger> <!--?lit$590858727$--><div id="status">
      <md-icon aria-hidden="true"><template shadowrootmode="open"><!----><slot></slot></template><!--?lit$590858727$--><svg viewBox="0 0 24 24"><!--?lit$590858727$--><path d="M9 16.17L4.83 12l-1.42 1.41L9 19 21 7l-1.41-1.41z"></path></svg></md-icon>
      <div><!--?lit$590858727$-->11s</div>
    </div>
    </div></template></colab-run-button>
          </div>
        </div>
      <div class="editor flex lazy-editor" style=""><pre class="lazy-virtualized" style="font-size: 14px; line-height: 19px;"><pre class="lazy-gutter"></pre><pre class="monaco-colorized colab colab colab colab colab colab colab colab colab colab colab colab colab colab colab colab colab colab colab" data-lang="notebook-python"><span><span class="mtk6">!</span><span class="mtk1">kaggle&nbsp;datasets&nbsp;download&nbsp;-d&nbsp;abdallahalidev/plantvi</span><span class="mtk1">llage-dataset</span></span><br></pre><colab-read-only-cell-placeholder style="display: none;"><template shadowrootmode="open"><!----><div><!--?lit$590858727$-->Start coding or <span role="button" class="link" tabindex="0">generate</span> with AI.</div></template></colab-read-only-cell-placeholder></pre></div><colab-form class="formview vertical layout flex"><div class="widget-area vertical layout"></div></colab-form></div>
    <div class="output" aria-label="Cell 5 output" role="region"><!----> <div class="output-header"> </div>
        <div class="output-content">
          <div class="output-info"><colab-output-info><template shadowrootmode="open"><!----><md-icon-button data-aria-expanded="false" data-aria-haspopup="menu" title="Code cell output actions" data-aria-label="Code cell output actions" id="button-output-actions" value=""><template shadowrootmode="open" shadowrootdelegatesfocus><!----><button id="button" class="icon-button  standard " aria-label="Code cell output actions" aria-haspopup="menu" aria-expanded="false">
        <!--?lit$590858727$--><md-focus-ring part="focus-ring" for="button" aria-hidden="true"><template shadowrootmode="open"><!----></template></md-focus-ring>
        <!--?lit$590858727$--><md-ripple aria-hidden="true"><template shadowrootmode="open"><!----><div class="surface   "></div></template></md-ripple>
        <!--?lit$590858727$--><span class="icon"><slot></slot></span>
        <!--?lit$590858727$-->
        <!--?lit$590858727$--><span class="touch"></span>
        <!--?lit$590858727$-->
  </button></template>
        <md-icon aria-hidden="true"><template shadowrootmode="open"><!----><slot></slot></template><!--?lit$590858727$--><svg viewBox="0 0 24 24"><!--?lit$590858727$--><path d="m15.9 3.07c-4.32 0.0742-8.64-0.0355-13 0.0568-1.37 0.307-1.74 2.1-1.41 3.26 0.469 0.606 1.86 0.384 1.66-0.525 0.0448-0.329-0.183-0.93 0.354-0.766h13.3v1.53h1.71c0.0709-1.13 0.141-2.62-0.968-3.3-0.511-0.264-1.11-0.252-1.67-0.259zm2.94 6.84v4.87c1.62-1.62 3.24-3.24 4.87-4.87h-4.87zm0 0h-1.71v3.43l1.57 1.57c0.32-1.65 0.0556-3.34 0.135-5zm-1.71 3.43v-3.43h-3.43c1.14 1.14 2.29 2.29 3.43 3.43zm1.4 4.27h-1.71v1.48h-13.6v-1.48h-1.71c-0.0473 1.15-0.16 2.72 1.09 3.29 1.47 0.506 3.02 0.0265 4.53 0.192 3.34-0.0051 6.68 0.0336 10-0.0245 1.49-0.366 1.56-2.22 1.42-3.45zm-10.1-1.12c-0.398-0.483-0.796-0.967-1.19-1.45 0.59-0.683 1.18-1.37 1.77-2.05h-8.67v-2h8.67c-0.59-0.683-1.18-1.37-1.77-2.05 0.398-0.483 0.796-0.967 1.19-1.45 1.28 1.5 2.56 3 3.84 4.5-1.28 1.5-2.56 3-3.84 4.5z"></path></svg></md-icon>
      </md-icon-button>
      <!--?lit$590858727$--><!--?--></template></colab-output-info></div>
          <div class="output-iframe-container">
            <div class="output-iframe-sizer" style="min-height: 0px;"> <div><div><colab-static-output-renderer role="group" tabindex="0"><div><div class="stream output-id-36 output_text"><pre>Dataset URL: <a rel="nofollow" target="_blank" href="https://www.kaggle.com/datasets/abdallahalidev/plantvillage-dataset">https://www.kaggle.com/datasets/abdallahalidev/plantvillage-dataset</a>
License(s): CC-BY-NC-SA-4.0
Downloading plantvillage-dataset.zip to /content
100% 2.03G/2.04G [00:10&lt;00:00, 317MB/s]
100% 2.04G/2.04G [00:10&lt;00:00, 202MB/s]
</pre></div></div><div></div></colab-static-output-renderer></div></div></div>
          </div>
        </div></div></div><colab-cell-next-steps><template shadowrootmode="open"><!----></template></colab-cell-next-steps></div></div><div class="add-cell">
      <div class="add-cell-buttons">
        <md-outlined-button class="add-code add-button" data-aria-label="Add code cell
Ctrl+M B" title="Add code cell
Ctrl+M B" value="" has-icon=""><template shadowrootmode="open" shadowrootdelegatesfocus><!---->
      <!--?lit$590858727$--><div class="outline"></div>
      <div class="background"></div>
      <md-focus-ring part="focus-ring" for="button" aria-hidden="true"><template shadowrootmode="open"><!----></template></md-focus-ring>
      <md-ripple part="ripple" for="button" aria-hidden="true"><template shadowrootmode="open"><!----><div class="surface"></div></template></md-ripple>
      <!--?lit$590858727$--><button id="button" class="button" aria-label="Add code cell
Ctrl+M B">
      <!--?lit$590858727$-->
      <span class="touch"></span>
      <!--?lit$590858727$--><slot name="icon"></slot>
      <span class="label"><slot></slot></span>
      <!--?lit$590858727$-->
    
    </button>
    </template>
          <md-icon slot="icon" aria-hidden="true"><template shadowrootmode="open"><!----><slot></slot></template>add</md-icon>
          <!--?lit$590858727$-->Code
        </md-outlined-button>
        <md-outlined-button class="add-text add-button" data-aria-label="Add text cell" title="Add text cell" value="" has-icon=""><template shadowrootmode="open" shadowrootdelegatesfocus><!---->
      <!--?lit$590858727$--><div class="outline"></div>
      <div class="background"></div>
      <md-focus-ring part="focus-ring" for="button" aria-hidden="true"><template shadowrootmode="open"><!----></template></md-focus-ring>
      <md-ripple part="ripple" for="button" aria-hidden="true"><template shadowrootmode="open"><!----><div class="surface   "></div></template></md-ripple>
      <!--?lit$590858727$--><button id="button" class="button" aria-label="Add text cell">
      <!--?lit$590858727$-->
      <span class="touch"></span>
      <!--?lit$590858727$--><slot name="icon"></slot>
      <span class="label"><slot></slot></span>
      <!--?lit$590858727$-->
    
    </button>
    </template>
          <md-icon slot="icon" aria-hidden="true"><template shadowrootmode="open"><!----><slot></slot></template>add</md-icon>
          <!--?lit$590858727$-->Text
        </md-outlined-button>
        <!--?lit$590858727$-->
      </div><hr>
    </div></div><div class="cell code icon-scrolling" id="cell-jU0AX5yOTK3x" role="region" aria-label="Cell 6: Code cell: " style="" tabindex="-1"><div class="cell-tag-editor sticky"></div><div class="cell-toolbar sticky"></div><div class="main-content" elevation="0"><div class="cell-contents"><div class="cell-mask"></div><span class="imported-info-area"></span><div class="codecell-input-output">
      <div class="inputarea horizontal layout code">
        <div class="cell-gutter">
          <!-- Bounding range for vertical scrolling of icons -->
          <div class="cell-execution-container">
            <colab-run-button><template shadowrootmode="open"><!----> <div class="cell-execution">
      <button id="run-button" aria-describedby="run-button-tooltip" aria-label="Run cell">
        <span class="execution-count"><!--?lit$590858727$-->[5]</span>
        <span aria-hidden="true" class="cell-execution-indicator"><!--?lit$590858727$-->
<svg xmlns="http://www.w3.org/2000/svg" viewBox="0 0 24 24">
  <!--?lit$590858727$-->
  <mask id="playSymbolMask">
    <rect width="100%" height="100%" fill="white"></rect>
    <polygon points="10,8 17,12 10,16" fill="black"></polygon>
  </mask>
  <circle cx="12" cy="12" r="7.8" mask="url(#playSymbolMask)" id="filledCircle"></circle>
</svg></span>
      </button>
      <!--?lit$590858727$--><colab-tooltip-trigger for="run-button" id="run-button-tooltip" aria-hidden="true" message="Run cell (Ctrl+Enter)
cell executed since last change

executed by Pawan Singh
9:22 PM (1 hour ago)
executed in 44.298s"><template shadowrootmode="open"><!----><!--?lit$590858727$--><!----><div><!--?lit$590858727$-->Run cell (Ctrl+Enter)</div><!----><!----><div><!--?lit$590858727$-->cell executed since last change</div><!----><!----><br><!----><!----><div><!--?lit$590858727$-->executed by Pawan Singh</div><!----><!----><div><!--?lit$590858727$-->9:22 PM (1 hour ago)</div><!----><!----><div><!--?lit$590858727$-->executed in 44.298s</div><!----><!--?--></template>
    </colab-tooltip-trigger> <!--?lit$590858727$--><div id="status">
      <md-icon aria-hidden="true"><template shadowrootmode="open"><!----><slot></slot></template><!--?lit$590858727$--><svg viewBox="0 0 24 24"><!--?lit$590858727$--><path d="M9 16.17L4.83 12l-1.42 1.41L9 19 21 7l-1.41-1.41z"></path></svg></md-icon>
      <div><!--?lit$590858727$-->44s</div>
    </div>
    </div></template></colab-run-button>
          </div>
        </div>
      <div class="editor flex lazy-editor" style=""><pre class="lazy-virtualized" style="font-size: 14px; line-height: 19px;"><pre class="lazy-gutter"></pre><pre class="monaco-colorized colab colab colab colab colab colab colab colab colab colab colab colab colab colab colab colab colab colab" data-lang="notebook-python"><span><span class="mtk8">##unzip&nbsp;the&nbsp;file</span></span><br><span><span class="mtk19">with</span><span class="mtk1">&nbsp;ZipFile(</span><span class="mtk26">"/content/plantvillage-dataset.zip"</span><span class="mtk1">,</span><span class="mtk26">"r"</span><span class="mtk1">)&nbsp;</span><span class="mtk19">as</span><span class="mtk1">&nbsp;zf:</span></span><br><span><span class="mtk1">&nbsp;&nbsp;zf.extractall()</span></span><br></pre><colab-read-only-cell-placeholder style="display: none;"><template shadowrootmode="open"><!----><div><!--?lit$590858727$-->Start coding or <span role="button" class="link" tabindex="0">generate</span> with AI.</div></template></colab-read-only-cell-placeholder></pre></div><colab-form class="formview vertical layout flex"><div class="widget-area vertical layout"></div></colab-form></div>
    <div class="output" aria-label="Cell 6 output" role="region"><!----> <div class="output-header"> </div>
        <div class="output-content" hidden="">
          <div class="output-info"><colab-output-info><template shadowrootmode="open"><!----><md-icon-button data-aria-expanded="false" data-aria-haspopup="menu" title="Code cell output actions" data-aria-label="Code cell output actions" id="button-output-actions" value=""><template shadowrootmode="open" shadowrootdelegatesfocus><!----><button id="button" class="icon-button  standard " aria-label="Code cell output actions" aria-haspopup="menu" aria-expanded="false">
        <!--?lit$590858727$--><md-focus-ring part="focus-ring" for="button" aria-hidden="true"><template shadowrootmode="open"><!----></template></md-focus-ring>
        <!--?lit$590858727$--><md-ripple aria-hidden="true"><template shadowrootmode="open"><!----><div class="surface   "></div></template></md-ripple>
        <!--?lit$590858727$--><span class="icon"><slot></slot></span>
        <!--?lit$590858727$-->
        <!--?lit$590858727$--><span class="touch"></span>
        <!--?lit$590858727$-->
  </button></template>
        <md-icon aria-hidden="true"><template shadowrootmode="open"><!----><slot></slot></template><!--?lit$590858727$--><svg viewBox="0 0 24 24"><!--?lit$590858727$--><path d="m15.9 3.07c-4.32 0.0742-8.64-0.0355-13 0.0568-1.37 0.307-1.74 2.1-1.41 3.26 0.469 0.606 1.86 0.384 1.66-0.525 0.0448-0.329-0.183-0.93 0.354-0.766h13.3v1.53h1.71c0.0709-1.13 0.141-2.62-0.968-3.3-0.511-0.264-1.11-0.252-1.67-0.259zm2.94 6.84v4.87c1.62-1.62 3.24-3.24 4.87-4.87h-4.87zm0 0h-1.71v3.43l1.57 1.57c0.32-1.65 0.0556-3.34 0.135-5zm-1.71 3.43v-3.43h-3.43c1.14 1.14 2.29 2.29 3.43 3.43zm1.4 4.27h-1.71v1.48h-13.6v-1.48h-1.71c-0.0473 1.15-0.16 2.72 1.09 3.29 1.47 0.506 3.02 0.0265 4.53 0.192 3.34-0.0051 6.68 0.0336 10-0.0245 1.49-0.366 1.56-2.22 1.42-3.45zm-10.1-1.12c-0.398-0.483-0.796-0.967-1.19-1.45 0.59-0.683 1.18-1.37 1.77-2.05h-8.67v-2h8.67c-0.59-0.683-1.18-1.37-1.77-2.05 0.398-0.483 0.796-0.967 1.19-1.45 1.28 1.5 2.56 3 3.84 4.5-1.28 1.5-2.56 3-3.84 4.5z"></path></svg></md-icon>
      </md-icon-button>
      <!--?lit$590858727$--><!--?--></template></colab-output-info></div>
          <div class="output-iframe-container" hidden="">
            <div class="output-iframe-sizer" style="min-height: 0px;"> <div><div><colab-static-output-renderer role="group" tabindex="0"><div></div><div></div></colab-static-output-renderer></div></div></div>
          </div>
        </div></div></div><colab-cell-next-steps><template shadowrootmode="open"><!----></template></colab-cell-next-steps></div></div><div class="add-cell">
      <div class="add-cell-buttons">
        <md-outlined-button class="add-code add-button" data-aria-label="Add code cell
Ctrl+M B" title="Add code cell
Ctrl+M B" value="" has-icon=""><template shadowrootmode="open" shadowrootdelegatesfocus><!---->
      <!--?lit$590858727$--><div class="outline"></div>
      <div class="background"></div>
      <md-focus-ring part="focus-ring" for="button" aria-hidden="true"><template shadowrootmode="open"><!----></template></md-focus-ring>
      <md-ripple part="ripple" for="button" aria-hidden="true"><template shadowrootmode="open"><!----><div class="surface   "></div></template></md-ripple>
      <!--?lit$590858727$--><button id="button" class="button" aria-label="Add code cell
Ctrl+M B">
      <!--?lit$590858727$-->
      <span class="touch"></span>
      <!--?lit$590858727$--><slot name="icon"></slot>
      <span class="label"><slot></slot></span>
      <!--?lit$590858727$-->
    
    </button>
    </template>
          <md-icon slot="icon" aria-hidden="true"><template shadowrootmode="open"><!----><slot></slot></template>add</md-icon>
          <!--?lit$590858727$-->Code
        </md-outlined-button>
        <md-outlined-button class="add-text add-button" data-aria-label="Add text cell" title="Add text cell" value="" has-icon=""><template shadowrootmode="open" shadowrootdelegatesfocus><!---->
      <!--?lit$590858727$--><div class="outline"></div>
      <div class="background"></div>
      <md-focus-ring part="focus-ring" for="button" aria-hidden="true"><template shadowrootmode="open"><!----></template></md-focus-ring>
      <md-ripple part="ripple" for="button" aria-hidden="true"><template shadowrootmode="open"><!----><div class="surface   "></div></template></md-ripple>
      <!--?lit$590858727$--><button id="button" class="button" aria-label="Add text cell">
      <!--?lit$590858727$-->
      <span class="touch"></span>
      <!--?lit$590858727$--><slot name="icon"></slot>
      <span class="label"><slot></slot></span>
      <!--?lit$590858727$-->
    
    </button>
    </template>
          <md-icon slot="icon" aria-hidden="true"><template shadowrootmode="open"><!----><slot></slot></template>add</md-icon>
          <!--?lit$590858727$-->Text
        </md-outlined-button>
        <!--?lit$590858727$-->
      </div><hr>
    </div></div><div class="cell code icon-scrolling code-has-output" id="cell-o29hXOeZToVz" role="region" aria-label="Cell 7: Code cell: " style="" tabindex="-1"><div class="cell-tag-editor sticky"></div><div class="cell-toolbar sticky"></div><div class="main-content" elevation="0"><div class="cell-contents"><div class="cell-mask"></div><span class="imported-info-area"></span><div class="codecell-input-output">
      <div class="inputarea horizontal layout code">
        <div class="cell-gutter">
          <!-- Bounding range for vertical scrolling of icons -->
          <div class="cell-execution-container">
            <colab-run-button><template shadowrootmode="open"><!----> <div class="cell-execution">
      <button id="run-button" aria-describedby="run-button-tooltip" aria-label="Run cell">
        <span class="execution-count"><!--?lit$590858727$-->[6]</span>
        <span aria-hidden="true" class="cell-execution-indicator"><!--?lit$590858727$-->
<svg xmlns="http://www.w3.org/2000/svg" viewBox="0 0 24 24">
  <!--?lit$590858727$-->
  <mask id="playSymbolMask">
    <rect width="100%" height="100%" fill="white"></rect>
    <polygon points="10,8 17,12 10,16" fill="black"></polygon>
  </mask>
  <circle cx="12" cy="12" r="7.8" mask="url(#playSymbolMask)" id="filledCircle"></circle>
</svg></span>
      </button>
      <!--?lit$590858727$--><colab-tooltip-trigger for="run-button" id="run-button-tooltip" aria-hidden="true" message="Run cell (Ctrl+Enter)
cell executed since last change

executed by Pawan Singh
9:22 PM (1 hour ago)
executed in 0.01s"><template shadowrootmode="open"><!----><!--?lit$590858727$--><!----><div><!--?lit$590858727$-->Run cell (Ctrl+Enter)</div><!----><!----><div><!--?lit$590858727$-->cell executed since last change</div><!----><!----><br><!----><!----><div><!--?lit$590858727$-->executed by Pawan Singh</div><!----><!----><div><!--?lit$590858727$-->9:22 PM (1 hour ago)</div><!----><!----><div><!--?lit$590858727$-->executed in 0.01s</div><!----><!--?--></template>
    </colab-tooltip-trigger> <!--?lit$590858727$--><div id="status">
      <md-icon aria-hidden="true"><template shadowrootmode="open"><!----><slot></slot></template><!--?lit$590858727$--><svg viewBox="0 0 24 24"><!--?lit$590858727$--><path d="M9 16.17L4.83 12l-1.42 1.41L9 19 21 7l-1.41-1.41z"></path></svg></md-icon>
      <div><!--?lit$590858727$-->0s</div>
    </div>
    </div></template></colab-run-button>
          </div>
        </div>
      <div class="editor flex lazy-editor" style=""><pre class="lazy-virtualized" style="font-size: 14px; line-height: 19px;"><pre class="lazy-gutter"></pre><pre class="monaco-colorized colab colab colab colab colab colab colab colab colab colab colab colab colab colab colab colab colab colab" data-lang="notebook-python"><span><span class="mtk8">##checking&nbsp;dataset</span></span><br><span><span></span></span><br><span><span class="mtk15">print</span><span class="mtk1">(</span><span class="mtk15">len</span><span class="mtk1">(os.listdir(</span><span class="mtk26">"/content/plantvillage&nbsp;dataset/color"</span><span class="mtk1">)))</span></span><br><span><span class="mtk15">print</span><span class="mtk1">(os.listdir(</span><span class="mtk26">"/content/plantvillage&nbsp;dataset/color"</span><span class="mtk1">)[:</span><span class="mtk12">3</span><span class="mtk1">])</span></span><br><span><span></span></span><br><span><span class="mtk15">print</span><span class="mtk1">(</span><span class="mtk15">len</span><span class="mtk1">(os.listdir(</span><span class="mtk26">"/content/plantvillage&nbsp;dataset/color/Apple___Apple</span><span class="mtk26">_scab"</span><span class="mtk1">)))</span></span><br><span><span class="mtk15">print</span><span class="mtk1">(os.listdir(</span><span class="mtk26">"/content/plantvillage&nbsp;dataset/color/Apple___Apple</span><span class="mtk26">_scab"</span><span class="mtk1">)[:</span><span class="mtk12">3</span><span class="mtk1">])</span></span><br></pre><colab-read-only-cell-placeholder style="display: none;"><template shadowrootmode="open"><!----><div><!--?lit$590858727$-->Start coding or <span role="button" class="link" tabindex="0">generate</span> with AI.</div></template></colab-read-only-cell-placeholder></pre></div><colab-form class="formview vertical layout flex"><div class="widget-area vertical layout"></div></colab-form></div>
    <div class="output" aria-label="Cell 7 output" role="region"><!----> <div class="output-header"> </div>
        <div class="output-content">
          <div class="output-info"><colab-output-info><template shadowrootmode="open"><!----><md-icon-button data-aria-expanded="false" data-aria-haspopup="menu" title="Code cell output actions" data-aria-label="Code cell output actions" id="button-output-actions" value=""><template shadowrootmode="open" shadowrootdelegatesfocus><!----><button id="button" class="icon-button  standard " aria-label="Code cell output actions" aria-haspopup="menu" aria-expanded="false">
        <!--?lit$590858727$--><md-focus-ring part="focus-ring" for="button" aria-hidden="true"><template shadowrootmode="open"><!----></template></md-focus-ring>
        <!--?lit$590858727$--><md-ripple aria-hidden="true"><template shadowrootmode="open"><!----><div class="surface   "></div></template></md-ripple>
        <!--?lit$590858727$--><span class="icon"><slot></slot></span>
        <!--?lit$590858727$-->
        <!--?lit$590858727$--><span class="touch"></span>
        <!--?lit$590858727$-->
  </button></template>
        <md-icon aria-hidden="true"><template shadowrootmode="open"><!----><slot></slot></template><!--?lit$590858727$--><svg viewBox="0 0 24 24"><!--?lit$590858727$--><path d="m15.9 3.07c-4.32 0.0742-8.64-0.0355-13 0.0568-1.37 0.307-1.74 2.1-1.41 3.26 0.469 0.606 1.86 0.384 1.66-0.525 0.0448-0.329-0.183-0.93 0.354-0.766h13.3v1.53h1.71c0.0709-1.13 0.141-2.62-0.968-3.3-0.511-0.264-1.11-0.252-1.67-0.259zm2.94 6.84v4.87c1.62-1.62 3.24-3.24 4.87-4.87h-4.87zm0 0h-1.71v3.43l1.57 1.57c0.32-1.65 0.0556-3.34 0.135-5zm-1.71 3.43v-3.43h-3.43c1.14 1.14 2.29 2.29 3.43 3.43zm1.4 4.27h-1.71v1.48h-13.6v-1.48h-1.71c-0.0473 1.15-0.16 2.72 1.09 3.29 1.47 0.506 3.02 0.0265 4.53 0.192 3.34-0.0051 6.68 0.0336 10-0.0245 1.49-0.366 1.56-2.22 1.42-3.45zm-10.1-1.12c-0.398-0.483-0.796-0.967-1.19-1.45 0.59-0.683 1.18-1.37 1.77-2.05h-8.67v-2h8.67c-0.59-0.683-1.18-1.37-1.77-2.05 0.398-0.483 0.796-0.967 1.19-1.45 1.28 1.5 2.56 3 3.84 4.5-1.28 1.5-2.56 3-3.84 4.5z"></path></svg></md-icon>
      </md-icon-button>
      <!--?lit$590858727$--><!--?--></template></colab-output-info></div>
          <div class="output-iframe-container">
            <div class="output-iframe-sizer" style="min-height: 0px;"> <div><div><colab-static-output-renderer role="group" tabindex="0"><div><div class="stream output-id-1 output_text"><pre>38
['Grape___Esca_(Black_Measles)', 'Tomato___Tomato_mosaic_virus', 'Corn_(maize)___Cercospora_leaf_spot Gray_leaf_spot']
630
['f2d6beb9-e8b1-49f6-b7b7-903b51565435___FREC_Scab 3393.JPG', '01a66316-0e98-4d3b-a56f-d78752cd043f___FREC_Scab 3003.JPG', 'fcee4ece-01ce-45aa-a0f1-f20aa2ec8efb___FREC_Scab 3325.JPG']
</pre></div></div><div></div></colab-static-output-renderer></div></div></div>
          </div>
        </div></div></div><colab-cell-next-steps><template shadowrootmode="open"><!----></template></colab-cell-next-steps></div></div><div class="add-cell">
      <div class="add-cell-buttons">
        <md-outlined-button class="add-code add-button" data-aria-label="Add code cell
Ctrl+M B" title="Add code cell
Ctrl+M B" value="" has-icon=""><template shadowrootmode="open" shadowrootdelegatesfocus><!---->
      <!--?lit$590858727$--><div class="outline"></div>
      <div class="background"></div>
      <md-focus-ring part="focus-ring" for="button" aria-hidden="true"><template shadowrootmode="open"><!----></template></md-focus-ring>
      <md-ripple part="ripple" for="button" aria-hidden="true"><template shadowrootmode="open"><!----><div class="surface   "></div></template></md-ripple>
      <!--?lit$590858727$--><button id="button" class="button" aria-label="Add code cell
Ctrl+M B">
      <!--?lit$590858727$-->
      <span class="touch"></span>
      <!--?lit$590858727$--><slot name="icon"></slot>
      <span class="label"><slot></slot></span>
      <!--?lit$590858727$-->
    
    </button>
    </template>
          <md-icon slot="icon" aria-hidden="true"><template shadowrootmode="open"><!----><slot></slot></template>add</md-icon>
          <!--?lit$590858727$-->Code
        </md-outlined-button>
        <md-outlined-button class="add-text add-button" data-aria-label="Add text cell" title="Add text cell" value="" has-icon=""><template shadowrootmode="open" shadowrootdelegatesfocus><!---->
      <!--?lit$590858727$--><div class="outline"></div>
      <div class="background"></div>
      <md-focus-ring part="focus-ring" for="button" aria-hidden="true"><template shadowrootmode="open"><!----></template></md-focus-ring>
      <md-ripple part="ripple" for="button" aria-hidden="true"><template shadowrootmode="open"><!----><div class="surface   "></div></template></md-ripple>
      <!--?lit$590858727$--><button id="button" class="button" aria-label="Add text cell">
      <!--?lit$590858727$-->
      <span class="touch"></span>
      <!--?lit$590858727$--><slot name="icon"></slot>
      <span class="label"><slot></slot></span>
      <!--?lit$590858727$-->
    
    </button>
    </template>
          <md-icon slot="icon" aria-hidden="true"><template shadowrootmode="open"><!----><slot></slot></template>add</md-icon>
          <!--?lit$590858727$-->Text
        </md-outlined-button>
        <!--?lit$590858727$-->
      </div><hr>
    </div></div><div class="cell code icon-scrolling code-has-output" id="cell-Y0NeP9clVYUi" role="region" aria-label="Cell 8: Code cell: " style="" tabindex="-1"><div class="cell-tag-editor sticky"></div><div class="cell-toolbar sticky"></div><div class="main-content" elevation="0"><div class="cell-contents"><div class="cell-mask"></div><span class="imported-info-area"></span><div class="codecell-input-output">
      <div class="inputarea horizontal layout code">
        <div class="cell-gutter">
          <!-- Bounding range for vertical scrolling of icons -->
          <div class="cell-execution-container">
            <colab-run-button><template shadowrootmode="open"><!----> <div class="cell-execution">
      <button id="run-button" aria-describedby="run-button-tooltip" aria-label="Run cell">
        <span class="execution-count"><!--?lit$590858727$-->[7]</span>
        <span aria-hidden="true" class="cell-execution-indicator"><!--?lit$590858727$-->
<svg xmlns="http://www.w3.org/2000/svg" viewBox="0 0 24 24">
  <!--?lit$590858727$-->
  <mask id="playSymbolMask">
    <rect width="100%" height="100%" fill="white"></rect>
    <polygon points="10,8 17,12 10,16" fill="black"></polygon>
  </mask>
  <circle cx="12" cy="12" r="7.8" mask="url(#playSymbolMask)" id="filledCircle"></circle>
</svg></span>
      </button>
      <!--?lit$590858727$--><colab-tooltip-trigger for="run-button" id="run-button-tooltip" aria-hidden="true" message="Run cell (Ctrl+Enter)
cell executed since last change

executed by Pawan Singh
9:22 PM (1 hour ago)
executed in 0.008s"><template shadowrootmode="open"><!----><!--?lit$590858727$--><!----><div><!--?lit$590858727$-->Run cell (Ctrl+Enter)</div><!----><!----><div><!--?lit$590858727$-->cell executed since last change</div><!----><!----><br><!----><!----><div><!--?lit$590858727$-->executed by Pawan Singh</div><!----><!----><div><!--?lit$590858727$-->9:22 PM (1 hour ago)</div><!----><!----><div><!--?lit$590858727$-->executed in 0.008s</div><!----><!--?--></template>
    </colab-tooltip-trigger> <!--?lit$590858727$--><div id="status">
      <md-icon aria-hidden="true"><template shadowrootmode="open"><!----><slot></slot></template><!--?lit$590858727$--><svg viewBox="0 0 24 24"><!--?lit$590858727$--><path d="M9 16.17L4.83 12l-1.42 1.41L9 19 21 7l-1.41-1.41z"></path></svg></md-icon>
      <div><!--?lit$590858727$-->0s</div>
    </div>
    </div></template></colab-run-button>
          </div>
        </div>
      <div class="editor flex lazy-editor" style=""><pre class="lazy-virtualized" style="font-size: 14px; line-height: 19px;"><pre class="lazy-gutter"></pre><pre class="monaco-colorized colab colab colab colab colab colab colab colab colab colab colab colab colab colab colab colab colab colab colab" data-lang="notebook-python"><span><span class="mtk8">##Image&nbsp;of&nbsp;sample</span></span><br><span><span class="mtk1">img_path=</span><span class="mtk26">"/content/plantvillage&nbsp;dataset/color/Apple___Apple</span><span class="mtk26">_scab/0261a6e4-21f8-481a-8827-b674e6955644___FREC_</span><span class="mtk26">Scab&nbsp;3055.JPG"</span></span><br><span><span></span></span><br><span><span class="mtk1">img=cv2.imread(img_path)</span></span><br><span><span class="mtk1">plt.imshow(img)</span></span><br><span><span class="mtk1">plt.axis(</span><span class="mtk26">"off"</span><span class="mtk1">)</span></span><br><span><span class="mtk15">print</span><span class="mtk1">(img.shape)</span></span><br></pre><colab-read-only-cell-placeholder style="display: none;"><template shadowrootmode="open"><!----><div><!--?lit$590858727$-->Start coding or <span role="button" class="link" tabindex="0">generate</span> with AI.</div></template></colab-read-only-cell-placeholder></pre></div><colab-form class="formview vertical layout flex"><div class="widget-area vertical layout"></div></colab-form></div>
    <div class="output" aria-label="Cell 8 output" role="region"><!----> <div class="output-header"> </div>
        <div class="output-content">
          <div class="output-info"><colab-output-info><template shadowrootmode="open"><!----><md-icon-button data-aria-expanded="false" data-aria-haspopup="menu" title="Code cell output actions" data-aria-label="Code cell output actions" id="button-output-actions" value=""><template shadowrootmode="open" shadowrootdelegatesfocus><!----><button id="button" class="icon-button  standard " aria-label="Code cell output actions" aria-haspopup="menu" aria-expanded="false">
        <!--?lit$590858727$--><md-focus-ring part="focus-ring" for="button" aria-hidden="true"><template shadowrootmode="open"><!----></template></md-focus-ring>
        <!--?lit$590858727$--><md-ripple aria-hidden="true"><template shadowrootmode="open"><!----><div class="surface   "></div></template></md-ripple>
        <!--?lit$590858727$--><span class="icon"><slot></slot></span>
        <!--?lit$590858727$-->
        <!--?lit$590858727$--><span class="touch"></span>
        <!--?lit$590858727$-->
  </button></template>
        <md-icon aria-hidden="true"><template shadowrootmode="open"><!----><slot></slot></template><!--?lit$590858727$--><svg viewBox="0 0 24 24"><!--?lit$590858727$--><path d="m15.9 3.07c-4.32 0.0742-8.64-0.0355-13 0.0568-1.37 0.307-1.74 2.1-1.41 3.26 0.469 0.606 1.86 0.384 1.66-0.525 0.0448-0.329-0.183-0.93 0.354-0.766h13.3v1.53h1.71c0.0709-1.13 0.141-2.62-0.968-3.3-0.511-0.264-1.11-0.252-1.67-0.259zm2.94 6.84v4.87c1.62-1.62 3.24-3.24 4.87-4.87h-4.87zm0 0h-1.71v3.43l1.57 1.57c0.32-1.65 0.0556-3.34 0.135-5zm-1.71 3.43v-3.43h-3.43c1.14 1.14 2.29 2.29 3.43 3.43zm1.4 4.27h-1.71v1.48h-13.6v-1.48h-1.71c-0.0473 1.15-0.16 2.72 1.09 3.29 1.47 0.506 3.02 0.0265 4.53 0.192 3.34-0.0051 6.68 0.0336 10-0.0245 1.49-0.366 1.56-2.22 1.42-3.45zm-10.1-1.12c-0.398-0.483-0.796-0.967-1.19-1.45 0.59-0.683 1.18-1.37 1.77-2.05h-8.67v-2h8.67c-0.59-0.683-1.18-1.37-1.77-2.05 0.398-0.483 0.796-0.967 1.19-1.45 1.28 1.5 2.56 3 3.84 4.5-1.28 1.5-2.56 3-3.84 4.5z"></path></svg></md-icon>
      </md-icon-button>
      <!--?lit$590858727$--><!--?--></template></colab-output-info></div>
          <div class="output-iframe-container">
            <div class="output-iframe-sizer" style="min-height: 0px;"> <div><div class="outputview" style="height: 424px;"><colab-dom-lifecycle-events style="display: none;"></colab-dom-lifecycle-events><iframe allow="accelerometer; autoplay; gyroscope; magnetometer; xr-spatial-tracking; clipboard-write" sandbox="allow-downloads allow-forms allow-pointer-lock allow-popups allow-same-origin allow-scripts allow-storage-access-by-user-activation allow-modals allow-popups-to-escape-sandbox" src="./Plant_Disease_Detection_files/outputframe.html" class="" style="height: 424px;"></iframe></div></div></div>
          </div>
        </div></div></div><colab-cell-next-steps><template shadowrootmode="open"><!----></template></colab-cell-next-steps></div></div><div class="add-cell">
      <div class="add-cell-buttons">
        <md-outlined-button class="add-code add-button" data-aria-label="Add code cell
Ctrl+M B" title="Add code cell
Ctrl+M B" value="" has-icon=""><template shadowrootmode="open" shadowrootdelegatesfocus><!---->
      <!--?lit$590858727$--><div class="outline"></div>
      <div class="background"></div>
      <md-focus-ring part="focus-ring" for="button" aria-hidden="true"><template shadowrootmode="open"><!----></template></md-focus-ring>
      <md-ripple part="ripple" for="button" aria-hidden="true"><template shadowrootmode="open"><!----><div class="surface   "></div></template></md-ripple>
      <!--?lit$590858727$--><button id="button" class="button" aria-label="Add code cell
Ctrl+M B">
      <!--?lit$590858727$-->
      <span class="touch"></span>
      <!--?lit$590858727$--><slot name="icon"></slot>
      <span class="label"><slot></slot></span>
      <!--?lit$590858727$-->
    
    </button>
    </template>
          <md-icon slot="icon" aria-hidden="true"><template shadowrootmode="open"><!----><slot></slot></template>add</md-icon>
          <!--?lit$590858727$-->Code
        </md-outlined-button>
        <md-outlined-button class="add-text add-button" data-aria-label="Add text cell" title="Add text cell" value="" has-icon=""><template shadowrootmode="open" shadowrootdelegatesfocus><!---->
      <!--?lit$590858727$--><div class="outline"></div>
      <div class="background"></div>
      <md-focus-ring part="focus-ring" for="button" aria-hidden="true"><template shadowrootmode="open"><!----></template></md-focus-ring>
      <md-ripple part="ripple" for="button" aria-hidden="true"><template shadowrootmode="open"><!----><div class="surface   "></div></template></md-ripple>
      <!--?lit$590858727$--><button id="button" class="button" aria-label="Add text cell">
      <!--?lit$590858727$-->
      <span class="touch"></span>
      <!--?lit$590858727$--><slot name="icon"></slot>
      <span class="label"><slot></slot></span>
      <!--?lit$590858727$-->
    
    </button>
    </template>
          <md-icon slot="icon" aria-hidden="true"><template shadowrootmode="open"><!----><slot></slot></template>add</md-icon>
          <!--?lit$590858727$-->Text
        </md-outlined-button>
        <!--?lit$590858727$-->
      </div><hr>
    </div></div><div class="cell text" id="cell-jqrqJXa2VAq3" role="region" aria-label="Cell 9: Text cell: " style="" tabindex="-1"><div class="cell-tag-editor sticky"></div><div class="cell-toolbar sticky"></div><div class="main-content" elevation="0"><div class="cell-contents"><div class="cell-mask"></div><span class="imported-info-area"></span><!----> <div class="toolbar-root"></div>
      <div class="editor-container horizontal">
        <div class="editor-root"></div>
        <div class="text-top-div">
          <div class="markdown"><span><p><strong>Dataset Processsing</strong></p>
</span></div>
        </div>
      </div>

      <div class="section-header" style="display: none;">
        <colab-run-button><template shadowrootmode="open"><!----> <div class="cell-execution">
      <button id="run-button" aria-label="Run cell">
        <span class="execution-count"><!--?lit$590858727$-->[ ]</span>
        <span aria-hidden="true" class="cell-execution-indicator"><!--?lit$590858727$-->
<svg xmlns="http://www.w3.org/2000/svg" viewBox="0 0 24 24">
  <!--?lit$590858727$-->
  <mask id="playSymbolMask">
    <rect width="100%" height="100%" fill="white"></rect>
    <polygon points="10,8 17,12 10,16" fill="black"></polygon>
  </mask>
  <circle cx="12" cy="12" r="7.8" mask="url(#playSymbolMask)" id="filledCircle"></circle>
</svg></span>
      </button>
      <!--?lit$590858727$--> <!--?lit$590858727$--><!--?-->
    </div></template></colab-run-button>
        <div class="section-header-container" title="click to expand">↳ 0 cells hidden</div>
      </div></div></div><div class="add-cell">
      <div class="add-cell-buttons">
        <md-outlined-button class="add-code add-button" data-aria-label="Add code cell
Ctrl+M B" title="Add code cell
Ctrl+M B" value="" has-icon=""><template shadowrootmode="open" shadowrootdelegatesfocus><!---->
      <!--?lit$590858727$--><div class="outline"></div>
      <div class="background"></div>
      <md-focus-ring part="focus-ring" for="button" aria-hidden="true"><template shadowrootmode="open"><!----></template></md-focus-ring>
      <md-ripple part="ripple" for="button" aria-hidden="true"><template shadowrootmode="open"><!----><div class="surface   "></div></template></md-ripple>
      <!--?lit$590858727$--><button id="button" class="button" aria-label="Add code cell
Ctrl+M B">
      <!--?lit$590858727$-->
      <span class="touch"></span>
      <!--?lit$590858727$--><slot name="icon"></slot>
      <span class="label"><slot></slot></span>
      <!--?lit$590858727$-->
    
    </button>
    </template>
          <md-icon slot="icon" aria-hidden="true"><template shadowrootmode="open"><!----><slot></slot></template>add</md-icon>
          <!--?lit$590858727$-->Code
        </md-outlined-button>
        <md-outlined-button class="add-text add-button" data-aria-label="Add text cell" title="Add text cell" value="" has-icon=""><template shadowrootmode="open" shadowrootdelegatesfocus><!---->
      <!--?lit$590858727$--><div class="outline"></div>
      <div class="background"></div>
      <md-focus-ring part="focus-ring" for="button" aria-hidden="true"><template shadowrootmode="open"><!----></template></md-focus-ring>
      <md-ripple part="ripple" for="button" aria-hidden="true"><template shadowrootmode="open"><!----><div class="surface   "></div></template></md-ripple>
      <!--?lit$590858727$--><button id="button" class="button" aria-label="Add text cell">
      <!--?lit$590858727$-->
      <span class="touch"></span>
      <!--?lit$590858727$--><slot name="icon"></slot>
      <span class="label"><slot></slot></span>
      <!--?lit$590858727$-->
    
    </button>
    </template>
          <md-icon slot="icon" aria-hidden="true"><template shadowrootmode="open"><!----><slot></slot></template>add</md-icon>
          <!--?lit$590858727$-->Text
        </md-outlined-button>
        <!--?lit$590858727$-->
      </div><hr>
    </div></div><div class="cell code icon-scrolling" id="cell-gv8H6b-FUUKA" role="region" aria-label="Cell 10: Code cell: " style="" tabindex="-1"><div class="cell-tag-editor sticky"></div><div class="cell-toolbar sticky"></div><div class="main-content" elevation="0"><div class="cell-contents"><div class="cell-mask"></div><span class="imported-info-area"></span><div class="codecell-input-output">
      <div class="inputarea horizontal layout code">
        <div class="cell-gutter">
          <!-- Bounding range for vertical scrolling of icons -->
          <div class="cell-execution-container">
            <colab-run-button><template shadowrootmode="open"><!----> <div class="cell-execution">
      <button id="run-button" aria-describedby="run-button-tooltip" aria-label="Run cell">
        <span class="execution-count"><!--?lit$590858727$-->[8]</span>
        <span aria-hidden="true" class="cell-execution-indicator"><!--?lit$590858727$-->
<svg xmlns="http://www.w3.org/2000/svg" viewBox="0 0 24 24">
  <!--?lit$590858727$-->
  <mask id="playSymbolMask">
    <rect width="100%" height="100%" fill="white"></rect>
    <polygon points="10,8 17,12 10,16" fill="black"></polygon>
  </mask>
  <circle cx="12" cy="12" r="7.8" mask="url(#playSymbolMask)" id="filledCircle"></circle>
</svg></span>
      </button>
      <!--?lit$590858727$--><colab-tooltip-trigger for="run-button" id="run-button-tooltip" aria-hidden="true" message="Run cell (Ctrl+Enter)
cell executed since last change

executed by Pawan Singh
9:22 PM (1 hour ago)
executed in 0.005s"><template shadowrootmode="open"><!----><!--?lit$590858727$--><!----><div><!--?lit$590858727$-->Run cell (Ctrl+Enter)</div><!----><!----><div><!--?lit$590858727$-->cell executed since last change</div><!----><!----><br><!----><!----><div><!--?lit$590858727$-->executed by Pawan Singh</div><!----><!----><div><!--?lit$590858727$-->9:22 PM (1 hour ago)</div><!----><!----><div><!--?lit$590858727$-->executed in 0.005s</div><!----><!--?--></template>
    </colab-tooltip-trigger> <!--?lit$590858727$--><div id="status">
      <md-icon aria-hidden="true"><template shadowrootmode="open"><!----><slot></slot></template><!--?lit$590858727$--><svg viewBox="0 0 24 24"><!--?lit$590858727$--><path d="M9 16.17L4.83 12l-1.42 1.41L9 19 21 7l-1.41-1.41z"></path></svg></md-icon>
      <div><!--?lit$590858727$-->0s</div>
    </div>
    </div></template></colab-run-button>
          </div>
        </div>
      <div class="editor flex lazy-editor" style=""><pre class="lazy-virtualized" style="font-size: 14px; line-height: 19px;"><pre class="lazy-gutter"></pre><pre class="monaco-colorized colab colab colab colab colab colab colab colab colab colab colab colab colab colab colab colab colab colab" data-lang="notebook-python"><span><span class="mtk8">##data&nbsp;directory</span></span><br><span><span class="mtk1">base_dir=</span><span class="mtk26">"/content/plantvillage&nbsp;dataset/color"</span></span><br><span><span></span></span><br><span><span class="mtk8">##creating&nbsp;datagenerator</span></span><br><span><span class="mtk1">data_gen=ImageDataGenerator(</span></span><br><span><span class="mtk1">&nbsp;&nbsp;&nbsp;&nbsp;rescale=</span><span class="mtk12">1</span><span class="mtk1">/</span><span class="mtk12">255</span><span class="mtk1">,</span></span><br><span><span class="mtk1">&nbsp;&nbsp;&nbsp;&nbsp;validation_split=</span><span class="mtk12">0.2</span></span><br><span><span class="mtk1">)</span></span><br></pre><colab-read-only-cell-placeholder style="display: none;"><template shadowrootmode="open"><!----><div><!--?lit$590858727$-->Start coding or <span role="button" class="link" tabindex="0">generate</span> with AI.</div></template></colab-read-only-cell-placeholder></pre></div><colab-form class="formview vertical layout flex"><div class="widget-area vertical layout"></div></colab-form></div>
    <div class="output" aria-label="Cell 10 output" role="region"><!----> <div class="output-header"> </div>
        <div class="output-content" hidden="">
          <div class="output-info"><colab-output-info><template shadowrootmode="open"><!----><md-icon-button data-aria-expanded="false" data-aria-haspopup="menu" title="Code cell output actions" data-aria-label="Code cell output actions" id="button-output-actions" value=""><template shadowrootmode="open" shadowrootdelegatesfocus><!----><button id="button" class="icon-button  standard " aria-label="Code cell output actions" aria-haspopup="menu" aria-expanded="false">
        <!--?lit$590858727$--><md-focus-ring part="focus-ring" for="button" aria-hidden="true"><template shadowrootmode="open"><!----></template></md-focus-ring>
        <!--?lit$590858727$--><md-ripple aria-hidden="true"><template shadowrootmode="open"><!----><div class="surface   "></div></template></md-ripple>
        <!--?lit$590858727$--><span class="icon"><slot></slot></span>
        <!--?lit$590858727$-->
        <!--?lit$590858727$--><span class="touch"></span>
        <!--?lit$590858727$-->
  </button></template>
        <md-icon aria-hidden="true"><template shadowrootmode="open"><!----><slot></slot></template><!--?lit$590858727$--><svg viewBox="0 0 24 24"><!--?lit$590858727$--><path d="m15.9 3.07c-4.32 0.0742-8.64-0.0355-13 0.0568-1.37 0.307-1.74 2.1-1.41 3.26 0.469 0.606 1.86 0.384 1.66-0.525 0.0448-0.329-0.183-0.93 0.354-0.766h13.3v1.53h1.71c0.0709-1.13 0.141-2.62-0.968-3.3-0.511-0.264-1.11-0.252-1.67-0.259zm2.94 6.84v4.87c1.62-1.62 3.24-3.24 4.87-4.87h-4.87zm0 0h-1.71v3.43l1.57 1.57c0.32-1.65 0.0556-3.34 0.135-5zm-1.71 3.43v-3.43h-3.43c1.14 1.14 2.29 2.29 3.43 3.43zm1.4 4.27h-1.71v1.48h-13.6v-1.48h-1.71c-0.0473 1.15-0.16 2.72 1.09 3.29 1.47 0.506 3.02 0.0265 4.53 0.192 3.34-0.0051 6.68 0.0336 10-0.0245 1.49-0.366 1.56-2.22 1.42-3.45zm-10.1-1.12c-0.398-0.483-0.796-0.967-1.19-1.45 0.59-0.683 1.18-1.37 1.77-2.05h-8.67v-2h8.67c-0.59-0.683-1.18-1.37-1.77-2.05 0.398-0.483 0.796-0.967 1.19-1.45 1.28 1.5 2.56 3 3.84 4.5-1.28 1.5-2.56 3-3.84 4.5z"></path></svg></md-icon>
      </md-icon-button>
      <!--?lit$590858727$--><!--?--></template></colab-output-info></div>
          <div class="output-iframe-container" hidden="">
            <div class="output-iframe-sizer" style="min-height: 0px;"> <div><div><colab-static-output-renderer role="group" tabindex="0"><div></div><div></div></colab-static-output-renderer></div></div></div>
          </div>
        </div></div></div><colab-cell-next-steps><template shadowrootmode="open"><!----></template></colab-cell-next-steps></div></div><div class="add-cell">
      <div class="add-cell-buttons">
        <md-outlined-button class="add-code add-button" data-aria-label="Add code cell
Ctrl+M B" title="Add code cell
Ctrl+M B" value="" has-icon=""><template shadowrootmode="open" shadowrootdelegatesfocus><!---->
      <!--?lit$590858727$--><div class="outline"></div>
      <div class="background"></div>
      <md-focus-ring part="focus-ring" for="button" aria-hidden="true"><template shadowrootmode="open"><!----></template></md-focus-ring>
      <md-ripple part="ripple" for="button" aria-hidden="true"><template shadowrootmode="open"><!----><div class="surface   "></div></template></md-ripple>
      <!--?lit$590858727$--><button id="button" class="button" aria-label="Add code cell
Ctrl+M B">
      <!--?lit$590858727$-->
      <span class="touch"></span>
      <!--?lit$590858727$--><slot name="icon"></slot>
      <span class="label"><slot></slot></span>
      <!--?lit$590858727$-->
    
    </button>
    </template>
          <md-icon slot="icon" aria-hidden="true"><template shadowrootmode="open"><!----><slot></slot></template>add</md-icon>
          <!--?lit$590858727$-->Code
        </md-outlined-button>
        <md-outlined-button class="add-text add-button" data-aria-label="Add text cell" title="Add text cell" value="" has-icon=""><template shadowrootmode="open" shadowrootdelegatesfocus><!---->
      <!--?lit$590858727$--><div class="outline"></div>
      <div class="background"></div>
      <md-focus-ring part="focus-ring" for="button" aria-hidden="true"><template shadowrootmode="open"><!----></template></md-focus-ring>
      <md-ripple part="ripple" for="button" aria-hidden="true"><template shadowrootmode="open"><!----><div class="surface   "></div></template></md-ripple>
      <!--?lit$590858727$--><button id="button" class="button" aria-label="Add text cell">
      <!--?lit$590858727$-->
      <span class="touch"></span>
      <!--?lit$590858727$--><slot name="icon"></slot>
      <span class="label"><slot></slot></span>
      <!--?lit$590858727$-->
    
    </button>
    </template>
          <md-icon slot="icon" aria-hidden="true"><template shadowrootmode="open"><!----><slot></slot></template>add</md-icon>
          <!--?lit$590858727$-->Text
        </md-outlined-button>
        <!--?lit$590858727$-->
      </div><hr>
    </div></div><div class="cell code icon-scrolling code-has-output" id="cell-UTUdJ3xYY_YS" role="region" aria-label="Cell 11: Code cell: " style="" tabindex="-1"><div class="cell-tag-editor sticky"></div><div class="cell-toolbar sticky"></div><div class="main-content" elevation="0"><div class="cell-contents"><div class="cell-mask"></div><span class="imported-info-area"></span><div class="codecell-input-output">
      <div class="inputarea horizontal layout code">
        <div class="cell-gutter">
          <!-- Bounding range for vertical scrolling of icons -->
          <div class="cell-execution-container">
            <colab-run-button><template shadowrootmode="open"><!----> <div class="cell-execution">
      <button id="run-button" aria-describedby="run-button-tooltip" aria-label="Run cell">
        <span class="execution-count"><!--?lit$590858727$-->[9]</span>
        <span aria-hidden="true" class="cell-execution-indicator"><!--?lit$590858727$-->
<svg xmlns="http://www.w3.org/2000/svg" viewBox="0 0 24 24">
  <!--?lit$590858727$-->
  <mask id="playSymbolMask">
    <rect width="100%" height="100%" fill="white"></rect>
    <polygon points="10,8 17,12 10,16" fill="black"></polygon>
  </mask>
  <circle cx="12" cy="12" r="7.8" mask="url(#playSymbolMask)" id="filledCircle"></circle>
</svg></span>
      </button>
      <!--?lit$590858727$--><colab-tooltip-trigger for="run-button" id="run-button-tooltip" aria-hidden="true" message="Run cell (Ctrl+Enter)
cell executed since last change

executed by Pawan Singh
9:22 PM (1 hour ago)
executed in 0.516s"><template shadowrootmode="open"><!----><!--?lit$590858727$--><!----><div><!--?lit$590858727$-->Run cell (Ctrl+Enter)</div><!----><!----><div><!--?lit$590858727$-->cell executed since last change</div><!----><!----><br><!----><!----><div><!--?lit$590858727$-->executed by Pawan Singh</div><!----><!----><div><!--?lit$590858727$-->9:22 PM (1 hour ago)</div><!----><!----><div><!--?lit$590858727$-->executed in 0.516s</div><!----><!--?--></template>
    </colab-tooltip-trigger> <!--?lit$590858727$--><div id="status">
      <md-icon aria-hidden="true"><template shadowrootmode="open"><!----><slot></slot></template><!--?lit$590858727$--><svg viewBox="0 0 24 24"><!--?lit$590858727$--><path d="M9 16.17L4.83 12l-1.42 1.41L9 19 21 7l-1.41-1.41z"></path></svg></md-icon>
      <div><!--?lit$590858727$-->0s</div>
    </div>
    </div></template></colab-run-button>
          </div>
        </div>
      <div class="editor flex lazy-editor" style=""><pre class="lazy-virtualized" style="font-size: 14px; line-height: 19px;"><pre class="lazy-gutter"></pre><pre class="monaco-colorized colab colab colab colab colab colab colab colab colab colab colab colab colab colab colab colab colab colab" data-lang="notebook-python"><span><span class="mtk8">##training&nbsp;data</span></span><br><span><span class="mtk1">train=data_gen.flow_from_directory(</span></span><br><span><span class="mtk1">&nbsp;&nbsp;&nbsp;&nbsp;base_dir,</span></span><br><span><span class="mtk1">&nbsp;&nbsp;&nbsp;&nbsp;batch_size=</span><span class="mtk12">32</span><span class="mtk1">,</span></span><br><span><span class="mtk1">&nbsp;&nbsp;&nbsp;&nbsp;target_size=(</span><span class="mtk12">224</span><span class="mtk1">,</span><span class="mtk12">224</span><span class="mtk1">),</span></span><br><span><span class="mtk1">&nbsp;&nbsp;&nbsp;&nbsp;subset=</span><span class="mtk26">"training"</span><span class="mtk1">,</span></span><br><span><span class="mtk1">&nbsp;&nbsp;&nbsp;&nbsp;class_mode=</span><span class="mtk26">"categorical"</span></span><br><span><span class="mtk1">)</span></span><br><span><span></span></span><br><span><span class="mtk8">##validation&nbsp;data</span></span><br><span><span class="mtk1">validation=data_gen.flow_from_directory(</span></span><br><span><span class="mtk1">&nbsp;&nbsp;&nbsp;&nbsp;base_dir,</span></span><br><span><span class="mtk1">&nbsp;&nbsp;&nbsp;&nbsp;batch_size=</span><span class="mtk12">32</span><span class="mtk1">,</span></span><br><span><span class="mtk1">&nbsp;&nbsp;&nbsp;&nbsp;target_size=(</span><span class="mtk12">224</span><span class="mtk1">,</span><span class="mtk12">224</span><span class="mtk1">),</span></span><br><span><span class="mtk1">&nbsp;&nbsp;&nbsp;&nbsp;subset=</span><span class="mtk26">"validation"</span><span class="mtk1">,</span></span><br><span><span class="mtk1">&nbsp;&nbsp;&nbsp;&nbsp;class_mode=</span><span class="mtk26">"categorical"</span></span><br><span><span class="mtk1">)</span></span><br></pre><colab-read-only-cell-placeholder style="display: none;"><template shadowrootmode="open"><!----><div><!--?lit$590858727$-->Start coding or <span role="button" class="link" tabindex="0">generate</span> with AI.</div></template></colab-read-only-cell-placeholder></pre></div><colab-form class="formview vertical layout flex"><div class="widget-area vertical layout"></div></colab-form></div>
    <div class="output" aria-label="Cell 11 output" role="region"><!----> <div class="output-header"> </div>
        <div class="output-content">
          <div class="output-info"><colab-output-info><template shadowrootmode="open"><!----><md-icon-button data-aria-expanded="false" data-aria-haspopup="menu" title="Code cell output actions" data-aria-label="Code cell output actions" id="button-output-actions" value=""><template shadowrootmode="open" shadowrootdelegatesfocus><!----><button id="button" class="icon-button  standard " aria-label="Code cell output actions" aria-haspopup="menu" aria-expanded="false">
        <!--?lit$590858727$--><md-focus-ring part="focus-ring" for="button" aria-hidden="true"><template shadowrootmode="open"><!----></template></md-focus-ring>
        <!--?lit$590858727$--><md-ripple aria-hidden="true"><template shadowrootmode="open"><!----><div class="surface   "></div></template></md-ripple>
        <!--?lit$590858727$--><span class="icon"><slot></slot></span>
        <!--?lit$590858727$-->
        <!--?lit$590858727$--><span class="touch"></span>
        <!--?lit$590858727$-->
  </button></template>
        <md-icon aria-hidden="true"><template shadowrootmode="open"><!----><slot></slot></template><!--?lit$590858727$--><svg viewBox="0 0 24 24"><!--?lit$590858727$--><path d="m15.9 3.07c-4.32 0.0742-8.64-0.0355-13 0.0568-1.37 0.307-1.74 2.1-1.41 3.26 0.469 0.606 1.86 0.384 1.66-0.525 0.0448-0.329-0.183-0.93 0.354-0.766h13.3v1.53h1.71c0.0709-1.13 0.141-2.62-0.968-3.3-0.511-0.264-1.11-0.252-1.67-0.259zm2.94 6.84v4.87c1.62-1.62 3.24-3.24 4.87-4.87h-4.87zm0 0h-1.71v3.43l1.57 1.57c0.32-1.65 0.0556-3.34 0.135-5zm-1.71 3.43v-3.43h-3.43c1.14 1.14 2.29 2.29 3.43 3.43zm1.4 4.27h-1.71v1.48h-13.6v-1.48h-1.71c-0.0473 1.15-0.16 2.72 1.09 3.29 1.47 0.506 3.02 0.0265 4.53 0.192 3.34-0.0051 6.68 0.0336 10-0.0245 1.49-0.366 1.56-2.22 1.42-3.45zm-10.1-1.12c-0.398-0.483-0.796-0.967-1.19-1.45 0.59-0.683 1.18-1.37 1.77-2.05h-8.67v-2h8.67c-0.59-0.683-1.18-1.37-1.77-2.05 0.398-0.483 0.796-0.967 1.19-1.45 1.28 1.5 2.56 3 3.84 4.5-1.28 1.5-2.56 3-3.84 4.5z"></path></svg></md-icon>
      </md-icon-button>
      <!--?lit$590858727$--><!--?--></template></colab-output-info></div>
          <div class="output-iframe-container">
            <div class="output-iframe-sizer" style="min-height: 0px;"> <div><div><colab-static-output-renderer role="group" tabindex="0"><div><div class="stream output-id-2 output_text"><pre>Found 43456 images belonging to 38 classes.
Found 10849 images belonging to 38 classes.
</pre></div></div><div></div></colab-static-output-renderer></div></div></div>
          </div>
        </div></div></div><colab-cell-next-steps><template shadowrootmode="open"><!----></template></colab-cell-next-steps></div></div><div class="add-cell">
      <div class="add-cell-buttons">
        <md-outlined-button class="add-code add-button" data-aria-label="Add code cell
Ctrl+M B" title="Add code cell
Ctrl+M B" value="" has-icon=""><template shadowrootmode="open" shadowrootdelegatesfocus><!---->
      <!--?lit$590858727$--><div class="outline"></div>
      <div class="background"></div>
      <md-focus-ring part="focus-ring" for="button" aria-hidden="true"><template shadowrootmode="open"><!----></template></md-focus-ring>
      <md-ripple part="ripple" for="button" aria-hidden="true"><template shadowrootmode="open"><!----><div class="surface"></div></template></md-ripple>
      <!--?lit$590858727$--><button id="button" class="button" aria-label="Add code cell
Ctrl+M B">
      <!--?lit$590858727$-->
      <span class="touch"></span>
      <!--?lit$590858727$--><slot name="icon"></slot>
      <span class="label"><slot></slot></span>
      <!--?lit$590858727$-->
    
    </button>
    </template>
          <md-icon slot="icon" aria-hidden="true"><template shadowrootmode="open"><!----><slot></slot></template>add</md-icon>
          <!--?lit$590858727$-->Code
        </md-outlined-button>
        <md-outlined-button class="add-text add-button" data-aria-label="Add text cell" title="Add text cell" value="" has-icon=""><template shadowrootmode="open" shadowrootdelegatesfocus><!---->
      <!--?lit$590858727$--><div class="outline"></div>
      <div class="background"></div>
      <md-focus-ring part="focus-ring" for="button" aria-hidden="true"><template shadowrootmode="open"><!----></template></md-focus-ring>
      <md-ripple part="ripple" for="button" aria-hidden="true"><template shadowrootmode="open"><!----><div class="surface   "></div></template></md-ripple>
      <!--?lit$590858727$--><button id="button" class="button" aria-label="Add text cell">
      <!--?lit$590858727$-->
      <span class="touch"></span>
      <!--?lit$590858727$--><slot name="icon"></slot>
      <span class="label"><slot></slot></span>
      <!--?lit$590858727$-->
    
    </button>
    </template>
          <md-icon slot="icon" aria-hidden="true"><template shadowrootmode="open"><!----><slot></slot></template>add</md-icon>
          <!--?lit$590858727$-->Text
        </md-outlined-button>
        <!--?lit$590858727$-->
      </div><hr>
    </div></div><div class="cell code icon-scrolling code-has-output" id="cell-Hu8oO2SYad-V" role="region" aria-label="Cell 12: Code cell: " style="" tabindex="-1"><div class="cell-tag-editor sticky"></div><div class="cell-toolbar sticky"></div><div class="main-content" elevation="0"><div class="cell-contents"><div class="cell-mask"></div><span class="imported-info-area"></span><div class="codecell-input-output">
      <div class="inputarea horizontal layout code">
        <div class="cell-gutter">
          <!-- Bounding range for vertical scrolling of icons -->
          <div class="cell-execution-container">
            <colab-run-button><template shadowrootmode="open"><!----> <div class="cell-execution">
      <button id="run-button" aria-describedby="run-button-tooltip" aria-label="Run cell">
        <span class="execution-count"><!--?lit$590858727$-->[10]</span>
        <span aria-hidden="true" class="cell-execution-indicator"><!--?lit$590858727$-->
<svg xmlns="http://www.w3.org/2000/svg" viewBox="0 0 24 24">
  <!--?lit$590858727$-->
  <mask id="playSymbolMask">
    <rect width="100%" height="100%" fill="white"></rect>
    <polygon points="10,8 17,12 10,16" fill="black"></polygon>
  </mask>
  <circle cx="12" cy="12" r="7.8" mask="url(#playSymbolMask)" id="filledCircle"></circle>
</svg></span>
      </button>
      <!--?lit$590858727$--><colab-tooltip-trigger for="run-button" id="run-button-tooltip" aria-hidden="true" message="Run cell (Ctrl+Enter)
cell executed since last change

executed by Pawan Singh
9:22 PM (1 hour ago)
executed in 0.004s"><template shadowrootmode="open"><!----><!--?lit$590858727$--><!----><div><!--?lit$590858727$-->Run cell (Ctrl+Enter)</div><!----><!----><div><!--?lit$590858727$-->cell executed since last change</div><!----><!----><br><!----><!----><div><!--?lit$590858727$-->executed by Pawan Singh</div><!----><!----><div><!--?lit$590858727$-->9:22 PM (1 hour ago)</div><!----><!----><div><!--?lit$590858727$-->executed in 0.004s</div><!----><!--?--></template>
    </colab-tooltip-trigger> <!--?lit$590858727$--><div id="status">
      <md-icon aria-hidden="true"><template shadowrootmode="open"><!----><slot></slot></template><!--?lit$590858727$--><svg viewBox="0 0 24 24"><!--?lit$590858727$--><path d="M9 16.17L4.83 12l-1.42 1.41L9 19 21 7l-1.41-1.41z"></path></svg></md-icon>
      <div><!--?lit$590858727$-->0s</div>
    </div>
    </div></template></colab-run-button>
          </div>
        </div>
      <div class="editor flex lazy-editor" style=""><pre class="lazy-virtualized" style="font-size: 14px; line-height: 19px;"><pre class="lazy-gutter"></pre><pre class="monaco-colorized colab colab colab colab colab colab colab colab colab colab colab colab colab colab colab colab colab colab colab colab" data-lang="notebook-python"><span><span class="mtk15">print</span><span class="mtk1">(</span><span class="mtk6">f</span><span class="mtk26">"Shape&nbsp;of&nbsp;image&nbsp;numpy&nbsp;array&nbsp;=</span><span class="mtk1">{train[</span><span class="mtk12">0</span><span class="mtk1">][</span><span class="mtk12">0</span><span class="mtk1">].shape[</span><span class="mtk12">1</span><span class="mtk1">:]}</span><span class="mtk26">"</span><span class="mtk1">)</span></span><br><span><span class="mtk15">print</span><span class="mtk1">(</span><span class="mtk6">f</span><span class="mtk26">"Shape&nbsp;of&nbsp;image&nbsp;class&nbsp;numpy&nbsp;array&nbsp;=</span><span class="mtk1">{train[</span><span class="mtk12">0</span><span class="mtk1">][</span><span class="mtk12">1</span><span class="mtk1">].shape[</span><span class="mtk12">1</span><span class="mtk1">:]}</span><span class="mtk26">"</span><span class="mtk1">)</span></span><br></pre><colab-read-only-cell-placeholder style="display: none;"><template shadowrootmode="open"><!----><div><!--?lit$590858727$-->Start coding or <span role="button" class="link" tabindex="0">generate</span> with AI.</div></template></colab-read-only-cell-placeholder></pre></div><colab-form class="formview vertical layout flex"><div class="widget-area vertical layout"></div></colab-form></div>
    <div class="output" aria-label="Cell 12 output" role="region"><!----> <div class="output-header"> </div>
        <div class="output-content">
          <div class="output-info"><colab-output-info><template shadowrootmode="open"><!----><md-icon-button data-aria-expanded="false" data-aria-haspopup="menu" title="Code cell output actions" data-aria-label="Code cell output actions" id="button-output-actions" value=""><template shadowrootmode="open" shadowrootdelegatesfocus><!----><button id="button" class="icon-button  standard " aria-label="Code cell output actions" aria-haspopup="menu" aria-expanded="false">
        <!--?lit$590858727$--><md-focus-ring part="focus-ring" for="button" aria-hidden="true"><template shadowrootmode="open"><!----></template></md-focus-ring>
        <!--?lit$590858727$--><md-ripple aria-hidden="true"><template shadowrootmode="open"><!----><div class="surface   "></div></template></md-ripple>
        <!--?lit$590858727$--><span class="icon"><slot></slot></span>
        <!--?lit$590858727$-->
        <!--?lit$590858727$--><span class="touch"></span>
        <!--?lit$590858727$-->
  </button></template>
        <md-icon aria-hidden="true"><template shadowrootmode="open"><!----><slot></slot></template><!--?lit$590858727$--><svg viewBox="0 0 24 24"><!--?lit$590858727$--><path d="m15.9 3.07c-4.32 0.0742-8.64-0.0355-13 0.0568-1.37 0.307-1.74 2.1-1.41 3.26 0.469 0.606 1.86 0.384 1.66-0.525 0.0448-0.329-0.183-0.93 0.354-0.766h13.3v1.53h1.71c0.0709-1.13 0.141-2.62-0.968-3.3-0.511-0.264-1.11-0.252-1.67-0.259zm2.94 6.84v4.87c1.62-1.62 3.24-3.24 4.87-4.87h-4.87zm0 0h-1.71v3.43l1.57 1.57c0.32-1.65 0.0556-3.34 0.135-5zm-1.71 3.43v-3.43h-3.43c1.14 1.14 2.29 2.29 3.43 3.43zm1.4 4.27h-1.71v1.48h-13.6v-1.48h-1.71c-0.0473 1.15-0.16 2.72 1.09 3.29 1.47 0.506 3.02 0.0265 4.53 0.192 3.34-0.0051 6.68 0.0336 10-0.0245 1.49-0.366 1.56-2.22 1.42-3.45zm-10.1-1.12c-0.398-0.483-0.796-0.967-1.19-1.45 0.59-0.683 1.18-1.37 1.77-2.05h-8.67v-2h8.67c-0.59-0.683-1.18-1.37-1.77-2.05 0.398-0.483 0.796-0.967 1.19-1.45 1.28 1.5 2.56 3 3.84 4.5-1.28 1.5-2.56 3-3.84 4.5z"></path></svg></md-icon>
      </md-icon-button>
      <!--?lit$590858727$--><!--?--></template></colab-output-info></div>
          <div class="output-iframe-container">
            <div class="output-iframe-sizer" style="min-height: 0px;"> <div><div><colab-static-output-renderer role="group" tabindex="0"><div><div class="stream output-id-1 output_text"><pre>Shape of image numpy array =(224, 224, 3)
Shape of image class numpy array =(38,)
</pre></div></div><div></div></colab-static-output-renderer></div></div></div>
          </div>
        </div></div></div><colab-cell-next-steps><template shadowrootmode="open"><!----></template></colab-cell-next-steps></div></div><div class="add-cell">
      <div class="add-cell-buttons">
        <md-outlined-button class="add-code add-button" data-aria-label="Add code cell
Ctrl+M B" title="Add code cell
Ctrl+M B" value="" has-icon=""><template shadowrootmode="open" shadowrootdelegatesfocus><!---->
      <!--?lit$590858727$--><div class="outline"></div>
      <div class="background"></div>
      <md-focus-ring part="focus-ring" for="button" aria-hidden="true"><template shadowrootmode="open"><!----></template></md-focus-ring>
      <md-ripple part="ripple" for="button" aria-hidden="true"><template shadowrootmode="open"><!----><div class="surface   "></div></template></md-ripple>
      <!--?lit$590858727$--><button id="button" class="button" aria-label="Add code cell
Ctrl+M B">
      <!--?lit$590858727$-->
      <span class="touch"></span>
      <!--?lit$590858727$--><slot name="icon"></slot>
      <span class="label"><slot></slot></span>
      <!--?lit$590858727$-->
    
    </button>
    </template>
          <md-icon slot="icon" aria-hidden="true"><template shadowrootmode="open"><!----><slot></slot></template>add</md-icon>
          <!--?lit$590858727$-->Code
        </md-outlined-button>
        <md-outlined-button class="add-text add-button" data-aria-label="Add text cell" title="Add text cell" value="" has-icon=""><template shadowrootmode="open" shadowrootdelegatesfocus><!---->
      <!--?lit$590858727$--><div class="outline"></div>
      <div class="background"></div>
      <md-focus-ring part="focus-ring" for="button" aria-hidden="true"><template shadowrootmode="open"><!----></template></md-focus-ring>
      <md-ripple part="ripple" for="button" aria-hidden="true"><template shadowrootmode="open"><!----><div class="surface   "></div></template></md-ripple>
      <!--?lit$590858727$--><button id="button" class="button" aria-label="Add text cell">
      <!--?lit$590858727$-->
      <span class="touch"></span>
      <!--?lit$590858727$--><slot name="icon"></slot>
      <span class="label"><slot></slot></span>
      <!--?lit$590858727$-->
    
    </button>
    </template>
          <md-icon slot="icon" aria-hidden="true"><template shadowrootmode="open"><!----><slot></slot></template>add</md-icon>
          <!--?lit$590858727$-->Text
        </md-outlined-button>
        <!--?lit$590858727$-->
      </div><hr>
    </div></div><div class="cell text" id="cell-7TnlhhHddiIT" role="region" aria-label="Cell 13: Text cell: " style="" tabindex="-1"><div class="cell-tag-editor sticky"></div><div class="cell-toolbar sticky"></div><div class="main-content" elevation="0"><div class="cell-contents"><div class="cell-mask"></div><span class="imported-info-area"></span><!----> <div class="toolbar-root"></div>
      <div class="editor-container horizontal">
        <div class="editor-root"></div>
        <div class="text-top-div">
          <div class="markdown"><span><p><strong>Model Creation</strong></p>
</span></div>
        </div>
      </div>

      <div class="section-header" style="display: none;">
        <colab-run-button><template shadowrootmode="open"><!----> <div class="cell-execution">
      <button id="run-button" aria-label="Run cell">
        <span class="execution-count"><!--?lit$590858727$-->[ ]</span>
        <span aria-hidden="true" class="cell-execution-indicator"><!--?lit$590858727$-->
<svg xmlns="http://www.w3.org/2000/svg" viewBox="0 0 24 24">
  <!--?lit$590858727$-->
  <mask id="playSymbolMask">
    <rect width="100%" height="100%" fill="white"></rect>
    <polygon points="10,8 17,12 10,16" fill="black"></polygon>
  </mask>
  <circle cx="12" cy="12" r="7.8" mask="url(#playSymbolMask)" id="filledCircle"></circle>
</svg></span>
      </button>
      <!--?lit$590858727$--> <!--?lit$590858727$--><!--?-->
    </div></template></colab-run-button>
        <div class="section-header-container" title="click to expand">↳ 0 cells hidden</div>
      </div></div></div><div class="add-cell">
      <div class="add-cell-buttons">
        <md-outlined-button class="add-code add-button" data-aria-label="Add code cell
Ctrl+M B" title="Add code cell
Ctrl+M B" value="" has-icon=""><template shadowrootmode="open" shadowrootdelegatesfocus><!---->
      <!--?lit$590858727$--><div class="outline"></div>
      <div class="background"></div>
      <md-focus-ring part="focus-ring" for="button" aria-hidden="true"><template shadowrootmode="open"><!----></template></md-focus-ring>
      <md-ripple part="ripple" for="button" aria-hidden="true"><template shadowrootmode="open"><!----><div class="surface"></div></template></md-ripple>
      <!--?lit$590858727$--><button id="button" class="button" aria-label="Add code cell
Ctrl+M B">
      <!--?lit$590858727$-->
      <span class="touch"></span>
      <!--?lit$590858727$--><slot name="icon"></slot>
      <span class="label"><slot></slot></span>
      <!--?lit$590858727$-->
    
    </button>
    </template>
          <md-icon slot="icon" aria-hidden="true"><template shadowrootmode="open"><!----><slot></slot></template>add</md-icon>
          <!--?lit$590858727$-->Code
        </md-outlined-button>
        <md-outlined-button class="add-text add-button" data-aria-label="Add text cell" title="Add text cell" value="" has-icon=""><template shadowrootmode="open" shadowrootdelegatesfocus><!---->
      <!--?lit$590858727$--><div class="outline"></div>
      <div class="background"></div>
      <md-focus-ring part="focus-ring" for="button" aria-hidden="true"><template shadowrootmode="open"><!----></template></md-focus-ring>
      <md-ripple part="ripple" for="button" aria-hidden="true"><template shadowrootmode="open"><!----><div class="surface   "></div></template></md-ripple>
      <!--?lit$590858727$--><button id="button" class="button" aria-label="Add text cell">
      <!--?lit$590858727$-->
      <span class="touch"></span>
      <!--?lit$590858727$--><slot name="icon"></slot>
      <span class="label"><slot></slot></span>
      <!--?lit$590858727$-->
    
    </button>
    </template>
          <md-icon slot="icon" aria-hidden="true"><template shadowrootmode="open"><!----><slot></slot></template>add</md-icon>
          <!--?lit$590858727$-->Text
        </md-outlined-button>
        <!--?lit$590858727$-->
      </div><hr>
    </div></div><div class="cell text" id="cell-gy_Kll8j26O9" role="region" aria-label="Cell 14: Text cell: " style="" tabindex="-1"><div class="cell-tag-editor sticky"></div><div class="cell-toolbar sticky"></div><div class="main-content" elevation="0"><div class="cell-contents"><div class="cell-mask"></div><span class="imported-info-area"></span><!----> <div class="toolbar-root"></div>
      <div class="editor-container horizontal">
        <div class="editor-root"></div>
        <div class="text-top-div">
          <div class="markdown"><span><p>Non-pretrained Model</p>
</span></div>
        </div>
      </div>

      <div class="section-header" style="display: none;">
        <colab-run-button><template shadowrootmode="open"><!----> <div class="cell-execution">
      <button id="run-button" aria-label="Run cell">
        <span class="execution-count"><!--?lit$590858727$-->[ ]</span>
        <span aria-hidden="true" class="cell-execution-indicator"><!--?lit$590858727$-->
<svg xmlns="http://www.w3.org/2000/svg" viewBox="0 0 24 24">
  <!--?lit$590858727$-->
  <mask id="playSymbolMask">
    <rect width="100%" height="100%" fill="white"></rect>
    <polygon points="10,8 17,12 10,16" fill="black"></polygon>
  </mask>
  <circle cx="12" cy="12" r="7.8" mask="url(#playSymbolMask)" id="filledCircle"></circle>
</svg></span>
      </button>
      <!--?lit$590858727$--> <!--?lit$590858727$--><!--?-->
    </div></template></colab-run-button>
        <div class="section-header-container" title="click to expand">↳ 0 cells hidden</div>
      </div></div></div><div class="add-cell">
      <div class="add-cell-buttons">
        <md-outlined-button class="add-code add-button" data-aria-label="Add code cell
Ctrl+M B" title="Add code cell
Ctrl+M B" value="" has-icon=""><template shadowrootmode="open" shadowrootdelegatesfocus><!---->
      <!--?lit$590858727$--><div class="outline"></div>
      <div class="background"></div>
      <md-focus-ring part="focus-ring" for="button" aria-hidden="true"><template shadowrootmode="open"><!----></template></md-focus-ring>
      <md-ripple part="ripple" for="button" aria-hidden="true"><template shadowrootmode="open"><!----><div class="surface"></div></template></md-ripple>
      <!--?lit$590858727$--><button id="button" class="button" aria-label="Add code cell
Ctrl+M B">
      <!--?lit$590858727$-->
      <span class="touch"></span>
      <!--?lit$590858727$--><slot name="icon"></slot>
      <span class="label"><slot></slot></span>
      <!--?lit$590858727$-->
    
    </button>
    </template>
          <md-icon slot="icon" aria-hidden="true"><template shadowrootmode="open"><!----><slot></slot></template>add</md-icon>
          <!--?lit$590858727$-->Code
        </md-outlined-button>
        <md-outlined-button class="add-text add-button" data-aria-label="Add text cell" title="Add text cell" value="" has-icon=""><template shadowrootmode="open" shadowrootdelegatesfocus><!---->
      <!--?lit$590858727$--><div class="outline"></div>
      <div class="background"></div>
      <md-focus-ring part="focus-ring" for="button" aria-hidden="true"><template shadowrootmode="open"><!----></template></md-focus-ring>
      <md-ripple part="ripple" for="button" aria-hidden="true"><template shadowrootmode="open"><!----><div class="surface   "></div></template></md-ripple>
      <!--?lit$590858727$--><button id="button" class="button" aria-label="Add text cell">
      <!--?lit$590858727$-->
      <span class="touch"></span>
      <!--?lit$590858727$--><slot name="icon"></slot>
      <span class="label"><slot></slot></span>
      <!--?lit$590858727$-->
    
    </button>
    </template>
          <md-icon slot="icon" aria-hidden="true"><template shadowrootmode="open"><!----><slot></slot></template>add</md-icon>
          <!--?lit$590858727$-->Text
        </md-outlined-button>
        <!--?lit$590858727$-->
      </div><hr>
    </div></div><div class="cell code icon-scrolling code-has-output" id="cell-9wELrUxVvT5K" role="region" aria-label="Cell 15: Code cell: " style="" tabindex="-1"><div class="cell-tag-editor sticky"></div><div class="cell-toolbar sticky"></div><div class="main-content" elevation="0"><div class="cell-contents"><div class="cell-mask"></div><span class="imported-info-area"></span><div class="codecell-input-output">
      <div class="inputarea horizontal layout code">
        <div class="cell-gutter">
          <!-- Bounding range for vertical scrolling of icons -->
          <div class="cell-execution-container">
            <colab-run-button><template shadowrootmode="open"><!----> <div class="cell-execution hovered">
      <button id="run-button" aria-describedby="run-button-tooltip" aria-label="Run cell">
        <span class="execution-count"><!--?lit$590858727$-->[11]</span>
        <span aria-hidden="true" class="cell-execution-indicator"><!--?lit$590858727$-->
<svg xmlns="http://www.w3.org/2000/svg" viewBox="0 0 24 24">
  <!--?lit$590858727$-->
  <mask id="playSymbolMask">
    <rect width="100%" height="100%" fill="white"></rect>
    <polygon points="10,8 17,12 10,16" fill="black"></polygon>
  </mask>
  <circle cx="12" cy="12" r="7.8" mask="url(#playSymbolMask)" id="filledCircle"></circle>
</svg></span>
      </button>
      <!--?lit$590858727$--><colab-tooltip-trigger for="run-button" id="run-button-tooltip" aria-hidden="true" message="Run cell (Ctrl+Enter)
cell executed since last change

executed by Pawan Singh
9:22 PM (1 hour ago)
executed in 0.003s"><template shadowrootmode="open"><!----><!--?lit$590858727$--><!----><div><!--?lit$590858727$-->Run cell (Ctrl+Enter)</div><!----><!----><div><!--?lit$590858727$-->cell executed since last change</div><!----><!----><br><!----><!----><div><!--?lit$590858727$-->executed by Pawan Singh</div><!----><!----><div><!--?lit$590858727$-->9:22 PM (1 hour ago)</div><!----><!----><div><!--?lit$590858727$-->executed in 0.003s</div><!----><!--?--></template>
    </colab-tooltip-trigger> <!--?lit$590858727$--><div id="status">
      <md-icon aria-hidden="true"><template shadowrootmode="open"><!----><slot></slot></template><!--?lit$590858727$--><svg viewBox="0 0 24 24"><!--?lit$590858727$--><path d="M9 16.17L4.83 12l-1.42 1.41L9 19 21 7l-1.41-1.41z"></path></svg></md-icon>
      <div><!--?lit$590858727$-->0s</div>
    </div>
    </div></template></colab-run-button>
          </div>
        </div>
      <div class="editor flex lazy-editor" style=""><pre class="lazy-virtualized" style="font-size: 14px; line-height: 19px;"><pre class="lazy-gutter"></pre><pre class="monaco-colorized colab colab colab colab colab colab colab colab colab colab colab colab colab colab colab colab colab colab colab colab colab" data-lang="notebook-python"><span><span class="mtk26">"""def&nbsp;build_model(hp):</span></span><br><span><span class="mtk26">&nbsp;&nbsp;model=Sequential()</span></span><br><span><span></span></span><br><span><span class="mtk26">&nbsp;&nbsp;for&nbsp;layers&nbsp;in&nbsp;range(hp.Choice("layers",values=[1</span><span class="mtk26">,5])):</span></span><br><span><span class="mtk26">&nbsp;&nbsp;&nbsp;&nbsp;if&nbsp;layers==0:</span></span><br><span><span class="mtk26">&nbsp;&nbsp;&nbsp;&nbsp;&nbsp;&nbsp;model.add(Conv2D(hp.Choice("nodes",values=[3</span><span class="mtk26">2,128,4]),</span></span><br><span><span class="mtk26">&nbsp;&nbsp;&nbsp;&nbsp;&nbsp;&nbsp;&nbsp;&nbsp;&nbsp;&nbsp;&nbsp;&nbsp;&nbsp;&nbsp;&nbsp;&nbsp;&nbsp;&nbsp;&nbsp;&nbsp;&nbsp;&nbsp;&nbsp;kernel_size=(8,8),</span></span><br><span><span class="mtk26">&nbsp;&nbsp;&nbsp;&nbsp;&nbsp;&nbsp;&nbsp;&nbsp;&nbsp;&nbsp;&nbsp;&nbsp;&nbsp;&nbsp;&nbsp;&nbsp;&nbsp;&nbsp;&nbsp;&nbsp;&nbsp;&nbsp;&nbsp;padding="same",</span></span><br><span><span class="mtk26">&nbsp;&nbsp;&nbsp;&nbsp;&nbsp;&nbsp;&nbsp;&nbsp;&nbsp;&nbsp;&nbsp;&nbsp;&nbsp;&nbsp;&nbsp;&nbsp;&nbsp;&nbsp;&nbsp;&nbsp;&nbsp;&nbsp;&nbsp;activation="relu",</span></span><br><span><span class="mtk26">&nbsp;&nbsp;&nbsp;&nbsp;&nbsp;&nbsp;&nbsp;&nbsp;&nbsp;&nbsp;&nbsp;&nbsp;&nbsp;&nbsp;&nbsp;&nbsp;&nbsp;&nbsp;&nbsp;&nbsp;&nbsp;&nbsp;&nbsp;input_shape=(224,224,3)))</span></span><br><span><span class="mtk26">&nbsp;&nbsp;&nbsp;&nbsp;else:</span></span><br><span><span class="mtk26">&nbsp;&nbsp;&nbsp;&nbsp;&nbsp;&nbsp;model.add(Conv2D(hp.Choice("nodes",values=[3</span><span class="mtk26">2,128,4]),</span></span><br><span><span class="mtk26">&nbsp;&nbsp;&nbsp;&nbsp;&nbsp;&nbsp;&nbsp;&nbsp;&nbsp;&nbsp;&nbsp;&nbsp;&nbsp;&nbsp;&nbsp;&nbsp;&nbsp;&nbsp;&nbsp;&nbsp;&nbsp;&nbsp;&nbsp;kernel_size=(8,8),</span></span><br><span><span class="mtk26">&nbsp;&nbsp;&nbsp;&nbsp;&nbsp;&nbsp;&nbsp;&nbsp;&nbsp;&nbsp;&nbsp;&nbsp;&nbsp;&nbsp;&nbsp;&nbsp;&nbsp;&nbsp;&nbsp;&nbsp;&nbsp;&nbsp;&nbsp;padding="same",</span></span><br><span><span class="mtk26">&nbsp;&nbsp;&nbsp;&nbsp;&nbsp;&nbsp;&nbsp;&nbsp;&nbsp;&nbsp;&nbsp;&nbsp;&nbsp;&nbsp;&nbsp;&nbsp;&nbsp;&nbsp;&nbsp;&nbsp;&nbsp;&nbsp;&nbsp;activation="relu"))</span></span><br><span><span></span></span><br><span><span class="mtk26">&nbsp;&nbsp;&nbsp;&nbsp;model.add(BatchNormalization())</span></span><br><span><span></span></span><br><span><span class="mtk26">&nbsp;&nbsp;&nbsp;&nbsp;if&nbsp;layers&lt;3:</span></span><br><span><span class="mtk26">&nbsp;&nbsp;&nbsp;&nbsp;&nbsp;&nbsp;model.add(MaxPooling2D(pool_size=(2,2),strid</span><span class="mtk26">es=2))</span></span><br><span><span></span></span><br><span><span class="mtk26">&nbsp;&nbsp;model.add(Flatten())</span></span><br><span><span class="mtk26">&nbsp;&nbsp;model.add(Dense(38,activation="softmax"))</span></span><br><span><span></span></span><br><span><span class="mtk26">&nbsp;&nbsp;model.compile(</span></span><br><span><span class="mtk26">&nbsp;&nbsp;&nbsp;&nbsp;&nbsp;&nbsp;optimizer=hp.Choice("optimizers",values=["Ad</span><span class="mtk26">am","SGD","RMSprop"]),</span></span><br><span><span class="mtk26">&nbsp;&nbsp;&nbsp;&nbsp;&nbsp;&nbsp;loss="categorical_crossentropy",</span></span><br><span><span class="mtk26">&nbsp;&nbsp;&nbsp;&nbsp;&nbsp;&nbsp;metrics=["accuracy"]</span></span><br><span><span class="mtk26">&nbsp;&nbsp;)</span></span><br><span><span></span></span><br><span><span class="mtk26">&nbsp;&nbsp;return&nbsp;model</span></span><br><span><span></span></span><br><span><span class="mtk26">tuner=kt.RandomSearch(</span></span><br><span><span class="mtk26">&nbsp;&nbsp;&nbsp;&nbsp;build_model,</span></span><br><span><span class="mtk26">&nbsp;&nbsp;&nbsp;&nbsp;objective="val_accuracy",</span></span><br><span><span class="mtk26">&nbsp;&nbsp;&nbsp;&nbsp;max_trials=3,</span></span><br><span><span class="mtk26">&nbsp;&nbsp;&nbsp;&nbsp;directory="fine_tune",</span></span><br><span><span class="mtk26">&nbsp;&nbsp;&nbsp;&nbsp;project_name="fine_tune"</span></span><br><span><span class="mtk26">)</span></span><br><span><span></span></span><br><span><span class="mtk26">tuner.search(train,validation_data=validation,epoc</span><span class="mtk26">hs=3)</span></span><br><span><span></span></span><br><span><span class="mtk26">model_custom=tuner.get_best_models(num_models=1)[0</span><span class="mtk26">]</span></span><br><span><span class="mtk26">model_custom.summary()"""</span></span><br></pre><colab-read-only-cell-placeholder style="display: none;"><template shadowrootmode="open"><!----><div><!--?lit$590858727$-->Start coding or <span role="button" class="link" tabindex="0">generate</span> with AI.</div></template></colab-read-only-cell-placeholder></pre></div><colab-form class="formview vertical layout flex"><div class="widget-area vertical layout"></div></colab-form></div>
    <div class="output" aria-label="Cell 15 output" role="region"><!----> <div class="output-header"> </div>
        <div class="output-content">
          <div class="output-info"><colab-output-info><template shadowrootmode="open"><!----><md-icon-button data-aria-expanded="false" data-aria-haspopup="menu" title="Code cell output actions" data-aria-label="Code cell output actions" id="button-output-actions" value=""><template shadowrootmode="open" shadowrootdelegatesfocus><!----><button id="button" class="icon-button  standard " aria-label="Code cell output actions" aria-haspopup="menu" aria-expanded="false">
        <!--?lit$590858727$--><md-focus-ring part="focus-ring" for="button" aria-hidden="true"><template shadowrootmode="open"><!----></template></md-focus-ring>
        <!--?lit$590858727$--><md-ripple aria-hidden="true"><template shadowrootmode="open"><!----><div class="surface   "></div></template></md-ripple>
        <!--?lit$590858727$--><span class="icon"><slot></slot></span>
        <!--?lit$590858727$-->
        <!--?lit$590858727$--><span class="touch"></span>
        <!--?lit$590858727$-->
  </button></template>
        <md-icon aria-hidden="true"><template shadowrootmode="open"><!----><slot></slot></template><!--?lit$590858727$--><svg viewBox="0 0 24 24"><!--?lit$590858727$--><path d="m15.9 3.07c-4.32 0.0742-8.64-0.0355-13 0.0568-1.37 0.307-1.74 2.1-1.41 3.26 0.469 0.606 1.86 0.384 1.66-0.525 0.0448-0.329-0.183-0.93 0.354-0.766h13.3v1.53h1.71c0.0709-1.13 0.141-2.62-0.968-3.3-0.511-0.264-1.11-0.252-1.67-0.259zm2.94 6.84v4.87c1.62-1.62 3.24-3.24 4.87-4.87h-4.87zm0 0h-1.71v3.43l1.57 1.57c0.32-1.65 0.0556-3.34 0.135-5zm-1.71 3.43v-3.43h-3.43c1.14 1.14 2.29 2.29 3.43 3.43zm1.4 4.27h-1.71v1.48h-13.6v-1.48h-1.71c-0.0473 1.15-0.16 2.72 1.09 3.29 1.47 0.506 3.02 0.0265 4.53 0.192 3.34-0.0051 6.68 0.0336 10-0.0245 1.49-0.366 1.56-2.22 1.42-3.45zm-10.1-1.12c-0.398-0.483-0.796-0.967-1.19-1.45 0.59-0.683 1.18-1.37 1.77-2.05h-8.67v-2h8.67c-0.59-0.683-1.18-1.37-1.77-2.05 0.398-0.483 0.796-0.967 1.19-1.45 1.28 1.5 2.56 3 3.84 4.5-1.28 1.5-2.56 3-3.84 4.5z"></path></svg></md-icon>
      </md-icon-button>
      <!--?lit$590858727$--><!--?--></template></colab-output-info></div>
          <div class="output-iframe-container">
            <div class="output-iframe-sizer" style="min-height: 0px;"> <div><div class="outputview" style="height: 235px;"><colab-dom-lifecycle-events style="display: none;"></colab-dom-lifecycle-events><iframe allow="accelerometer; autoplay; gyroscope; magnetometer; xr-spatial-tracking; clipboard-write" sandbox="allow-downloads allow-forms allow-pointer-lock allow-popups allow-same-origin allow-scripts allow-storage-access-by-user-activation allow-modals allow-popups-to-escape-sandbox" src="./Plant_Disease_Detection_files/outputframe(1).html" class="" style="height: 235px;"></iframe></div></div></div>
          </div>
        </div></div></div><colab-cell-next-steps><template shadowrootmode="open"><!----></template></colab-cell-next-steps></div></div><div class="add-cell">
      <div class="add-cell-buttons">
        <md-outlined-button class="add-code add-button" data-aria-label="Add code cell
Ctrl+M B" title="Add code cell
Ctrl+M B" value="" has-icon=""><template shadowrootmode="open" shadowrootdelegatesfocus><!---->
      <!--?lit$590858727$--><div class="outline"></div>
      <div class="background"></div>
      <md-focus-ring part="focus-ring" for="button" aria-hidden="true"><template shadowrootmode="open"><!----></template></md-focus-ring>
      <md-ripple part="ripple" for="button" aria-hidden="true"><template shadowrootmode="open"><!----><div class="surface"></div></template></md-ripple>
      <!--?lit$590858727$--><button id="button" class="button" aria-label="Add code cell
Ctrl+M B">
      <!--?lit$590858727$-->
      <span class="touch"></span>
      <!--?lit$590858727$--><slot name="icon"></slot>
      <span class="label"><slot></slot></span>
      <!--?lit$590858727$-->
    
    </button>
    </template>
          <md-icon slot="icon" aria-hidden="true"><template shadowrootmode="open"><!----><slot></slot></template>add</md-icon>
          <!--?lit$590858727$-->Code
        </md-outlined-button>
        <md-outlined-button class="add-text add-button" data-aria-label="Add text cell" title="Add text cell" value="" has-icon=""><template shadowrootmode="open" shadowrootdelegatesfocus><!---->
      <!--?lit$590858727$--><div class="outline"></div>
      <div class="background"></div>
      <md-focus-ring part="focus-ring" for="button" aria-hidden="true"><template shadowrootmode="open"><!----></template></md-focus-ring>
      <md-ripple part="ripple" for="button" aria-hidden="true"><template shadowrootmode="open"><!----><div class="surface   "></div></template></md-ripple>
      <!--?lit$590858727$--><button id="button" class="button" aria-label="Add text cell">
      <!--?lit$590858727$-->
      <span class="touch"></span>
      <!--?lit$590858727$--><slot name="icon"></slot>
      <span class="label"><slot></slot></span>
      <!--?lit$590858727$-->
    
    </button>
    </template>
          <md-icon slot="icon" aria-hidden="true"><template shadowrootmode="open"><!----><slot></slot></template>add</md-icon>
          <!--?lit$590858727$-->Text
        </md-outlined-button>
        <!--?lit$590858727$-->
      </div><hr>
    </div></div><div class="cell text" id="cell-aOxxva6VmLqg" role="region" aria-label="Cell 16: Text cell: " style="" tabindex="-1"><div class="cell-tag-editor sticky"></div><div class="cell-toolbar sticky"></div><div class="main-content" elevation="0"><div class="cell-contents"><div class="cell-mask"></div><span class="imported-info-area"></span><!----> <div class="toolbar-root"></div>
      <div class="editor-container horizontal">
        <div class="editor-root"></div>
        <div class="text-top-div">
          <div class="markdown"><span><p><img src="data:image/png;base64,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" alt="Screenshot 2024-08-30 192943.png"></p>
</span></div>
        </div>
      </div>

      <div class="section-header" style="display: none;">
        <colab-run-button><template shadowrootmode="open"><!----> <div class="cell-execution">
      <button id="run-button" aria-label="Run cell">
        <span class="execution-count"><!--?lit$590858727$-->[ ]</span>
        <span aria-hidden="true" class="cell-execution-indicator"><!--?lit$590858727$-->
<svg xmlns="http://www.w3.org/2000/svg" viewBox="0 0 24 24">
  <!--?lit$590858727$-->
  <mask id="playSymbolMask">
    <rect width="100%" height="100%" fill="white"></rect>
    <polygon points="10,8 17,12 10,16" fill="black"></polygon>
  </mask>
  <circle cx="12" cy="12" r="7.8" mask="url(#playSymbolMask)" id="filledCircle"></circle>
</svg></span>
      </button>
      <!--?lit$590858727$--> <!--?lit$590858727$--><!--?-->
    </div></template></colab-run-button>
        <div class="section-header-container" title="click to expand">↳ 0 cells hidden</div>
      </div></div></div><div class="add-cell">
      <div class="add-cell-buttons">
        <md-outlined-button class="add-code add-button" data-aria-label="Add code cell
Ctrl+M B" title="Add code cell
Ctrl+M B" value="" has-icon=""><template shadowrootmode="open" shadowrootdelegatesfocus><!---->
      <!--?lit$590858727$--><div class="outline"></div>
      <div class="background"></div>
      <md-focus-ring part="focus-ring" for="button" aria-hidden="true"><template shadowrootmode="open"><!----></template></md-focus-ring>
      <md-ripple part="ripple" for="button" aria-hidden="true"><template shadowrootmode="open"><!----><div class="surface   "></div></template></md-ripple>
      <!--?lit$590858727$--><button id="button" class="button" aria-label="Add code cell
Ctrl+M B">
      <!--?lit$590858727$-->
      <span class="touch"></span>
      <!--?lit$590858727$--><slot name="icon"></slot>
      <span class="label"><slot></slot></span>
      <!--?lit$590858727$-->
    
    </button>
    </template>
          <md-icon slot="icon" aria-hidden="true"><template shadowrootmode="open"><!----><slot></slot></template>add</md-icon>
          <!--?lit$590858727$-->Code
        </md-outlined-button>
        <md-outlined-button class="add-text add-button" data-aria-label="Add text cell" title="Add text cell" value="" has-icon=""><template shadowrootmode="open" shadowrootdelegatesfocus><!---->
      <!--?lit$590858727$--><div class="outline"></div>
      <div class="background"></div>
      <md-focus-ring part="focus-ring" for="button" aria-hidden="true"><template shadowrootmode="open"><!----></template></md-focus-ring>
      <md-ripple part="ripple" for="button" aria-hidden="true"><template shadowrootmode="open"><!----><div class="surface   "></div></template></md-ripple>
      <!--?lit$590858727$--><button id="button" class="button" aria-label="Add text cell">
      <!--?lit$590858727$-->
      <span class="touch"></span>
      <!--?lit$590858727$--><slot name="icon"></slot>
      <span class="label"><slot></slot></span>
      <!--?lit$590858727$-->
    
    </button>
    </template>
          <md-icon slot="icon" aria-hidden="true"><template shadowrootmode="open"><!----><slot></slot></template>add</md-icon>
          <!--?lit$590858727$-->Text
        </md-outlined-button>
        <!--?lit$590858727$-->
      </div><hr>
    </div></div><div class="cell text" id="cell-2dTvdufJIPK3" role="region" aria-label="Cell 17: Text cell: " style="" tabindex="-1"><div class="cell-tag-editor sticky"></div><div class="cell-toolbar sticky"></div><div class="main-content" elevation="0"><div class="cell-contents"><div class="cell-mask"></div><span class="imported-info-area"></span><!----> <div class="toolbar-root"></div>
      <div class="editor-container horizontal">
        <div class="editor-root"></div>
        <div class="text-top-div">
          <div class="markdown"><span><p>Pretrained Models</p>
</span></div>
        </div>
      </div>

      <div class="section-header" style="display: none;">
        <colab-run-button><template shadowrootmode="open"><!----> <div class="cell-execution">
      <button id="run-button" aria-label="Run cell">
        <span class="execution-count"><!--?lit$590858727$-->[ ]</span>
        <span aria-hidden="true" class="cell-execution-indicator"><!--?lit$590858727$-->
<svg xmlns="http://www.w3.org/2000/svg" viewBox="0 0 24 24">
  <!--?lit$590858727$-->
  <mask id="playSymbolMask">
    <rect width="100%" height="100%" fill="white"></rect>
    <polygon points="10,8 17,12 10,16" fill="black"></polygon>
  </mask>
  <circle cx="12" cy="12" r="7.8" mask="url(#playSymbolMask)" id="filledCircle"></circle>
</svg></span>
      </button>
      <!--?lit$590858727$--> <!--?lit$590858727$--><!--?-->
    </div></template></colab-run-button>
        <div class="section-header-container" title="click to expand">↳ 0 cells hidden</div>
      </div></div></div><div class="add-cell">
      <div class="add-cell-buttons">
        <md-outlined-button class="add-code add-button" data-aria-label="Add code cell
Ctrl+M B" title="Add code cell
Ctrl+M B" value="" has-icon=""><template shadowrootmode="open" shadowrootdelegatesfocus><!---->
      <!--?lit$590858727$--><div class="outline"></div>
      <div class="background"></div>
      <md-focus-ring part="focus-ring" for="button" aria-hidden="true"><template shadowrootmode="open"><!----></template></md-focus-ring>
      <md-ripple part="ripple" for="button" aria-hidden="true"><template shadowrootmode="open"><!----><div class="surface"></div></template></md-ripple>
      <!--?lit$590858727$--><button id="button" class="button" aria-label="Add code cell
Ctrl+M B">
      <!--?lit$590858727$-->
      <span class="touch"></span>
      <!--?lit$590858727$--><slot name="icon"></slot>
      <span class="label"><slot></slot></span>
      <!--?lit$590858727$-->
    
    </button>
    </template>
          <md-icon slot="icon" aria-hidden="true"><template shadowrootmode="open"><!----><slot></slot></template>add</md-icon>
          <!--?lit$590858727$-->Code
        </md-outlined-button>
        <md-outlined-button class="add-text add-button" data-aria-label="Add text cell" title="Add text cell" value="" has-icon=""><template shadowrootmode="open" shadowrootdelegatesfocus><!---->
      <!--?lit$590858727$--><div class="outline"></div>
      <div class="background"></div>
      <md-focus-ring part="focus-ring" for="button" aria-hidden="true"><template shadowrootmode="open"><!----></template></md-focus-ring>
      <md-ripple part="ripple" for="button" aria-hidden="true"><template shadowrootmode="open"><!----><div class="surface   "></div></template></md-ripple>
      <!--?lit$590858727$--><button id="button" class="button" aria-label="Add text cell">
      <!--?lit$590858727$-->
      <span class="touch"></span>
      <!--?lit$590858727$--><slot name="icon"></slot>
      <span class="label"><slot></slot></span>
      <!--?lit$590858727$-->
    
    </button>
    </template>
          <md-icon slot="icon" aria-hidden="true"><template shadowrootmode="open"><!----><slot></slot></template>add</md-icon>
          <!--?lit$590858727$-->Text
        </md-outlined-button>
        <!--?lit$590858727$-->
      </div><hr>
    </div></div><div class="cell text" id="cell-qLWUbFHzSFQB" role="region" aria-label="Cell 18: Text cell: " style="" tabindex="-1"><div class="cell-tag-editor sticky"></div><div class="cell-toolbar sticky"></div><div class="main-content" elevation="0"><div class="cell-contents"><div class="cell-mask"></div><span class="imported-info-area"></span><!----> <div class="toolbar-root"></div>
      <div class="editor-container horizontal">
        <div class="editor-root"></div>
        <div class="text-top-div">
          <div class="markdown"><span><p><strong>VGG16</strong></p>
<p>base_model=VGG16(
    include_top=False,
    weights="imagenet",
    input_shape=(224,224,3)
)</p>
<p>model_vgg=Sequential()</p>
<p>model_vgg.add(base_model)</p>
<p>model_vgg.add(Flatten())</p>
<p>model_vgg.add(Dense(38,activation="softmax"))</p>
<p>model_vgg.compile(
  optimizer="Adam",
  loss="categorical_crossentropy",
  metrics=["accuracy"]
)</p>
<p>model_vgg.fit(train,validation_data=validation,epochs=3)</p>
<p><em>accuracy: 0.6487 - loss: 1.1597 - val_accuracy: 0.7243 - val_loss: 0.8965</em></p>
</span></div>
        </div>
      </div>

      <div class="section-header" style="display: none;">
        <colab-run-button><template shadowrootmode="open"><!----> <div class="cell-execution">
      <button id="run-button" aria-label="Run cell">
        <span class="execution-count"><!--?lit$590858727$-->[ ]</span>
        <span aria-hidden="true" class="cell-execution-indicator"><!--?lit$590858727$-->
<svg xmlns="http://www.w3.org/2000/svg" viewBox="0 0 24 24">
  <!--?lit$590858727$-->
  <mask id="playSymbolMask">
    <rect width="100%" height="100%" fill="white"></rect>
    <polygon points="10,8 17,12 10,16" fill="black"></polygon>
  </mask>
  <circle cx="12" cy="12" r="7.8" mask="url(#playSymbolMask)" id="filledCircle"></circle>
</svg></span>
      </button>
      <!--?lit$590858727$--> <!--?lit$590858727$--><!--?-->
    </div></template></colab-run-button>
        <div class="section-header-container" title="click to expand">↳ 0 cells hidden</div>
      </div></div></div><div class="add-cell">
      <div class="add-cell-buttons">
        <md-outlined-button class="add-code add-button" data-aria-label="Add code cell
Ctrl+M B" title="Add code cell
Ctrl+M B" value="" has-icon=""><template shadowrootmode="open" shadowrootdelegatesfocus><!---->
      <!--?lit$590858727$--><div class="outline"></div>
      <div class="background"></div>
      <md-focus-ring part="focus-ring" for="button" aria-hidden="true"><template shadowrootmode="open"><!----></template></md-focus-ring>
      <md-ripple part="ripple" for="button" aria-hidden="true"><template shadowrootmode="open"><!----><div class="surface   "></div></template></md-ripple>
      <!--?lit$590858727$--><button id="button" class="button" aria-label="Add code cell
Ctrl+M B">
      <!--?lit$590858727$-->
      <span class="touch"></span>
      <!--?lit$590858727$--><slot name="icon"></slot>
      <span class="label"><slot></slot></span>
      <!--?lit$590858727$-->
    
    </button>
    </template>
          <md-icon slot="icon" aria-hidden="true"><template shadowrootmode="open"><!----><slot></slot></template>add</md-icon>
          <!--?lit$590858727$-->Code
        </md-outlined-button>
        <md-outlined-button class="add-text add-button" data-aria-label="Add text cell" title="Add text cell" value="" has-icon=""><template shadowrootmode="open" shadowrootdelegatesfocus><!---->
      <!--?lit$590858727$--><div class="outline"></div>
      <div class="background"></div>
      <md-focus-ring part="focus-ring" for="button" aria-hidden="true"><template shadowrootmode="open"><!----></template></md-focus-ring>
      <md-ripple part="ripple" for="button" aria-hidden="true"><template shadowrootmode="open"><!----><div class="surface   "></div></template></md-ripple>
      <!--?lit$590858727$--><button id="button" class="button" aria-label="Add text cell">
      <!--?lit$590858727$-->
      <span class="touch"></span>
      <!--?lit$590858727$--><slot name="icon"></slot>
      <span class="label"><slot></slot></span>
      <!--?lit$590858727$-->
    
    </button>
    </template>
          <md-icon slot="icon" aria-hidden="true"><template shadowrootmode="open"><!----><slot></slot></template>add</md-icon>
          <!--?lit$590858727$-->Text
        </md-outlined-button>
        <!--?lit$590858727$-->
      </div><hr>
    </div></div><div class="cell text" id="cell--a9Bga4d6Ezb" role="region" aria-label="Cell 19: Text cell: " style="" tabindex="-1"><div class="cell-tag-editor sticky"></div><div class="cell-toolbar sticky"></div><div class="main-content" elevation="0"><div class="cell-contents"><div class="cell-mask"></div><span class="imported-info-area"></span><!----> <div class="toolbar-root"></div>
      <div class="editor-container horizontal">
        <div class="editor-root"></div>
        <div class="text-top-div">
          <div class="markdown"><span><p><strong>ResNet50</strong></p>
<p>base_model=ResNet50(
    include_top=False,
    weights="imagenet",
    input_shape=(224,224,3)
)</p>
<p>model_res=Sequential()</p>
<p>model_res.add(base_model)</p>
<p>model_res.add(Flatten())</p>
<p>model_res.add(Dense(38,activation="softmax"))</p>
<p>model_res.compile(
      optimizer="Adam",
      loss="categorical_crossentropy",
      metrics=["accuracy"]
  )</p>
<p>model_res.fit(train,validation_data=validation,epochs=3)</p>
<p><em>accuracy: 0.9543 - loss: 0.1540 - val_accuracy: 0.7962 - val_loss: 1.0363</em></p>
</span></div>
        </div>
      </div>

      <div class="section-header" style="display: none;">
        <colab-run-button><template shadowrootmode="open"><!----> <div class="cell-execution">
      <button id="run-button" aria-label="Run cell">
        <span class="execution-count"><!--?lit$590858727$-->[ ]</span>
        <span aria-hidden="true" class="cell-execution-indicator"><!--?lit$590858727$-->
<svg xmlns="http://www.w3.org/2000/svg" viewBox="0 0 24 24">
  <!--?lit$590858727$-->
  <mask id="playSymbolMask">
    <rect width="100%" height="100%" fill="white"></rect>
    <polygon points="10,8 17,12 10,16" fill="black"></polygon>
  </mask>
  <circle cx="12" cy="12" r="7.8" mask="url(#playSymbolMask)" id="filledCircle"></circle>
</svg></span>
      </button>
      <!--?lit$590858727$--> <!--?lit$590858727$--><!--?-->
    </div></template></colab-run-button>
        <div class="section-header-container" title="click to expand">↳ 0 cells hidden</div>
      </div></div></div><div class="add-cell">
      <div class="add-cell-buttons">
        <md-outlined-button class="add-code add-button" data-aria-label="Add code cell
Ctrl+M B" title="Add code cell
Ctrl+M B" value="" has-icon=""><template shadowrootmode="open" shadowrootdelegatesfocus><!---->
      <!--?lit$590858727$--><div class="outline"></div>
      <div class="background"></div>
      <md-focus-ring part="focus-ring" for="button" aria-hidden="true"><template shadowrootmode="open"><!----></template></md-focus-ring>
      <md-ripple part="ripple" for="button" aria-hidden="true"><template shadowrootmode="open"><!----><div class="surface"></div></template></md-ripple>
      <!--?lit$590858727$--><button id="button" class="button" aria-label="Add code cell
Ctrl+M B">
      <!--?lit$590858727$-->
      <span class="touch"></span>
      <!--?lit$590858727$--><slot name="icon"></slot>
      <span class="label"><slot></slot></span>
      <!--?lit$590858727$-->
    
    </button>
    </template>
          <md-icon slot="icon" aria-hidden="true"><template shadowrootmode="open"><!----><slot></slot></template>add</md-icon>
          <!--?lit$590858727$-->Code
        </md-outlined-button>
        <md-outlined-button class="add-text add-button" data-aria-label="Add text cell" title="Add text cell" value="" has-icon=""><template shadowrootmode="open" shadowrootdelegatesfocus><!---->
      <!--?lit$590858727$--><div class="outline"></div>
      <div class="background"></div>
      <md-focus-ring part="focus-ring" for="button" aria-hidden="true"><template shadowrootmode="open"><!----></template></md-focus-ring>
      <md-ripple part="ripple" for="button" aria-hidden="true"><template shadowrootmode="open"><!----><div class="surface   "></div></template></md-ripple>
      <!--?lit$590858727$--><button id="button" class="button" aria-label="Add text cell">
      <!--?lit$590858727$-->
      <span class="touch"></span>
      <!--?lit$590858727$--><slot name="icon"></slot>
      <span class="label"><slot></slot></span>
      <!--?lit$590858727$-->
    
    </button>
    </template>
          <md-icon slot="icon" aria-hidden="true"><template shadowrootmode="open"><!----><slot></slot></template>add</md-icon>
          <!--?lit$590858727$-->Text
        </md-outlined-button>
        <!--?lit$590858727$-->
      </div><hr>
    </div></div><div class="cell text" id="cell-UwF94L2oSbdJ" role="region" aria-label="Cell 20: Text cell: " style="" tabindex="-1"><div class="cell-tag-editor sticky"></div><div class="cell-toolbar sticky"></div><div class="main-content" elevation="0"><div class="cell-contents"><div class="cell-mask"></div><span class="imported-info-area"></span><!----> <div class="toolbar-root"></div>
      <div class="editor-container horizontal">
        <div class="editor-root"></div>
        <div class="text-top-div">
          <div class="markdown"><span><p><strong>DenseNet201</strong></p>
<p>base_model=DenseNet201(
    include_top=False,
    weights="imagenet",
    input_shape=(224,224,3)
)</p>
<p>model_den=Sequential()</p>
<p>model_den.add(base_model)</p>
<p>model_den.add(Flatten())</p>
<p>model_den.add(Dense(38,activation="softmax"))</p>
<p>model_den.compile(
  optimizer="Adam",
  loss="categorical_crossentropy",
  metrics=["accuracy"]
)</p>
<p>model_den.fit(train,validation_data=validation,epochs=3)</p>
<p><em>accuracy: 0.8515 - loss: 0.5362 - val_accuracy: 0.8412 - val_loss: 0.6953</em></p>
</span></div>
        </div>
      </div>

      <div class="section-header" style="display: none;">
        <colab-run-button><template shadowrootmode="open"><!----> <div class="cell-execution">
      <button id="run-button" aria-label="Run cell">
        <span class="execution-count"><!--?lit$590858727$-->[ ]</span>
        <span aria-hidden="true" class="cell-execution-indicator"><!--?lit$590858727$-->
<svg xmlns="http://www.w3.org/2000/svg" viewBox="0 0 24 24">
  <!--?lit$590858727$-->
  <mask id="playSymbolMask">
    <rect width="100%" height="100%" fill="white"></rect>
    <polygon points="10,8 17,12 10,16" fill="black"></polygon>
  </mask>
  <circle cx="12" cy="12" r="7.8" mask="url(#playSymbolMask)" id="filledCircle"></circle>
</svg></span>
      </button>
      <!--?lit$590858727$--> <!--?lit$590858727$--><!--?-->
    </div></template></colab-run-button>
        <div class="section-header-container" title="click to expand">↳ 0 cells hidden</div>
      </div></div></div><div class="add-cell">
      <div class="add-cell-buttons">
        <md-outlined-button class="add-code add-button" data-aria-label="Add code cell
Ctrl+M B" title="Add code cell
Ctrl+M B" value="" has-icon=""><template shadowrootmode="open" shadowrootdelegatesfocus><!---->
      <!--?lit$590858727$--><div class="outline"></div>
      <div class="background"></div>
      <md-focus-ring part="focus-ring" for="button" aria-hidden="true"><template shadowrootmode="open"><!----></template></md-focus-ring>
      <md-ripple part="ripple" for="button" aria-hidden="true"><template shadowrootmode="open"><!----><div class="surface   "></div></template></md-ripple>
      <!--?lit$590858727$--><button id="button" class="button" aria-label="Add code cell
Ctrl+M B">
      <!--?lit$590858727$-->
      <span class="touch"></span>
      <!--?lit$590858727$--><slot name="icon"></slot>
      <span class="label"><slot></slot></span>
      <!--?lit$590858727$-->
    
    </button>
    </template>
          <md-icon slot="icon" aria-hidden="true"><template shadowrootmode="open"><!----><slot></slot></template>add</md-icon>
          <!--?lit$590858727$-->Code
        </md-outlined-button>
        <md-outlined-button class="add-text add-button" data-aria-label="Add text cell" title="Add text cell" value="" has-icon=""><template shadowrootmode="open" shadowrootdelegatesfocus><!---->
      <!--?lit$590858727$--><div class="outline"></div>
      <div class="background"></div>
      <md-focus-ring part="focus-ring" for="button" aria-hidden="true"><template shadowrootmode="open"><!----></template></md-focus-ring>
      <md-ripple part="ripple" for="button" aria-hidden="true"><template shadowrootmode="open"><!----><div class="surface   "></div></template></md-ripple>
      <!--?lit$590858727$--><button id="button" class="button" aria-label="Add text cell">
      <!--?lit$590858727$-->
      <span class="touch"></span>
      <!--?lit$590858727$--><slot name="icon"></slot>
      <span class="label"><slot></slot></span>
      <!--?lit$590858727$-->
    
    </button>
    </template>
          <md-icon slot="icon" aria-hidden="true"><template shadowrootmode="open"><!----><slot></slot></template>add</md-icon>
          <!--?lit$590858727$-->Text
        </md-outlined-button>
        <!--?lit$590858727$-->
      </div><hr>
    </div></div><div class="cell code icon-scrolling code-has-output" id="cell-HaeJLJMkvVtf" role="region" aria-label="Cell 21: Code cell: " style="" tabindex="-1"><div class="cell-tag-editor sticky"></div><div class="cell-toolbar sticky"></div><div class="main-content" elevation="0"><div class="cell-contents"><div class="cell-mask"></div><span class="imported-info-area"></span><div class="codecell-input-output">
      <div class="inputarea horizontal layout code">
        <div class="cell-gutter">
          <!-- Bounding range for vertical scrolling of icons -->
          <div class="cell-execution-container">
            <colab-run-button><template shadowrootmode="open"><!----> <div class="cell-execution">
      <button id="run-button" aria-describedby="run-button-tooltip" aria-label="Run cell">
        <span class="execution-count"><!--?lit$590858727$-->[12]</span>
        <span aria-hidden="true" class="cell-execution-indicator"><!--?lit$590858727$-->
<svg xmlns="http://www.w3.org/2000/svg" viewBox="0 0 24 24">
  <!--?lit$590858727$-->
  <mask id="playSymbolMask">
    <rect width="100%" height="100%" fill="white"></rect>
    <polygon points="10,8 17,12 10,16" fill="black"></polygon>
  </mask>
  <circle cx="12" cy="12" r="7.8" mask="url(#playSymbolMask)" id="filledCircle"></circle>
</svg></span>
      </button>
      <!--?lit$590858727$--><colab-tooltip-trigger for="run-button" id="run-button-tooltip" aria-hidden="true" message="Run cell (Ctrl+Enter)
cell executed since last change

executed by Pawan Singh
9:41 PM (1 hour ago)
executed in 1127.289s"><template shadowrootmode="open"><!----><!--?lit$590858727$--><!----><div><!--?lit$590858727$-->Run cell (Ctrl+Enter)</div><!----><!----><div><!--?lit$590858727$-->cell executed since last change</div><!----><!----><br><!----><!----><div><!--?lit$590858727$-->executed by Pawan Singh</div><!----><!----><div><!--?lit$590858727$-->9:41 PM (1 hour ago)</div><!----><!----><div><!--?lit$590858727$-->executed in 1127.289s</div><!----><!--?--></template>
    </colab-tooltip-trigger> <!--?lit$590858727$--><div id="status">
      <md-icon aria-hidden="true"><template shadowrootmode="open"><!----><slot></slot></template><!--?lit$590858727$--><svg viewBox="0 0 24 24"><!--?lit$590858727$--><path d="M9 16.17L4.83 12l-1.42 1.41L9 19 21 7l-1.41-1.41z"></path></svg></md-icon>
      <div><!--?lit$590858727$-->18m</div>
    </div>
    </div></template></colab-run-button>
          </div>
        </div>
      <div class="editor flex lazy-editor" style=""><pre class="lazy-virtualized" style="font-size: 14px; line-height: 19px;"><pre class="lazy-gutter"></pre><pre class="monaco-colorized colab colab colab colab colab colab colab colab colab colab colab colab colab colab colab colab colab colab colab colab colab colab colab colab colab colab colab colab colab colab colab colab colab colab colab" data-lang="notebook-python"><span><span class="mtk8">##InceptionV3</span></span><br><span><span></span></span><br><span><span class="mtk1">base_model=InceptionV3(</span></span><br><span><span class="mtk1">&nbsp;&nbsp;&nbsp;&nbsp;include_top=</span><span class="mtk6">False</span><span class="mtk1">,</span></span><br><span><span class="mtk1">&nbsp;&nbsp;&nbsp;&nbsp;weights=</span><span class="mtk26">"imagenet"</span><span class="mtk1">,</span></span><br><span><span class="mtk1">&nbsp;&nbsp;&nbsp;&nbsp;input_shape=(</span><span class="mtk12">224</span><span class="mtk1">,</span><span class="mtk12">224</span><span class="mtk1">,</span><span class="mtk12">3</span><span class="mtk1">)</span></span><br><span><span class="mtk1">)</span></span><br><span><span></span></span><br><span><span class="mtk1">model_inc=Sequential()</span></span><br><span><span></span></span><br><span><span class="mtk1">model_inc.add(base_model)</span></span><br><span><span></span></span><br><span><span class="mtk1">model_inc.add(Flatten())</span></span><br><span><span></span></span><br><span><span class="mtk1">model_inc.add(Dense(</span><span class="mtk12">38</span><span class="mtk1">,activation=</span><span class="mtk26">"softmax"</span><span class="mtk1">))</span></span><br><span><span></span></span><br><span><span class="mtk1">model_inc.</span><span class="mtk15">compile</span><span class="mtk1">(</span></span><br><span><span class="mtk1">&nbsp;&nbsp;optimizer=</span><span class="mtk26">"Adam"</span><span class="mtk1">,</span></span><br><span><span class="mtk1">&nbsp;&nbsp;loss=</span><span class="mtk26">"categorical_crossentropy"</span><span class="mtk1">,</span></span><br><span><span class="mtk1">&nbsp;&nbsp;metrics=[</span><span class="mtk26">"accuracy"</span><span class="mtk1">]</span></span><br><span><span class="mtk1">)</span></span><br><span><span></span></span><br><span><span class="mtk1">model_inc.fit(train,validation_data=validation,epo</span><span class="mtk1">chs=</span><span class="mtk12">3</span><span class="mtk1">)</span></span><br></pre><colab-read-only-cell-placeholder style="display: none;"><template shadowrootmode="open"><!----><div><!--?lit$590858727$-->Start coding or <span role="button" class="link" tabindex="0">generate</span> with AI.</div></template></colab-read-only-cell-placeholder></pre></div><colab-form class="formview vertical layout flex"><div class="widget-area vertical layout"></div></colab-form></div>
    <div class="output" aria-label="Cell 21 output" role="region"><!----> <div class="output-header"> </div>
        <div class="output-content">
          <div class="output-info"><colab-output-info><template shadowrootmode="open"><!----><md-icon-button data-aria-expanded="false" data-aria-haspopup="menu" title="Code cell output actions" data-aria-label="Code cell output actions" id="button-output-actions" value=""><template shadowrootmode="open" shadowrootdelegatesfocus><!----><button id="button" class="icon-button  standard " aria-label="Code cell output actions" aria-haspopup="menu" aria-expanded="false">
        <!--?lit$590858727$--><md-focus-ring part="focus-ring" for="button" aria-hidden="true"><template shadowrootmode="open"><!----></template></md-focus-ring>
        <!--?lit$590858727$--><md-ripple aria-hidden="true"><template shadowrootmode="open"><!----><div class="surface"></div></template></md-ripple>
        <!--?lit$590858727$--><span class="icon"><slot></slot></span>
        <!--?lit$590858727$-->
        <!--?lit$590858727$--><span class="touch"></span>
        <!--?lit$590858727$-->
  </button></template>
        <md-icon aria-hidden="true"><template shadowrootmode="open"><!----><slot></slot></template><!--?lit$590858727$--><svg viewBox="0 0 24 24"><!--?lit$590858727$--><path d="m15.9 3.07c-4.32 0.0742-8.64-0.0355-13 0.0568-1.37 0.307-1.74 2.1-1.41 3.26 0.469 0.606 1.86 0.384 1.66-0.525 0.0448-0.329-0.183-0.93 0.354-0.766h13.3v1.53h1.71c0.0709-1.13 0.141-2.62-0.968-3.3-0.511-0.264-1.11-0.252-1.67-0.259zm2.94 6.84v4.87c1.62-1.62 3.24-3.24 4.87-4.87h-4.87zm0 0h-1.71v3.43l1.57 1.57c0.32-1.65 0.0556-3.34 0.135-5zm-1.71 3.43v-3.43h-3.43c1.14 1.14 2.29 2.29 3.43 3.43zm1.4 4.27h-1.71v1.48h-13.6v-1.48h-1.71c-0.0473 1.15-0.16 2.72 1.09 3.29 1.47 0.506 3.02 0.0265 4.53 0.192 3.34-0.0051 6.68 0.0336 10-0.0245 1.49-0.366 1.56-2.22 1.42-3.45zm-10.1-1.12c-0.398-0.483-0.796-0.967-1.19-1.45 0.59-0.683 1.18-1.37 1.77-2.05h-8.67v-2h8.67c-0.59-0.683-1.18-1.37-1.77-2.05 0.398-0.483 0.796-0.967 1.19-1.45 1.28 1.5 2.56 3 3.84 4.5-1.28 1.5-2.56 3-3.84 4.5z"></path></svg></md-icon>
      </md-icon-button>
      <!--?lit$590858727$--><!--?--></template></colab-output-info></div>
          <div class="output-iframe-container">
            <div class="output-iframe-sizer" style="min-height: 0px;"> <div><div><colab-static-output-renderer role="group" tabindex="0"><div><div class="stream output-id-12 output_text"><pre>Downloading data from <a rel="nofollow" target="_blank" href="https://storage.googleapis.com/tensorflow/keras-applications/inception_v3/inception_v3_weights_tf_dim_ordering_tf_kernels_notop.h5">https://storage.googleapis.com/tensorflow/keras-applications/inception_v3/inception_v3_weights_tf_dim_ordering_tf_kernels_notop.h5</a>
<span style="font-weight: bold;">87910968/87910968</span><span> </span><span style="color: var(--ansi-green);">━━━━━━━━━━━━━━━━━━━━</span><span> </span><span style="font-weight: bold;">1s</span><span> 0us/step
Epoch 1/3
</span></pre></div><div class="stream output-id-13 output_text"><pre>/usr/local/lib/python3.10/dist-packages/keras/src/trainers/data_adapters/py_dataset_adapter.py:121: UserWarning: Your `PyDataset` class should call `super().__init__(**kwargs)` in its constructor. `**kwargs` can include `workers`, `use_multiprocessing`, `max_queue_size`. Do not pass these arguments to `fit()`, as they will be ignored.
  self._warn_if_super_not_called()
</pre></div><div class="stream output-id-4092 output_text"><pre><span style="font-weight: bold;">1358/1358</span><span> </span><span style="color: var(--ansi-green);">━━━━━━━━━━━━━━━━━━━━</span><span> </span><span style="font-weight: bold;">415s</span><span> 244ms/step - accuracy: 0.5440 - loss: 2.1314 - val_accuracy: 0.9126 - val_loss: 0.2992
Epoch 2/3
</span><span style="font-weight: bold;">1358/1358</span><span> </span><span style="color: var(--ansi-green);">━━━━━━━━━━━━━━━━━━━━</span><span> </span><span style="font-weight: bold;">347s</span><span> 253ms/step - accuracy: 0.9382 - loss: 0.1888 - val_accuracy: 0.9197 - val_loss: 0.2779
Epoch 3/3
</span><span style="font-weight: bold;">1358/1358</span><span> </span><span style="color: var(--ansi-green);">━━━━━━━━━━━━━━━━━━━━</span><span> </span><span style="font-weight: bold;">361s</span><span> 238ms/step - accuracy: 0.9427 - loss: 0.2006 - val_accuracy: 0.9278 - val_loss: 0.2556
</span></pre></div><div class="execute_result output-id-4093 output_text"><pre>&lt;keras.src.callbacks.history.History at 0x7a026c10b250&gt;</pre></div></div><div></div></colab-static-output-renderer></div></div><div><div></div></div></div>
          </div>
        </div></div></div><colab-cell-next-steps><template shadowrootmode="open"><!----></template></colab-cell-next-steps></div></div><div class="add-cell">
      <div class="add-cell-buttons">
        <md-outlined-button class="add-code add-button" data-aria-label="Add code cell
Ctrl+M B" title="Add code cell
Ctrl+M B" value="" has-icon=""><template shadowrootmode="open" shadowrootdelegatesfocus><!---->
      <!--?lit$590858727$--><div class="outline"></div>
      <div class="background"></div>
      <md-focus-ring part="focus-ring" for="button" aria-hidden="true"><template shadowrootmode="open"><!----></template></md-focus-ring>
      <md-ripple part="ripple" for="button" aria-hidden="true"><template shadowrootmode="open"><!----><div class="surface"></div></template></md-ripple>
      <!--?lit$590858727$--><button id="button" class="button" aria-label="Add code cell
Ctrl+M B">
      <!--?lit$590858727$-->
      <span class="touch"></span>
      <!--?lit$590858727$--><slot name="icon"></slot>
      <span class="label"><slot></slot></span>
      <!--?lit$590858727$-->
    
    </button>
    </template>
          <md-icon slot="icon" aria-hidden="true"><template shadowrootmode="open"><!----><slot></slot></template>add</md-icon>
          <!--?lit$590858727$-->Code
        </md-outlined-button>
        <md-outlined-button class="add-text add-button" data-aria-label="Add text cell" title="Add text cell" value="" has-icon=""><template shadowrootmode="open" shadowrootdelegatesfocus><!---->
      <!--?lit$590858727$--><div class="outline"></div>
      <div class="background"></div>
      <md-focus-ring part="focus-ring" for="button" aria-hidden="true"><template shadowrootmode="open"><!----></template></md-focus-ring>
      <md-ripple part="ripple" for="button" aria-hidden="true"><template shadowrootmode="open"><!----><div class="surface"></div></template></md-ripple>
      <!--?lit$590858727$--><button id="button" class="button" aria-label="Add text cell">
      <!--?lit$590858727$-->
      <span class="touch"></span>
      <!--?lit$590858727$--><slot name="icon"></slot>
      <span class="label"><slot></slot></span>
      <!--?lit$590858727$-->
    
    </button>
    </template>
          <md-icon slot="icon" aria-hidden="true"><template shadowrootmode="open"><!----><slot></slot></template>add</md-icon>
          <!--?lit$590858727$-->Text
        </md-outlined-button>
        <!--?lit$590858727$-->
      </div><hr>
    </div></div><div class="cell code icon-scrolling" id="cell-ZkIlovl9Mu3Y" role="region" aria-label="Cell 22: Code cell: " style="opacity: 1;" tabindex="-1"><div class="cell-tag-editor sticky"></div><div class="cell-toolbar sticky"></div><div class="main-content" elevation="0"><div class="cell-contents"><div class="cell-mask"></div><span class="imported-info-area"></span><div class="codecell-input-output">
      <div class="inputarea horizontal layout code">
        <div class="cell-gutter">
          <!-- Bounding range for vertical scrolling of icons -->
          <div class="cell-execution-container">
            <colab-run-button><template shadowrootmode="open"><!----> <div class="cell-execution">
      <button id="run-button" aria-describedby="run-button-tooltip" aria-label="Run cell">
        <span class="execution-count"><!--?lit$590858727$-->[57]</span>
        <span aria-hidden="true" class="cell-execution-indicator"><!--?lit$590858727$-->
<svg xmlns="http://www.w3.org/2000/svg" viewBox="0 0 24 24">
  <!--?lit$590858727$-->
  <mask id="playSymbolMask">
    <rect width="100%" height="100%" fill="white"></rect>
    <polygon points="10,8 17,12 10,16" fill="black"></polygon>
  </mask>
  <circle cx="12" cy="12" r="7.8" mask="url(#playSymbolMask)" id="filledCircle"></circle>
</svg></span>
      </button>
      <!--?lit$590858727$--><colab-tooltip-trigger for="run-button" id="run-button-tooltip" aria-hidden="true" message="Run cell (Ctrl+Enter)
cell executed since last change

executed by Pawan Singh
10:21 PM (21 minutes ago)
executed in 0.455s"><template shadowrootmode="open"><!----><!--?lit$590858727$--><!----><div><!--?lit$590858727$-->Run cell (Ctrl+Enter)</div><!----><!----><div><!--?lit$590858727$-->cell executed since last change</div><!----><!----><br><!----><!----><div><!--?lit$590858727$-->executed by Pawan Singh</div><!----><!----><div><!--?lit$590858727$-->10:21 PM (21 minutes ago)</div><!----><!----><div><!--?lit$590858727$-->executed in 0.455s</div><!----><!--?--></template>
    </colab-tooltip-trigger> <!--?lit$590858727$--><div id="status">
      <md-icon aria-hidden="true"><template shadowrootmode="open"><!----><slot></slot></template><!--?lit$590858727$--><svg viewBox="0 0 24 24"><!--?lit$590858727$--><path d="M9 16.17L4.83 12l-1.42 1.41L9 19 21 7l-1.41-1.41z"></path></svg></md-icon>
      <div><!--?lit$590858727$-->0s</div>
    </div>
    </div></template></colab-run-button>
          </div>
        </div>
      <div class="editor flex lazy-editor" style=""><pre class="lazy-virtualized" style="font-size: 14px; line-height: 19px;"><pre class="lazy-gutter"></pre><pre class="monaco-colorized colab colab colab colab colab colab colab colab colab colab colab colab colab colab colab colab colab colab colab colab colab colab colab colab" data-lang="notebook-python"><span><span class="mtk1">labels=(train.class_indices)</span></span><br><span><span class="mtk1">labels=</span><span class="mtk14">dict</span><span class="mtk1">((v,k)&nbsp;</span><span class="mtk19">for</span><span class="mtk1">&nbsp;k,v&nbsp;</span><span class="mtk6">in</span><span class="mtk1">&nbsp;labels.items())</span></span><br></pre><colab-read-only-cell-placeholder style="display: none;"><template shadowrootmode="open"><!----><div><!--?lit$590858727$-->Start coding or <span role="button" class="link" tabindex="0">generate</span> with AI.</div></template></colab-read-only-cell-placeholder></pre></div><colab-form class="formview vertical layout flex"><div class="widget-area vertical layout"></div></colab-form></div>
    <div class="output" aria-label="Cell 22 output" role="region"><!----> <div class="output-header"> </div>
        <div class="output-content" hidden="">
          <div class="output-info"><colab-output-info><template shadowrootmode="open"><!----><md-icon-button data-aria-expanded="false" data-aria-haspopup="menu" title="Code cell output actions" data-aria-label="Code cell output actions" id="button-output-actions" value=""><template shadowrootmode="open" shadowrootdelegatesfocus><!----><button id="button" class="icon-button  standard " aria-label="Code cell output actions" aria-haspopup="menu" aria-expanded="false">
        <!--?lit$590858727$--><md-focus-ring part="focus-ring" for="button" aria-hidden="true"><template shadowrootmode="open"><!----></template></md-focus-ring>
        <!--?lit$590858727$--><md-ripple aria-hidden="true"><template shadowrootmode="open"><!----><div class="surface   "></div></template></md-ripple>
        <!--?lit$590858727$--><span class="icon"><slot></slot></span>
        <!--?lit$590858727$-->
        <!--?lit$590858727$--><span class="touch"></span>
        <!--?lit$590858727$-->
  </button></template>
        <md-icon aria-hidden="true"><template shadowrootmode="open"><!----><slot></slot></template><!--?lit$590858727$--><svg viewBox="0 0 24 24"><!--?lit$590858727$--><path d="m15.9 3.07c-4.32 0.0742-8.64-0.0355-13 0.0568-1.37 0.307-1.74 2.1-1.41 3.26 0.469 0.606 1.86 0.384 1.66-0.525 0.0448-0.329-0.183-0.93 0.354-0.766h13.3v1.53h1.71c0.0709-1.13 0.141-2.62-0.968-3.3-0.511-0.264-1.11-0.252-1.67-0.259zm2.94 6.84v4.87c1.62-1.62 3.24-3.24 4.87-4.87h-4.87zm0 0h-1.71v3.43l1.57 1.57c0.32-1.65 0.0556-3.34 0.135-5zm-1.71 3.43v-3.43h-3.43c1.14 1.14 2.29 2.29 3.43 3.43zm1.4 4.27h-1.71v1.48h-13.6v-1.48h-1.71c-0.0473 1.15-0.16 2.72 1.09 3.29 1.47 0.506 3.02 0.0265 4.53 0.192 3.34-0.0051 6.68 0.0336 10-0.0245 1.49-0.366 1.56-2.22 1.42-3.45zm-10.1-1.12c-0.398-0.483-0.796-0.967-1.19-1.45 0.59-0.683 1.18-1.37 1.77-2.05h-8.67v-2h8.67c-0.59-0.683-1.18-1.37-1.77-2.05 0.398-0.483 0.796-0.967 1.19-1.45 1.28 1.5 2.56 3 3.84 4.5-1.28 1.5-2.56 3-3.84 4.5z"></path></svg></md-icon>
      </md-icon-button>
      <!--?lit$590858727$--><!--?--></template></colab-output-info></div>
          <div class="output-iframe-container" hidden="">
            <div class="output-iframe-sizer" style="min-height: 0px;"> <div><div><colab-static-output-renderer role="group" tabindex="0"><div></div><div></div></colab-static-output-renderer></div></div><div><div></div></div></div>
          </div>
        </div></div></div><colab-cell-next-steps><template shadowrootmode="open"><!----></template></colab-cell-next-steps></div></div><div class="add-cell">
      <div class="add-cell-buttons">
        <md-outlined-button class="add-code add-button" data-aria-label="Add code cell
Ctrl+M B" title="Add code cell
Ctrl+M B" value="" has-icon=""><template shadowrootmode="open" shadowrootdelegatesfocus><!---->
      <!--?lit$590858727$--><div class="outline"></div>
      <div class="background"></div>
      <md-focus-ring part="focus-ring" for="button" aria-hidden="true"><template shadowrootmode="open"><!----></template></md-focus-ring>
      <md-ripple part="ripple" for="button" aria-hidden="true"><template shadowrootmode="open"><!----><div class="surface"></div></template></md-ripple>
      <!--?lit$590858727$--><button id="button" class="button" aria-label="Add code cell
Ctrl+M B">
      <!--?lit$590858727$-->
      <span class="touch"></span>
      <!--?lit$590858727$--><slot name="icon"></slot>
      <span class="label"><slot></slot></span>
      <!--?lit$590858727$-->
    
    </button>
    </template>
          <md-icon slot="icon" aria-hidden="true"><template shadowrootmode="open"><!----><slot></slot></template>add</md-icon>
          <!--?lit$590858727$-->Code
        </md-outlined-button>
        <md-outlined-button class="add-text add-button" data-aria-label="Add text cell" title="Add text cell" value="" has-icon=""><template shadowrootmode="open" shadowrootdelegatesfocus><!---->
      <!--?lit$590858727$--><div class="outline"></div>
      <div class="background"></div>
      <md-focus-ring part="focus-ring" for="button" aria-hidden="true"><template shadowrootmode="open"><!----></template></md-focus-ring>
      <md-ripple part="ripple" for="button" aria-hidden="true"><template shadowrootmode="open"><!----><div class="surface"></div></template></md-ripple>
      <!--?lit$590858727$--><button id="button" class="button" aria-label="Add text cell">
      <!--?lit$590858727$-->
      <span class="touch"></span>
      <!--?lit$590858727$--><slot name="icon"></slot>
      <span class="label"><slot></slot></span>
      <!--?lit$590858727$-->
    
    </button>
    </template>
          <md-icon slot="icon" aria-hidden="true"><template shadowrootmode="open"><!----><slot></slot></template>add</md-icon>
          <!--?lit$590858727$-->Text
        </md-outlined-button>
        <!--?lit$590858727$-->
      </div><hr>
    </div></div><div class="cell code icon-scrolling code-has-output" id="cell-wd3Za1AiP0jP" tabindex="-1" role="region" aria-label="Cell 23: Code cell: " style="opacity: 1;"><div class="cell-tag-editor sticky"></div><div class="cell-toolbar sticky"></div><div class="main-content" elevation="0"><div class="cell-contents"><div class="cell-mask"></div><span class="imported-info-area"></span><div class="codecell-input-output">
      <div class="inputarea horizontal layout code">
        <div class="cell-gutter">
          <!-- Bounding range for vertical scrolling of icons -->
          <div class="cell-execution-container">
            <colab-run-button><template shadowrootmode="open"><!----> <div class="cell-execution">
      <button id="run-button" aria-describedby="run-button-tooltip" aria-label="Run cell">
        <span class="execution-count"><!--?lit$590858727$-->[67]</span>
        <span aria-hidden="true" class="cell-execution-indicator"><!--?lit$590858727$-->
<svg xmlns="http://www.w3.org/2000/svg" viewBox="0 0 24 24">
  <!--?lit$590858727$-->
  <mask id="playSymbolMask">
    <rect width="100%" height="100%" fill="white"></rect>
    <polygon points="10,8 17,12 10,16" fill="black"></polygon>
  </mask>
  <circle cx="12" cy="12" r="7.8" mask="url(#playSymbolMask)" id="filledCircle"></circle>
</svg></span>
      </button>
      <!--?lit$590858727$--><colab-tooltip-trigger for="run-button" id="run-button-tooltip" aria-hidden="true" message="Run cell (Ctrl+Enter)
cell executed since last change

executed by Pawan Singh
10:35 PM (8 minutes ago)
executed in 1.223s"><template shadowrootmode="open"><!----><!--?lit$590858727$--><!----><div><!--?lit$590858727$-->Run cell (Ctrl+Enter)</div><!----><!----><div><!--?lit$590858727$-->cell executed since last change</div><!----><!----><br><!----><!----><div><!--?lit$590858727$-->executed by Pawan Singh</div><!----><!----><div><!--?lit$590858727$-->10:35 PM (8 minutes ago)</div><!----><!----><div><!--?lit$590858727$-->executed in 1.223s</div><!----><!--?--></template>
    </colab-tooltip-trigger> <!--?lit$590858727$--><div id="status">
      <md-icon aria-hidden="true"><template shadowrootmode="open"><!----><slot></slot></template><!--?lit$590858727$--><svg viewBox="0 0 24 24"><!--?lit$590858727$--><path d="M9 16.17L4.83 12l-1.42 1.41L9 19 21 7l-1.41-1.41z"></path></svg></md-icon>
      <div><!--?lit$590858727$-->1s</div>
    </div>
    </div></template></colab-run-button>
          </div>
        </div>
      <div class="editor flex lazy-editor" style=""><div class="editor flex monaco" data-keybinding-context="266" data-mode-id="notebook-python" style="height: 29px; --vscode-editorCodeLens-lineHeight: 16px; --vscode-editorCodeLens-fontSize: 12px; --vscode-editorCodeLens-fontFeatureSettings: &quot;liga&quot; off, &quot;calt&quot; off;"><div class="monaco-editor no-user-select  showUnused showDeprecated vs" role="code" data-uri="inmemory://model/48" style="width: 672px; height: 29px;"><div data-mprt="3" class="overflow-guard" style="width: 672px; height: 29px; overflow: clip;"><div class="margin" role="presentation" aria-hidden="true" style="position: absolute; contain: strict; will-change: unset; top: 0px; height: 29px; width: 6px;"><div class="glyph-margin" style="left: 0px; width: 0px; height: 29px;"></div><div class="margin-view-zones" role="presentation" aria-hidden="true" style="position: absolute;"></div><div class="margin-view-overlays" role="presentation" aria-hidden="true" style="position: absolute; font-family: monospace, Consolas, &quot;Courier New&quot;, monospace; font-weight: normal; font-size: 14px; font-feature-settings: &quot;liga&quot; 0, &quot;calt&quot; 0; font-variation-settings: normal; line-height: 19px; letter-spacing: 0px; width: 6px; height: 29px;"><div style="position:absolute;top:0px;width:100%;height:19px;"><div class="current-line current-line-margin-both" style="width:6px; height:19px;"></div></div></div><div class="glyph-margin-widgets" style="position: absolute; top: 0px;"></div></div><div class="monaco-scrollable-element editor-scrollable vs" role="presentation" data-mprt="5" style="position: absolute; overflow: hidden; left: 6px; width: 666px; height: 29px;"><div class="lines-content monaco-editor-background" style="position: absolute; overflow: hidden; width: 1e+06px; height: 29px; contain: strict; will-change: unset; top: 0px; left: 0px;"><div class="view-overlays" role="presentation" aria-hidden="true" style="position: absolute; font-family: monospace, Consolas, &quot;Courier New&quot;, monospace; font-weight: normal; font-size: 14px; font-feature-settings: &quot;liga&quot; 0, &quot;calt&quot; 0; font-variation-settings: normal; line-height: 19px; letter-spacing: 0px; height: 0px; width: 666px;"><div style="position:absolute;top:0px;width:100%;height:19px;"><div class="current-line" style="width:666px; height:19px;"></div></div></div><div role="presentation" aria-hidden="true" class="view-rulers"></div><div class="view-zones" role="presentation" aria-hidden="true" style="position: absolute;"></div><div class="view-lines monaco-mouse-cursor-text" role="presentation" aria-hidden="true" data-mprt="7" style="position: absolute; font-family: monospace, Consolas, &quot;Courier New&quot;, monospace; font-weight: normal; font-size: 14px; font-feature-settings: &quot;liga&quot; 0, &quot;calt&quot; 0; font-variation-settings: normal; line-height: 19px; letter-spacing: 0px; width: 666px; height: 29px;"><div style="top:0px;height:19px;" class="view-line"><span><span class="mtk1">labels</span></span></div></div><div data-mprt="1" class="contentWidgets" style="position: absolute; top: 0px;"></div><div role="presentation" aria-hidden="true" class="cursors-layer cursor-line-style cursor-solid"><div class="cursor monaco-mouse-cursor-text " style="height: 19px; top: 0px; left: 0px; font-family: monospace, Consolas, &quot;Courier New&quot;, monospace; font-weight: normal; font-size: 14px; font-feature-settings: &quot;liga&quot; 0, &quot;calt&quot; 0; font-variation-settings: normal; line-height: 19px; letter-spacing: 0px; display: block; visibility: hidden; padding-left: 0px; width: 1.6px;"></div></div></div><div role="presentation" aria-hidden="true" class="invisible scrollbar horizontal" style="position: absolute; width: 652px; height: 10px; left: 0px; bottom: 0px;"><div class="slider" style="position: absolute; top: 0px; left: 0px; height: 10px; transform: translate3d(0px, 0px, 0px); contain: strict; will-change: unset; width: 652px;"></div></div><canvas class="decorationsOverviewRuler" aria-hidden="true" width="17" height="36" style="position: absolute; transform: translate3d(0px, 0px, 0px); contain: strict; top: 0px; right: 0px; width: 14px; height: 29px; will-change: unset; display: block;"></canvas><div role="presentation" aria-hidden="true" class="invisible scrollbar vertical" style="position: absolute; width: 14px; height: 29px; right: 0px; top: 0px;"><div class="slider" style="position: absolute; top: 0px; left: 0px; width: 14px; transform: translate3d(0px, 0px, 0px); contain: strict; will-change: unset; height: 29px;"></div></div></div><div role="presentation" aria-hidden="true" style="width: 672px;"></div><textarea data-mprt="6" class="inputarea monaco-mouse-cursor-text" wrap="on" autocorrect="off" autocapitalize="off" autocomplete="off" spellcheck="false" aria-label="Editor content;Press Alt+F1 for Accessibility Options." tabindex="0" role="textbox" aria-roledescription="editor" aria-multiline="true" aria-haspopup="false" aria-autocomplete="both" style="tab-size: 15.3984px; font-family: monospace, Consolas, &quot;Courier New&quot;, monospace; font-weight: normal; font-size: 14px; font-feature-settings: &quot;liga&quot; 0, &quot;calt&quot; 0; font-variation-settings: normal; line-height: 19px; letter-spacing: 0px; top: 0px; left: 6px; width: 76992px; height: 1px;"></textarea><div class="monaco-editor-background textAreaCover" style="position: absolute; top: 0px; left: 0px; width: 0px; height: 0px;"></div><div data-mprt="4" class="overlayWidgets" style="width: 672px;"><div widgetid="editor.contrib.quickInputWidget" style="position: absolute; top: 0px; right: 50%;"></div></div><div data-mprt="8" class="minimap slider-mouseover" role="presentation" aria-hidden="true" style="position: absolute; left: 0px; width: 0px; height: 29px;"><div class="minimap-shadow-hidden" style="height: 29px;"></div><canvas width="0" height="36" style="position: absolute; left: 0px; width: 0px; height: 29px;"></canvas><canvas class="minimap-decorations-layer" width="0" height="36" style="position: absolute; left: 0px; width: 0px; height: 29px;"></canvas><div class="minimap-slider" style="position: absolute; transform: translate3d(0px, 0px, 0px); contain: strict; width: 0px; will-change: unset;"><div class="minimap-slider-horizontal" style="position: absolute; width: 0px; height: 0px;"></div></div></div><div role="presentation" aria-hidden="true" class="blockDecorations-container"></div></div><div data-mprt="2" class="overflowingContentWidgets"><div widgetid="editor.contrib.resizableContentHoverWidget" style="position: fixed; height: 10px; width: 10px; z-index: 50; display: none; visibility: hidden; max-width: 1488px;"><div class="monaco-sash vertical" style="left: 8px;"></div><div class="monaco-sash vertical" style="left: -2px;"></div><div class="monaco-sash orthogonal-edge-north horizontal" style="top: -2px;"><div class="orthogonal-drag-handle start"></div><div class="orthogonal-drag-handle end"></div></div><div class="monaco-sash orthogonal-edge-south horizontal" style="top: 8px;"><div class="orthogonal-drag-handle start"></div><div class="orthogonal-drag-handle end"></div></div><div class="monaco-hover hidden" tabindex="0" role="tooltip"><div class="monaco-scrollable-element " role="presentation" style="position: relative; overflow: hidden;"><div class="monaco-hover-content" style="overflow: hidden; font-size: 14px; line-height: 1.35714; max-width: 500px; max-height: 250px;"></div><div role="presentation" aria-hidden="true" class="invisible scrollbar horizontal" style="position: absolute;"><div class="slider" style="position: absolute; top: 0px; left: 0px; height: 10px; transform: translate3d(0px, 0px, 0px); contain: strict;"></div></div><div role="presentation" aria-hidden="true" class="invisible scrollbar vertical" style="position: absolute;"><div class="slider" style="position: absolute; top: 0px; left: 0px; width: 10px; transform: translate3d(0px, 0px, 0px); contain: strict;"></div></div><div class="shadow"></div><div class="shadow"></div><div class="shadow"></div></div></div></div></div><div class=".in-cell-overflowing"></div></div></div></div><colab-form class="formview vertical layout flex"><div class="widget-area vertical layout"></div></colab-form></div>
    <div class="output" aria-label="Cell 23 output" role="region"><!----> <div class="output-header"> </div>
        <div class="output-content">
          <div class="output-info"><colab-output-info><template shadowrootmode="open"><!----><md-icon-button data-aria-expanded="false" data-aria-haspopup="menu" title="Code cell output actions" data-aria-label="Code cell output actions" id="button-output-actions" value=""><template shadowrootmode="open" shadowrootdelegatesfocus><!----><button id="button" class="icon-button  standard " aria-label="Code cell output actions" aria-haspopup="menu" aria-expanded="false">
        <!--?lit$590858727$--><md-focus-ring part="focus-ring" for="button" aria-hidden="true"><template shadowrootmode="open"><!----></template></md-focus-ring>
        <!--?lit$590858727$--><md-ripple aria-hidden="true"><template shadowrootmode="open"><!----><div class="surface"></div></template></md-ripple>
        <!--?lit$590858727$--><span class="icon"><slot></slot></span>
        <!--?lit$590858727$-->
        <!--?lit$590858727$--><span class="touch"></span>
        <!--?lit$590858727$-->
  </button></template>
        <md-icon aria-hidden="true"><template shadowrootmode="open"><!----><slot></slot></template><!--?lit$590858727$--><svg viewBox="0 0 24 24"><!--?lit$590858727$--><path d="m15.9 3.07c-4.32 0.0742-8.64-0.0355-13 0.0568-1.37 0.307-1.74 2.1-1.41 3.26 0.469 0.606 1.86 0.384 1.66-0.525 0.0448-0.329-0.183-0.93 0.354-0.766h13.3v1.53h1.71c0.0709-1.13 0.141-2.62-0.968-3.3-0.511-0.264-1.11-0.252-1.67-0.259zm2.94 6.84v4.87c1.62-1.62 3.24-3.24 4.87-4.87h-4.87zm0 0h-1.71v3.43l1.57 1.57c0.32-1.65 0.0556-3.34 0.135-5zm-1.71 3.43v-3.43h-3.43c1.14 1.14 2.29 2.29 3.43 3.43zm1.4 4.27h-1.71v1.48h-13.6v-1.48h-1.71c-0.0473 1.15-0.16 2.72 1.09 3.29 1.47 0.506 3.02 0.0265 4.53 0.192 3.34-0.0051 6.68 0.0336 10-0.0245 1.49-0.366 1.56-2.22 1.42-3.45zm-10.1-1.12c-0.398-0.483-0.796-0.967-1.19-1.45 0.59-0.683 1.18-1.37 1.77-2.05h-8.67v-2h8.67c-0.59-0.683-1.18-1.37-1.77-2.05 0.398-0.483 0.796-0.967 1.19-1.45 1.28 1.5 2.56 3 3.84 4.5-1.28 1.5-2.56 3-3.84 4.5z"></path></svg></md-icon>
      </md-icon-button>
      <!--?lit$590858727$--><!--?--></template></colab-output-info></div>
          <div class="output-iframe-container">
            <div class="output-iframe-sizer" style="min-height: 0px;"> <div><div><colab-static-output-renderer tabindex="0" role="group"><div><div class="execute_result output-id-1 output_text"><pre>{0: 'Apple___Apple_scab',
 1: 'Apple___Black_rot',
 2: 'Apple___Cedar_apple_rust',
 3: 'Apple___healthy',
 4: 'Blueberry___healthy',
 5: 'Cherry_(including_sour)___Powdery_mildew',
 6: 'Cherry_(including_sour)___healthy',
 7: 'Corn_(maize)___Cercospora_leaf_spot Gray_leaf_spot',
 8: 'Corn_(maize)___Common_rust_',
 9: 'Corn_(maize)___Northern_Leaf_Blight',
 10: 'Corn_(maize)___healthy',
 11: 'Grape___Black_rot',
 12: 'Grape___Esca_(Black_Measles)',
 13: 'Grape___Leaf_blight_(Isariopsis_Leaf_Spot)',
 14: 'Grape___healthy',
 15: 'Orange___Haunglongbing_(Citrus_greening)',
 16: 'Peach___Bacterial_spot',
 17: 'Peach___healthy',
 18: 'Pepper,_bell___Bacterial_spot',
 19: 'Pepper,_bell___healthy',
 20: 'Potato___Early_blight',
 21: 'Potato___Late_blight',
 22: 'Potato___healthy',
 23: 'Raspberry___healthy',
 24: 'Soybean___healthy',
 25: 'Squash___Powdery_mildew',
 26: 'Strawberry___Leaf_scorch',
 27: 'Strawberry___healthy',
 28: 'Tomato___Bacterial_spot',
 29: 'Tomato___Early_blight',
 30: 'Tomato___Late_blight',
 31: 'Tomato___Leaf_Mold',
 32: 'Tomato___Septoria_leaf_spot',
 33: 'Tomato___Spider_mites Two-spotted_spider_mite',
 34: 'Tomato___Target_Spot',
 35: 'Tomato___Tomato_Yellow_Leaf_Curl_Virus',
 36: 'Tomato___Tomato_mosaic_virus',
 37: 'Tomato___healthy'}</pre></div></div><div></div></colab-static-output-renderer></div></div><div><div></div></div></div>
          </div>
        </div></div></div><colab-cell-next-steps><template shadowrootmode="open"><!----></template></colab-cell-next-steps></div></div><div class="add-cell">
      <div class="add-cell-buttons">
        <md-outlined-button class="add-code add-button" data-aria-label="Add code cell
Ctrl+M B" title="Add code cell
Ctrl+M B" value="" has-icon=""><template shadowrootmode="open" shadowrootdelegatesfocus><!---->
      <!--?lit$590858727$--><div class="outline"></div>
      <div class="background"></div>
      <md-focus-ring part="focus-ring" for="button" aria-hidden="true"><template shadowrootmode="open"><!----></template></md-focus-ring>
      <md-ripple part="ripple" for="button" aria-hidden="true"><template shadowrootmode="open"><!----><div class="surface   "></div></template></md-ripple>
      <!--?lit$590858727$--><button id="button" class="button" aria-label="Add code cell
Ctrl+M B">
      <!--?lit$590858727$-->
      <span class="touch"></span>
      <!--?lit$590858727$--><slot name="icon"></slot>
      <span class="label"><slot></slot></span>
      <!--?lit$590858727$-->
    
    </button>
    </template>
          <md-icon slot="icon" aria-hidden="true"><template shadowrootmode="open"><!----><slot></slot></template>add</md-icon>
          <!--?lit$590858727$-->Code
        </md-outlined-button>
        <md-outlined-button class="add-text add-button" data-aria-label="Add text cell" title="Add text cell" value="" has-icon=""><template shadowrootmode="open" shadowrootdelegatesfocus><!---->
      <!--?lit$590858727$--><div class="outline"></div>
      <div class="background"></div>
      <md-focus-ring part="focus-ring" for="button" aria-hidden="true"><template shadowrootmode="open"><!----></template></md-focus-ring>
      <md-ripple part="ripple" for="button" aria-hidden="true"><template shadowrootmode="open"><!----><div class="surface   "></div></template></md-ripple>
      <!--?lit$590858727$--><button id="button" class="button" aria-label="Add text cell">
      <!--?lit$590858727$-->
      <span class="touch"></span>
      <!--?lit$590858727$--><slot name="icon"></slot>
      <span class="label"><slot></slot></span>
      <!--?lit$590858727$-->
    
    </button>
    </template>
          <md-icon slot="icon" aria-hidden="true"><template shadowrootmode="open"><!----><slot></slot></template>add</md-icon>
          <!--?lit$590858727$-->Text
        </md-outlined-button>
        <!--?lit$590858727$-->
      </div><hr>
    </div></div><div class="cell code icon-scrolling code-has-output focused" id="cell-oqAyoGkf7IuI" role="region" aria-label="Cell 24: Code cell: " style="" tabindex="-1"><div class="cell-tag-editor sticky"></div><div class="cell-toolbar sticky"><colab-cell-toolbar><template shadowrootmode="open"><!----><!--?lit$590858727$--><!----> <md-icon-button class="colab-icon" title="Move cell up
Ctrl+M K" data-aria-label="Move cell up
Ctrl+M K" command="move-cell-up" id="button-move-cell-up" value=""><template shadowrootmode="open" shadowrootdelegatesfocus><!----><button id="button" class="icon-button  standard " aria-label="Move cell up
Ctrl+M K">
        <!--?lit$590858727$--><md-focus-ring part="focus-ring" for="button" aria-hidden="true"><template shadowrootmode="open"><!----></template></md-focus-ring>
        <!--?lit$590858727$--><md-ripple aria-hidden="true"><template shadowrootmode="open"><!----><div class="surface   "></div></template></md-ripple>
        <!--?lit$590858727$--><span class="icon"><slot></slot></span>
        <!--?lit$590858727$-->
        <!--?lit$590858727$--><span class="touch"></span>
        <!--?lit$590858727$-->
  </button></template>
            <md-icon aria-hidden="true"><template shadowrootmode="open"><!----><slot></slot></template><!--?lit$590858727$-->arrow_upward</md-icon>
            <!--?lit$590858727$-->
          </md-icon-button>
          <!--?lit$590858727$--><!--?--><!----><!----> <md-icon-button class="colab-icon" title="Move cell down
Ctrl+M J" data-aria-label="Move cell down
Ctrl+M J" command="move-cell-down" id="button-move-cell-down" value=""><template shadowrootmode="open" shadowrootdelegatesfocus><!----><button id="button" class="icon-button  standard " aria-label="Move cell down
Ctrl+M J">
        <!--?lit$590858727$--><md-focus-ring part="focus-ring" for="button" aria-hidden="true"><template shadowrootmode="open"><!----></template></md-focus-ring>
        <!--?lit$590858727$--><md-ripple aria-hidden="true"><template shadowrootmode="open"><!----><div class="surface   "></div></template></md-ripple>
        <!--?lit$590858727$--><span class="icon"><slot></slot></span>
        <!--?lit$590858727$-->
        <!--?lit$590858727$--><span class="touch"></span>
        <!--?lit$590858727$-->
  </button></template>
            <md-icon aria-hidden="true"><template shadowrootmode="open"><!----><slot></slot></template><!--?lit$590858727$-->arrow_downward</md-icon>
            <!--?lit$590858727$-->
          </md-icon-button>
          <!--?lit$590858727$--><!--?--><!----><!----> <md-icon-button class="colab-icon" title="Copy link to cell" data-aria-label="Copy link to cell" command="copy-link-to-cell" id="button-copy-link-to-cell" value=""><template shadowrootmode="open" shadowrootdelegatesfocus><!----><button id="button" class="icon-button  standard " aria-label="Copy link to cell">
        <!--?lit$590858727$--><md-focus-ring part="focus-ring" for="button" aria-hidden="true"><template shadowrootmode="open"><!----></template></md-focus-ring>
        <!--?lit$590858727$--><md-ripple aria-hidden="true"><template shadowrootmode="open"><!----><div class="surface   "></div></template></md-ripple>
        <!--?lit$590858727$--><span class="icon"><slot></slot></span>
        <!--?lit$590858727$-->
        <!--?lit$590858727$--><span class="touch"></span>
        <!--?lit$590858727$-->
  </button></template>
            <md-icon aria-hidden="true"><template shadowrootmode="open"><!----><slot></slot></template><!--?lit$590858727$-->link</md-icon>
            <!--?lit$590858727$-->
          </md-icon-button>
          <!--?lit$590858727$--><!--?--><!----><!----> <md-icon-button class="colab-icon" title="Add a comment
Ctrl+Alt+M" data-aria-label="Add a comment
Ctrl+Alt+M" command="add-comment" id="button-add-comment" value=""><template shadowrootmode="open" shadowrootdelegatesfocus><!----><button id="button" class="icon-button  standard " aria-label="Add a comment
Ctrl+Alt+M">
        <!--?lit$590858727$--><md-focus-ring part="focus-ring" for="button" aria-hidden="true"><template shadowrootmode="open"><!----></template></md-focus-ring>
        <!--?lit$590858727$--><md-ripple aria-hidden="true"><template shadowrootmode="open"><!----><div class="surface   "></div></template></md-ripple>
        <!--?lit$590858727$--><span class="icon"><slot></slot></span>
        <!--?lit$590858727$-->
        <!--?lit$590858727$--><span class="touch"></span>
        <!--?lit$590858727$-->
  </button></template>
            <md-icon aria-hidden="true"><template shadowrootmode="open"><!----><slot></slot></template><!--?lit$590858727$-->comment</md-icon>
            <!--?lit$590858727$-->
          </md-icon-button>
          <!--?lit$590858727$--><!--?--><!----><!----> <md-icon-button class="colab-icon" title="Open editor settings" data-aria-label="Open editor settings" command="editor-preferences" id="button-editor-preferences" value=""><template shadowrootmode="open" shadowrootdelegatesfocus><!----><button id="button" class="icon-button  standard " aria-label="Open editor settings">
        <!--?lit$590858727$--><md-focus-ring part="focus-ring" for="button" aria-hidden="true"><template shadowrootmode="open"><!----></template></md-focus-ring>
        <!--?lit$590858727$--><md-ripple aria-hidden="true"><template shadowrootmode="open"><!----><div class="surface   "></div></template></md-ripple>
        <!--?lit$590858727$--><span class="icon"><slot></slot></span>
        <!--?lit$590858727$-->
        <!--?lit$590858727$--><span class="touch"></span>
        <!--?lit$590858727$-->
  </button></template>
            <md-icon filled="" aria-hidden="true"><template shadowrootmode="open"><!----><slot></slot></template><!--?lit$590858727$-->settings</md-icon>
            <!--?lit$590858727$-->
          </md-icon-button>
          <!--?lit$590858727$--><!--?--><!----><!----> <md-icon-button class="colab-icon" title="Edit" data-aria-label="Edit" command="toggle-edit-markdown" id="button-toggle-edit-markdown" toggle="" style="display: none;" value=""><template shadowrootmode="open" shadowrootdelegatesfocus><!----><button id="button" class="icon-button  standard " aria-label="Edit" aria-pressed="false">
        <!--?lit$590858727$--><md-focus-ring part="focus-ring" for="button" aria-hidden="true"><template shadowrootmode="open"><!----></template></md-focus-ring>
        <!--?lit$590858727$--><md-ripple aria-hidden="true"><template shadowrootmode="open"><!----><div class="surface   "></div></template></md-ripple>
        <!--?lit$590858727$--><span class="icon"><slot></slot></span>
        <!--?lit$590858727$-->
        <!--?lit$590858727$--><span class="touch"></span>
        <!--?lit$590858727$-->
  </button></template>
            <md-icon aria-hidden="true"><template shadowrootmode="open"><!----><slot></slot></template><!--?lit$590858727$-->edit</md-icon>
            <!--?lit$590858727$--><md-icon slot="selected" aria-hidden="true"><template shadowrootmode="open"><!----><slot></slot></template><!--?lit$590858727$-->edit_off</md-icon>
          </md-icon-button>
          <!--?lit$590858727$--><!--?--><!----><!----> <md-icon-button class="colab-icon" title="Mirror cell in tab" data-aria-label="Mirror cell in tab" command="mirror-cell-in-tab" id="button-mirror-cell-in-tab" value=""><template shadowrootmode="open" shadowrootdelegatesfocus><!----><button id="button" class="icon-button  standard " aria-label="Mirror cell in tab">
        <!--?lit$590858727$--><md-focus-ring part="focus-ring" for="button" aria-hidden="true"><template shadowrootmode="open"><!----></template></md-focus-ring>
        <!--?lit$590858727$--><md-ripple aria-hidden="true"><template shadowrootmode="open"><!----><div class="surface   "></div></template></md-ripple>
        <!--?lit$590858727$--><span class="icon"><slot></slot></span>
        <!--?lit$590858727$-->
        <!--?lit$590858727$--><span class="touch"></span>
        <!--?lit$590858727$-->
  </button></template>
            <md-icon aria-hidden="true"><template shadowrootmode="open"><!----><slot></slot></template><!--?lit$590858727$--><svg viewBox="0 0 24 24"><!--?lit$590858727$-->
      <g id="mirror-cell">
        <path d="M4,21V7H2V21a2,2,0,0,0,2,2H18V21Z"></path>
        <path d="M6,13v2H8.6L5,18.6,6.4,20,10,16.4V19h2V13Z"></path>
        <path d="M19,1H8A2,2,0,0,0,6,3v8H8V3H19V17H14v2h5a2,2,0,0,0,2-2V3A2,2,0,0,0,19,1Z"></path>
      </g></svg></md-icon>
            <!--?lit$590858727$-->
          </md-icon-button>
          <!--?lit$590858727$--><!--?--><!----><!----> <md-icon-button class="colab-icon" title="Delete cell
Ctrl+M D" data-aria-label="Delete cell
Ctrl+M D" command="delete-cell-or-selection" id="button-delete-cell-or-selection" value=""><template shadowrootmode="open" shadowrootdelegatesfocus><!----><button id="button" class="icon-button  standard " aria-label="Delete cell
Ctrl+M D">
        <!--?lit$590858727$--><md-focus-ring part="focus-ring" for="button" aria-hidden="true"><template shadowrootmode="open"><!----></template></md-focus-ring>
        <!--?lit$590858727$--><md-ripple aria-hidden="true"><template shadowrootmode="open"><!----><div class="surface"></div></template></md-ripple>
        <!--?lit$590858727$--><span class="icon"><slot></slot></span>
        <!--?lit$590858727$-->
        <!--?lit$590858727$--><span class="touch"></span>
        <!--?lit$590858727$-->
  </button></template>
            <md-icon aria-hidden="true"><template shadowrootmode="open"><!----><slot></slot></template><!--?lit$590858727$-->delete</md-icon>
            <!--?lit$590858727$-->
          </md-icon-button>
          <!--?lit$590858727$--><!--?--><!----><!--?lit$590858727$--><md-icon-button data-aria-expanded="false" data-aria-haspopup="menu" title="More cell actions" data-aria-label="More cell actions" class="colab-icon cell-toolbar-more" id="button-more-actions" value=""><template shadowrootmode="open" shadowrootdelegatesfocus><!----><button id="button" class="icon-button  standard " aria-label="More cell actions" aria-haspopup="menu" aria-expanded="false">
        <!--?lit$590858727$--><md-focus-ring part="focus-ring" for="button" aria-hidden="true"><template shadowrootmode="open"><!----></template></md-focus-ring>
        <!--?lit$590858727$--><md-ripple aria-hidden="true"><template shadowrootmode="open"><!----><div class="surface   "></div></template></md-ripple>
        <!--?lit$590858727$--><span class="icon"><slot></slot></span>
        <!--?lit$590858727$-->
        <!--?lit$590858727$--><span class="touch"></span>
        <!--?lit$590858727$-->
  </button></template><md-icon aria-hidden="true"><template shadowrootmode="open"><!----><slot></slot></template>more_vert</md-icon>
      </md-icon-button>
      <!--?lit$590858727$--><!--?--><!--?--></template></colab-cell-toolbar></div><div class="main-content" elevation="2"><div class="cell-contents"><div class="cell-mask"></div><span class="imported-info-area"></span><div class="codecell-input-output">
      <div class="inputarea horizontal layout code">
        <div class="cell-gutter">
          <!-- Bounding range for vertical scrolling of icons -->
          <div class="cell-execution-container">
            <colab-run-button><template shadowrootmode="open"><!----> <div class="cell-execution focused">
      <button id="run-button" aria-describedby="run-button-tooltip" aria-label="Run cell">
        <span class="execution-count"><!--?lit$590858727$-->[63]</span>
        <span aria-hidden="true" class="cell-execution-indicator"><!--?lit$590858727$-->
<svg xmlns="http://www.w3.org/2000/svg" viewBox="0 0 24 24">
  <!--?lit$590858727$-->
  <mask id="playSymbolMask">
    <rect width="100%" height="100%" fill="white"></rect>
    <polygon points="10,8 17,12 10,16" fill="black"></polygon>
  </mask>
  <circle cx="12" cy="12" r="7.8" mask="url(#playSymbolMask)" id="filledCircle"></circle>
</svg></span>
      </button>
      <!--?lit$590858727$--><colab-tooltip-trigger for="run-button" id="run-button-tooltip" aria-hidden="true" message="Run cell (Ctrl+Enter)
cell executed since last change

executed by Pawan Singh
10:28 PM (14 minutes ago)
executed in 0.558s"><template shadowrootmode="open"><!----><!--?lit$590858727$--><!----><div><!--?lit$590858727$-->Run cell (Ctrl+Enter)</div><!----><!----><div><!--?lit$590858727$-->cell executed since last change</div><!----><!----><br><!----><!----><div><!--?lit$590858727$-->executed by Pawan Singh</div><!----><!----><div><!--?lit$590858727$-->10:28 PM (14 minutes ago)</div><!----><!----><div><!--?lit$590858727$-->executed in 0.558s</div><!----><!--?--></template>
    </colab-tooltip-trigger> <!--?lit$590858727$--><div id="status">
      <md-icon aria-hidden="true"><template shadowrootmode="open"><!----><slot></slot></template><!--?lit$590858727$--><svg viewBox="0 0 24 24"><!--?lit$590858727$--><path d="M9 16.17L4.83 12l-1.42 1.41L9 19 21 7l-1.41-1.41z"></path></svg></md-icon>
      <div><!--?lit$590858727$-->0s</div>
    </div>
    </div></template></colab-run-button>
          </div>
        </div>
      <div class="editor flex lazy-editor" style=""><div class="editor flex monaco" data-keybinding-context="308" data-mode-id="notebook-python" style="height: 352px; --vscode-editorCodeLens-lineHeight: 16px; --vscode-editorCodeLens-fontSize: 12px; --vscode-editorCodeLens-fontFeatureSettings: &quot;liga&quot; off, &quot;calt&quot; off;"><div class="monaco-editor no-user-select  showUnused showDeprecated vs" role="code" data-uri="inmemory://model/25" style="width: 672px; height: 352px;"><div data-mprt="3" class="overflow-guard" style="width: 672px; height: 352px; overflow: clip;"><div class="margin" role="presentation" aria-hidden="true" style="position: absolute; contain: strict; will-change: unset; top: 0px; height: 352px; width: 6px;"><div class="glyph-margin" style="left: 0px; width: 0px; height: 352px;"></div><div class="margin-view-zones" role="presentation" aria-hidden="true" style="position: absolute;"></div><div class="margin-view-overlays" role="presentation" aria-hidden="true" style="position: absolute; font-family: monospace, Consolas, &quot;Courier New&quot;, monospace; font-weight: normal; font-size: 14px; font-feature-settings: &quot;liga&quot; 0, &quot;calt&quot; 0; font-variation-settings: normal; line-height: 19px; letter-spacing: 0px; width: 6px; height: 352px;"><div style="position:absolute;top:0px;width:100%;height:19px;"></div><div style="position:absolute;top:19px;width:100%;height:19px;"></div><div style="position:absolute;top:38px;width:100%;height:19px;"></div><div style="position:absolute;top:57px;width:100%;height:19px;"></div><div style="position:absolute;top:76px;width:100%;height:19px;"></div><div style="position:absolute;top:95px;width:100%;height:19px;"></div><div style="position:absolute;top:114px;width:100%;height:19px;"></div><div style="position:absolute;top:133px;width:100%;height:19px;"></div><div style="position:absolute;top:152px;width:100%;height:19px;"></div><div style="position:absolute;top:171px;width:100%;height:19px;"><div class="current-line current-line-margin-both" style="width:6px; height:19px;"></div></div><div style="position:absolute;top:190px;width:100%;height:19px;"></div><div style="position:absolute;top:209px;width:100%;height:19px;"></div><div style="position:absolute;top:228px;width:100%;height:19px;"></div><div style="position:absolute;top:247px;width:100%;height:19px;"></div><div style="position:absolute;top:266px;width:100%;height:19px;"></div><div style="position:absolute;top:285px;width:100%;height:19px;"></div><div style="position:absolute;top:304px;width:100%;height:19px;"></div><div style="position:absolute;top:323px;width:100%;height:19px;"></div></div><div class="glyph-margin-widgets" style="position: absolute; top: 0px;"></div></div><div class="monaco-scrollable-element editor-scrollable vs" role="presentation" data-mprt="5" style="position: absolute; overflow: hidden; left: 6px; width: 666px; height: 352px;"><div class="lines-content monaco-editor-background" style="position: absolute; overflow: hidden; width: 1e+06px; height: 352px; contain: strict; will-change: unset; top: 0px; left: 0px;"><div class="view-overlays" role="presentation" aria-hidden="true" style="position: absolute; font-family: monospace, Consolas, &quot;Courier New&quot;, monospace; font-weight: normal; font-size: 14px; font-feature-settings: &quot;liga&quot; 0, &quot;calt&quot; 0; font-variation-settings: normal; line-height: 19px; letter-spacing: 0px; height: 0px; width: 837px;"><div style="position:absolute;top:0px;width:100%;height:19px;"></div><div style="position:absolute;top:19px;width:100%;height:19px;"></div><div style="position:absolute;top:38px;width:100%;height:19px;"></div><div style="position:absolute;top:57px;width:100%;height:19px;"></div><div style="position:absolute;top:76px;width:100%;height:19px;"></div><div style="position:absolute;top:95px;width:100%;height:19px;"></div><div style="position:absolute;top:114px;width:100%;height:19px;"></div><div style="position:absolute;top:133px;width:100%;height:19px;"></div><div style="position:absolute;top:152px;width:100%;height:19px;"></div><div style="position:absolute;top:171px;width:100%;height:19px;"><div class="current-line" style="width:837px; height:19px;"></div></div><div style="position:absolute;top:190px;width:100%;height:19px;"></div><div style="position:absolute;top:209px;width:100%;height:19px;"></div><div style="position:absolute;top:228px;width:100%;height:19px;"></div><div style="position:absolute;top:247px;width:100%;height:19px;"></div><div style="position:absolute;top:266px;width:100%;height:19px;"></div><div style="position:absolute;top:285px;width:100%;height:19px;"></div><div style="position:absolute;top:304px;width:100%;height:19px;"></div><div style="position:absolute;top:323px;width:100%;height:19px;"></div></div><div role="presentation" aria-hidden="true" class="view-rulers"><div class="view-ruler" style="width: 2px; height: 352px; left: 615.938px;"></div></div><div class="view-zones" role="presentation" aria-hidden="true" style="position: absolute;"></div><div class="view-lines monaco-mouse-cursor-text" role="presentation" aria-hidden="true" data-mprt="7" style="position: absolute; font-family: monospace, Consolas, &quot;Courier New&quot;, monospace; font-weight: normal; font-size: 14px; font-feature-settings: &quot;liga&quot; 0, &quot;calt&quot; 0; font-variation-settings: normal; line-height: 19px; letter-spacing: 0px; width: 837px; height: 352px;"><div style="top:0px;height:19px;" class="view-line"><span><span class="mtk8">##example</span></span></div><div style="top:19px;height:19px;" class="view-line"><span><span class="mtk1">path=</span><span class="mtk26">"</span><span class="mtk26 detected-link">/content/Apple-black-rot-figure-1-shows-apple-blac</span><span class="mtk26 detected-link">k-rot-while-preprocessing-an-infected-leaf.png</span><span class="mtk26">"</span></span></div><div style="top:38px;height:19px;" class="view-line"><span><span></span></span></div><div style="top:57px;height:19px;" class="view-line"><span><span class="mtk1">img=image.load_img</span><span class="mtk1 bracket-highlighting-0">(</span><span class="mtk1">path,target_size=</span><span class="mtk1 bracket-highlighting-1">(</span><span class="mtk12">224</span><span class="mtk1">,</span><span class="mtk12">224</span><span class="mtk1">,</span><span class="mtk12">3</span><span class="mtk1 bracket-highlighting-1">)</span><span class="mtk1 bracket-highlighting-0">)</span></span></div><div style="top:76px;height:19px;" class="view-line"><span><span></span></span></div><div style="top:95px;height:19px;" class="view-line"><span><span class="mtk1">img_arr=image.img_to_array</span><span class="mtk1 bracket-highlighting-0">(</span><span class="mtk1">img</span><span class="mtk1 bracket-highlighting-0">)</span></span></div><div style="top:114px;height:19px;" class="view-line"><span><span></span></span></div><div style="top:133px;height:19px;" class="view-line"><span><span class="mtk1">img_arr=img_arr/</span><span class="mtk12">255.0</span></span></div><div style="top:152px;height:19px;" class="view-line"><span><span></span></span></div><div style="top:171px;height:19px;" class="view-line"><span><span class="mtk1">img_arr=np.expand_dims</span><span class="mtk1 bracket-highlighting-0">(</span><span class="mtk1">img_arr,&nbsp;axis=</span><span class="mtk12">0</span><span class="mtk1 bracket-highlighting-0">)</span></span></div><div style="top:190px;height:19px;" class="view-line"><span><span></span></span></div><div style="top:209px;height:19px;" class="view-line"><span><span class="mtk1">predictions&nbsp;=&nbsp;model_inc.predict</span><span class="mtk1 bracket-highlighting-0">(</span><span class="mtk1">img_arr</span><span class="mtk1 bracket-highlighting-0">)</span></span></div><div style="top:228px;height:19px;" class="view-line"><span><span></span></span></div><div style="top:247px;height:19px;" class="view-line"><span><span class="mtk1">predicted_class&nbsp;=&nbsp;np.argmax</span><span class="mtk1 bracket-highlighting-0">(</span><span class="mtk1">predictions,&nbsp;axis=</span><span class="mtk12">-1</span><span class="mtk1 bracket-highlighting-0">)</span></span></div><div style="top:266px;height:19px;" class="view-line"><span><span></span></span></div><div style="top:285px;height:19px;" class="view-line"><span><span class="mtk1">label&nbsp;=&nbsp;labels</span><span class="mtk1 bracket-highlighting-0">[</span><span class="mtk1">predicted_class</span><span class="mtk1 bracket-highlighting-1">[</span><span class="mtk12">0</span><span class="mtk1 bracket-highlighting-1">]</span><span class="mtk1 bracket-highlighting-0">]</span></span></div><div style="top:304px;height:19px;" class="view-line"><span><span></span></span></div><div style="top:323px;height:19px;" class="view-line"><span><span class="mtk15">print</span><span class="mtk1 bracket-highlighting-0">(</span><span class="mtk1">label</span><span class="mtk1 bracket-highlighting-0">)</span></span></div></div><div data-mprt="1" class="contentWidgets" style="position: absolute; top: 0px;"><div class="lightBulbWidget codicon codicon-light-bulb" widgetid="LightBulbWidget" title="Show Code Actions (Ctrl+.)" style="position: absolute; display: none; visibility: hidden; max-width: 666px;"></div></div><div role="presentation" aria-hidden="true" class="cursors-layer cursor-line-style cursor-solid"><div class="cursor monaco-mouse-cursor-text " style="height: 19px; top: 171px; left: 300px; font-family: monospace, Consolas, &quot;Courier New&quot;, monospace; font-weight: normal; font-size: 14px; font-feature-settings: &quot;liga&quot; 0, &quot;calt&quot; 0; font-variation-settings: normal; line-height: 19px; letter-spacing: 0px; display: block; visibility: hidden; padding-left: 0px; width: 1.6px;"></div></div></div><div role="presentation" aria-hidden="true" class="visible scrollbar horizontal" style="position: absolute; width: 652px; height: 10px; left: 0px; bottom: 0px;"><div class="slider" style="position: absolute; top: 0px; left: 0px; height: 10px; transform: translate3d(0px, 0px, 0px); contain: strict; will-change: unset; width: 518px;"></div></div><canvas class="decorationsOverviewRuler" aria-hidden="true" width="17" height="440" style="position: absolute; transform: translate3d(0px, 0px, 0px); contain: strict; top: 0px; right: 0px; width: 14px; height: 352px; will-change: unset; display: block;"></canvas><div role="presentation" aria-hidden="true" class="invisible scrollbar vertical" style="position: absolute; width: 14px; height: 352px; right: 0px; top: 0px;"><div class="slider" style="position: absolute; top: 0px; left: 0px; width: 14px; transform: translate3d(0px, 0px, 0px); contain: strict; will-change: unset; height: 352px;"></div></div></div><div role="presentation" aria-hidden="true" style="width: 672px;"></div><textarea data-mprt="6" class="inputarea monaco-mouse-cursor-text" wrap="on" autocorrect="off" autocapitalize="off" autocomplete="off" spellcheck="false" aria-label="Editor content;Press Alt+F1 for Accessibility Options." tabindex="0" role="textbox" aria-roledescription="editor" aria-multiline="true" aria-haspopup="false" aria-autocomplete="both" style="tab-size: 15.3984px; font-family: monospace, Consolas, &quot;Courier New&quot;, monospace; font-weight: normal; font-size: 14px; font-feature-settings: &quot;liga&quot; 0, &quot;calt&quot; 0; font-variation-settings: normal; line-height: 19px; letter-spacing: 0px; top: 171px; left: 6px; width: 76992px; height: 1px;"></textarea><div class="monaco-editor-background textAreaCover" style="position: absolute; top: 0px; left: 0px; width: 0px; height: 0px;"></div><div data-mprt="4" class="overlayWidgets" style="width: 672px;"></div><div data-mprt="8" class="minimap slider-mouseover" role="presentation" aria-hidden="true" style="position: absolute; left: 0px; width: 0px; height: 352px;"><div class="minimap-shadow-hidden" style="height: 352px;"></div><canvas width="0" height="440" style="position: absolute; left: 0px; width: 0px; height: 352px;"></canvas><canvas class="minimap-decorations-layer" width="0" height="440" style="position: absolute; left: 0px; width: 0px; height: 352px;"></canvas><div class="minimap-slider" style="position: absolute; transform: translate3d(0px, 0px, 0px); contain: strict; width: 0px; will-change: unset;"><div class="minimap-slider-horizontal" style="position: absolute; width: 0px; height: 0px;"></div></div></div><div role="presentation" aria-hidden="true" class="blockDecorations-container"></div></div><div data-mprt="2" class="overflowingContentWidgets" style="display: none;"><div widgetid="editor.contrib.resizableContentHoverWidget" style="position: fixed; height: 10px; width: 10px; z-index: 50; display: none; visibility: hidden; max-width: 1098px;"><div class="monaco-sash vertical" style="left: 8px;"></div><div class="monaco-sash vertical" style="left: -2px;"></div><div class="monaco-sash orthogonal-edge-north horizontal" style="top: -2px;"><div class="orthogonal-drag-handle start"></div><div class="orthogonal-drag-handle end"></div></div><div class="monaco-sash orthogonal-edge-south horizontal" style="top: 8px;"><div class="orthogonal-drag-handle start"></div><div class="orthogonal-drag-handle end"></div></div><div class="monaco-hover hidden" tabindex="0" role="tooltip"><div class="monaco-scrollable-element " role="presentation" style="position: relative; overflow: hidden;"><div class="monaco-hover-content" style="overflow: hidden; font-size: 14px; line-height: 1.35714; max-width: 500px; max-height: 250px;"></div><div role="presentation" aria-hidden="true" class="invisible scrollbar horizontal" style="position: absolute;"><div class="slider" style="position: absolute; top: 0px; left: 0px; height: 10px; transform: translate3d(0px, 0px, 0px); contain: strict;"></div></div><div role="presentation" aria-hidden="true" class="invisible scrollbar vertical" style="position: absolute;"><div class="slider" style="position: absolute; top: 0px; left: 0px; width: 10px; transform: translate3d(0px, 0px, 0px); contain: strict;"></div></div><div class="shadow"></div><div class="shadow"></div><div class="shadow"></div></div></div></div></div><div class=".in-cell-overflowing"><div widgetid="editor.contrib.quickInputWidget" style="position: absolute; top: 0px; right: 50%;"></div></div></div></div></div><colab-form class="formview vertical layout flex"><div class="widget-area vertical layout"></div></colab-form></div>
    <div class="output" aria-label="Cell 24 output" role="region"><!----> <div class="output-header"> </div>
        <div class="output-content">
          <div class="output-info"><colab-output-info><template shadowrootmode="open"><!----><md-icon-button data-aria-expanded="false" data-aria-haspopup="menu" title="Code cell output actions" data-aria-label="Code cell output actions" id="button-output-actions" value=""><template shadowrootmode="open" shadowrootdelegatesfocus><!----><button id="button" class="icon-button  standard " aria-label="Code cell output actions" aria-haspopup="menu" aria-expanded="false">
        <!--?lit$590858727$--><md-focus-ring part="focus-ring" for="button" aria-hidden="true"><template shadowrootmode="open"><!----></template></md-focus-ring>
        <!--?lit$590858727$--><md-ripple aria-hidden="true"><template shadowrootmode="open"><!----><div class="surface   "></div></template></md-ripple>
        <!--?lit$590858727$--><span class="icon"><slot></slot></span>
        <!--?lit$590858727$-->
        <!--?lit$590858727$--><span class="touch"></span>
        <!--?lit$590858727$-->
  </button></template>
        <md-icon aria-hidden="true"><template shadowrootmode="open"><!----><slot></slot></template><!--?lit$590858727$--><svg viewBox="0 0 24 24"><!--?lit$590858727$--><path d="m15.9 3.07c-4.32 0.0742-8.64-0.0355-13 0.0568-1.37 0.307-1.74 2.1-1.41 3.26 0.469 0.606 1.86 0.384 1.66-0.525 0.0448-0.329-0.183-0.93 0.354-0.766h13.3v1.53h1.71c0.0709-1.13 0.141-2.62-0.968-3.3-0.511-0.264-1.11-0.252-1.67-0.259zm2.94 6.84v4.87c1.62-1.62 3.24-3.24 4.87-4.87h-4.87zm0 0h-1.71v3.43l1.57 1.57c0.32-1.65 0.0556-3.34 0.135-5zm-1.71 3.43v-3.43h-3.43c1.14 1.14 2.29 2.29 3.43 3.43zm1.4 4.27h-1.71v1.48h-13.6v-1.48h-1.71c-0.0473 1.15-0.16 2.72 1.09 3.29 1.47 0.506 3.02 0.0265 4.53 0.192 3.34-0.0051 6.68 0.0336 10-0.0245 1.49-0.366 1.56-2.22 1.42-3.45zm-10.1-1.12c-0.398-0.483-0.796-0.967-1.19-1.45 0.59-0.683 1.18-1.37 1.77-2.05h-8.67v-2h8.67c-0.59-0.683-1.18-1.37-1.77-2.05 0.398-0.483 0.796-0.967 1.19-1.45 1.28 1.5 2.56 3 3.84 4.5-1.28 1.5-2.56 3-3.84 4.5z"></path></svg></md-icon>
      </md-icon-button>
      <!--?lit$590858727$--><!--?--></template></colab-output-info></div>
          <div class="output-iframe-container">
            <div class="output-iframe-sizer" style="min-height: 0px;"> <div><div><colab-static-output-renderer role="group" tabindex="0"><div><div class="stream output-id-3 output_text"><pre><span style="font-weight: bold;">1/1</span><span> </span><span style="color: var(--ansi-green);">━━━━━━━━━━━━━━━━━━━━</span><span> </span><span style="font-weight: bold;">0s</span><span> 23ms/step
Apple___Black_rot
</span></pre></div></div><div></div></colab-static-output-renderer></div></div><div><div></div></div></div>
          </div>
        </div></div></div><colab-cell-next-steps><template shadowrootmode="open"><!----></template></colab-cell-next-steps></div></div><div class="add-cell">
      <div class="add-cell-buttons">
        <md-outlined-button class="add-code add-button" data-aria-label="Add code cell
Ctrl+M B" title="Add code cell
Ctrl+M B" value="" has-icon=""><template shadowrootmode="open" shadowrootdelegatesfocus><!---->
      <!--?lit$590858727$--><div class="outline"></div>
      <div class="background"></div>
      <md-focus-ring part="focus-ring" for="button" aria-hidden="true"><template shadowrootmode="open"><!----></template></md-focus-ring>
      <md-ripple part="ripple" for="button" aria-hidden="true"><template shadowrootmode="open"><!----><div class="surface"></div></template></md-ripple>
      <!--?lit$590858727$--><button id="button" class="button" aria-label="Add code cell
Ctrl+M B">
      <!--?lit$590858727$-->
      <span class="touch"></span>
      <!--?lit$590858727$--><slot name="icon"></slot>
      <span class="label"><slot></slot></span>
      <!--?lit$590858727$-->
    
    </button>
    </template>
          <md-icon slot="icon" aria-hidden="true"><template shadowrootmode="open"><!----><slot></slot></template>add</md-icon>
          <!--?lit$590858727$-->Code
        </md-outlined-button>
        <md-outlined-button class="add-text add-button" data-aria-label="Add text cell" title="Add text cell" value="" has-icon=""><template shadowrootmode="open" shadowrootdelegatesfocus><!---->
      <!--?lit$590858727$--><div class="outline"></div>
      <div class="background"></div>
      <md-focus-ring part="focus-ring" for="button" aria-hidden="true"><template shadowrootmode="open"><!----></template></md-focus-ring>
      <md-ripple part="ripple" for="button" aria-hidden="true"><template shadowrootmode="open"><!----><div class="surface"></div></template></md-ripple>
      <!--?lit$590858727$--><button id="button" class="button" aria-label="Add text cell">
      <!--?lit$590858727$-->
      <span class="touch"></span>
      <!--?lit$590858727$--><slot name="icon"></slot>
      <span class="label"><slot></slot></span>
      <!--?lit$590858727$-->
    
    </button>
    </template>
          <md-icon slot="icon" aria-hidden="true"><template shadowrootmode="open"><!----><slot></slot></template>add</md-icon>
          <!--?lit$590858727$-->Text
        </md-outlined-button>
        <!--?lit$590858727$-->
      </div><hr>
    </div></div><div class="cell code icon-scrolling" id="cell-CEOS78PxMkXU" role="region" aria-label="Cell 25: Code cell: " style="opacity: 1;" tabindex="-1"><div class="cell-tag-editor sticky"></div><div class="cell-toolbar sticky"></div><div class="main-content" elevation="0"><div class="cell-contents"><div class="cell-mask"></div><span class="imported-info-area"></span><div class="codecell-input-output">
      <div class="inputarea horizontal layout code">
        <div class="cell-gutter">
          <!-- Bounding range for vertical scrolling of icons -->
          <div class="cell-execution-container">
            <colab-run-button><template shadowrootmode="open"><!----> <div class="cell-execution">
      <button id="run-button" aria-describedby="run-button-tooltip" aria-label="Run cell">
        <span class="execution-count"><!--?lit$590858727$-->[66]</span>
        <span aria-hidden="true" class="cell-execution-indicator"><!--?lit$590858727$-->
<svg xmlns="http://www.w3.org/2000/svg" viewBox="0 0 24 24">
  <!--?lit$590858727$-->
  <mask id="playSymbolMask">
    <rect width="100%" height="100%" fill="white"></rect>
    <polygon points="10,8 17,12 10,16" fill="black"></polygon>
  </mask>
  <circle cx="12" cy="12" r="7.8" mask="url(#playSymbolMask)" id="filledCircle"></circle>
</svg></span>
      </button>
      <!--?lit$590858727$--><colab-tooltip-trigger for="run-button" id="run-button-tooltip" aria-hidden="true" message="Run cell (Ctrl+Enter)
cell executed since last change

executed by Pawan Singh
10:31 PM (11 minutes ago)
executed in 6.556s"><template shadowrootmode="open"><!----><!--?lit$590858727$--><!----><div><!--?lit$590858727$-->Run cell (Ctrl+Enter)</div><!----><!----><div><!--?lit$590858727$-->cell executed since last change</div><!----><!----><br><!----><!----><div><!--?lit$590858727$-->executed by Pawan Singh</div><!----><!----><div><!--?lit$590858727$-->10:31 PM (11 minutes ago)</div><!----><!----><div><!--?lit$590858727$-->executed in 6.556s</div><!----><!--?--></template>
    </colab-tooltip-trigger> <!--?lit$590858727$--><div id="status">
      <md-icon aria-hidden="true"><template shadowrootmode="open"><!----><slot></slot></template><!--?lit$590858727$--><svg viewBox="0 0 24 24"><!--?lit$590858727$--><path d="M9 16.17L4.83 12l-1.42 1.41L9 19 21 7l-1.41-1.41z"></path></svg></md-icon>
      <div><!--?lit$590858727$-->6s</div>
    </div>
    </div></template></colab-run-button>
          </div>
        </div>
      <div class="editor flex lazy-editor" style=""><pre class="lazy-virtualized" style="font-size: 14px; line-height: 19px;"><pre class="lazy-gutter"></pre><pre class="monaco-colorized colab colab colab colab colab colab colab colab colab colab colab colab colab colab colab colab" data-lang="notebook-python"><span><span class="mtk8">##saving&nbsp;the&nbsp;model</span></span><br><span><span class="mtk19">import</span><span class="mtk1">&nbsp;pickle</span></span><br><span><span></span></span><br><span><span class="mtk1">pickle.dump(model_inc,</span><span class="mtk15">open</span><span class="mtk1">(</span><span class="mtk26">"model.pkl"</span><span class="mtk1">,</span><span class="mtk26">"wb"</span><span class="mtk1">))</span></span><br></pre><colab-read-only-cell-placeholder style="display: none;"><template shadowrootmode="open"><!----><div><!--?lit$590858727$-->Start coding or <span role="button" class="link" tabindex="0">generate</span> with AI.</div></template></colab-read-only-cell-placeholder></pre></div><colab-form class="formview vertical layout flex"><div class="widget-area vertical layout"></div></colab-form></div>
    <div class="output" aria-label="Cell 25 output" role="region"><!----> <div class="output-header"> </div>
        <div class="output-content" hidden="">
          <div class="output-info"><colab-output-info><template shadowrootmode="open"><!----><md-icon-button data-aria-expanded="false" data-aria-haspopup="menu" title="Code cell output actions" data-aria-label="Code cell output actions" id="button-output-actions" value=""><template shadowrootmode="open" shadowrootdelegatesfocus><!----><button id="button" class="icon-button  standard " aria-label="Code cell output actions" aria-haspopup="menu" aria-expanded="false">
        <!--?lit$590858727$--><md-focus-ring part="focus-ring" for="button" aria-hidden="true"><template shadowrootmode="open"><!----></template></md-focus-ring>
        <!--?lit$590858727$--><md-ripple aria-hidden="true"><template shadowrootmode="open"><!----><div class="surface   "></div></template></md-ripple>
        <!--?lit$590858727$--><span class="icon"><slot></slot></span>
        <!--?lit$590858727$-->
        <!--?lit$590858727$--><span class="touch"></span>
        <!--?lit$590858727$-->
  </button></template>
        <md-icon aria-hidden="true"><template shadowrootmode="open"><!----><slot></slot></template><!--?lit$590858727$--><svg viewBox="0 0 24 24"><!--?lit$590858727$--><path d="m15.9 3.07c-4.32 0.0742-8.64-0.0355-13 0.0568-1.37 0.307-1.74 2.1-1.41 3.26 0.469 0.606 1.86 0.384 1.66-0.525 0.0448-0.329-0.183-0.93 0.354-0.766h13.3v1.53h1.71c0.0709-1.13 0.141-2.62-0.968-3.3-0.511-0.264-1.11-0.252-1.67-0.259zm2.94 6.84v4.87c1.62-1.62 3.24-3.24 4.87-4.87h-4.87zm0 0h-1.71v3.43l1.57 1.57c0.32-1.65 0.0556-3.34 0.135-5zm-1.71 3.43v-3.43h-3.43c1.14 1.14 2.29 2.29 3.43 3.43zm1.4 4.27h-1.71v1.48h-13.6v-1.48h-1.71c-0.0473 1.15-0.16 2.72 1.09 3.29 1.47 0.506 3.02 0.0265 4.53 0.192 3.34-0.0051 6.68 0.0336 10-0.0245 1.49-0.366 1.56-2.22 1.42-3.45zm-10.1-1.12c-0.398-0.483-0.796-0.967-1.19-1.45 0.59-0.683 1.18-1.37 1.77-2.05h-8.67v-2h8.67c-0.59-0.683-1.18-1.37-1.77-2.05 0.398-0.483 0.796-0.967 1.19-1.45 1.28 1.5 2.56 3 3.84 4.5-1.28 1.5-2.56 3-3.84 4.5z"></path></svg></md-icon>
      </md-icon-button>
      <!--?lit$590858727$--><!--?--></template></colab-output-info></div>
          <div class="output-iframe-container" hidden="">
            <div class="output-iframe-sizer" style="min-height: 0px;"> <div><div><colab-static-output-renderer role="group" tabindex="0"><div></div><div></div></colab-static-output-renderer></div></div></div>
          </div>
        </div></div></div><colab-cell-next-steps><template shadowrootmode="open"><!----></template></colab-cell-next-steps></div></div><div class="add-cell">
      <div class="add-cell-buttons">
        <md-outlined-button class="add-code add-button" data-aria-label="Add code cell
Ctrl+M B" title="Add code cell
Ctrl+M B" value="" has-icon=""><template shadowrootmode="open" shadowrootdelegatesfocus><!---->
      <!--?lit$590858727$--><div class="outline"></div>
      <div class="background"></div>
      <md-focus-ring part="focus-ring" for="button" aria-hidden="true"><template shadowrootmode="open"><!----></template></md-focus-ring>
      <md-ripple part="ripple" for="button" aria-hidden="true"><template shadowrootmode="open"><!----><div class="surface   "></div></template></md-ripple>
      <!--?lit$590858727$--><button id="button" class="button" aria-label="Add code cell
Ctrl+M B">
      <!--?lit$590858727$-->
      <span class="touch"></span>
      <!--?lit$590858727$--><slot name="icon"></slot>
      <span class="label"><slot></slot></span>
      <!--?lit$590858727$-->
    
    </button>
    </template>
          <md-icon slot="icon" aria-hidden="true"><template shadowrootmode="open"><!----><slot></slot></template>add</md-icon>
          <!--?lit$590858727$-->Code
        </md-outlined-button>
        <md-outlined-button class="add-text add-button" data-aria-label="Add text cell" title="Add text cell" value="" has-icon=""><template shadowrootmode="open" shadowrootdelegatesfocus><!---->
      <!--?lit$590858727$--><div class="outline"></div>
      <div class="background"></div>
      <md-focus-ring part="focus-ring" for="button" aria-hidden="true"><template shadowrootmode="open"><!----></template></md-focus-ring>
      <md-ripple part="ripple" for="button" aria-hidden="true"><template shadowrootmode="open"><!----><div class="surface   "></div></template></md-ripple>
      <!--?lit$590858727$--><button id="button" class="button" aria-label="Add text cell">
      <!--?lit$590858727$-->
      <span class="touch"></span>
      <!--?lit$590858727$--><slot name="icon"></slot>
      <span class="label"><slot></slot></span>
      <!--?lit$590858727$-->
    
    </button>
    </template>
          <md-icon slot="icon" aria-hidden="true"><template shadowrootmode="open"><!----><slot></slot></template>add</md-icon>
          <!--?lit$590858727$-->Text
        </md-outlined-button>
        <!--?lit$590858727$-->
      </div><hr>
    </div></div><div class="cell code icon-scrolling" id="cell-tTil7YIaOx0R" role="region" aria-label="Cell 26: Code cell: " style="opacity: 1;" tabindex="-1"><div class="cell-tag-editor sticky"></div><div class="cell-toolbar sticky"></div><div class="main-content" elevation="0"><div class="cell-contents"><div class="cell-mask"></div><span class="imported-info-area"></span><div class="codecell-input-output">
      <div class="inputarea horizontal layout code">
        <div class="cell-gutter">
          <!-- Bounding range for vertical scrolling of icons -->
          <div class="cell-execution-container">
            <colab-run-button><template shadowrootmode="open"><!----> <div class="cell-execution stale">
      <button id="run-button" aria-describedby="run-button-tooltip" aria-label="Run cell">
        <span class="execution-count"><!--?lit$590858727$-->[ ]</span>
        <span aria-hidden="true" class="cell-execution-indicator"><!--?lit$590858727$-->
<svg xmlns="http://www.w3.org/2000/svg" viewBox="0 0 24 24">
  <!--?lit$590858727$-->
  <mask id="playSymbolMask">
    <rect width="100%" height="100%" fill="white"></rect>
    <polygon points="10,8 17,12 10,16" fill="black"></polygon>
  </mask>
  <circle cx="12" cy="12" r="7.8" mask="url(#playSymbolMask)" id="filledCircle"></circle>
</svg></span>
      </button>
      <!--?lit$590858727$--><colab-tooltip-trigger for="run-button" id="run-button-tooltip" aria-hidden="true" message="Run cell (Ctrl+Enter)
cell has not been executed in this session"><template shadowrootmode="open"><!----><!--?lit$590858727$--><!----><div><!--?lit$590858727$-->Run cell (Ctrl+Enter)</div><!----><!----><div><!--?lit$590858727$-->cell has not been executed in this session</div><!----><!--?--></template>
    </colab-tooltip-trigger> <!--?lit$590858727$--><!--?-->
    </div></template></colab-run-button>
          </div>
        </div>
      <div class="editor flex lazy-editor" style=""><pre class="lazy-virtualized" style="font-size: 14px; line-height: 19px;"><pre class="lazy-gutter"></pre><pre class="monaco-colorized colab colab colab colab" data-lang="notebook-python"><span><span></span></span><br></pre><colab-read-only-cell-placeholder style="display: block;"><template shadowrootmode="open"><!----><div><!--?lit$590858727$-->Start coding or <span tabindex="0" role="button" class="link">generate</span> with AI.</div></template></colab-read-only-cell-placeholder></pre></div><colab-form class="formview vertical layout flex"><div class="widget-area vertical layout"></div></colab-form></div>
    <div class="output" aria-label="Cell 26 output" role="region"><!----> <div class="output-header"> </div>
        <div class="output-content" hidden="">
          <div class="output-info"> </div>
          <div class="output-iframe-container" hidden="">
            <div class="output-iframe-sizer"> <div><div></div></div></div>
          </div>
        </div></div></div><colab-cell-next-steps><template shadowrootmode="open"><!----></template></colab-cell-next-steps></div></div><div class="add-cell">
      <div class="add-cell-buttons">
        <md-outlined-button class="add-code add-button" data-aria-label="Add code cell
Ctrl+M B" title="Add code cell
Ctrl+M B" value="" has-icon=""><template shadowrootmode="open" shadowrootdelegatesfocus><!---->
      <!--?lit$590858727$--><div class="outline"></div>
      <div class="background"></div>
      <md-focus-ring part="focus-ring" for="button" aria-hidden="true"><template shadowrootmode="open"><!----></template></md-focus-ring>
      <md-ripple part="ripple" for="button" aria-hidden="true"><template shadowrootmode="open"><!----><div class="surface   "></div></template></md-ripple>
      <!--?lit$590858727$--><button id="button" class="button" aria-label="Add code cell
Ctrl+M B">
      <!--?lit$590858727$-->
      <span class="touch"></span>
      <!--?lit$590858727$--><slot name="icon"></slot>
      <span class="label"><slot></slot></span>
      <!--?lit$590858727$-->
    
    </button>
    </template>
          <md-icon slot="icon" aria-hidden="true"><template shadowrootmode="open"><!----><slot></slot></template>add</md-icon>
          <!--?lit$590858727$-->Code
        </md-outlined-button>
        <md-outlined-button class="add-text add-button" data-aria-label="Add text cell" title="Add text cell" value="" has-icon=""><template shadowrootmode="open" shadowrootdelegatesfocus><!---->
      <!--?lit$590858727$--><div class="outline"></div>
      <div class="background"></div>
      <md-focus-ring part="focus-ring" for="button" aria-hidden="true"><template shadowrootmode="open"><!----></template></md-focus-ring>
      <md-ripple part="ripple" for="button" aria-hidden="true"><template shadowrootmode="open"><!----><div class="surface   "></div></template></md-ripple>
      <!--?lit$590858727$--><button id="button" class="button" aria-label="Add text cell">
      <!--?lit$590858727$-->
      <span class="touch"></span>
      <!--?lit$590858727$--><slot name="icon"></slot>
      <span class="label"><slot></slot></span>
      <!--?lit$590858727$-->
    
    </button>
    </template>
          <md-icon slot="icon" aria-hidden="true"><template shadowrootmode="open"><!----><slot></slot></template>add</md-icon>
          <!--?lit$590858727$-->Text
        </md-outlined-button>
        <!--?lit$590858727$-->
      </div><hr>
    </div></div></div>
              </div>
            </div>
          <section class="sidebar" aria-label="Comments" style="display: none;"></section></div>
          <!--?lit$590858727$--> <div class="footer-links">
      <a target="_blank" href="https://colab.research.google.com/signup?utm_source=footer&amp;utm_medium=link&amp;utm_campaign=footer_links">
        <!--?lit$590858727$-->Colab paid products
      </a>
      -
      <a href="https://colab.research.google.com/cancel-subscription" target="_blank">
        <!--?lit$590858727$-->Cancel contracts here
      </a>
    </div>
        </div>
      </colab-shaded-scroller>
      <div class="notebook-scroll-shadow" style="box-shadow: rgba(0, 0, 0, 0.15) 0px 4px 4px -2px inset;"></div>
    </div></colab-tab></div>
  </div></colab-tab-pane>
      <colab-resizer style="height: 33.3%" class="sn-resize no-tabs"><div class="resizer-thumb"></div>
        <!--?lit$590858727$--><colab-tab-pane class="layout vertical grow no-tabs" align="horizontal"><!----> <div class="layout vertical grow">
    <div class="tab-pane-header layout horizontal noshrink">
      <md-tabs><template shadowrootmode="open"><!---->
      <div class="tabs">
        <slot></slot>
      </div>
      <md-divider part="divider"><template shadowrootmode="open"><!----></template></md-divider>
    </template></md-tabs>
      <div class="layout grow"></div>
      <!--?lit$590858727$--> <md-icon-button data-aria-expanded="false" data-aria-haspopup="menu" title="More tab actions" data-aria-label="More tab actions" value=""><template shadowrootmode="open" shadowrootdelegatesfocus><!----><button id="button" class="icon-button  standard " aria-label="More tab actions" aria-haspopup="menu" aria-expanded="false">
        <!--?lit$590858727$--><md-focus-ring part="focus-ring" for="button" aria-hidden="true"><template shadowrootmode="open"><!----></template></md-focus-ring>
        <!--?lit$590858727$--><md-ripple aria-hidden="true"><template shadowrootmode="open"><!----><div class="surface   "></div></template></md-ripple>
        <!--?lit$590858727$--><span class="icon"><slot></slot></span>
        <!--?lit$590858727$-->
        <!--?lit$590858727$--><span class="touch"></span>
        <!--?lit$590858727$-->
  </button></template>
    <md-icon aria-hidden="true"><template shadowrootmode="open"><!----><slot></slot></template>more_horiz</md-icon>
  </md-icon-button>
    </div>
    <div class="layout vertical grow tab-pane-container"> </div>
  </div></colab-tab-pane>
      </colab-resizer>
    </div>
      <colab-resizer style="width: 37%" class="we-resize no-tabs"><div class="resizer-thumb"></div>
        <!--?lit$590858727$--> <div class="layout vertical tab-pane-parent">
      <!--?lit$590858727$--><colab-tab-pane class="layout vertical grow no-tabs" align="horizontal"><!----> <div class="layout vertical grow">
    <div class="tab-pane-header layout horizontal noshrink">
      <md-tabs><template shadowrootmode="open"><!---->
      <div class="tabs">
        <slot></slot>
      </div>
      <md-divider part="divider"><template shadowrootmode="open"><!----></template></md-divider>
    </template></md-tabs>
      <div class="layout grow"></div>
      <!--?lit$590858727$--> <md-icon-button data-aria-expanded="false" data-aria-haspopup="menu" title="More tab actions" data-aria-label="More tab actions" value=""><template shadowrootmode="open" shadowrootdelegatesfocus><!----><button id="button" class="icon-button  standard " aria-label="More tab actions" aria-haspopup="menu" aria-expanded="false">
        <!--?lit$590858727$--><md-focus-ring part="focus-ring" for="button" aria-hidden="true"><template shadowrootmode="open"><!----></template></md-focus-ring>
        <!--?lit$590858727$--><md-ripple aria-hidden="true"><template shadowrootmode="open"><!----><div class="surface"></div></template></md-ripple>
        <!--?lit$590858727$--><span class="icon"><slot></slot></span>
        <!--?lit$590858727$-->
        <!--?lit$590858727$--><span class="touch"></span>
        <!--?lit$590858727$-->
  </button></template>
    <md-icon aria-hidden="true"><template shadowrootmode="open"><!----><slot></slot></template>more_horiz</md-icon>
  </md-icon-button>
    </div>
    <div class="layout vertical grow tab-pane-container"> </div>
  </div></colab-tab-pane>
      <colab-resizer style="height: 33.3%" class="sn-resize no-tabs"><div class="resizer-thumb"></div>
        <!--?lit$590858727$--><colab-tab-pane class="layout vertical grow no-tabs" align="horizontal"><!----> <div class="layout vertical grow">
    <div class="tab-pane-header layout horizontal noshrink">
      <md-tabs><template shadowrootmode="open"><!---->
      <div class="tabs">
        <slot></slot>
      </div>
      <md-divider part="divider"><template shadowrootmode="open"><!----></template></md-divider>
    </template></md-tabs>
      <div class="layout grow"></div>
      <!--?lit$590858727$--> <md-icon-button data-aria-expanded="false" data-aria-haspopup="menu" title="More tab actions" data-aria-label="More tab actions" value=""><template shadowrootmode="open" shadowrootdelegatesfocus><!----><button id="button" class="icon-button  standard " aria-label="More tab actions" aria-haspopup="menu" aria-expanded="false">
        <!--?lit$590858727$--><md-focus-ring part="focus-ring" for="button" aria-hidden="true"><template shadowrootmode="open"><!----></template></md-focus-ring>
        <!--?lit$590858727$--><md-ripple aria-hidden="true"><template shadowrootmode="open"><!----><div class="surface   "></div></template></md-ripple>
        <!--?lit$590858727$--><span class="icon"><slot></slot></span>
        <!--?lit$590858727$-->
        <!--?lit$590858727$--><span class="touch"></span>
        <!--?lit$590858727$-->
  </button></template>
    <md-icon aria-hidden="true"><template shadowrootmode="open"><!----><slot></slot></template>more_horiz</md-icon>
  </md-icon-button>
    </div>
    <div class="layout vertical grow tab-pane-container"> </div>
  </div></colab-tab-pane>
      </colab-resizer>
    </div>
      </colab-resizer>
    </div></colab-tab-layout-container>
        </div>
        <div class="proxies"><div><colab-dom-lifecycle-events style="display: none;"></colab-dom-lifecycle-events><iframe allow="" sandbox="allow-downloads allow-forms allow-pointer-lock allow-popups allow-same-origin allow-scripts allow-storage-access-by-user-activation allow-popups-to-escape-sandbox" src="./Plant_Disease_Detection_files/outputframe(2).html" style="width: 1px; height: 1px; position: absolute; top: -100px;"></iframe></div><div><colab-dom-lifecycle-events style="display: none;"></colab-dom-lifecycle-events><iframe allow="accelerometer; autoplay; gyroscope; magnetometer; xr-spatial-tracking; clipboard-write" sandbox="allow-downloads allow-forms allow-pointer-lock allow-popups allow-same-origin allow-scripts allow-storage-access-by-user-activation allow-modals allow-popups-to-escape-sandbox" src="./Plant_Disease_Detection_files/outputframe(3).html" style="width: 1px; height: 1px; position: absolute; top: -100px;"></iframe></div></div>
      <colab-file-viewer-manager></colab-file-viewer-manager></div>
    <colab-status-bar role="region" aria-label="Runtime status bar" style="min-height: inherit;"><template shadowrootmode="open"><!----> <!--?lit$590858727$--> <div class="connect-status">
        <md-icon status="icon-okay" aria-hidden="true"><template shadowrootmode="open"><!----><slot></slot></template><!--?lit$590858727$--><svg viewBox="0 0 24 24"><!--?lit$590858727$--><path d="M9 16.17L4.83 12l-1.42 1.41L9 19 21 7l-1.41-1.41z"></path></svg></md-icon>
        <div aria-atomic="true" aria-live="polite"><!--?lit$590858727$-->Connected to Python 3 Google Compute Engine backend (GPU)</div>
      </div>
      <md-icon-button class="visible-on-closed" title="Connected" disabled="" value="" data-aria-label="Connected"><template shadowrootmode="open" shadowrootdelegatesfocus><!----><button id="button" class="icon-button  standard " aria-label="Connected" disabled="">
        <!--?lit$590858727$--><md-focus-ring part="focus-ring" for="button" aria-hidden="true"><template shadowrootmode="open"><!----></template></md-focus-ring>
        <!--?lit$590858727$--><md-ripple disabled="" aria-hidden="true"><template shadowrootmode="open"><!----><div class="surface   "></div></template></md-ripple>
        <!--?lit$590858727$--><span class="icon"><slot></slot></span>
        <!--?lit$590858727$-->
        <!--?lit$590858727$--><span class="touch"></span>
        <!--?lit$590858727$-->
  </button></template>
        <md-icon filled="" class="visible-on-closed" status="icon-okay" aria-hidden="true"><template shadowrootmode="open"><!----><slot></slot></template><!--?lit$590858727$-->fiber_manual_record</md-icon>
      </md-icon-button>
      <!--?lit$590858727$-->
      <md-icon-button title="Close" data-aria-label="Close" value=""><template shadowrootmode="open" shadowrootdelegatesfocus><!----><button id="button" class="icon-button  standard " aria-label="Close">
        <!--?lit$590858727$--><md-focus-ring part="focus-ring" for="button" aria-hidden="true"><template shadowrootmode="open"><!----></template></md-focus-ring>
        <!--?lit$590858727$--><md-ripple aria-hidden="true"><template shadowrootmode="open"><!----><div class="surface"></div></template></md-ripple>
        <!--?lit$590858727$--><span class="icon"><slot></slot></span>
        <!--?lit$590858727$-->
        <!--?lit$590858727$--><span class="touch"></span>
        <!--?lit$590858727$-->
  </button></template>
        <md-icon aria-hidden="true"><template shadowrootmode="open"><!----><slot></slot></template>close</md-icon>
      </md-icon-button></template></colab-status-bar></div><div class="goog-menu" id="file-menu" role="menu" aria-haspopup="true" style="display: none; user-select: none;"><!--?lit$590858727$--><div command="locate-in-drive" class="goog-menuitem " role="menuitem" id=":2" style="user-select: none;"><div class="goog-menuitem-content" style="user-select: none;"><!--?lit$590858727$-->Locate in Drive<!--?lit$590858727$--></div></div><div command="open-in-playground" class="goog-menuitem " role="menuitem" id=":3" style="user-select: none;"><div class="goog-menuitem-content" style="user-select: none;"><!--?lit$590858727$-->Open in playground mode<!--?lit$590858727$--></div></div><div class="goog-menuseparator goog-menuitem-disabled" aria-disabled="true" role="separator" id=":4" style="user-select: none;"></div><div command="new" class="goog-menuitem " role="menuitem" id=":5" style="user-select: none;"><div class="goog-menuitem-content" style="user-select: none;"><!--?lit$590858727$-->New notebook in Drive<!--?lit$590858727$--></div></div><div command="open" class="goog-menuitem " role="menuitem" id=":6" style="user-select: none;"><div class="goog-menuitem-content" style="user-select: none;"><!--?lit$590858727$-->Open notebook<!--?lit$590858727$--></div></div><div command="import-notebook" class="goog-menuitem " role="menuitem" id=":7" style="user-select: none;"><div class="goog-menuitem-content" style="user-select: none;"><!--?lit$590858727$-->Upload notebook<!--?lit$590858727$--></div></div><div class="goog-menuseparator goog-menuitem-disabled" aria-disabled="true" role="separator" id=":8" style="user-select: none;"></div><div command="rename" class="goog-menuitem " role="menuitem" id=":9" style="user-select: none;"><div class="goog-menuitem-content" style="user-select: none;"><!--?lit$590858727$-->Rename<!--?lit$590858727$--></div></div><div command="move-notebook" class="goog-menuitem " role="menuitem" id=":a" style="user-select: none;"><div class="goog-menuitem-content" style="user-select: none;"><!--?lit$590858727$-->Move<!--?lit$590858727$--></div></div><div command="trash" class="goog-menuitem " role="menuitem" id=":b" style="user-select: none;"><div class="goog-menuitem-content" style="user-select: none;"><!--?lit$590858727$-->Move to trash<!--?lit$590858727$--></div></div><div class="goog-menuseparator goog-menuitem-disabled" aria-disabled="true" role="separator" id=":c" style="user-select: none;"></div><div command="clone" class="goog-menuitem " role="menuitem" id=":d" style="user-select: none;"><div class="goog-menuitem-content" style="user-select: none;"><!--?lit$590858727$-->Save a copy in Drive<!--?lit$590858727$--></div></div><div command="copy-to-gist" class="goog-menuitem " role="menuitem" id=":e" style="user-select: none;"><div class="goog-menuitem-content" style="user-select: none;"><!--?lit$590858727$-->Save a copy as a GitHub Gist<!--?lit$590858727$--></div></div><div command="copy-to-github" class="goog-menuitem " role="menuitem" id=":f" style="user-select: none;"><div class="goog-menuitem-content" style="user-select: none;"><!--?lit$590858727$-->Save a copy in GitHub<!--?lit$590858727$--></div></div><div class="goog-menuseparator goog-menuitem-disabled" aria-disabled="true" role="separator" id=":g" style="user-select: none;"></div><div command="save" class="goog-menuitem " role="menuitem" id=":h" style="user-select: none;"><div class="goog-menuitem-content" style="user-select: none;"><!--?lit$590858727$-->Save<!--?lit$590858727$--></div></div><div command="save-and-checkpoint" class="goog-menuitem " role="menuitem" id=":i" style="user-select: none;"><div class="goog-menuitem-content" style="user-select: none;"><!--?lit$590858727$-->Save and pin revision<!--?lit$590858727$--></div></div><div command="show-history" class="goog-menuitem " role="menuitem" id=":j" style="user-select: none;"><div class="goog-menuitem-content" style="user-select: none;"><!--?lit$590858727$-->Revision history<!--?lit$590858727$--></div></div><div class="goog-menuseparator goog-menuitem-disabled" aria-disabled="true" role="separator" id=":k" style="user-select: none;"></div><div class="goog-submenu goog-menuitem" id="download-submenu-menu-button" role="menuitem" aria-haspopup="true" style="user-select: none;"><div class="goog-menuitem-content" style="user-select: none;">
      <!--?lit$590858727$-->Download
    <span class="goog-submenu-arrow" style="user-select: none;">►</span></div></div><div command="print" class="goog-menuitem " role="menuitem" id=":o" style="user-select: none;"><div class="goog-menuitem-content" style="user-select: none;"><!--?lit$590858727$-->Print<!--?lit$590858727$--></div></div></div><div class="goog-menu" id="download-submenu-menu" role="menu" aria-haspopup="true" style="display: none; user-select: none;"><!--?lit$590858727$--><div command="download-ipynb" class="goog-menuitem " role="menuitem" id=":m" style="user-select: none;"><div class="goog-menuitem-content" style="user-select: none;"><!--?lit$590858727$-->Download .ipynb<!--?lit$590858727$--></div></div><div command="download-python" class="goog-menuitem " role="menuitem" id=":n" style="user-select: none;"><div class="goog-menuitem-content" style="user-select: none;"><!--?lit$590858727$-->Download .py<!--?lit$590858727$--></div></div></div><div class="goog-menu" id="edit-menu" role="menu" aria-haspopup="true" style="display: none; user-select: none;"><!--?lit$590858727$--><div command="undo" class="goog-menuitem " role="menuitem" id=":q" style="user-select: none;"><div class="goog-menuitem-content" style="user-select: none;"><!--?lit$590858727$-->Undo<!--?lit$590858727$--></div></div><div command="redo" class="goog-menuitem " role="menuitem" id=":r" style="user-select: none;"><div class="goog-menuitem-content" style="user-select: none;"><!--?lit$590858727$-->Redo<!--?lit$590858727$--></div></div><div class="goog-menuseparator goog-menuitem-disabled" aria-disabled="true" role="separator" id=":s" style="user-select: none;"></div><div command="select-all" class="goog-menuitem " role="menuitem" id=":t" style="user-select: none;"><div class="goog-menuitem-content" style="user-select: none;"><!--?lit$590858727$-->Select all cells<!--?lit$590858727$--></div></div><div command="cut" class="goog-menuitem " role="menuitem" id=":u" style="user-select: none;"><div class="goog-menuitem-content" style="user-select: none;"><!--?lit$590858727$-->Cut cell or selection<!--?lit$590858727$--></div></div><div command="copy" class="goog-menuitem " role="menuitem" id=":v" style="user-select: none;"><div class="goog-menuitem-content" style="user-select: none;"><!--?lit$590858727$-->Copy cell or selection<!--?lit$590858727$--></div></div><div command="paste" class="goog-menuitem " role="menuitem" id=":w" style="user-select: none;"><div class="goog-menuitem-content" style="user-select: none;"><!--?lit$590858727$-->Paste<!--?lit$590858727$--></div></div><div command="delete-cell-or-selection" class="goog-menuitem " role="menuitem" id=":x" style="user-select: none;"><div class="goog-menuitem-content" style="user-select: none;"><!--?lit$590858727$-->Delete selected cells<!--?lit$590858727$--></div></div><div class="goog-menuseparator goog-menuitem-disabled" aria-disabled="true" role="separator" id=":y" style="user-select: none;"></div><div command="find" class="goog-menuitem " role="menuitem" id=":z" style="user-select: none;"><div class="goog-menuitem-content" style="user-select: none;"><!--?lit$590858727$-->Find and replace<!--?lit$590858727$--></div></div><div command="find-next" class="goog-menuitem " role="menuitem" id=":10" style="user-select: none;"><div class="goog-menuitem-content" style="user-select: none;"><!--?lit$590858727$-->Find next<!--?lit$590858727$--></div></div><div command="find-previous" class="goog-menuitem " role="menuitem" id=":11" style="user-select: none;"><div class="goog-menuitem-content" style="user-select: none;"><!--?lit$590858727$-->Find previous<!--?lit$590858727$--></div></div><div class="goog-menuseparator goog-menuitem-disabled" aria-disabled="true" role="separator" id=":12" style="user-select: none;"></div><div command="notebook-settings" class="goog-menuitem " role="menuitem" id=":13" style="user-select: none;"><div class="goog-menuitem-content" style="user-select: none;"><!--?lit$590858727$-->Notebook settings<!--?lit$590858727$--></div></div><div class="goog-menuseparator goog-menuitem-disabled" aria-disabled="true" role="separator" id=":14" style="user-select: none;"></div><div command="clear-outputs" class="goog-menuitem " role="menuitem" id=":15" style="user-select: none;"><div class="goog-menuitem-content" style="user-select: none;"><!--?lit$590858727$-->Clear all outputs<!--?lit$590858727$--></div></div></div><div class="goog-menu" id="view-menu" role="menu" aria-haspopup="true" style="display: none; user-select: none;"><!--?lit$590858727$--><div command="show-toc-pane" class="goog-menuitem goog-option" role="menuitemcheckbox" aria-checked="false" id=":17" style="user-select: none;"><div class="goog-menuitem-content" style="user-select: none;"><div class="goog-menuitem-checkbox" style="user-select: none;"><!----><md-icon aria-hidden="true"><template shadowrootmode="open"><!----><slot></slot></template>check</md-icon> </div><!--?lit$590858727$-->Table of contents<!--?lit$590858727$--></div></div><div command="show-fileinfo" class="goog-menuitem " role="menuitem" id=":18" style="user-select: none;"><div class="goog-menuitem-content" style="user-select: none;"><!--?lit$590858727$-->Notebook info<!--?lit$590858727$--></div></div><div command="show-executedcode" class="goog-menuitem " role="menuitem" id=":19" style="user-select: none;"><div class="goog-menuitem-content" style="user-select: none;"><!--?lit$590858727$-->Executed code history<!--?lit$590858727$--></div></div><div command="toggle-comments-visibility" class="goog-menuitem goog-option" role="menuitemcheckbox" aria-checked="false" id=":1a" style="user-select: none;"><div class="goog-menuitem-content" style="user-select: none;"><div class="goog-menuitem-checkbox" style="user-select: none;"><!----><md-icon aria-hidden="true"><template shadowrootmode="open"><!----><slot></slot></template>check</md-icon> </div><!--?lit$590858727$-->Comments sidebar<!--?lit$590858727$--></div></div><div class="goog-menuseparator goog-menuitem-disabled" aria-disabled="true" role="separator" id=":1b" style="user-select: none;"></div><div command="collapse-sections" class="goog-menuitem " role="menuitem" id=":1c" style="user-select: none;"><div class="goog-menuitem-content" style="user-select: none;"><!--?lit$590858727$-->Collapse sections<!--?lit$590858727$--></div></div><div command="expand-sections" class="goog-menuitem " role="menuitem" id=":1d" style="user-select: none;"><div class="goog-menuitem-content" style="user-select: none;"><!--?lit$590858727$-->Expand sections<!--?lit$590858727$--></div></div><div command="save-section-layout" class="goog-menuitem " role="menuitem" id=":1e" style="user-select: none;"><div class="goog-menuitem-content" style="user-select: none;"><!--?lit$590858727$-->Save collapsed section layout<!--?lit$590858727$--></div></div><div class="goog-menuseparator goog-menuitem-disabled" aria-disabled="true" role="separator" id=":1f" style="user-select: none;"></div><div command="hide-code" class="goog-menuitem " role="menuitem" id=":1g" style="user-select: none;"><div class="goog-menuitem-content" style="user-select: none;"><!--?lit$590858727$-->Show/hide code<!--?lit$590858727$--></div></div><div command="toggle-output" class="goog-menuitem " role="menuitem" id=":1h" style="user-select: none;"><div class="goog-menuitem-content" style="user-select: none;"><!--?lit$590858727$-->Show/hide output<!--?lit$590858727$--></div></div><div class="goog-menuseparator goog-menuitem-disabled" aria-disabled="true" role="separator" id=":1i" style="user-select: none;"></div><div command="focus-next-tab" class="goog-menuitem " role="menuitem" id=":1j" style="user-select: none;"><div class="goog-menuitem-content" style="user-select: none;"><!--?lit$590858727$-->Focus next tab<!--?lit$590858727$--></div></div><div command="focus-previous-tab" class="goog-menuitem " role="menuitem" id=":1k" style="user-select: none;"><div class="goog-menuitem-content" style="user-select: none;"><!--?lit$590858727$-->Focus previous tab<!--?lit$590858727$--></div></div><div command="move-tab-to-next" class="goog-menuitem " role="menuitem" id=":1l" style="user-select: none;"><div class="goog-menuitem-content" style="user-select: none;"><!--?lit$590858727$-->Move tab to next pane<!--?lit$590858727$--></div></div><div command="move-tab-to-prev" class="goog-menuitem " role="menuitem" id=":1m" style="user-select: none;"><div class="goog-menuitem-content" style="user-select: none;"><!--?lit$590858727$-->Move tab to previous pane<!--?lit$590858727$--></div></div></div><div class="goog-menu" id="insert-menu" role="menu" aria-haspopup="true" style="display: none; user-select: none;"><!--?lit$590858727$--><div command="insert-cell-below" class="goog-menuitem " role="menuitem" id=":1o" style="user-select: none;"><div class="goog-menuitem-content" style="user-select: none;"><!--?lit$590858727$-->Code cell<!--?lit$590858727$--></div></div><div command="add-text" class="goog-menuitem " role="menuitem" id=":1p" style="user-select: none;"><div class="goog-menuitem-content" style="user-select: none;"><!--?lit$590858727$-->Text cell<!--?lit$590858727$--></div></div><div command="add-section-header" class="goog-menuitem " role="menuitem" id=":1q" style="user-select: none;"><div class="goog-menuitem-content" style="user-select: none;"><!--?lit$590858727$-->Section header cell<!--?lit$590858727$--></div></div><div class="goog-menuseparator goog-menuitem-disabled" aria-disabled="true" role="separator" id=":1r" style="user-select: none;"></div><div command="open-scratch-code-cell" class="goog-menuitem " role="menuitem" id=":1s" style="user-select: none;"><div class="goog-menuitem-content" style="user-select: none;"><!--?lit$590858727$-->Scratch code cell<!--?lit$590858727$--></div></div><div command="snippets" class="goog-menuitem " role="menuitem" id=":1t" style="user-select: none;"><div class="goog-menuitem-content" style="user-select: none;"><!--?lit$590858727$-->Code snippets<!--?lit$590858727$--></div></div><div class="goog-menuseparator goog-menuitem-disabled" aria-disabled="true" role="separator" id=":1u" style="user-select: none;"></div><div command="add-form-field" class="goog-menuitem " role="menuitem" id=":1v" style="user-select: none;"><div class="goog-menuitem-content" style="user-select: none;"><!--?lit$590858727$-->Add a form field<!--?lit$590858727$--></div></div></div><div class="goog-menu colab-styled-scroller" id="runtime-menu" role="menu" aria-haspopup="true" style="user-select: none; max-height: 674px; visibility: visible; left: 230.137px; top: 61px; display: none;"><!--?lit$590858727$--><div command="runall" class="goog-menuitem" role="menuitem" id=":1x" style="user-select: none;"><div class="goog-menuitem-content" style="user-select: none;"><!--?lit$590858727$-->Run all<!--?lit$590858727$--><span class="goog-menuitem-accel">Ctrl+F9</span></div></div><div command="runbefore" class="goog-menuitem" role="menuitem" id=":1y" style="user-select: none;"><div class="goog-menuitem-content" style="user-select: none;"><!--?lit$590858727$-->Run before<!--?lit$590858727$--><span class="goog-menuitem-accel">Ctrl+F8</span></div></div><div command="runfocused" class="goog-menuitem goog-menuitem-disabled" role="menuitem" id=":1z" aria-disabled="true" style="user-select: none;"><div class="goog-menuitem-content" style="user-select: none;"><!--?lit$590858727$-->Run the focused cell<!--?lit$590858727$--><span class="goog-menuitem-accel">Ctrl+Enter</span></div></div><div command="runselected" class="goog-menuitem" role="menuitem" id=":20" style="user-select: none;"><div class="goog-menuitem-content" style="user-select: none;"><!--?lit$590858727$-->Run selection<!--?lit$590858727$--><span class="goog-menuitem-accel">Ctrl+Shift+Enter</span></div></div><div command="runafter" class="goog-menuitem" role="menuitem" id=":21" style="user-select: none;"><div class="goog-menuitem-content" style="user-select: none;"><!--?lit$590858727$-->Run after<!--?lit$590858727$--><span class="goog-menuitem-accel">Ctrl+F10</span></div></div><div class="goog-menuseparator goog-menuitem-disabled" aria-disabled="true" role="separator" id=":22" style="user-select: none;"></div><div command="interrupt" class="goog-menuitem" role="menuitem" id=":23" style="user-select: none;"><div class="goog-menuitem-content" style="user-select: none;"><!--?lit$590858727$-->Interrupt execution<!--?lit$590858727$--><span class="goog-menuitem-accel">Ctrl+M I</span></div></div><div command="restart" class="goog-menuitem" role="menuitem" id=":24" style="user-select: none;"><div class="goog-menuitem-content" style="user-select: none;"><!--?lit$590858727$-->Restart session<!--?lit$590858727$--><span class="goog-menuitem-accel">Ctrl+M .</span></div></div><div command="restart-and-run-all" class="goog-menuitem " role="menuitem" id=":25" style="user-select: none;"><div class="goog-menuitem-content" style="user-select: none;"><!--?lit$590858727$-->Restart session and run all<!--?lit$590858727$--></div></div><div command="powerwash-current-vm" class="goog-menuitem " role="menuitem" id=":26" style="user-select: none;"><div class="goog-menuitem-content" style="user-select: none;"><!--?lit$590858727$-->Disconnect and delete runtime<!--?lit$590858727$--></div></div><div class="goog-menuseparator goog-menuitem-disabled" aria-disabled="true" role="separator" id=":27" style="user-select: none;"></div><div command="change-runtime-type" class="goog-menuitem " role="menuitem" id=":28" style="user-select: none;"><div class="goog-menuitem-content" style="user-select: none;"><!--?lit$590858727$-->Change runtime type<!--?lit$590858727$--></div></div><div class="goog-menuseparator goog-menuitem-disabled" aria-disabled="true" role="separator" id=":29" style="user-select: none;"></div><div command="manage-sessions" class="goog-menuitem " role="menuitem" id=":2a" style="user-select: none;"><div class="goog-menuitem-content" style="user-select: none;"><!--?lit$590858727$-->Manage sessions<!--?lit$590858727$--></div></div><div command="open-resource-viewer" class="goog-menuitem " role="menuitem" id=":2b" style="user-select: none;"><div class="goog-menuitem-content" style="user-select: none;"><!--?lit$590858727$-->View resources<!--?lit$590858727$--></div></div><div command="view-runtime-logs" class="goog-menuitem " role="menuitem" id=":2c" style="user-select: none;"><div class="goog-menuitem-content" style="user-select: none;"><!--?lit$590858727$-->View runtime logs<!--?lit$590858727$--></div></div></div><div class="goog-menu" id="tools-menu" role="menu" aria-haspopup="true" style="display: none; user-select: none;"><!--?lit$590858727$--><div command="show-command-palette" class="goog-menuitem " role="menuitem" id=":2e" style="user-select: none;"><div class="goog-menuitem-content" style="user-select: none;"><!--?lit$590858727$-->Command palette<!--?lit$590858727$--></div></div><div class="goog-menuseparator goog-menuitem-disabled" aria-disabled="true" role="separator" id=":2f" style="user-select: none;"></div><div command="preferences" class="goog-menuitem " role="menuitem" id=":2g" style="user-select: none;"><div class="goog-menuitem-content" style="user-select: none;"><!--?lit$590858727$-->Settings<!--?lit$590858727$--></div></div><div command="shortcuts" class="goog-menuitem " role="menuitem" id=":2h" style="user-select: none;"><div class="goog-menuitem-content" style="user-select: none;"><!--?lit$590858727$-->Keyboard shortcuts<!--?lit$590858727$--></div></div><div class="goog-menuseparator goog-menuitem-disabled" aria-disabled="true" role="separator" id=":2i" style="user-select: none;"></div><div command="open-differ" class="goog-menuitem " role="menuitem" id=":2j" style="user-select: none;"><div class="goog-menuitem-content" style="user-select: none;"><!--?lit$590858727$-->Diff notebooks<!--?lit$590858727$--> <span class="screenreader-only" style="user-select: none;"><!--?lit$590858727$-->(opens in a new tab)</span></div></div></div><div class="goog-menu" id="help-menu" role="menu" aria-haspopup="true" style="display: none; user-select: none;"><!--?lit$590858727$--><div command="faq" class="goog-menuitem " role="menuitem" id=":2l" style="user-select: none;"><div class="goog-menuitem-content" style="user-select: none;"><!--?lit$590858727$-->Frequently asked questions<!--?lit$590858727$--></div></div><div command="view-relnotes" class="goog-menuitem " role="menuitem" id=":2m" style="user-select: none;"><div class="goog-menuitem-content" style="user-select: none;"><!--?lit$590858727$-->View release notes<!--?lit$590858727$--></div></div><div command="snippets" class="goog-menuitem " role="menuitem" id=":2n" style="user-select: none;"><div class="goog-menuitem-content" style="user-select: none;"><!--?lit$590858727$-->Search code snippets<!--?lit$590858727$--></div></div><div class="goog-menuseparator goog-menuitem-disabled" aria-disabled="true" role="separator" id=":2o" style="user-select: none;"></div><div command="report-bug" class="goog-menuitem " role="menuitem" id=":2p" style="user-select: none;"><div class="goog-menuitem-content" style="user-select: none;"><!--?lit$590858727$-->Report a bug<!--?lit$590858727$--></div></div><div command="report-abuse" class="goog-menuitem " role="menuitem" id=":2q" style="user-select: none;"><div class="goog-menuitem-content" style="user-select: none;"><!--?lit$590858727$-->Report Drive abuse<!--?lit$590858727$--></div></div><div command="send-feedback" class="goog-menuitem " role="menuitem" id=":2r" style="user-select: none;"><div class="goog-menuitem-content" style="user-select: none;"><!--?lit$590858727$-->Send feedback<!--?lit$590858727$--></div></div><div command="view-tos" class="goog-menuitem " role="menuitem" id=":2s" style="user-select: none;"><div class="goog-menuitem-content" style="user-select: none;"><!--?lit$590858727$-->View terms of service<!--?lit$590858727$--></div></div></div><dialog class="doc-comments-area" aria-label="Comments"><!----><div class="doc-comments-buttons">
        <md-text-button command="add-comment" value="" has-icon=""><template shadowrootmode="open" shadowrootdelegatesfocus><!---->
      <!--?lit$590858727$-->
      <div class="background"></div>
      <md-focus-ring part="focus-ring" for="button" aria-hidden="true"><template shadowrootmode="open"><!----></template></md-focus-ring>
      <md-ripple part="ripple" for="button" aria-hidden="true"><template shadowrootmode="open"><!----><div class="surface   "></div></template></md-ripple>
      <!--?lit$590858727$--><button id="button" class="button">
      <!--?lit$590858727$-->
      <span class="touch"></span>
      <!--?lit$590858727$--><slot name="icon"></slot>
      <span class="label"><slot></slot></span>
      <!--?lit$590858727$-->
    
    </button>
    </template>
          <md-icon slot="icon" filled="" aria-hidden="true"><template shadowrootmode="open"><!----><slot></slot></template>comment</md-icon>
          <!--?lit$590858727$-->Add a comment
        </md-text-button>
      </div></dialog><div class="thumbnail"></div><iframe id="apiproxy5e9e5e5b0f3cac193e1e083df85b99526eb92b220.901307275" name="apiproxy5e9e5e5b0f3cac193e1e083df85b99526eb92b220.901307275" src="./Plant_Disease_Detection_files/proxy.html" tabindex="-1" aria-hidden="true" style="width: 1px; height: 1px; position: absolute; top: -100px; display: none;"></iframe><div class="monaco-aria-container"><div class="monaco-alert" role="alert" aria-atomic="true" style="visibility: visible;">obj, Write a pickled representation of obj to the open file object file.

This is equivalent to `Pickler(file, protocol).dump(obj)`, but may
be more efficient.

The optional \*protocol\* argument tells the pickler to use the given
protocol; supported protocols are 0, 1, 2, 3, 4 and 5.  The default
protocol is 4. It was introduced in Python 3.4, and is incompatible
with previous versions.

Specifying a negative protocol version selects the highest protocol
version supported.  The higher the protocol used, the more recent the
version of Python needed to read the pickle produced.

The \*file\* argument must have a write() method that accepts a single
bytes argument.  It can thus be a file object opened for binary
writing, an io.BytesIO instance, or any other custom object that meets
this interface.

If \*fix\_imports\* is True and protocol is less than 3, pickle will try
to map the new Python 3 names to the old module names used in Python
2, so that the pickle data stream is readable with Python 2.

If \*buffer\_callback\* is None (the default), buffer views are serialized
into \*file\* as part of the pickle stream.  It is an error if
\*buffer\_callback\* is not None and \*protocol\* is None or smaller than 5., hint</div><div class="monaco-alert" role="alert" aria-atomic="true"></div><div class="monaco-status" role="complementary" aria-live="polite" aria-atomic="true"></div><div class="monaco-status" role="complementary" aria-live="polite" aria-atomic="true"></div></div><iframe src="./Plant_Disease_Detection_files/bscframe.html" style="display: none;"></iframe><div><div class="grecaptcha-badge" data-style="bottomright" style="width: 256px; height: 60px; position: fixed; visibility: hidden; display: block; transition: right 0.3s; bottom: 14px; right: -186px; box-shadow: gray 0px 0px 5px; border-radius: 2px; overflow: hidden;"><div class="grecaptcha-logo"><iframe title="reCAPTCHA" width="256" height="60" role="presentation" name="a-sg4gjzx1ycvt" frameborder="0" scrolling="no" sandbox="allow-forms allow-popups allow-same-origin allow-scripts allow-top-navigation allow-modals allow-popups-to-escape-sandbox allow-storage-access-by-user-activation" src="./Plant_Disease_Detection_files/anchor.html"></iframe></div><div class="grecaptcha-error"></div><textarea id="g-recaptcha-response-100000" name="g-recaptcha-response" class="g-recaptcha-response" style="width: 250px; height: 40px; border: 1px solid rgb(193, 193, 193); margin: 10px 25px; padding: 0px; resize: none; display: none;"></textarea></div><iframe style="display: none;" src="./Plant_Disease_Detection_files/saved_resource(1).html"></iframe></div><iframe sandbox="allow-scripts allow-downloads" src="./Plant_Disease_Detection_files/saved_resource(2).html" aria-hidden="true" style="height: 0px; left: 0px; position: absolute; top: 0px; width: 0px;"></iframe></body></html>